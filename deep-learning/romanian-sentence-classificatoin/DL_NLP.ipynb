{
  "nbformat": 4,
  "nbformat_minor": 0,
  "metadata": {
    "accelerator": "GPU",
    "colab": {
      "name": "DL NLP",
      "provenance": [],
      "collapsed_sections": [
        "mjooYDXDZ4kt",
        "23CWC8Am5Aay",
        "6-3eDZDKZ9UW",
        "CRx3uRHIUQjB",
        "LgrXQBc65F19",
        "I5f5Wwf_XZOW",
        "xj8DdVEhVQ3r"
      ],
      "machine_shape": "hm"
    },
    "kernelspec": {
      "display_name": "Python 3",
      "name": "python3"
    },
    "widgets": {
      "application/vnd.jupyter.widget-state+json": {
        "171c143529904cc9862af93c8d2df636": {
          "model_module": "@jupyter-widgets/controls",
          "model_name": "HBoxModel",
          "state": {
            "_view_name": "HBoxView",
            "_dom_classes": [],
            "_model_name": "HBoxModel",
            "_view_module": "@jupyter-widgets/controls",
            "_model_module_version": "1.5.0",
            "_view_count": null,
            "_view_module_version": "1.5.0",
            "box_style": "",
            "layout": "IPY_MODEL_d875bc8fb6bf475f973c1bcb9e8bb914",
            "_model_module": "@jupyter-widgets/controls",
            "children": [
              "IPY_MODEL_5298c5bb9e46476ca1fec98e41ce285c",
              "IPY_MODEL_b103fa03b20c4c71acd56d0c1b6a4f67"
            ]
          }
        },
        "d875bc8fb6bf475f973c1bcb9e8bb914": {
          "model_module": "@jupyter-widgets/base",
          "model_name": "LayoutModel",
          "state": {
            "_view_name": "LayoutView",
            "grid_template_rows": null,
            "right": null,
            "justify_content": null,
            "_view_module": "@jupyter-widgets/base",
            "overflow": null,
            "_model_module_version": "1.2.0",
            "_view_count": null,
            "flex_flow": null,
            "width": null,
            "min_width": null,
            "border": null,
            "align_items": null,
            "bottom": null,
            "_model_module": "@jupyter-widgets/base",
            "top": null,
            "grid_column": null,
            "overflow_y": null,
            "overflow_x": null,
            "grid_auto_flow": null,
            "grid_area": null,
            "grid_template_columns": null,
            "flex": null,
            "_model_name": "LayoutModel",
            "justify_items": null,
            "grid_row": null,
            "max_height": null,
            "align_content": null,
            "visibility": null,
            "align_self": null,
            "height": null,
            "min_height": null,
            "padding": null,
            "grid_auto_rows": null,
            "grid_gap": null,
            "max_width": null,
            "order": null,
            "_view_module_version": "1.2.0",
            "grid_template_areas": null,
            "object_position": null,
            "object_fit": null,
            "grid_auto_columns": null,
            "margin": null,
            "display": null,
            "left": null
          }
        },
        "5298c5bb9e46476ca1fec98e41ce285c": {
          "model_module": "@jupyter-widgets/controls",
          "model_name": "FloatProgressModel",
          "state": {
            "_view_name": "ProgressView",
            "style": "IPY_MODEL_bbf4ef90cae8407bb2a2d7c50ccce385",
            "_dom_classes": [],
            "description": "Downloading: 100%",
            "_model_name": "FloatProgressModel",
            "bar_style": "success",
            "max": 5069051,
            "_view_module": "@jupyter-widgets/controls",
            "_model_module_version": "1.5.0",
            "value": 5069051,
            "_view_count": null,
            "_view_module_version": "1.5.0",
            "orientation": "horizontal",
            "min": 0,
            "description_tooltip": null,
            "_model_module": "@jupyter-widgets/controls",
            "layout": "IPY_MODEL_bf3e53ff7333417db0c92cffa9d4e0b3"
          }
        },
        "b103fa03b20c4c71acd56d0c1b6a4f67": {
          "model_module": "@jupyter-widgets/controls",
          "model_name": "HTMLModel",
          "state": {
            "_view_name": "HTMLView",
            "style": "IPY_MODEL_6fa96dc913684cc39ca34d6bbadf2676",
            "_dom_classes": [],
            "description": "",
            "_model_name": "HTMLModel",
            "placeholder": "​",
            "_view_module": "@jupyter-widgets/controls",
            "_model_module_version": "1.5.0",
            "value": " 5.07M/5.07M [00:09&lt;00:00, 528kB/s]",
            "_view_count": null,
            "_view_module_version": "1.5.0",
            "description_tooltip": null,
            "_model_module": "@jupyter-widgets/controls",
            "layout": "IPY_MODEL_e975b90c13f042b1abbd779bb99d0218"
          }
        },
        "bbf4ef90cae8407bb2a2d7c50ccce385": {
          "model_module": "@jupyter-widgets/controls",
          "model_name": "ProgressStyleModel",
          "state": {
            "_view_name": "StyleView",
            "_model_name": "ProgressStyleModel",
            "description_width": "initial",
            "_view_module": "@jupyter-widgets/base",
            "_model_module_version": "1.5.0",
            "_view_count": null,
            "_view_module_version": "1.2.0",
            "bar_color": null,
            "_model_module": "@jupyter-widgets/controls"
          }
        },
        "bf3e53ff7333417db0c92cffa9d4e0b3": {
          "model_module": "@jupyter-widgets/base",
          "model_name": "LayoutModel",
          "state": {
            "_view_name": "LayoutView",
            "grid_template_rows": null,
            "right": null,
            "justify_content": null,
            "_view_module": "@jupyter-widgets/base",
            "overflow": null,
            "_model_module_version": "1.2.0",
            "_view_count": null,
            "flex_flow": null,
            "width": null,
            "min_width": null,
            "border": null,
            "align_items": null,
            "bottom": null,
            "_model_module": "@jupyter-widgets/base",
            "top": null,
            "grid_column": null,
            "overflow_y": null,
            "overflow_x": null,
            "grid_auto_flow": null,
            "grid_area": null,
            "grid_template_columns": null,
            "flex": null,
            "_model_name": "LayoutModel",
            "justify_items": null,
            "grid_row": null,
            "max_height": null,
            "align_content": null,
            "visibility": null,
            "align_self": null,
            "height": null,
            "min_height": null,
            "padding": null,
            "grid_auto_rows": null,
            "grid_gap": null,
            "max_width": null,
            "order": null,
            "_view_module_version": "1.2.0",
            "grid_template_areas": null,
            "object_position": null,
            "object_fit": null,
            "grid_auto_columns": null,
            "margin": null,
            "display": null,
            "left": null
          }
        },
        "6fa96dc913684cc39ca34d6bbadf2676": {
          "model_module": "@jupyter-widgets/controls",
          "model_name": "DescriptionStyleModel",
          "state": {
            "_view_name": "StyleView",
            "_model_name": "DescriptionStyleModel",
            "description_width": "",
            "_view_module": "@jupyter-widgets/base",
            "_model_module_version": "1.5.0",
            "_view_count": null,
            "_view_module_version": "1.2.0",
            "_model_module": "@jupyter-widgets/controls"
          }
        },
        "e975b90c13f042b1abbd779bb99d0218": {
          "model_module": "@jupyter-widgets/base",
          "model_name": "LayoutModel",
          "state": {
            "_view_name": "LayoutView",
            "grid_template_rows": null,
            "right": null,
            "justify_content": null,
            "_view_module": "@jupyter-widgets/base",
            "overflow": null,
            "_model_module_version": "1.2.0",
            "_view_count": null,
            "flex_flow": null,
            "width": null,
            "min_width": null,
            "border": null,
            "align_items": null,
            "bottom": null,
            "_model_module": "@jupyter-widgets/base",
            "top": null,
            "grid_column": null,
            "overflow_y": null,
            "overflow_x": null,
            "grid_auto_flow": null,
            "grid_area": null,
            "grid_template_columns": null,
            "flex": null,
            "_model_name": "LayoutModel",
            "justify_items": null,
            "grid_row": null,
            "max_height": null,
            "align_content": null,
            "visibility": null,
            "align_self": null,
            "height": null,
            "min_height": null,
            "padding": null,
            "grid_auto_rows": null,
            "grid_gap": null,
            "max_width": null,
            "order": null,
            "_view_module_version": "1.2.0",
            "grid_template_areas": null,
            "object_position": null,
            "object_fit": null,
            "grid_auto_columns": null,
            "margin": null,
            "display": null,
            "left": null
          }
        }
      }
    }
  },
  "cells": [
    {
      "cell_type": "code",
      "metadata": {
        "colab": {
          "base_uri": "https://localhost:8080/"
        },
        "id": "GDGN_ETs-X_O",
        "outputId": "164b7e21-8963-4345-c3c2-9322b84e3457"
      },
      "source": [
        "from google.colab import drive\n",
        "drive.mount('/content/drive')"
      ],
      "execution_count": null,
      "outputs": [
        {
          "output_type": "stream",
          "text": [
            "Mounted at /content/drive\n"
          ],
          "name": "stdout"
        }
      ]
    },
    {
      "cell_type": "code",
      "metadata": {
        "id": "vkVn9Tyk--hz"
      },
      "source": [
        "import zipfile\n",
        "\n",
        "with zipfile.ZipFile('/content/drive/MyDrive/AI Masters/DL/dl-2020-unibuc-nlp.zip', 'r') as zip_ref:\n",
        "    zip_ref.extractall('/content/')"
      ],
      "execution_count": null,
      "outputs": []
    },
    {
      "cell_type": "code",
      "metadata": {
        "id": "7Wd9Iwxi--WJ"
      },
      "source": [
        "import os, glob, re, random\n",
        "\n",
        "import pandas as pd\n",
        "import numpy as np\n",
        "\n",
        "from nltk.stem.porter import *\n",
        "\n",
        "from sklearn.metrics import accuracy_score\n",
        "\n",
        "import matplotlib.pyplot as plt\n",
        "% matplotlib inline\n",
        "import seaborn as sns"
      ],
      "execution_count": null,
      "outputs": []
    },
    {
      "cell_type": "code",
      "metadata": {
        "id": "Y1wxxdLFBuFL"
      },
      "source": [
        "def compute_accuracy(predictions, labels):\n",
        "    predictions = np.argmax(predictions, axis=1).flatten()\n",
        "    labels = labels.flatten()\n",
        "    return np.sum(predictions == labels) / len(labels)\n",
        "\n",
        "def train_model(model, train_dataloader, validation_dataloader, model_name,\n",
        "                epochs = 10, seed_val=42, num_warmup_steps=0):\n",
        "    training_stats = []\n",
        "\n",
        "    random.seed(seed_val)\n",
        "    np.random.seed(seed_val)\n",
        "    torch.manual_seed(seed_val)\n",
        "    torch.cuda.manual_seed_all(seed_val)\n",
        "\n",
        "    num_training_steps = len(train_dataloader) * epochs\n",
        "\n",
        "    scheduler = get_cosine_schedule_with_warmup(optimizer, \n",
        "                                                num_warmup_steps = num_warmup_steps,\n",
        "                                                num_training_steps = num_training_steps)\n",
        "\n",
        "    saved_model_accuracy = -1\n",
        "    saved_model_loss = 1000\n",
        "\n",
        "    cross_entropy_loss = nn.CrossEntropyLoss()\n",
        "\n",
        "    for epoch_i in range(0, epochs):\n",
        "        total_train_loss = 0\n",
        "\n",
        "        model.train()\n",
        "\n",
        "        for step, batch in enumerate(train_dataloader):\n",
        "\n",
        "            b_input_ids = batch[0].to(device)\n",
        "            b_input_mask = batch[1].to(device)\n",
        "            b_labels = batch[2].to(device)\n",
        "\n",
        "            model.zero_grad()        \n",
        "            output = model(b_input_ids, \n",
        "                           token_type_ids=None, \n",
        "                           attention_mask=b_input_mask, \n",
        "                           labels=b_labels)\n",
        "            loss = cross_entropy_loss(output.logits, b_labels)\n",
        "            total_train_loss += loss.item()\n",
        "            loss.backward()\n",
        "\n",
        "            torch.nn.utils.clip_grad_norm_(model.parameters(), 1.0)\n",
        "\n",
        "            optimizer.step()\n",
        "            scheduler.step()\n",
        "\n",
        "        avg_train_loss = total_train_loss / len(train_dataloader)\n",
        "\n",
        "        model.eval()\n",
        "\n",
        "        total_eval_accuracy = 0\n",
        "        total_eval_loss = 0\n",
        "        nb_eval_steps = 0\n",
        "\n",
        "        if validation_dataloader is not None:\n",
        "            for batch in validation_dataloader:\n",
        "\n",
        "                b_input_ids = batch[0].to(device)\n",
        "                b_input_mask = batch[1].to(device)\n",
        "                b_labels = batch[2].to(device)\n",
        "                \n",
        "                with torch.no_grad():        \n",
        "\n",
        "                    output = model(b_input_ids, \n",
        "                                token_type_ids=None, \n",
        "                                attention_mask=b_input_mask,\n",
        "                                labels=b_labels)\n",
        "                    loss = cross_entropy_loss(output.logits, b_labels)\n",
        "                    \n",
        "                total_eval_loss += loss.item()\n",
        "\n",
        "                logits = output.logits.detach().cpu().numpy()\n",
        "                label_ids = b_labels.to('cpu').numpy()\n",
        "\n",
        "                total_eval_accuracy += compute_accuracy(logits, label_ids)\n",
        "                \n",
        "            avg_val_accuracy = total_eval_accuracy / len(validation_dataloader)\n",
        "            avg_val_loss = total_eval_loss / len(validation_dataloader)\n",
        "            \n",
        "            print(\"Epoch {} / {}: Average training loss: {:.4f}, Validation Acc: {:.4f}, Validation Loss: {:.4f}.\".\n",
        "                format(epoch_i + 1, epochs, avg_train_loss, avg_val_accuracy, avg_val_loss))\n",
        "            \n",
        "            if saved_model_loss > (avg_val_loss - 0.001):\n",
        "                fileList = glob.glob('/content/' + model_name + '*')\n",
        "                if len(fileList) != 0:\n",
        "                    os.remove(fileList[0])\n",
        "                torch.save(model.state_dict(), '/content/' + model_name + str(avg_val_accuracy))\n",
        "                saved_model_accuracy = avg_val_accuracy\n",
        "                saved_model_loss = avg_val_loss\n",
        "            \n",
        "            training_stats.append({'epoch': epoch_i + 1, 'Training Loss': avg_train_loss,\n",
        "                                   'Val Loss': avg_val_loss, 'Val Acc': avg_val_accuracy})\n",
        "        else:\n",
        "            print(\"Epoch {} / {}: Average training loss: {:.4f}.\".format(epoch_i + 1, epochs, avg_train_loss))\n",
        "        \n",
        "    return model, training_stats\n",
        "\n",
        "def tokenize_data(tokenizer, df):\n",
        "    input_ids = []\n",
        "    attention_masks = []\n",
        "    labels = []\n",
        "    indexed_tokens = []\n",
        "\n",
        "    for index, row in df.iterrows():\n",
        "        encoded_dict = tokenizer.encode_plus(row['text'], \n",
        "                                             add_special_tokens=True, \n",
        "                                             max_length = 128, #try 256, 512\n",
        "                                             padding = 'max_length',\n",
        "                                             truncation=True,\n",
        "                                             return_attention_mask=True,\n",
        "                                             return_tensors='pt')\n",
        "        \n",
        "        input_ids.append(encoded_dict['input_ids']) \n",
        "        attention_masks.append(encoded_dict['attention_mask'])\n",
        "        labels.append(row['target'])\n",
        "\n",
        "    input_ids = torch.cat(input_ids, dim=0)\n",
        "    attention_masks = torch.cat(attention_masks, dim=0)\n",
        "    labels = torch.tensor(labels)\n",
        "\n",
        "    return input_ids, attention_masks, labels\n",
        "\n",
        "def sample_data(df):\n",
        "    df_sample = pd.DataFrame(columns = ['sid', 'target', 'text']) \n",
        "\n",
        "    selected_dfs = {4: df[df['target'] == 4].sample(4), \n",
        "                    5: df[df['target'] == 5].sample(5),\n",
        "                    2: df[df['target'] == 2].sample(7),\n",
        "                    3: df[df['target'] == 3].sample(8),\n",
        "                    9: df[df['target'] == 9].sample(8), \n",
        "                    1: df[df['target'] == 1].sample(8),\n",
        "                    7: df[df['target'] == 7].sample(8),\n",
        "                    0: df[df['target'] == 0].sample(9),\n",
        "                    8: df[df['target'] == 8].sample(11), \n",
        "                    6: df[df['target'] == 6].sample(12)}\n",
        "\n",
        "    for key, value in selected_dfs.items():\n",
        "        df_sample = df_sample.append(value)\n",
        "        df = df.drop(list(value.index))\n",
        "\n",
        "    return df_sample, df"
      ],
      "execution_count": null,
      "outputs": []
    },
    {
      "cell_type": "code",
      "metadata": {
        "id": "Fe7-_hJBDf5A"
      },
      "source": [
        "df_train = pd.read_csv(f\"/content/train.txt\", \n",
        "                       delimiter=',', names=['sid', 'target', 'text'])\n",
        "\n",
        "df_val = pd.read_csv(f\"/content/vaidation.txt\", \n",
        "                     delimiter=',', names=['sid', 'target', 'text'])\n",
        "\n",
        "df = pd.concat([df_train, df_val])\n",
        "df.index = list(range(3074))\n",
        "df['text'] = df['text'].astype(str)\n",
        "df['target'] = df['target'].map(lambda x: x - 1)"
      ],
      "execution_count": null,
      "outputs": []
    },
    {
      "cell_type": "markdown",
      "metadata": {
        "id": "mjooYDXDZ4kt"
      },
      "source": [
        "## SGD Baseline"
      ]
    },
    {
      "cell_type": "code",
      "metadata": {
        "id": "LK_1wRLg5EUL"
      },
      "source": [
        "from sklearn.pipeline import Pipeline\n",
        "from sklearn.feature_extraction.text import CountVectorizer, TfidfTransformer\n",
        "from sklearn.linear_model import SGDClassifier\n",
        "\n",
        "from sklearn.model_selection import train_test_split\n",
        "from sklearn.metrics import classification_report"
      ],
      "execution_count": null,
      "outputs": []
    },
    {
      "cell_type": "code",
      "metadata": {
        "id": "TK4mrRy65Fxf"
      },
      "source": [
        "df_train = pd.read_csv(f\"/content/train.txt\", \n",
        "                       delimiter=',', names=['sid', 'target', 'text'])\n",
        "\n",
        "df_val = pd.read_csv(f\"/content/vaidation.txt\", \n",
        "                     delimiter=',', names=['sid', 'target', 'text'])\n",
        "\n",
        "df = pd.concat([df_train, df_val])\n",
        "df.index = list(range(3074))\n",
        "df['text'] = df['text'].astype(str)"
      ],
      "execution_count": null,
      "outputs": []
    },
    {
      "cell_type": "code",
      "metadata": {
        "id": "cwLWaHpa5Fu_",
        "colab": {
          "base_uri": "https://localhost:8080/"
        },
        "outputId": "4a3e1177-8bd7-4471-8d9a-72b05335003c"
      },
      "source": [
        "X_train, X_test, y_train, y_test = train_test_split(df['text'], df['target'], \n",
        "                                                    test_size=100,\n",
        "                                                    random_state = 42)\n",
        "\n",
        "sgd = Pipeline([('vect', CountVectorizer()),\n",
        "                ('tfidf', TfidfTransformer()),\n",
        "                ('clf', SGDClassifier(loss='hinge', penalty='l2', alpha=1e-4, \n",
        "                                      random_state=42, max_iter=3, tol=None)),\n",
        "                ])\n",
        "\n",
        "sgd.fit(X_train, y_train)\n",
        "\n",
        "y_pred = sgd.predict(X_test)\n",
        "\n",
        "print('accuracy %s' % accuracy_score(y_pred, y_test))"
      ],
      "execution_count": null,
      "outputs": [
        {
          "output_type": "stream",
          "text": [
            "accuracy 0.81\n"
          ],
          "name": "stdout"
        }
      ]
    },
    {
      "cell_type": "markdown",
      "metadata": {
        "id": "23CWC8Am5Aay"
      },
      "source": [
        "## MLP"
      ]
    },
    {
      "cell_type": "code",
      "metadata": {
        "id": "FrOK2OUT_6fQ"
      },
      "source": [
        "from sklearn.pipeline import Pipeline\n",
        "from sklearn.feature_extraction.text import CountVectorizer, TfidfTransformer\n",
        "from sklearn.neural_network import MLPClassifier\n",
        "\n",
        "from sklearn.model_selection import train_test_split\n",
        "from sklearn.metrics import classification_report"
      ],
      "execution_count": null,
      "outputs": []
    },
    {
      "cell_type": "code",
      "metadata": {
        "id": "Sg0FugV0RuAY"
      },
      "source": [
        "df_train = pd.read_csv(f\"/content/train.txt\", \n",
        "                       delimiter=',', names=['sid', 'target', 'text'])\n",
        "\n",
        "df_val = pd.read_csv(f\"/content/vaidation.txt\", \n",
        "                     delimiter=',', names=['sid', 'target', 'text'])\n",
        "\n",
        "df = pd.concat([df_train, df_val])\n",
        "df.index = list(range(3074))\n",
        "df['text'] = df['text'].astype(str)"
      ],
      "execution_count": null,
      "outputs": []
    },
    {
      "cell_type": "code",
      "metadata": {
        "colab": {
          "base_uri": "https://localhost:8080/"
        },
        "id": "qrWmsDS-FUmp",
        "outputId": "29795171-63c9-48c3-cdf6-ad0da945f33e"
      },
      "source": [
        "X_train, X_test, y_train, y_test = train_test_split(df['text'], df['target'], \n",
        "                                                    test_size=80,\n",
        "                                                    random_state = 42)\n",
        "\n",
        "mlp = Pipeline([('vect', CountVectorizer()),\n",
        "                ('tfidf', TfidfTransformer()),\n",
        "                ('clf', MLPClassifier(random_state=1, learning_rate='invscaling')),\n",
        "            ])\n",
        "\n",
        "mlp.fit(X_train, y_train)   \n",
        "\n",
        "y_pred = mlp.predict(X_test)\n",
        "\n",
        "acc = accuracy_score(list(y_pred), list(y_test))\n",
        "print('Accuracy {}.'.format(acc))"
      ],
      "execution_count": null,
      "outputs": [
        {
          "output_type": "stream",
          "text": [
            "Accuracy 0.875.\n"
          ],
          "name": "stdout"
        },
        {
          "output_type": "stream",
          "text": [
            "/usr/local/lib/python3.6/dist-packages/sklearn/neural_network/_multilayer_perceptron.py:573: UserWarning: Training interrupted by user.\n",
            "  warnings.warn(\"Training interrupted by user.\")\n"
          ],
          "name": "stderr"
        }
      ]
    },
    {
      "cell_type": "code",
      "metadata": {
        "colab": {
          "base_uri": "https://localhost:8080/",
          "height": 457
        },
        "id": "TqypP_B99i-8",
        "outputId": "336b4950-5d5f-4c9b-f635-859694e9ebfc"
      },
      "source": [
        "from sklearn.metrics import classification_report\n",
        "report = classification_report(list(y_pred), list(y_test), output_dict=True)\n",
        "df = pd.DataFrame(report).transpose()\n",
        "df"
      ],
      "execution_count": null,
      "outputs": [
        {
          "output_type": "execute_result",
          "data": {
            "text/html": [
              "<div>\n",
              "<style scoped>\n",
              "    .dataframe tbody tr th:only-of-type {\n",
              "        vertical-align: middle;\n",
              "    }\n",
              "\n",
              "    .dataframe tbody tr th {\n",
              "        vertical-align: top;\n",
              "    }\n",
              "\n",
              "    .dataframe thead th {\n",
              "        text-align: right;\n",
              "    }\n",
              "</style>\n",
              "<table border=\"1\" class=\"dataframe\">\n",
              "  <thead>\n",
              "    <tr style=\"text-align: right;\">\n",
              "      <th></th>\n",
              "      <th>precision</th>\n",
              "      <th>recall</th>\n",
              "      <th>f1-score</th>\n",
              "      <th>support</th>\n",
              "    </tr>\n",
              "  </thead>\n",
              "  <tbody>\n",
              "    <tr>\n",
              "      <th>1</th>\n",
              "      <td>0.900000</td>\n",
              "      <td>0.818182</td>\n",
              "      <td>0.857143</td>\n",
              "      <td>11.0000</td>\n",
              "    </tr>\n",
              "    <tr>\n",
              "      <th>2</th>\n",
              "      <td>0.833333</td>\n",
              "      <td>1.000000</td>\n",
              "      <td>0.909091</td>\n",
              "      <td>5.0000</td>\n",
              "    </tr>\n",
              "    <tr>\n",
              "      <th>3</th>\n",
              "      <td>0.875000</td>\n",
              "      <td>1.000000</td>\n",
              "      <td>0.933333</td>\n",
              "      <td>7.0000</td>\n",
              "    </tr>\n",
              "    <tr>\n",
              "      <th>4</th>\n",
              "      <td>0.714286</td>\n",
              "      <td>0.833333</td>\n",
              "      <td>0.769231</td>\n",
              "      <td>6.0000</td>\n",
              "    </tr>\n",
              "    <tr>\n",
              "      <th>5</th>\n",
              "      <td>1.000000</td>\n",
              "      <td>0.666667</td>\n",
              "      <td>0.800000</td>\n",
              "      <td>3.0000</td>\n",
              "    </tr>\n",
              "    <tr>\n",
              "      <th>6</th>\n",
              "      <td>0.900000</td>\n",
              "      <td>1.000000</td>\n",
              "      <td>0.947368</td>\n",
              "      <td>9.0000</td>\n",
              "    </tr>\n",
              "    <tr>\n",
              "      <th>7</th>\n",
              "      <td>0.923077</td>\n",
              "      <td>0.857143</td>\n",
              "      <td>0.888889</td>\n",
              "      <td>14.0000</td>\n",
              "    </tr>\n",
              "    <tr>\n",
              "      <th>8</th>\n",
              "      <td>1.000000</td>\n",
              "      <td>1.000000</td>\n",
              "      <td>1.000000</td>\n",
              "      <td>4.0000</td>\n",
              "    </tr>\n",
              "    <tr>\n",
              "      <th>9</th>\n",
              "      <td>1.000000</td>\n",
              "      <td>0.916667</td>\n",
              "      <td>0.956522</td>\n",
              "      <td>12.0000</td>\n",
              "    </tr>\n",
              "    <tr>\n",
              "      <th>10</th>\n",
              "      <td>0.777778</td>\n",
              "      <td>0.777778</td>\n",
              "      <td>0.777778</td>\n",
              "      <td>9.0000</td>\n",
              "    </tr>\n",
              "    <tr>\n",
              "      <th>accuracy</th>\n",
              "      <td>0.887500</td>\n",
              "      <td>0.887500</td>\n",
              "      <td>0.887500</td>\n",
              "      <td>0.8875</td>\n",
              "    </tr>\n",
              "    <tr>\n",
              "      <th>macro avg</th>\n",
              "      <td>0.892347</td>\n",
              "      <td>0.886977</td>\n",
              "      <td>0.883935</td>\n",
              "      <td>80.0000</td>\n",
              "    </tr>\n",
              "    <tr>\n",
              "      <th>weighted avg</th>\n",
              "      <td>0.893756</td>\n",
              "      <td>0.887500</td>\n",
              "      <td>0.887147</td>\n",
              "      <td>80.0000</td>\n",
              "    </tr>\n",
              "  </tbody>\n",
              "</table>\n",
              "</div>"
            ],
            "text/plain": [
              "              precision    recall  f1-score  support\n",
              "1              0.900000  0.818182  0.857143  11.0000\n",
              "2              0.833333  1.000000  0.909091   5.0000\n",
              "3              0.875000  1.000000  0.933333   7.0000\n",
              "4              0.714286  0.833333  0.769231   6.0000\n",
              "5              1.000000  0.666667  0.800000   3.0000\n",
              "6              0.900000  1.000000  0.947368   9.0000\n",
              "7              0.923077  0.857143  0.888889  14.0000\n",
              "8              1.000000  1.000000  1.000000   4.0000\n",
              "9              1.000000  0.916667  0.956522  12.0000\n",
              "10             0.777778  0.777778  0.777778   9.0000\n",
              "accuracy       0.887500  0.887500  0.887500   0.8875\n",
              "macro avg      0.892347  0.886977  0.883935  80.0000\n",
              "weighted avg   0.893756  0.887500  0.887147  80.0000"
            ]
          },
          "metadata": {
            "tags": []
          },
          "execution_count": 37
        }
      ]
    },
    {
      "cell_type": "code",
      "metadata": {
        "colab": {
          "base_uri": "https://localhost:8080/",
          "height": 449
        },
        "id": "H4NLYSvO-jts",
        "outputId": "b84b4b6c-29bd-4922-c343-a10cb26118bf"
      },
      "source": [
        "from sklearn.metrics import confusion_matrix\n",
        "conf_matrix = confusion_matrix(list(y_pred), list(y_test))\n",
        "df_cm = pd.DataFrame(conf_matrix, index=[i for i in range(10)], columns=[i for i in range(10)])\n",
        "plt.figure(figsize = (10,7))\n",
        "sns.heatmap(df_cm, annot=True)"
      ],
      "execution_count": null,
      "outputs": [
        {
          "output_type": "execute_result",
          "data": {
            "text/plain": [
              "<matplotlib.axes._subplots.AxesSubplot at 0x7f40f7105780>"
            ]
          },
          "metadata": {
            "tags": []
          },
          "execution_count": 39
        },
        {
          "output_type": "display_data",
          "data": {
            "image/png": "[encoded data removed]",
            "text/plain": [
              "<Figure size 720x504 with 2 Axes>"
            ]
          },
          "metadata": {
            "tags": [],
            "needs_background": "light"
          }
        }
      ]
    },
    {
      "cell_type": "markdown",
      "metadata": {
        "id": "6-3eDZDKZ9UW"
      },
      "source": [
        "## BERT Romanian\n",
        "\n",
        "Using [dumitrescustefan/bert-base-romanian-cased-v1](https://huggingface.co/dumitrescustefan/bert-base-romanian-cased-v1)."
      ]
    },
    {
      "cell_type": "code",
      "metadata": {
        "id": "f-a2PCtr0BZX"
      },
      "source": [
        "!pip install sentencepiece\n",
        "!pip install transformers"
      ],
      "execution_count": null,
      "outputs": []
    },
    {
      "cell_type": "code",
      "metadata": {
        "id": "OR5D9Pih5mTQ"
      },
      "source": [
        "import torch\n",
        "import torch.optim as optim\n",
        "\n",
        "from torch.utils.data import TensorDataset, random_split\n",
        "from torch.utils.data import DataLoader, RandomSampler, SequentialSampler\n",
        "\n",
        "from transformers import BertTokenizer, BertForSequenceClassification, AdamW\n",
        "from transformers import get_linear_schedule_with_warmup\n",
        "\n",
        "torch.set_grad_enabled(True)\n",
        "if torch.cuda.is_available(): \n",
        "    device = torch.device('cuda:0')\n",
        "else:\n",
        "    device = torch.device('cpu')\n",
        "MODEL_NAME = \"dumitrescustefan/bert-base-romanian-cased-v1\""
      ],
      "execution_count": null,
      "outputs": []
    },
    {
      "cell_type": "code",
      "metadata": {
        "id": "Xdpq5N_zKjJO"
      },
      "source": [
        "df_train = pd.read_csv(f\"/content/train.txt\", \n",
        "                       delimiter=',', names=['sid', 'target', 'text'])\n",
        "\n",
        "df_val = pd.read_csv(f\"/content/vaidation.txt\", \n",
        "                     delimiter=',', names=['sid', 'target', 'text'])\n",
        "\n",
        "df = pd.concat([df_train, df_val])\n",
        "df.index = list(range(3074))\n",
        "df['text'] = df['text'].astype(str)\n",
        "df['target'] = df['target'].map(lambda x: x - 1)\n",
        "\n",
        "tokenizer = BertTokenizer.from_pretrained(MODEL_NAME, \n",
        "                                          do_lower_case = True)"
      ],
      "execution_count": null,
      "outputs": []
    },
    {
      "cell_type": "code",
      "metadata": {
        "id": "zbdqpyt8Lq3e",
        "colab": {
          "base_uri": "https://localhost:8080/"
        },
        "outputId": "ecded4fa-535f-4f5c-b5a2-d1dd6599ac83"
      },
      "source": [
        "val_df, df = sample_data(df)\n",
        "test_df, df = sample_data(df)\n",
        "\n",
        "input_ids, attention_masks, labels = tokenize_data(tokenizer, df)\n",
        "train_dataset = TensorDataset(input_ids, attention_masks, labels)\n",
        "\n",
        "input_ids, attention_masks, labels = tokenize_data(tokenizer, val_df)\n",
        "val_dataset = TensorDataset(input_ids, attention_masks, labels)\n",
        "\n",
        "input_ids, attention_masks, labels = tokenize_data(tokenizer, test_df)\n",
        "test_dataset = TensorDataset(input_ids, attention_masks, labels)\n",
        "\n",
        "print('Training samples: {}.'.format(len(train_dataset)))\n",
        "print('Validation samples: {}.'.format(len(val_dataset)))\n",
        "print('Test samples: {}.'.format(len(test_dataset)))"
      ],
      "execution_count": null,
      "outputs": [
        {
          "output_type": "stream",
          "text": [
            "2,914 training samples\n",
            "   80 validation samples\n",
            "   80 test samples\n"
          ],
          "name": "stdout"
        }
      ]
    },
    {
      "cell_type": "code",
      "metadata": {
        "id": "3ItRbAsULzuc"
      },
      "source": [
        "batch_size = 64\n",
        "\n",
        "train_dataloader = DataLoader(train_dataset, \n",
        "                              sampler = RandomSampler(train_dataset), \n",
        "                              batch_size = batch_size)\n",
        "\n",
        "validation_dataloader = DataLoader(val_dataset,\n",
        "                                   sampler = SequentialSampler(val_dataset),  \n",
        "                                   batch_size = batch_size)"
      ],
      "execution_count": null,
      "outputs": []
    },
    {
      "cell_type": "code",
      "metadata": {
        "id": "6FMBm3jMMFoZ"
      },
      "source": [
        "model = BertForSequenceClassification.from_pretrained(\n",
        "    MODEL_NAME,\n",
        "    num_labels = 10,  \n",
        "    output_attentions = False,\n",
        "    output_hidden_states = False)\n",
        "\n",
        "optimizer = AdamW(model.parameters(), lr = 1e-5)\n",
        "\n",
        "model.cuda()"
      ],
      "execution_count": null,
      "outputs": []
    },
    {
      "cell_type": "code",
      "metadata": {
        "id": "lj_dNR4OMfUL"
      },
      "source": [
        "model, training_stats = train_model(model, \n",
        "                                    train_dataloader, validation_dataloader, \n",
        "                                    epochs=35, seed_val=42, model_name='romanian-bert-')"
      ],
      "execution_count": null,
      "outputs": []
    },
    {
      "cell_type": "code",
      "metadata": {
        "id": "21CXEAlEKdaL"
      },
      "source": [
        "model.load_state_dict(torch.load('/content/romanian-bert-0.859375'))"
      ],
      "execution_count": null,
      "outputs": []
    },
    {
      "cell_type": "code",
      "metadata": {
        "id": "7SmFOt_fflpl",
        "colab": {
          "base_uri": "https://localhost:8080/",
          "height": 837
        },
        "outputId": "f8be4d68-e24e-4f8e-b00a-5fc37dbdd488"
      },
      "source": [
        "pd.set_option('precision', 2)\n",
        "\n",
        "df_stats = pd.DataFrame(data=training_stats)\n",
        "df_stats = df_stats.set_index('epoch')\n",
        "\n",
        "sns.set(style='darkgrid')\n",
        "sns.set(font_scale=1.5)\n",
        "plt.rcParams[\"figure.figsize\"] = (12,6)\n",
        "\n",
        "plt.plot(df_stats['Training Loss'], 'b', label=\"Training\")\n",
        "plt.plot(df_stats['Val Loss'], 'g', label=\"Validation\")\n",
        "plt.title(\"Training & Validation Loss\")\n",
        "plt.xlabel(\"Epoch\")\n",
        "plt.ylabel(\"Loss\")\n",
        "plt.legend()\n",
        "plt.show()\n",
        "\n",
        "plt.plot(df_stats['Val Acc'], 'b', label=\"Accuracy\")\n",
        "plt.title(\"Validation Accuracy\")\n",
        "plt.xlabel(\"Epoch\")\n",
        "plt.ylabel(\"Accuracy\")\n",
        "plt.legend()\n",
        "plt.show()"
      ],
      "execution_count": null,
      "outputs": [
        {
          "output_type": "display_data",
          "data": {
            "image/png": "[encoded data removed]",
            "text/plain": [
              "<Figure size 864x432 with 1 Axes>"
            ]
          },
          "metadata": {
            "tags": []
          }
        },
        {
          "output_type": "display_data",
          "data": {
            "image/png": "[encoded data removed]",
            "text/plain": [
              "<Figure size 864x432 with 1 Axes>"
            ]
          },
          "metadata": {
            "tags": []
          }
        }
      ]
    },
    {
      "cell_type": "code",
      "metadata": {
        "id": "NMhdP-DCfM51",
        "colab": {
          "base_uri": "https://localhost:8080/"
        },
        "outputId": "6eafa758-3055-40ac-df33-cfdf90e81489"
      },
      "source": [
        "test_dataloader = DataLoader(test_dataset,\n",
        "                             sampler = SequentialSampler(test_dataset), \n",
        "                             batch_size = 1)\n",
        "\n",
        "model.eval()\n",
        "test_predictions , true_labels = [], []\n",
        "\n",
        "for batch in test_dataloader:\n",
        "    batch = tuple(t.to(device) for t in batch)\n",
        "    b_input_ids, b_input_mask, b_labels = batch\n",
        "\n",
        "    with torch.no_grad():\n",
        "        outputs = model(b_input_ids, token_type_ids=None, \n",
        "                        attention_mask=b_input_mask)\n",
        "\n",
        "    logits = outputs[0]\n",
        "    label_ids = b_labels.to('cpu').numpy()\n",
        "    test_predictions.append(torch.argmax(logits).item())\n",
        "    true_labels.append(label_ids)\n",
        "\n",
        "accuracy_score(true_labels, test_predictions)"
      ],
      "execution_count": null,
      "outputs": [
        {
          "output_type": "execute_result",
          "data": {
            "text/plain": [
              "0.8"
            ]
          },
          "metadata": {
            "tags": []
          },
          "execution_count": 36
        }
      ]
    },
    {
      "cell_type": "code",
      "metadata": {
        "colab": {
          "base_uri": "https://localhost:8080/",
          "height": 456
        },
        "id": "VIIHUyBqRQwg",
        "outputId": "abce818f-a26d-4dae-ddb0-bc86ea64da14"
      },
      "source": [
        "from sklearn.metrics import confusion_matrix\n",
        "conf_matrix = confusion_matrix(true_labels, test_predictions)\n",
        "df_cm = pd.DataFrame(conf_matrix, index=[i for i in range(10)], columns=[i for i in range(10)])\n",
        "plt.figure(figsize = (10,7))\n",
        "sns.heatmap(df_cm, annot=True)"
      ],
      "execution_count": null,
      "outputs": [
        {
          "output_type": "execute_result",
          "data": {
            "text/plain": [
              "<matplotlib.axes._subplots.AxesSubplot at 0x7f33a26732b0>"
            ]
          },
          "metadata": {
            "tags": []
          },
          "execution_count": 40
        },
        {
          "output_type": "display_data",
          "data": {
            "image/png": "[encoded data removed]",
            "text/plain": [
              "<Figure size 720x504 with 2 Axes>"
            ]
          },
          "metadata": {
            "tags": []
          }
        }
      ]
    },
    {
      "cell_type": "markdown",
      "metadata": {
        "id": "CRx3uRHIUQjB"
      },
      "source": [
        "## BERT English\n",
        "\n",
        "Using data transalted with Azure Cognitive Services."
      ]
    },
    {
      "cell_type": "code",
      "metadata": {
        "id": "0Ta_ACTSUQTR"
      },
      "source": [
        "!pip install transformers"
      ],
      "execution_count": null,
      "outputs": []
    },
    {
      "cell_type": "code",
      "metadata": {
        "id": "o3cI-Xu4UcbH"
      },
      "source": [
        "import torch\n",
        "import torch.optim as optim\n",
        "\n",
        "from torch.nn import functional as F\n",
        "from torch.utils.data import TensorDataset, random_split\n",
        "from torch.utils.data import DataLoader, RandomSampler, SequentialSampler\n",
        "\n",
        "from transformers import BertTokenizer\n",
        "from transformers import BertForSequenceClassification, AdamW, BertConfig\n",
        "from transformers import get_linear_schedule_with_warmup\n",
        "\n",
        "torch.set_grad_enabled(True)\n",
        "if torch.cuda.is_available(): \n",
        "    device = torch.device('cuda:0')\n",
        "else:\n",
        "    device = torch.device('cpu')\n",
        "MODEL_NAME = \"bert-base-uncased\""
      ],
      "execution_count": null,
      "outputs": []
    },
    {
      "cell_type": "code",
      "metadata": {
        "id": "hK316Et2UX3O"
      },
      "source": [
        "def get_translation(text_input, language_input, language_output):\n",
        "    base_url = 'https://api.cognitive.microsofttranslator.com'\n",
        "    path = '/translate?api-version=3.0'\n",
        "    params = '&to=' + language_output + '&from=' + language_input\n",
        "    constructed_url = base_url + path + params\n",
        "\n",
        "    headers = {\n",
        "        'Ocp-Apim-Subscription-Key': 'somekey',\n",
        "        'Ocp-Apim-Subscription-Region': 'northeurope',\n",
        "        'Content-type': 'application/json',\n",
        "        'X-ClientTraceId': str(uuid.uuid4())\n",
        "    }\n",
        "\n",
        "    body = [{'text' : text_input}]\n",
        "    response = requests.post(constructed_url, headers=headers, json=body)\n",
        "    return str(response.json()[0]['translations'][0]['text'])\n"
      ],
      "execution_count": null,
      "outputs": []
    },
    {
      "cell_type": "code",
      "metadata": {
        "id": "y41j7UpSUX06"
      },
      "source": [
        "df = pd.read_csv('/content/drive/MyDrive/AI Masters/DL/data_english.csv')\n",
        "\n",
        "df = df.drop(['Unnamed: 0'], axis=1)\n",
        "df['text'] = df['text'].astype(str)\n",
        "\n",
        "tokenizer = BertTokenizer.from_pretrained(MODEL_NAME, \n",
        "                                          do_lower_case = False)"
      ],
      "execution_count": null,
      "outputs": []
    },
    {
      "cell_type": "code",
      "metadata": {
        "id": "1dmqjaSfUXyr"
      },
      "source": [
        "val_df, df = sample_data(df)\n",
        "test_df, df = sample_data(df)\n",
        "\n",
        "input_ids, attention_masks, labels = tokenize_data(tokenizer, df)\n",
        "train_dataset = TensorDataset(input_ids, attention_masks, labels)\n",
        "\n",
        "input_ids, attention_masks, labels = tokenize_data(tokenizer, val_df)\n",
        "val_dataset = TensorDataset(input_ids, attention_masks, labels)\n",
        "\n",
        "input_ids, attention_masks, labels = tokenize_data(tokenizer, test_df)\n",
        "test_dataset = TensorDataset(input_ids, attention_masks, labels)\n",
        "\n",
        "print('Training samples: {}.'.format(len(train_dataset)))\n",
        "print('Validation samples: {}.'.format(len(val_dataset)))\n",
        "print('Test samples: {}.'.format(len(test_dataset)))"
      ],
      "execution_count": null,
      "outputs": []
    },
    {
      "cell_type": "code",
      "metadata": {
        "id": "lufw3UmXUekD"
      },
      "source": [
        "batch_size = 64\n",
        "\n",
        "train_dataloader = DataLoader(train_dataset, \n",
        "                              sampler = RandomSampler(train_dataset), \n",
        "                              batch_size = batch_size)\n",
        "\n",
        "validation_dataloader = DataLoader(val_dataset,\n",
        "                                   sampler = SequentialSampler(val_dataset),  \n",
        "                                   batch_size = batch_size)"
      ],
      "execution_count": null,
      "outputs": []
    },
    {
      "cell_type": "code",
      "metadata": {
        "id": "r-MlWkJOUehv"
      },
      "source": [
        "model = BertForSequenceClassification.from_pretrained(\n",
        "    MODEL_NAME,\n",
        "    num_labels = 10,  \n",
        "    output_attentions = False,\n",
        "    output_hidden_states = False)\n",
        "\n",
        "optimizer = AdamW(model.parameters(), lr = 1e-5)\n",
        "\n",
        "model.cuda()"
      ],
      "execution_count": null,
      "outputs": []
    },
    {
      "cell_type": "code",
      "metadata": {
        "id": "bg9m7DyQUefr"
      },
      "source": [
        "model, training_stats = train_model(model, \n",
        "                                    train_dataloader, validation_dataloader, \n",
        "                                    epochs=35, seed_val=2000, model_name='english-bert-')"
      ],
      "execution_count": null,
      "outputs": []
    },
    {
      "cell_type": "code",
      "metadata": {
        "id": "omv5jqA2Uecz"
      },
      "source": [
        "model.load_state_dict(torch.load('/content/english-bert-0.640625'))"
      ],
      "execution_count": null,
      "outputs": []
    },
    {
      "cell_type": "code",
      "metadata": {
        "id": "1eBc4UWUUpeq"
      },
      "source": [
        "pd.set_option('precision', 2)\n",
        "\n",
        "df_stats = pd.DataFrame(data=training_stats)\n",
        "df_stats = df_stats.set_index('epoch')\n",
        "\n",
        "sns.set(style='darkgrid')\n",
        "sns.set(font_scale=1.5)\n",
        "plt.rcParams[\"figure.figsize\"] = (12,6)\n",
        "\n",
        "plt.plot(df_stats['Training Loss'], 'b', label=\"Training\")\n",
        "plt.plot(df_stats['Val Loss'], 'g', label=\"Validation\")\n",
        "plt.title(\"Training & Validation Loss\")\n",
        "plt.xlabel(\"Epoch\")\n",
        "plt.ylabel(\"Loss\")\n",
        "plt.legend()\n",
        "plt.show()\n",
        "\n",
        "plt.plot(df_stats['Val Acc'], 'b', label=\"Accuracy\")\n",
        "plt.title(\"Validation Accuracy\")\n",
        "plt.xlabel(\"Epoch\")\n",
        "plt.ylabel(\"Accuracy\")\n",
        "plt.legend()\n",
        "plt.show()"
      ],
      "execution_count": null,
      "outputs": []
    },
    {
      "cell_type": "code",
      "metadata": {
        "id": "Rb6-XHE3UpcO"
      },
      "source": [
        "test_dataloader = DataLoader(test_dataset,\n",
        "                             sampler = SequentialSampler(test_dataset), \n",
        "                             batch_size = 1)\n",
        "\n",
        "model.eval()\n",
        "test_predictions , true_labels = [], []\n",
        "\n",
        "for batch in test_dataloader:\n",
        "    batch = tuple(t.to(device) for t in batch)\n",
        "    b_input_ids, b_input_mask, b_labels = batch\n",
        "\n",
        "    with torch.no_grad():\n",
        "        outputs = model(b_input_ids, token_type_ids=None, \n",
        "                        attention_mask=b_input_mask)\n",
        "\n",
        "    logits = outputs[0]\n",
        "    label_ids = b_labels.to('cpu').numpy()\n",
        "    test_predictions.append(torch.argmax(logits).item())\n",
        "    true_labels.append(label_ids)\n",
        "\n",
        "accuracy_score(true_labels, test_predictions)"
      ],
      "execution_count": null,
      "outputs": []
    },
    {
      "cell_type": "code",
      "metadata": {
        "id": "NqX7eACSVGLs"
      },
      "source": [
        "from sklearn.metrics import confusion_matrix\n",
        "conf_matrix = confusion_matrix(true_labels, test_predictions)\n",
        "df_cm = pd.DataFrame(conf_matrix, index=[i for i in range(10)], columns=[i for i in range(10)])\n",
        "plt.figure(figsize = (10,7))\n",
        "sns.heatmap(df_cm, annot=True)"
      ],
      "execution_count": null,
      "outputs": []
    },
    {
      "cell_type": "markdown",
      "metadata": {
        "id": "LgrXQBc65F19"
      },
      "source": [
        "## XLM - RoBERTa\n",
        "\n",
        "todo: try ensemble model"
      ]
    },
    {
      "cell_type": "code",
      "metadata": {
        "id": "N6JW2hdhz_mG",
        "colab": {
          "base_uri": "https://localhost:8080/"
        },
        "outputId": "79aa5be5-4bd8-4a49-c610-6659c8f29bc3"
      },
      "source": [
        "!pip install sentencepiece\n",
        "!pip install transformers"
      ],
      "execution_count": null,
      "outputs": [
        {
          "output_type": "stream",
          "text": [
            "Requirement already satisfied: sentencepiece in /usr/local/lib/python3.6/dist-packages (0.1.94)\n",
            "Requirement already satisfied: transformers in /usr/local/lib/python3.6/dist-packages (4.1.1)\n",
            "Requirement already satisfied: filelock in /usr/local/lib/python3.6/dist-packages (from transformers) (3.0.12)\n",
            "Requirement already satisfied: requests in /usr/local/lib/python3.6/dist-packages (from transformers) (2.23.0)\n",
            "Requirement already satisfied: tokenizers==0.9.4 in /usr/local/lib/python3.6/dist-packages (from transformers) (0.9.4)\n",
            "Requirement already satisfied: numpy in /usr/local/lib/python3.6/dist-packages (from transformers) (1.19.4)\n",
            "Requirement already satisfied: packaging in /usr/local/lib/python3.6/dist-packages (from transformers) (20.8)\n",
            "Requirement already satisfied: regex!=2019.12.17 in /usr/local/lib/python3.6/dist-packages (from transformers) (2019.12.20)\n",
            "Requirement already satisfied: sacremoses in /usr/local/lib/python3.6/dist-packages (from transformers) (0.0.43)\n",
            "Requirement already satisfied: dataclasses; python_version < \"3.7\" in /usr/local/lib/python3.6/dist-packages (from transformers) (0.8)\n",
            "Requirement already satisfied: tqdm>=4.27 in /usr/local/lib/python3.6/dist-packages (from transformers) (4.41.1)\n",
            "Requirement already satisfied: idna<3,>=2.5 in /usr/local/lib/python3.6/dist-packages (from requests->transformers) (2.10)\n",
            "Requirement already satisfied: urllib3!=1.25.0,!=1.25.1,<1.26,>=1.21.1 in /usr/local/lib/python3.6/dist-packages (from requests->transformers) (1.24.3)\n",
            "Requirement already satisfied: certifi>=2017.4.17 in /usr/local/lib/python3.6/dist-packages (from requests->transformers) (2020.12.5)\n",
            "Requirement already satisfied: chardet<4,>=3.0.2 in /usr/local/lib/python3.6/dist-packages (from requests->transformers) (3.0.4)\n",
            "Requirement already satisfied: pyparsing>=2.0.2 in /usr/local/lib/python3.6/dist-packages (from packaging->transformers) (2.4.7)\n",
            "Requirement already satisfied: click in /usr/local/lib/python3.6/dist-packages (from sacremoses->transformers) (7.1.2)\n",
            "Requirement already satisfied: six in /usr/local/lib/python3.6/dist-packages (from sacremoses->transformers) (1.15.0)\n",
            "Requirement already satisfied: joblib in /usr/local/lib/python3.6/dist-packages (from sacremoses->transformers) (1.0.0)\n"
          ],
          "name": "stdout"
        }
      ]
    },
    {
      "cell_type": "code",
      "metadata": {
        "id": "I5OGR86W5GQ9"
      },
      "source": [
        "import torch\n",
        "import torch.nn as nn\n",
        "import torch.optim as optim\n",
        "\n",
        "from torch.utils.data import TensorDataset, random_split\n",
        "from torch.utils.data import DataLoader, RandomSampler, SequentialSampler\n",
        "\n",
        "from transformers import XLMRobertaTokenizer, XLMRobertaForSequenceClassification, AdamW\n",
        "from transformers import get_cosine_schedule_with_warmup\n",
        "\n",
        "torch.set_grad_enabled(True)\n",
        "if torch.cuda.is_available(): \n",
        "    device = torch.device('cuda:0')\n",
        "else:\n",
        "    device = torch.device('cpu')\n",
        "\n",
        "MODEL_NAME = 'xlm-roberta-base'\n",
        "VOCABULARY_PATH = 'https://huggingface.co/xlm-roberta-base/resolve/main/sentencepiece.bpe.model'"
      ],
      "execution_count": null,
      "outputs": []
    },
    {
      "cell_type": "code",
      "metadata": {
        "colab": {
          "base_uri": "https://localhost:8080/"
        },
        "id": "TDmaLkc1-9cX",
        "outputId": "d8c49ba3-7e14-47d2-ab6d-233b6abcee7f"
      },
      "source": [
        "df_train = pd.read_csv(f\"/content/train.txt\", \n",
        "                       delimiter=',', names=['sid', 'target', 'text'])\n",
        "df_val = pd.read_csv(f\"/content/vaidation.txt\", \n",
        "                     delimiter=',', names=['sid', 'target', 'text'])\n",
        "\n",
        "df = pd.concat([df_train, df_val])\n",
        "df.index = list(range(3074))\n",
        "df['text'] = df['text'].astype(str)\n",
        "df['target'] = df['target'].map(lambda x: x - 1)\n",
        "print(pd.DataFrame([df['target'].value_counts()]))\n",
        "\n",
        "tokenizer = XLMRobertaTokenizer.from_pretrained(MODEL_NAME,\n",
        "                                                do_lower_case = False)"
      ],
      "execution_count": null,
      "outputs": [
        {
          "output_type": "stream",
          "text": [
            "          6    8    0    7    1    9    3    2    5    4\n",
            "target  455  424  346  317  306  303  297  262  203  161\n"
          ],
          "name": "stdout"
        }
      ]
    },
    {
      "cell_type": "code",
      "metadata": {
        "colab": {
          "base_uri": "https://localhost:8080/"
        },
        "id": "3z3AeQUUCn34",
        "outputId": "d2900983-449e-4799-a6f9-ee3bfa05b3e0"
      },
      "source": [
        "val_df, df = sample_data(df)\n",
        "test_df, df = sample_data(df)\n",
        "\n",
        "input_ids, attention_masks, labels = tokenize_data(tokenizer, df)\n",
        "train_dataset = TensorDataset(input_ids, attention_masks, labels)\n",
        "\n",
        "input_ids, attention_masks, labels = tokenize_data(tokenizer, val_df)\n",
        "val_dataset = TensorDataset(input_ids, attention_masks, labels)\n",
        "\n",
        "input_ids, attention_masks, labels = tokenize_data(tokenizer, test_df)\n",
        "test_dataset = TensorDataset(input_ids, attention_masks, labels)\n",
        "\n",
        "print('Training samples: {}.'.format(len(train_dataset)))\n",
        "print('Validation samples: {}.'.format(len(val_dataset)))\n",
        "print('Test samples: {}.'.format(len(test_dataset)))"
      ],
      "execution_count": null,
      "outputs": [
        {
          "output_type": "stream",
          "text": [
            "Training samples: 2914.\n",
            "Validation samples: 80.\n",
            "Test samples: 80.\n"
          ],
          "name": "stdout"
        }
      ]
    },
    {
      "cell_type": "code",
      "metadata": {
        "id": "7W8CRMbC-E45"
      },
      "source": [
        "batch_size = 64\n",
        "\n",
        "train_dataloader = DataLoader(train_dataset, \n",
        "                              sampler = RandomSampler(train_dataset), \n",
        "                              batch_size = batch_size)\n",
        "\n",
        "validation_dataloader = DataLoader(val_dataset,\n",
        "                                   sampler = SequentialSampler(val_dataset),  \n",
        "                                   batch_size = batch_size)"
      ],
      "execution_count": null,
      "outputs": []
    },
    {
      "cell_type": "code",
      "metadata": {
        "id": "Rqx9WXU2T8d_"
      },
      "source": [
        "model = XLMRobertaForSequenceClassification.from_pretrained(\n",
        "    MODEL_NAME,\n",
        "    num_labels = 10,  \n",
        "    output_attentions = False,\n",
        "    output_hidden_states = False)\n",
        "\n",
        "optimizer = AdamW(model.parameters(), lr = 1e-5)\n",
        "\n",
        "model.cuda()"
      ],
      "execution_count": null,
      "outputs": []
    },
    {
      "cell_type": "code",
      "metadata": {
        "id": "uyqzAagT-E1B"
      },
      "source": [
        "model, training_stats = train_model(model, \n",
        "                                    train_dataloader, validation_dataloader, \n",
        "                                    epochs=35, seed_val=2000, model_name=MODEL_NAME  + '-')"
      ],
      "execution_count": null,
      "outputs": []
    },
    {
      "cell_type": "code",
      "metadata": {
        "id": "eWL7fUskYYfg"
      },
      "source": [
        "model.load_state_dict(torch.load('/content/xlm-roberta-base-0.7421875'))"
      ],
      "execution_count": null,
      "outputs": []
    },
    {
      "cell_type": "code",
      "metadata": {
        "id": "Lh4pz4kAVIwR"
      },
      "source": [
        "pd.set_option('precision', 2)\n",
        "\n",
        "df_stats = pd.DataFrame(data=training_stats)\n",
        "df_stats = df_stats.set_index('epoch')\n",
        "\n",
        "sns.set(style='darkgrid')\n",
        "sns.set(font_scale=1.5)\n",
        "plt.rcParams[\"figure.figsize\"] = (12,6)\n",
        "\n",
        "plt.plot(df_stats['Training Loss'], 'b-', label=\"Training\")\n",
        "plt.plot(df_stats['Val Loss'], 'g-', label=\"Validation\")\n",
        "plt.title(\"Training & Validation Loss\")\n",
        "plt.xlabel(\"Epoch\")\n",
        "plt.ylabel(\"Loss\")\n",
        "plt.legend()\n",
        "plt.show()\n",
        "\n",
        "plt.plot(df_stats['Val Acc'], 'b-', label=\"Accuracy\")\n",
        "plt.title(\"Validation Accuracy\")\n",
        "plt.xlabel(\"Epoch\")\n",
        "plt.ylabel(\"Accuracy\")\n",
        "plt.legend()\n",
        "plt.show()"
      ],
      "execution_count": null,
      "outputs": []
    },
    {
      "cell_type": "code",
      "metadata": {
        "colab": {
          "base_uri": "https://localhost:8080/"
        },
        "id": "mRsnznNiVItO",
        "outputId": "8772e976-48cb-415b-8d9d-c1b725199184"
      },
      "source": [
        "test_dataloader = DataLoader(test_dataset,\n",
        "                             sampler = SequentialSampler(test_dataset), \n",
        "                             batch_size = 1)\n",
        "\n",
        "model.eval()\n",
        "test_predictions , true_labels = [], []\n",
        "\n",
        "for batch in test_dataloader:\n",
        "  batch = tuple(t.to(device) for t in batch)\n",
        "  b_input_ids, b_input_mask, b_labels = batch\n",
        "  \n",
        "  with torch.no_grad():\n",
        "      outputs = model(b_input_ids, token_type_ids=None, \n",
        "                      attention_mask=b_input_mask)\n",
        "\n",
        "  logits = outputs[0]\n",
        "  label_ids = b_labels.to('cpu').numpy()\n",
        "  test_predictions.append(torch.argmax(logits).item())\n",
        "  true_labels.append(label_ids.item())\n",
        "\n",
        "print(accuracy_score(true_labels, test_predictions))"
      ],
      "execution_count": null,
      "outputs": [
        {
          "output_type": "stream",
          "text": [
            "0.825\n"
          ],
          "name": "stdout"
        }
      ]
    },
    {
      "cell_type": "code",
      "metadata": {
        "id": "yQkaYiF9JZ-8",
        "colab": {
          "base_uri": "https://localhost:8080/",
          "height": 463
        },
        "outputId": "ebd4300c-d4e3-4ee6-b4aa-fc498599e3e0"
      },
      "source": [
        "from sklearn.metrics import confusion_matrix\n",
        "conf_matrix = confusion_matrix(true_labels, test_predictions)\n",
        "df_cm = pd.DataFrame(conf_matrix, index=[i for i in range(10)], columns=[i for i in range(10)])\n",
        "plt.figure(figsize = (10,7))\n",
        "sns.heatmap(df_cm, annot=True)"
      ],
      "execution_count": null,
      "outputs": [
        {
          "output_type": "execute_result",
          "data": {
            "text/plain": [
              "<matplotlib.axes._subplots.AxesSubplot at 0x7fc2f0423828>"
            ]
          },
          "metadata": {
            "tags": []
          },
          "execution_count": 20
        },
        {
          "output_type": "display_data",
          "data": {
            "image/png": "[encoded data removed]",
            "text/plain": [
              "<Figure size 720x504 with 2 Axes>"
            ]
          },
          "metadata": {
            "tags": []
          }
        }
      ]
    },
    {
      "cell_type": "markdown",
      "metadata": {
        "id": "I5f5Wwf_XZOW"
      },
      "source": [
        "## XLM - RoBERTa Language Model + Sequence Classification"
      ]
    },
    {
      "cell_type": "code",
      "metadata": {
        "colab": {
          "base_uri": "https://localhost:8080/"
        },
        "id": "IcSJI0zyXgnG",
        "outputId": "3061a114-5216-44cc-c416-91f4a965fd6f"
      },
      "source": [
        "!pip install sentencepiece\n",
        "!pip install transformers"
      ],
      "execution_count": null,
      "outputs": [
        {
          "output_type": "stream",
          "text": [
            "Collecting sentencepiece\n",
            "\u001b[?25l  Downloading https://files.pythonhosted.org/packages/e5/2d/6d4ca4bef9a67070fa1cac508606328329152b1df10bdf31fb6e4e727894/sentencepiece-0.1.94-cp36-cp36m-manylinux2014_x86_64.whl (1.1MB)\n",
            "\u001b[K     |████████████████████████████████| 1.1MB 6.7MB/s \n",
            "\u001b[?25hInstalling collected packages: sentencepiece\n",
            "Successfully installed sentencepiece-0.1.94\n",
            "Collecting transformers\n",
            "\u001b[?25l  Downloading https://files.pythonhosted.org/packages/50/0c/7d5950fcd80b029be0a8891727ba21e0cd27692c407c51261c3c921f6da3/transformers-4.1.1-py3-none-any.whl (1.5MB)\n",
            "\u001b[K     |████████████████████████████████| 1.5MB 6.7MB/s \n",
            "\u001b[?25hRequirement already satisfied: packaging in /usr/local/lib/python3.6/dist-packages (from transformers) (20.8)\n",
            "Requirement already satisfied: tqdm>=4.27 in /usr/local/lib/python3.6/dist-packages (from transformers) (4.41.1)\n",
            "Requirement already satisfied: filelock in /usr/local/lib/python3.6/dist-packages (from transformers) (3.0.12)\n",
            "Collecting sacremoses\n",
            "\u001b[?25l  Downloading https://files.pythonhosted.org/packages/7d/34/09d19aff26edcc8eb2a01bed8e98f13a1537005d31e95233fd48216eed10/sacremoses-0.0.43.tar.gz (883kB)\n",
            "\u001b[K     |████████████████████████████████| 890kB 33.0MB/s \n",
            "\u001b[?25hRequirement already satisfied: dataclasses; python_version < \"3.7\" in /usr/local/lib/python3.6/dist-packages (from transformers) (0.8)\n",
            "Requirement already satisfied: numpy in /usr/local/lib/python3.6/dist-packages (from transformers) (1.19.4)\n",
            "Requirement already satisfied: regex!=2019.12.17 in /usr/local/lib/python3.6/dist-packages (from transformers) (2019.12.20)\n",
            "Requirement already satisfied: requests in /usr/local/lib/python3.6/dist-packages (from transformers) (2.23.0)\n",
            "Collecting tokenizers==0.9.4\n",
            "\u001b[?25l  Downloading https://files.pythonhosted.org/packages/0f/1c/e789a8b12e28be5bc1ce2156cf87cb522b379be9cadc7ad8091a4cc107c4/tokenizers-0.9.4-cp36-cp36m-manylinux2010_x86_64.whl (2.9MB)\n",
            "\u001b[K     |████████████████████████████████| 2.9MB 40.7MB/s \n",
            "\u001b[?25hRequirement already satisfied: pyparsing>=2.0.2 in /usr/local/lib/python3.6/dist-packages (from packaging->transformers) (2.4.7)\n",
            "Requirement already satisfied: six in /usr/local/lib/python3.6/dist-packages (from sacremoses->transformers) (1.15.0)\n",
            "Requirement already satisfied: click in /usr/local/lib/python3.6/dist-packages (from sacremoses->transformers) (7.1.2)\n",
            "Requirement already satisfied: joblib in /usr/local/lib/python3.6/dist-packages (from sacremoses->transformers) (1.0.0)\n",
            "Requirement already satisfied: urllib3!=1.25.0,!=1.25.1,<1.26,>=1.21.1 in /usr/local/lib/python3.6/dist-packages (from requests->transformers) (1.24.3)\n",
            "Requirement already satisfied: chardet<4,>=3.0.2 in /usr/local/lib/python3.6/dist-packages (from requests->transformers) (3.0.4)\n",
            "Requirement already satisfied: idna<3,>=2.5 in /usr/local/lib/python3.6/dist-packages (from requests->transformers) (2.10)\n",
            "Requirement already satisfied: certifi>=2017.4.17 in /usr/local/lib/python3.6/dist-packages (from requests->transformers) (2020.12.5)\n",
            "Building wheels for collected packages: sacremoses\n",
            "  Building wheel for sacremoses (setup.py) ... \u001b[?25l\u001b[?25hdone\n",
            "  Created wheel for sacremoses: filename=sacremoses-0.0.43-cp36-none-any.whl size=893261 sha256=73383f1fdb72f23e181b8c9ac372d0f1f0ec21872a9a0997aa3104004c93318f\n",
            "  Stored in directory: /root/.cache/pip/wheels/29/3c/fd/7ce5c3f0666dab31a50123635e6fb5e19ceb42ce38d4e58f45\n",
            "Successfully built sacremoses\n",
            "Installing collected packages: sacremoses, tokenizers, transformers\n",
            "Successfully installed sacremoses-0.0.43 tokenizers-0.9.4 transformers-4.1.1\n"
          ],
          "name": "stdout"
        }
      ]
    },
    {
      "cell_type": "code",
      "metadata": {
        "id": "ZAvjScULXgbv"
      },
      "source": [
        "import torch\n",
        "import torch.nn as nn\n",
        "import torch.optim as optim\n",
        "\n",
        "from torch.utils.data import TensorDataset, random_split\n",
        "from torch.utils.data import DataLoader, RandomSampler, SequentialSampler\n",
        "\n",
        "from transformers import XLMRobertaForMaskedLM\n",
        "from transformers import XLMRobertaTokenizer, XLMRobertaForSequenceClassification, AdamW\n",
        "from transformers import get_linear_schedule_with_warmup, get_cosine_schedule_with_warmup\n",
        "\n",
        "torch.set_grad_enabled(True)\n",
        "if torch.cuda.is_available(): \n",
        "    device = torch.device('cuda:0')\n",
        "else:\n",
        "    device = torch.device('cpu')\n",
        "\n",
        "MODEL_NAME = 'xlm-roberta-base'\n",
        "VOCABULARY_PATH = 'https://huggingface.co/xlm-roberta-base/resolve/main/sentencepiece.bpe.model'"
      ],
      "execution_count": null,
      "outputs": []
    },
    {
      "cell_type": "code",
      "metadata": {
        "colab": {
          "base_uri": "https://localhost:8080/",
          "referenced_widgets": [
            "171c143529904cc9862af93c8d2df636",
            "d875bc8fb6bf475f973c1bcb9e8bb914",
            "5298c5bb9e46476ca1fec98e41ce285c",
            "b103fa03b20c4c71acd56d0c1b6a4f67",
            "bbf4ef90cae8407bb2a2d7c50ccce385",
            "bf3e53ff7333417db0c92cffa9d4e0b3",
            "6fa96dc913684cc39ca34d6bbadf2676",
            "e975b90c13f042b1abbd779bb99d0218"
          ]
        },
        "id": "nRhgv_MYXgWq",
        "outputId": "4500a333-1e34-4d82-d1cc-4e39b3d2fdff"
      },
      "source": [
        "df_train = pd.read_csv(f\"/content/train.txt\", \n",
        "                       delimiter=',', names=['sid', 'target', 'text'])\n",
        "df_val = pd.read_csv(f\"/content/vaidation.txt\", \n",
        "                     delimiter=',', names=['sid', 'target', 'text'])\n",
        "\n",
        "df = pd.concat([df_train, df_val])\n",
        "df.index = list(range(3074))\n",
        "df['text'] = df['text'].astype(str)\n",
        "df['target'] = df['target'].map(lambda x: x - 1)\n",
        "print(pd.DataFrame([df['target'].value_counts()]))\n",
        "\n",
        "df_lm = pd.DataFrame(columns=['target', 'text'])\n",
        "\n",
        "for row in df.iterrows():\n",
        "    mask_position = random.randint(0, len(row[1]['text'].split()) - 1)\n",
        "    new_text = ' '.join(['<mask>' if word == row[1]['text'].split()[mask_position] else word for word in row[1]['text'].split()])\n",
        "    df_lm = df_lm.append({'target': row[1]['text'], 'text': new_text}, ignore_index=True)\n",
        "\n",
        "tokenizer = XLMRobertaTokenizer.from_pretrained(MODEL_NAME, \n",
        "                                                do_lower_case = False)"
      ],
      "execution_count": null,
      "outputs": [
        {
          "output_type": "stream",
          "text": [
            "          6    8    0    7    1    9    3    2    5    4\n",
            "target  455  424  346  317  306  303  297  262  203  161\n"
          ],
          "name": "stdout"
        },
        {
          "output_type": "display_data",
          "data": {
            "application/vnd.jupyter.widget-view+json": {
              "model_id": "171c143529904cc9862af93c8d2df636",
              "version_minor": 0,
              "version_major": 2
            },
            "text/plain": [
              "HBox(children=(FloatProgress(value=0.0, description='Downloading', max=5069051.0, style=ProgressStyle(descript…"
            ]
          },
          "metadata": {
            "tags": []
          }
        },
        {
          "output_type": "stream",
          "text": [
            "\n"
          ],
          "name": "stdout"
        }
      ]
    },
    {
      "cell_type": "code",
      "metadata": {
        "colab": {
          "base_uri": "https://localhost:8080/"
        },
        "id": "bU9SsgyXjAdi",
        "outputId": "9aa22193-99a5-4b6a-9529-c5831cd871c8"
      },
      "source": [
        "def train_model_lm(model, train_dataloader, validation_dataloader, model_name,\n",
        "                   epochs=10, seed_val=42, num_warmup_steps=0):\n",
        "    training_stats = []\n",
        "\n",
        "    random.seed(seed_val)\n",
        "    np.random.seed(seed_val)\n",
        "    torch.manual_seed(seed_val)\n",
        "    torch.cuda.manual_seed_all(seed_val)\n",
        "\n",
        "    total_steps = len(train_dataloader) * epochs\n",
        "\n",
        "    scheduler = get_cosine_schedule_with_warmup(optimizer, \n",
        "                                                num_warmup_steps = num_warmup_steps,\n",
        "                                                num_training_steps = total_steps)\n",
        "\n",
        "    saved_model_accuracy = -1\n",
        "    saved_model_loss = 1000\n",
        "\n",
        "    cross_entropy_loss = nn.CrossEntropyLoss()\n",
        "\n",
        "    for epoch_i in range(0, epochs):\n",
        "        total_train_loss = 0\n",
        "\n",
        "        model.train()\n",
        "\n",
        "        for step, batch in enumerate(train_dataloader):\n",
        "\n",
        "            b_input_ids = batch[0].to(device)\n",
        "            b_input_mask = batch[1].to(device)\n",
        "            b_labels = batch[2].to(device)\n",
        "\n",
        "            model.zero_grad()        \n",
        "            output = model(b_input_ids, \n",
        "                           token_type_ids=None, \n",
        "                           attention_mask=b_input_mask, \n",
        "                           labels=b_labels)\n",
        "            loss, logits = output.loss, output.logits\n",
        "            # loss = cross_entropy_loss(logits, b_labels)\n",
        "            total_train_loss += loss.item()\n",
        "            loss.backward()\n",
        "\n",
        "            torch.nn.utils.clip_grad_norm_(model.parameters(), 1.0)\n",
        "\n",
        "            optimizer.step()\n",
        "            scheduler.step()\n",
        "\n",
        "        avg_train_loss = total_train_loss / len(train_dataloader)\n",
        "\n",
        "        model.eval()\n",
        "\n",
        "        total_eval_accuracy = 0\n",
        "        total_eval_loss = 0\n",
        "        nb_eval_steps = 0\n",
        "\n",
        "        for batch in validation_dataloader:\n",
        "\n",
        "            b_input_ids = batch[0].to(device)\n",
        "            b_input_mask = batch[1].to(device)\n",
        "            b_labels = batch[2].to(device)\n",
        "            \n",
        "            with torch.no_grad():        \n",
        "\n",
        "                output = model(b_input_ids, \n",
        "                               token_type_ids=None, \n",
        "                               attention_mask=b_input_mask,\n",
        "                               labels=b_labels)\n",
        "                loss, logits = output.loss, output.logits\n",
        "                # loss = cross_entropy_loss(logits, b_labels)\n",
        "                \n",
        "            total_eval_loss += loss.item()\n",
        "\n",
        "            logits = logits.detach().cpu().numpy()\n",
        "            label_ids = b_labels.to('cpu').numpy()\n",
        "\n",
        "            total_eval_accuracy += compute_accuracy(logits, label_ids)\n",
        "            \n",
        "        avg_val_accuracy = total_eval_accuracy / len(validation_dataloader)\n",
        "        avg_val_loss = total_eval_loss / len(validation_dataloader)\n",
        "        \n",
        "        print(\"Epoch {} / {}: Average training loss: {:.4f}, Validation Acc: {:.4f}, Validation Loss: {:.4f}.\".\n",
        "            format(epoch_i + 1, epochs, avg_train_loss, avg_val_accuracy, avg_val_loss))\n",
        "        \n",
        "        if saved_model_loss > (avg_val_loss - 0.001):\n",
        "            fileList = glob.glob('/content/' + model_name + '*')\n",
        "            if len(fileList) != 0:\n",
        "                os.remove(fileList[0])\n",
        "            torch.save(model.state_dict(), '/content/' + model_name + str(avg_val_accuracy))\n",
        "            saved_model_accuracy = avg_val_accuracy\n",
        "            saved_model_loss = avg_val_loss\n",
        "        \n",
        "        training_stats.append({'epoch': epoch_i + 1, 'Training Loss': avg_train_loss,\n",
        "                               'Val Loss': avg_val_loss, 'Val Acc': avg_val_accuracy})\n",
        "        \n",
        "    return model, training_stats\n",
        "\n",
        "def tokenize_data_lm(tokenizer, df):\n",
        "    input_ids = []\n",
        "    attention_masks = []\n",
        "    labels = []\n",
        "    indexed_tokens = []\n",
        "\n",
        "    for index, row in df.iterrows():\n",
        "        encoded_dict = tokenizer.encode_plus(row['text'], \n",
        "                                             add_special_tokens = True, \n",
        "                                             max_length = 128,\n",
        "                                             padding = 'max_length',\n",
        "                                             truncation=True,\n",
        "                                             return_attention_mask = True,\n",
        "                                             return_tensors = 'pt')\n",
        "        label = tokenizer.encode_plus(row['target'], \n",
        "                                      add_special_tokens = True, \n",
        "                                      max_length = 128,\n",
        "                                      padding = 'max_length',\n",
        "                                      truncation=True,\n",
        "                                      return_attention_mask = True,\n",
        "                                      return_tensors = 'pt')['input_ids']\n",
        "        \n",
        "        input_ids.append(encoded_dict['input_ids']) \n",
        "        attention_masks.append(encoded_dict['attention_mask'])\n",
        "        labels.append(torch.tensor(label))\n",
        "\n",
        "    input_ids = torch.cat(input_ids, dim=0)\n",
        "    attention_masks = torch.cat(attention_masks, dim=0)\n",
        "    labels = torch.cat(labels, dim=0)\n",
        "\n",
        "    return input_ids, attention_masks, labels\n",
        "\n",
        "input_ids, attention_masks, labels = tokenize_data_lm(tokenizer, df_lm)"
      ],
      "execution_count": null,
      "outputs": [
        {
          "output_type": "stream",
          "text": [
            "/usr/local/lib/python3.6/dist-packages/ipykernel_launcher.py:120: UserWarning: To copy construct from a tensor, it is recommended to use sourceTensor.clone().detach() or sourceTensor.clone().detach().requires_grad_(True), rather than torch.tensor(sourceTensor).\n"
          ],
          "name": "stderr"
        }
      ]
    },
    {
      "cell_type": "code",
      "metadata": {
        "id": "bBWb2zeZlJjV"
      },
      "source": [
        "tokenizer = XLMRobertaTokenizer.from_pretrained(MODEL_NAME, \n",
        "                                                do_lower_case = False)\n",
        "model = XLMRobertaForMaskedLM.from_pretrained(MODEL_NAME)\n",
        "model.cuda()\n",
        "\n",
        "\n",
        "inputs = tokenizer(df_lm['text'][10], add_special_tokens = True, \n",
        "                   max_length = 128, padding = 'max_length',\n",
        "                   truncation=True, return_attention_mask = True,\n",
        "                   return_tensors = 'pt')\n",
        "labels = tokenizer(df_lm['target'][10], add_special_tokens = True, \n",
        "                   max_length = 128, padding = 'max_length',\n",
        "                   truncation=True, return_attention_mask = True,\n",
        "                   return_tensors = 'pt')['input_ids']\n",
        "\n",
        "inputs.to(device)\n",
        "labels.to(device)\n",
        "\n",
        "outputs = model(**inputs, labels=labels)"
      ],
      "execution_count": null,
      "outputs": []
    },
    {
      "cell_type": "code",
      "metadata": {
        "id": "p25WAXIk6ilb"
      },
      "source": [
        "outputs"
      ],
      "execution_count": null,
      "outputs": []
    },
    {
      "cell_type": "code",
      "metadata": {
        "colab": {
          "base_uri": "https://localhost:8080/"
        },
        "id": "lM-Lg-gUh-yz",
        "outputId": "9ab18f48-0f3e-485f-a17b-3679c877ec0c"
      },
      "source": [
        "dataset = TensorDataset(input_ids, attention_masks, labels)\n",
        "\n",
        "train_size = int(0.97 * len(dataset))\n",
        "test_size = len(dataset) - train_size\n",
        "\n",
        "train_dataset, test_dataset = random_split(dataset, [train_size, test_size])\n",
        "\n",
        "train_size = int(0.97 * len(train_dataset))\n",
        "val_size = len(train_dataset) - train_size\n",
        "\n",
        "train_dataset, val_dataset = random_split(train_dataset, [train_size, val_size])\n",
        "\n",
        "print('{:>5,} training samples'.format(train_size))\n",
        "print('{:>5,} validation samples'.format(val_size))\n",
        "print('{:>5,} test samples'.format(test_size))"
      ],
      "execution_count": null,
      "outputs": [
        {
          "output_type": "stream",
          "text": [
            "2,891 training samples\n",
            "   90 validation samples\n",
            "   93 test samples\n"
          ],
          "name": "stdout"
        }
      ]
    },
    {
      "cell_type": "code",
      "metadata": {
        "id": "ng3C_TadXgN3"
      },
      "source": [
        "batch_size =  1\n",
        "\n",
        "train_dataloader = DataLoader(train_dataset, \n",
        "                              sampler = RandomSampler(train_dataset), \n",
        "                              batch_size = batch_size)\n",
        "\n",
        "validation_dataloader = DataLoader(val_dataset,\n",
        "                                   sampler = SequentialSampler(val_dataset),  \n",
        "                                   batch_size = batch_size)"
      ],
      "execution_count": null,
      "outputs": []
    },
    {
      "cell_type": "code",
      "metadata": {
        "id": "AATurSEFXgLR"
      },
      "source": [
        "model = XLMRobertaForMaskedLM.from_pretrained(MODEL_NAME)\n",
        "\n",
        "optimizer = AdamW(model.parameters(), lr = 1e-5)\n",
        "\n",
        "model.cuda()"
      ],
      "execution_count": null,
      "outputs": []
    },
    {
      "cell_type": "code",
      "metadata": {
        "id": "bNC89qp-XgIY"
      },
      "source": [
        "model, training_stats = train_model_lm(model, \n",
        "                                       train_dataloader, validation_dataloader, \n",
        "                                       epochs=10, seed_val=14, model_name=MODEL_NAME+'-lm-')"
      ],
      "execution_count": null,
      "outputs": []
    },
    {
      "cell_type": "code",
      "metadata": {
        "id": "Rd86tl0NXvi9"
      },
      "source": [
        "pd.set_option('precision', 2)\n",
        "\n",
        "df_stats = pd.DataFrame(data=training_stats)\n",
        "df_stats = df_stats.set_index('epoch')\n",
        "\n",
        "sns.set(style='darkgrid')\n",
        "sns.set(font_scale=1.5)\n",
        "plt.rcParams[\"figure.figsize\"] = (12,6)\n",
        "\n",
        "plt.plot(df_stats['Training Loss'], 'b-', label=\"Training\")\n",
        "plt.plot(df_stats['Val Loss'], 'g-', label=\"Validation\")\n",
        "plt.title(\"Training & Validation Loss\")\n",
        "plt.xlabel(\"Epoch\")\n",
        "plt.ylabel(\"Loss\")\n",
        "plt.legend()\n",
        "plt.show()\n",
        "\n",
        "plt.plot(df_stats['Val Acc'], 'b-', label=\"Accuracy\")\n",
        "plt.title(\"Validation Accuracy\")\n",
        "plt.xlabel(\"Epoch\")\n",
        "plt.ylabel(\"Accuracy\")\n",
        "plt.legend()\n",
        "plt.show()"
      ],
      "execution_count": null,
      "outputs": []
    },
    {
      "cell_type": "code",
      "metadata": {
        "id": "3t07CmI9XvbY"
      },
      "source": [
        "test_dataloader = DataLoader(test_dataset,\n",
        "                             sampler = SequentialSampler(test_dataset), \n",
        "                             batch_size = 1)\n",
        "\n",
        "model.eval()\n",
        "test_predictions , true_labels = [], []\n",
        "\n",
        "for batch in test_dataloader:\n",
        "  batch = tuple(t.to(device) for t in batch)\n",
        "  b_input_ids, b_input_mask, b_labels = batch\n",
        "  \n",
        "  with torch.no_grad():\n",
        "      outputs = model(b_input_ids, token_type_ids=None, \n",
        "                      attention_mask=b_input_mask)\n",
        "\n",
        "  logits = outputs[0]\n",
        "  label_ids = b_labels.to('cpu').numpy()\n",
        "  test_predictions.append(torch.argmax(logits).item())\n",
        "  true_labels.append(label_ids.item())\n",
        "\n",
        "print(accuracy_score(true_labels, test_predictions))"
      ],
      "execution_count": null,
      "outputs": []
    },
    {
      "cell_type": "markdown",
      "metadata": {
        "id": "xj8DdVEhVQ3r"
      },
      "source": [
        "## Save results to txt"
      ]
    },
    {
      "cell_type": "code",
      "metadata": {
        "colab": {
          "base_uri": "https://localhost:8080/"
        },
        "id": "BpBeBlGLeRsD",
        "outputId": "436b79b5-49bf-4b73-867b-45b97a7e2aaa"
      },
      "source": [
        "df_test = pd.read_csv(f\"/content/test.txt\", \n",
        "                      delimiter=',', names=['sid', 'text'])\n",
        "\n",
        "df_test['text'] = df_test['text'].astype(str)\n",
        "\n",
        "test_sid = []\n",
        "test_input_ids = []\n",
        "test_attention_masks = []\n",
        "\n",
        "for index, row in df_test.iterrows():\n",
        "    encoded_dict = tokenizer.encode_plus(\n",
        "                        row['text'], \n",
        "                        add_special_tokens = True, \n",
        "                        max_length = 128, #256, 512\n",
        "                        pad_to_max_length = True,\n",
        "                        return_attention_mask = True,\n",
        "                        return_tensors = 'pt')\n",
        "    test_sid.append(row['sid'])\n",
        "    test_input_ids.append(encoded_dict['input_ids'])    \n",
        "    test_attention_masks.append(encoded_dict['attention_mask'])\n",
        "\n",
        "test_sid = torch.Tensor(test_sid)\n",
        "test_input_ids = torch.cat(test_input_ids, dim=0)\n",
        "test_attention_masks = torch.cat(test_attention_masks, dim=0)\n",
        "\n",
        "prediction_data = TensorDataset(test_sid, test_input_ids, test_attention_masks)\n",
        "prediction_sampler = SequentialSampler(prediction_data)\n",
        "prediction_dataloader = DataLoader(prediction_data, \n",
        "                                   sampler=prediction_sampler, \n",
        "                                   batch_size=1)\n",
        "\n",
        "model.eval()\n",
        "predictions = []\n",
        "\n",
        "for batch in prediction_dataloader:\n",
        "    batch = tuple(t.to(device) for t in batch)\n",
        "    b_sid, b_input_ids, b_input_mask = batch\n",
        "  \n",
        "    with torch.no_grad():\n",
        "        outputs = model(b_input_ids, token_type_ids=None, \n",
        "                        attention_mask=b_input_mask)\n",
        "\n",
        "    logits = outputs[0]\n",
        "    predictions.append((int(b_sid.item()), torch.argmax(logits).item() + 1))"
      ],
      "execution_count": null,
      "outputs": [
        {
          "output_type": "stream",
          "text": [
            "Truncation was not explicitly activated but `max_length` is provided a specific value, please use `truncation=True` to explicitly truncate examples to max length. Defaulting to 'longest_first' truncation strategy. If you encode pairs of sequences (GLUE-style) with the tokenizer you can select this strategy more precisely by providing a specific strategy to `truncation`.\n",
            "/usr/local/lib/python3.6/dist-packages/transformers/tokenization_utils_base.py:2179: FutureWarning: The `pad_to_max_length` argument is deprecated and will be removed in a future version, use `padding=True` or `padding='longest'` to pad to the longest sequence in the batch, or use `padding='max_length'` to pad to a max length. In this case, you can give a specific length with `max_length` (e.g. `max_length=45`) or leave max_length to None to pad to the maximal input size of the model (e.g. 512 for Bert).\n",
            "  FutureWarning,\n"
          ],
          "name": "stderr"
        }
      ]
    },
    {
      "cell_type": "code",
      "metadata": {
        "id": "Tk2ygQ-4TmCI"
      },
      "source": [
        "f = open('nlp_submission_roberta_10.txt', 'w')\n",
        "f.write('id,label')\n",
        "f.write('\\n')\n",
        "\n",
        "for sid, predicted_label in predictions:\n",
        "    f.write(str(sid) + ',' + str(predicted_label))\n",
        "    f.write('\\n')\n",
        "\n",
        "f.close()"
      ],
      "execution_count": null,
      "outputs": []
    }
  ]
}