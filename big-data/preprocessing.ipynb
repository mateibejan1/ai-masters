{
  "nbformat": 4,
  "nbformat_minor": 0,
  "metadata": {
    "kernelspec": {
      "display_name": "Python 3",
      "language": "python",
      "name": "python3"
    },
    "language_info": {
      "codemirror_mode": {
        "name": "ipython",
        "version": 3
      },
      "file_extension": ".py",
      "mimetype": "text/x-python",
      "name": "python",
      "nbconvert_exporter": "python",
      "pygments_lexer": "ipython3",
      "version": "3.7.7"
    },
    "colab": {
      "name": "big data project.ipynb",
      "provenance": [],
      "collapsed_sections": [
        "okDsKESdx-uf",
        "8A2D9bfyyBvv",
        "NJ_jzwn4r8HZ",
        "Zfw6sFYSFreb",
        "RYNK9qQhx1jQ",
        "zabdaW4LFuzi",
        "NcJ_V38fr8Hi",
        "7HEOeTSVxdrI",
        "v0geFAlIxiai",
        "nD07t3jdxhCY"
      ],
      "machine_shape": "hm"
    }
  },
  "cells": [
    {
      "cell_type": "code",
      "metadata": {
        "id": "fI0V2k2Vr9Cj",
        "colab_type": "code",
        "outputId": "f466c17c-e9ed-4f50-dfd7-cc5ef8575072",
        "colab": {
          "base_uri": "https://localhost:8080/",
          "height": 34
        }
      },
      "source": [
        "from google.colab import drive\n",
        "drive.mount('/content/gdrive')  "
      ],
      "execution_count": 100,
      "outputs": [
        {
          "output_type": "stream",
          "text": [
            "Drive already mounted at /content/gdrive; to attempt to forcibly remount, call drive.mount(\"/content/gdrive\", force_remount=True).\n"
          ],
          "name": "stdout"
        }
      ]
    },
    {
      "cell_type": "code",
      "metadata": {
        "id": "KDfrlpzAr8F-",
        "colab_type": "code",
        "colab": {}
      },
      "source": [
        "import sys\n",
        "import pandas as pd\n",
        "import numpy as np\n",
        "from sklearn.model_selection import train_test_split, ShuffleSplit\n",
        "from sklearn.impute import SimpleImputer\n",
        "from sklearn.preprocessing import normalize, StandardScaler\n",
        "from fancyimpute import SoftImpute, BiScaler, KNN"
      ],
      "execution_count": 0,
      "outputs": []
    },
    {
      "cell_type": "code",
      "metadata": {
        "id": "21Da6j9qrNWG",
        "colab_type": "code",
        "colab": {}
      },
      "source": [
        "def drop_rows_with_full_nan(x_train_t, y_train):\n",
        "  to_drop = []\n",
        "\n",
        "  for idx, elem in list(zip(list(x_train_t.isna().sum(axis = 1).index), x_train_t.isna().sum(axis = 1))):\n",
        "    if elem == x_train_t.shape[1] - 12:\n",
        "      to_drop.append(idx)\n",
        "\n",
        "  return x_train_t.drop(to_drop), y_train.drop(to_drop)\n",
        "\n",
        "def engineer_features(data, start, end, drop = False):\n",
        "  for i in range(start, end):\n",
        "    prefix = 't' + str(i) + '_'\n",
        "    gross_margin = np.where(data[prefix + 'cifra_de_afaceri_neta'] == 0, 0,\n",
        "                            data[prefix + 'profit_brut'] / data[prefix + 'cifra_de_afaceri_neta'])\n",
        "    data[prefix + \"gross_margin\"] = gross_margin\n",
        "\n",
        "    profit_margin = np.where(data[prefix + 'cifra_de_afaceri_neta'] == 0, 0,\n",
        "                                  data[prefix + 'profit_net'] / data[prefix + 'cifra_de_afaceri_neta'])\n",
        "    data[prefix + \"profit_margin\"] = profit_margin\n",
        "\n",
        "    total_assets = data[prefix + 'active_imobilizate'] + data[prefix + 'active_circulante']\n",
        "    data[prefix + \"total_assets\"] = total_assets\n",
        "\n",
        "    return_on_assets = np.where(data[prefix + 'total_assets'] == 0, 0,\n",
        "                                data[prefix + 'profit_net'] / data[prefix + 'total_assets'])\n",
        "    data[prefix + \"return_on_assets\"] = return_on_assets\n",
        "\n",
        "    debt_ratio = np.where(data[prefix + 'total_assets'] == 0, 0,\n",
        "                          data[prefix + 'datorii'] / data[prefix + 'total_assets'])\n",
        "    data[prefix + \"debt_ratio\"] = debt_ratio\n",
        "\n",
        "    return_on_net_assets = np.where(data[prefix + 'active_imobilizate'] == 0, 0,\n",
        "                                    np.where(prefix + 'capital_social' == 0, 0, \n",
        "                                             data[prefix + 'profit_net'] / (data[prefix + 'active_imobilizate'] + data[prefix + 'capital_social'])))\n",
        "    data[prefix + \"return_on_net_assets\"] = return_on_net_assets\n",
        "\n",
        "    lichiditate_curenta = np.where(data[prefix + 'datorii'] == 0, 0,\n",
        "                                  data[prefix + 'active_circulante'] / data[prefix + 'datorii'])\n",
        "    data[prefix + 'lichiditate_curenta'] = lichiditate_curenta\n",
        "\n",
        "    lichiditate_imediata = np.where(data[prefix + 'datorii'] == 0, 0,\n",
        "                                    (data[prefix + 'active_circulante'] - data[prefix + 'stocuri']) / data[prefix + 'datorii'])\n",
        "    data[prefix + 'lichiditate_imediata'] = lichiditate_imediata\n",
        "\n",
        "    rentabilitate_economica = np.where(data[prefix + 'active_circulante'] == 0, 0,\n",
        "                                       np.where(data[prefix + 'active_imobilizate'] == 0, 0, \n",
        "                                                data[prefix + 'profit_net'] * 100 / (data[prefix + 'active_circulante'] + data[prefix + 'active_imobilizate'])))\n",
        "    data[prefix + 'rentabilitate_economica'] = rentabilitate_economica\n",
        "\n",
        "    asset_turnover = np.where(data[prefix + 'total_assets'] == 0, 0, \n",
        "                              data[prefix + 'venituri_total'] / data[prefix + 'total_assets'])\n",
        "    data[prefix + 'asset_turnover'] = asset_turnover\n",
        "\n",
        "    if drop:\n",
        "      continue\n",
        "\n",
        "    return data"
      ],
      "execution_count": 0,
      "outputs": []
    },
    {
      "cell_type": "code",
      "metadata": {
        "id": "godVYfhnr8GN",
        "colab_type": "code",
        "outputId": "802a3f33-9557-4328-9c01-182b2c84dcd1",
        "colab": {
          "base_uri": "https://localhost:8080/",
          "height": 72
        }
      },
      "source": [
        "firme = pd.read_csv('/content/gdrive/My Drive/Firme.csv')\n",
        "firmeii = pd.read_csv('/content/gdrive/My Drive/FirmeInInsolventa.csv')\n",
        "\n",
        "t0_cols = [col for col in firme.columns if 't0' in col]\n",
        "t4_cols = [col for col in firme.columns if 't4' in col]"
      ],
      "execution_count": 103,
      "outputs": [
        {
          "output_type": "stream",
          "text": [
            "/usr/local/lib/python3.6/dist-packages/IPython/core/interactiveshell.py:2718: DtypeWarning: Columns (33,56) have mixed types.Specify dtype option on import or set low_memory=False.\n",
            "  interactivity=interactivity, compiler=compiler, result=result)\n"
          ],
          "name": "stderr"
        }
      ]
    },
    {
      "cell_type": "code",
      "metadata": {
        "id": "r151hwP6r8Gb",
        "colab_type": "code",
        "colab": {}
      },
      "source": [
        "firme = firme.replace(to_replace = '-', value = np.nan)\n",
        "firmeii = firmeii.replace(to_replace = '-', value = np.nan)"
      ],
      "execution_count": 0,
      "outputs": []
    },
    {
      "cell_type": "markdown",
      "metadata": {
        "id": "-krpGHW-qMNl",
        "colab_type": "text"
      },
      "source": [
        "### Fill NaN with mode for categorical features"
      ]
    },
    {
      "cell_type": "code",
      "metadata": {
        "id": "LWOB9m-ovdxd",
        "colab_type": "code",
        "colab": {}
      },
      "source": [
        "for i in range(1, 5):\n",
        "    prefix = 't' + str(i) + '_'\n",
        "    for col in ['an', 'cod_caen', 'tip_activitate']:\n",
        "      firme[prefix + col].fillna(firme[prefix + col].mode()[0], inplace = True)\n",
        "      firmeii[prefix + col].fillna(firmeii[prefix + col].mode()[0], inplace = True)\n",
        "\n",
        "firme['t0_an'].fillna(firme['t0_an'].mode()[0], inplace = True)\n",
        "firme['t0_cod_caen'].fillna(firme['t0_cod_caen'].mode()[0], inplace = True)\n",
        "firme['t0_tip_activitate'].fillna(firme['t0_tip_activitate'].mode()[0], inplace = True)"
      ],
      "execution_count": 0,
      "outputs": []
    },
    {
      "cell_type": "markdown",
      "metadata": {
        "id": "HeLMTL1wqQlc",
        "colab_type": "text"
      },
      "source": [
        "### Map string type categorical columns to numerical values"
      ]
    },
    {
      "cell_type": "code",
      "metadata": {
        "id": "UJ_4t8xer8Gl",
        "colab_type": "code",
        "colab": {}
      },
      "source": [
        "acts = list(set(list(firme['t0_tip_activitate']) + list(firme['t1_tip_activitate']) +\\\n",
        "                list(firme['t2_tip_activitate'])+ list(firme['t3_tip_activitate']) +\\\n",
        "                list(firme['t4_tip_activitate']) + list(firmeii['t1_tip_activitate']) +\\\n",
        "                list(firmeii['t2_tip_activitate']) + list(firmeii['t3_tip_activitate']) +\\\n",
        "                list(firmeii['t4_tip_activitate'])))\n",
        "\n",
        "actmap = {}\n",
        "i = 0\n",
        "for act in acts:\n",
        "    if act not in actmap:\n",
        "        actmap[act] = i\n",
        "        i += 1\n",
        "        \n",
        "firme['t0_tip_activitate'] = firme['t0_tip_activitate'].map(actmap)\n",
        "firme['t1_tip_activitate'] = firme['t1_tip_activitate'].map(actmap)\n",
        "firme['t2_tip_activitate'] = firme['t2_tip_activitate'].map(actmap)\n",
        "firme['t3_tip_activitate'] = firme['t3_tip_activitate'].map(actmap)\n",
        "firme['t4_tip_activitate'] = firme['t4_tip_activitate'].map(actmap)\n",
        "\n",
        "firmeii['t1_tip_activitate'] = firmeii['t1_tip_activitate'].map(actmap)\n",
        "firmeii['t2_tip_activitate'] = firmeii['t2_tip_activitate'].map(actmap)\n",
        "firmeii['t3_tip_activitate'] = firmeii['t3_tip_activitate'].map(actmap)\n",
        "firmeii['t4_tip_activitate'] = firmeii['t4_tip_activitate'].map(actmap)"
      ],
      "execution_count": 0,
      "outputs": []
    },
    {
      "cell_type": "markdown",
      "metadata": {
        "id": "DK2UOsC6r8Gt",
        "colab_type": "text"
      },
      "source": [
        "### Apply a 60-30-10 train-val-test split and remove columns with a NaN count higher than 50%"
      ]
    },
    {
      "cell_type": "code",
      "metadata": {
        "id": "VVh7RN9ar8Gv",
        "colab_type": "code",
        "colab": {}
      },
      "source": [
        "insolventa = np.zeros(firme.shape[0])\n",
        "insolventa_ii = np.ones(firmeii.shape[0])\n",
        "firme['insolventa'] = insolventa\n",
        "\n",
        "X, y = firme[list(firme.columns)[:-1]], firme['insolventa']\n",
        "x_train, x_test, y_train, y_test = train_test_split(X, y, test_size = .1, shuffle = False)\n",
        "x_test = x_test.drop(t4_cols, axis = 1)\n",
        "x_train = pd.concat([x_train.drop(t0_cols, axis = 1), firmeii])\n",
        "y_train = pd.concat([y_train, pd.Series(insolventa_ii)])\n",
        "\n",
        "percent_missing = x_train.isnull().sum() * 100 / len(x_train)\n",
        "missing_value_df = pd.DataFrame({'column_name': x_train.columns,\n",
        "                                 'percent_missing': percent_missing})\n",
        "\n",
        "x_train = x_train.drop(list(missing_value_df[missing_value_df['percent_missing'] > 50]['column_name']), axis = 1)\n",
        "\n",
        "percent_missing = x_test.isnull().sum() * 100 / len(x_test)\n",
        "missing_value_df = pd.DataFrame({'column_name': x_test.columns,\n",
        "                                 'percent_missing': percent_missing})\n",
        "\n",
        "x_test = x_test.drop(list(missing_value_df[missing_value_df['percent_missing'] > 50]['column_name']), axis = 1)\n",
        "\n",
        "ss = ShuffleSplit(n_splits = 1, test_size = .4)\n",
        "elem = [(list(i), list(j)) for i, j in ss.split(x_train, y_train)][0]\n",
        "x_val = x_train[x_train.index.isin(elem[1])]\n",
        "y_val = y_train[y_train.index.isin(elem[1])]\n",
        "x_trian = x_train[x_train.index.isin(elem[0])]\n",
        "y_val = y_train[y_train.index.isin(elem[1])]\n",
        "\n",
        "x_train_init, y_train_init, x_val_init, y_val_init, x_test_init, y_test_init = x_train.copy(), y_train.copy(), x_val.copy(), y_val.copy(), x_test.copy(), y_test.copy()"
      ],
      "execution_count": 0,
      "outputs": []
    },
    {
      "cell_type": "code",
      "metadata": {
        "id": "Gjf-Z73-5ajJ",
        "colab_type": "code",
        "colab": {}
      },
      "source": [
        "y_train.to_csv('/content/gdrive/My Drive/An 1 Masters/Big Data/project data/y_train.csv', index = False)\n",
        "y_val.to_csv('/content/gdrive/My Drive/An 1 Masters/Big Data/project data/y_val.csv', index = False)\n",
        "y_test.to_csv('/content/gdrive/My Drive/An 1 Masters/Big Data/project data/y_test.csv', index = False)"
      ],
      "execution_count": 0,
      "outputs": []
    },
    {
      "cell_type": "markdown",
      "metadata": {
        "id": "Yh6rrFi7r8HQ",
        "colab_type": "text"
      },
      "source": [
        "## Impute and standardize/normalize data"
      ]
    },
    {
      "cell_type": "markdown",
      "metadata": {
        "id": "gK2Px6LykT86",
        "colab_type": "text"
      },
      "source": [
        "### Mean imputation"
      ]
    },
    {
      "cell_type": "code",
      "metadata": {
        "id": "NkoD68eLtWXH",
        "colab_type": "code",
        "colab": {}
      },
      "source": [
        "x_train, y_train, x_val, y_val, x_test, y_test = x_train_init.copy(), y_train_init.copy(), x_val_init.copy(), y_val_init.copy(), x_test_init.copy(), y_test_init.copy()"
      ],
      "execution_count": 0,
      "outputs": []
    },
    {
      "cell_type": "markdown",
      "metadata": {
        "id": "0pPpb2BGyHdB",
        "colab_type": "text"
      },
      "source": [
        "#### Train data"
      ]
    },
    {
      "cell_type": "code",
      "metadata": {
        "id": "bqGE8DWxlQ5y",
        "colab_type": "code",
        "colab": {}
      },
      "source": [
        "t1_an, t2_an, t3_an, t4_an = x_train['t1_an'], x_train['t2_an'], x_train['t3_an'], x_train['t4_an']\n",
        "t1_tip_activitate, t2_tip_activitate, t3_tip_activitate, t4_tip_activitate = x_train['t1_tip_activitate'], x_train['t2_tip_activitate'], \\\n",
        "                                                                              x_train['t3_tip_activitate'], x_train['t4_tip_activitate'], \n",
        "t1_cod_caen, t2_cod_caen, t3_cod_caen, t4_cod_caen = x_train['t1_cod_caen'], x_train['t2_cod_caen'], x_train['t3_cod_caen'], x_train['t4_cod_caen']\n",
        "\n",
        "t4_an = t4_an.reset_index().drop(columns = ['index'])\n",
        "t1_an = t1_an.reset_index().drop(columns = ['index'])\n",
        "t2_an = t2_an.reset_index().drop(columns = ['index'])\n",
        "t3_an = t3_an.reset_index().drop(columns = ['index'])\n",
        "\n",
        "t4_tip_activitate = t4_tip_activitate.reset_index().drop(columns = ['index'])\n",
        "t1_tip_activitate = t1_tip_activitate.reset_index().drop(columns = ['index'])\n",
        "t2_tip_activitate = t2_tip_activitate.reset_index().drop(columns = ['index'])\n",
        "t3_tip_activitate = t3_tip_activitate.reset_index().drop(columns = ['index'])\n",
        "\n",
        "t4_cod_caen = t4_cod_caen.reset_index().drop(columns = ['index'])\n",
        "t1_cod_caen = t1_cod_caen.reset_index().drop(columns = ['index'])\n",
        "t2_cod_caen = t2_cod_caen.reset_index().drop(columns = ['index'])\n",
        "t3_cod_caen = t3_cod_caen.reset_index().drop(columns = ['index']) \n",
        "\n",
        "x_train = x_train.drop(columns = ['t1_an', 't1_cod_caen', 't1_tip_activitate', \n",
        "                                  't2_an', 't2_cod_caen', 't2_tip_activitate', \n",
        "                                  't3_an', 't3_cod_caen', 't3_tip_activitate',\n",
        "                                  't4_an', 't4_cod_caen', 't4_tip_activitate'])\n",
        "\n",
        "imputer = SimpleImputer(missing_values = np.nan, strategy = 'mean')\n",
        "x_train_mean = pd.DataFrame(data = imputer.fit_transform(x_train), columns = x_train.columns)"
      ],
      "execution_count": 0,
      "outputs": []
    },
    {
      "cell_type": "code",
      "metadata": {
        "id": "jvRs_Pslr8HR",
        "colab_type": "code",
        "colab": {}
      },
      "source": [
        "scaler = StandardScaler()\n",
        "x_train_mean_scaled = pd.DataFrame(data = scaler.fit_transform(x_train_mean), columns = x_train_mean.columns)\n",
        "\n",
        "x_train_mean_scaled['t1_an'] = t1_an.to_numpy()\n",
        "x_train_mean_scaled['t2_an'] = t2_an.to_numpy()\n",
        "x_train_mean_scaled['t3_an'] = t3_an.to_numpy()\n",
        "x_train_mean_scaled['t4_an'] = t4_an.to_numpy()\n",
        "\n",
        "x_train_mean_scaled['t1_tip_activitate'] = t1_tip_activitate.to_numpy()\n",
        "x_train_mean_scaled['t2_tip_activitate'] = t2_tip_activitate.to_numpy()\n",
        "x_train_mean_scaled['t3_tip_activitate'] = t3_tip_activitate.to_numpy()\n",
        "x_train_mean_scaled['t4_tip_activitate'] = t4_tip_activitate.to_numpy()\n",
        "\n",
        "x_train_mean_scaled['t1_cod_caen'] = t1_cod_caen.to_numpy()\n",
        "x_train_mean_scaled['t2_cod_caen'] = t2_cod_caen.to_numpy()\n",
        "x_train_mean_scaled['t3_cod_caen'] = t3_cod_caen.to_numpy()\n",
        "x_train_mean_scaled['t4_cod_caen'] = t4_cod_caen.to_numpy()\n",
        "\n",
        "x_train_mean_scaled_fe = engineer_features(x_train_mean_scaled, 1, 5)\n",
        "x_train_mean_scaled_fe = x_train_mean_scaled_fe.replace([np.inf], sys.maxsize)\n",
        "x_train_mean_scaled_fe = x_train_mean_scaled_fe.replace([-np.inf], -sys.maxsize-1)\n",
        "x_train_mean_scaled_fe.to_csv('/content/gdrive/My Drive/An 1 Masters/Big Data/project data/x_train_mean_scaled_fe.csv', index = False)"
      ],
      "execution_count": 0,
      "outputs": []
    },
    {
      "cell_type": "code",
      "metadata": {
        "id": "NgHMHI8glqrc",
        "colab_type": "code",
        "colab": {}
      },
      "source": [
        "x_train_mean_normalized = pd.DataFrame(data = normalize(x_train_mean), columns = x_train.columns)\n",
        "\n",
        "x_train_mean_normalized['t1_an'] = t1_an.to_numpy()\n",
        "x_train_mean_normalized['t2_an'] = t2_an.to_numpy()\n",
        "x_train_mean_normalized['t3_an'] = t3_an.to_numpy()\n",
        "x_train_mean_normalized['t4_an'] = t4_an.to_numpy()\n",
        "\n",
        "x_train_mean_normalized['t1_tip_activitate'] = t1_tip_activitate.to_numpy()\n",
        "x_train_mean_normalized['t2_tip_activitate'] = t2_tip_activitate.to_numpy()\n",
        "x_train_mean_normalized['t3_tip_activitate'] = t3_tip_activitate.to_numpy()\n",
        "x_train_mean_normalized['t4_tip_activitate'] = t4_tip_activitate.to_numpy()\n",
        "\n",
        "x_train_mean_normalized['t1_cod_caen'] = t1_cod_caen.to_numpy()\n",
        "x_train_mean_normalized['t2_cod_caen'] = t2_cod_caen.to_numpy()\n",
        "x_train_mean_normalized['t3_cod_caen'] = t3_cod_caen.to_numpy()\n",
        "x_train_mean_normalized['t4_cod_caen'] = t4_cod_caen.to_numpy()\n",
        "\n",
        "x_train_mean_normalized_fe = engineer_features(x_train_mean_normalized, 1, 5)\n",
        "x_train_mean_normalized_fe = x_train_mean_normalized_fe.replace([np.inf], sys.maxsize)\n",
        "x_train_mean_normalized_fe = x_train_mean_normalized_fe.replace([-np.inf], -sys.maxsize-1)\n",
        "x_train_mean_normalized_fe.to_csv('/content/gdrive/My Drive/An 1 Masters/Big Data/project data/x_train_mean_normalized_fe.csv', index = False)"
      ],
      "execution_count": 0,
      "outputs": []
    },
    {
      "cell_type": "markdown",
      "metadata": {
        "id": "Iw8aUAZFyJdz",
        "colab_type": "text"
      },
      "source": [
        "#### Validation data"
      ]
    },
    {
      "cell_type": "code",
      "metadata": {
        "id": "laOSbQuktziq",
        "colab_type": "code",
        "colab": {}
      },
      "source": [
        "t1_an, t2_an, t3_an, t4_an = x_val['t1_an'], x_val['t2_an'], x_val['t3_an'], x_val['t4_an']\n",
        "t1_tip_activitate, t2_tip_activitate, t3_tip_activitate, t4_tip_activitate = x_val['t1_tip_activitate'], x_val['t2_tip_activitate'], \\\n",
        "                                                                              x_val['t3_tip_activitate'], x_val['t4_tip_activitate'], \n",
        "t1_cod_caen, t2_cod_caen, t3_cod_caen, t4_cod_caen = x_val['t1_cod_caen'], x_val['t2_cod_caen'], x_val['t3_cod_caen'], x_val['t4_cod_caen']\n",
        "\n",
        "t4_an = t4_an.reset_index().drop(columns = ['index'])\n",
        "t1_an = t1_an.reset_index().drop(columns = ['index'])\n",
        "t2_an = t2_an.reset_index().drop(columns = ['index'])\n",
        "t3_an = t3_an.reset_index().drop(columns = ['index'])\n",
        "\n",
        "t4_tip_activitate = t4_tip_activitate.reset_index().drop(columns = ['index'])\n",
        "t1_tip_activitate = t1_tip_activitate.reset_index().drop(columns = ['index'])\n",
        "t2_tip_activitate = t2_tip_activitate.reset_index().drop(columns = ['index'])\n",
        "t3_tip_activitate = t3_tip_activitate.reset_index().drop(columns = ['index'])\n",
        "\n",
        "t4_cod_caen = t4_cod_caen.reset_index().drop(columns = ['index'])\n",
        "t1_cod_caen = t1_cod_caen.reset_index().drop(columns = ['index'])\n",
        "t2_cod_caen = t2_cod_caen.reset_index().drop(columns = ['index'])\n",
        "t3_cod_caen = t3_cod_caen.reset_index().drop(columns = ['index']) \n",
        "\n",
        "x_val = x_val.drop(columns = ['t1_an', 't1_cod_caen', 't1_tip_activitate', \n",
        "                              't2_an', 't2_cod_caen', 't2_tip_activitate', \n",
        "                              't3_an', 't3_cod_caen', 't3_tip_activitate',\n",
        "                              't4_an', 't4_cod_caen', 't4_tip_activitate'])\n",
        "\n",
        "imputer = SimpleImputer(missing_values = np.nan, strategy = 'mean')\n",
        "x_val_mean = pd.DataFrame(data = imputer.fit_transform(x_val), columns = x_val.columns)"
      ],
      "execution_count": 0,
      "outputs": []
    },
    {
      "cell_type": "code",
      "metadata": {
        "id": "__mfeUXFt0m0",
        "colab_type": "code",
        "colab": {}
      },
      "source": [
        "scaler = StandardScaler()\n",
        "x_val_mean_scaled = pd.DataFrame(data = scaler.fit_transform(x_val_mean), columns = x_val_mean.columns)\n",
        "\n",
        "x_val_mean_scaled['t1_an'] = t1_an.to_numpy()\n",
        "x_val_mean_scaled['t2_an'] = t2_an.to_numpy()\n",
        "x_val_mean_scaled['t3_an'] = t3_an.to_numpy()\n",
        "x_val_mean_scaled['t4_an'] = t4_an.to_numpy()\n",
        "\n",
        "x_val_mean_scaled['t1_tip_activitate'] = t1_tip_activitate.to_numpy()\n",
        "x_val_mean_scaled['t2_tip_activitate'] = t2_tip_activitate.to_numpy()\n",
        "x_val_mean_scaled['t3_tip_activitate'] = t3_tip_activitate.to_numpy()\n",
        "x_val_mean_scaled['t4_tip_activitate'] = t4_tip_activitate.to_numpy()\n",
        "\n",
        "x_val_mean_scaled['t1_cod_caen'] = t1_cod_caen.to_numpy()\n",
        "x_val_mean_scaled['t2_cod_caen'] = t2_cod_caen.to_numpy()\n",
        "x_val_mean_scaled['t3_cod_caen'] = t3_cod_caen.to_numpy()\n",
        "x_val_mean_scaled['t4_cod_caen'] = t4_cod_caen.to_numpy()\n",
        "\n",
        "x_val_mean_scaled_fe = engineer_features(x_val_mean_scaled, 1, 5)\n",
        "x_val_mean_scaled_fe = x_val_mean_scaled_fe.replace([np.inf], sys.maxsize)\n",
        "x_val_mean_scaled_fe = x_val_mean_scaled_fe.replace([-np.inf], -sys.maxsize-1)\n",
        "x_val_mean_scaled_fe.to_csv('/content/gdrive/My Drive/An 1 Masters/Big Data/project data/x_val_mean_scaled_fe.csv', index = False)"
      ],
      "execution_count": 0,
      "outputs": []
    },
    {
      "cell_type": "code",
      "metadata": {
        "id": "X4nIzLbBt0ul",
        "colab_type": "code",
        "colab": {}
      },
      "source": [
        "x_val_mean_normalized = pd.DataFrame(data = normalize(x_val_mean), columns = x_val.columns)\n",
        "\n",
        "x_val_mean_normalized['t1_an'] = t1_an.to_numpy()\n",
        "x_val_mean_normalized['t2_an'] = t2_an.to_numpy()\n",
        "x_val_mean_normalized['t3_an'] = t3_an.to_numpy()\n",
        "x_val_mean_normalized['t4_an'] = t4_an.to_numpy()\n",
        "\n",
        "x_val_mean_normalized['t1_tip_activitate'] = t1_tip_activitate.to_numpy()\n",
        "x_val_mean_normalized['t2_tip_activitate'] = t2_tip_activitate.to_numpy()\n",
        "x_val_mean_normalized['t3_tip_activitate'] = t3_tip_activitate.to_numpy()\n",
        "x_val_mean_normalized['t4_tip_activitate'] = t4_tip_activitate.to_numpy()\n",
        "\n",
        "x_val_mean_normalized['t1_cod_caen'] = t1_cod_caen.to_numpy()\n",
        "x_val_mean_normalized['t2_cod_caen'] = t2_cod_caen.to_numpy()\n",
        "x_val_mean_normalized['t3_cod_caen'] = t3_cod_caen.to_numpy()\n",
        "x_val_mean_normalized['t4_cod_caen'] = t4_cod_caen.to_numpy()\n",
        "\n",
        "x_val_mean_normalized_fe = engineer_features(x_val_mean_normalized, 1, 5)\n",
        "x_val_mean_normalized_fe = x_val_mean_normalized_fe.replace([np.inf], sys.maxsize)\n",
        "x_val_mean_normalized_fe = x_val_mean_normalized_fe.replace([-np.inf], -sys.maxsize-1)\n",
        "x_val_mean_normalized_fe.to_csv('/content/gdrive/My Drive/An 1 Masters/Big Data/project data/x_val_mean_normalized_fe.csv', index = False)"
      ],
      "execution_count": 0,
      "outputs": []
    },
    {
      "cell_type": "markdown",
      "metadata": {
        "id": "QFr3oBoSyMAt",
        "colab_type": "text"
      },
      "source": [
        "#### Test data"
      ]
    },
    {
      "cell_type": "code",
      "metadata": {
        "id": "QJkVD-EvgqvA",
        "colab_type": "code",
        "colab": {}
      },
      "source": [
        "t0_an, t1_an, t2_an, t3_an = x_test['t0_an'], x_test['t1_an'], x_test['t2_an'], x_test['t3_an']\n",
        "t0_tip_activitate, t1_tip_activitate, t2_tip_activitate, t3_tip_activitate = x_test['t0_tip_activitate'], x_test['t1_tip_activitate'], \\\n",
        "                                                                              x_test['t2_tip_activitate'], x_test['t3_tip_activitate'], \n",
        "t0_cod_caen, t1_cod_caen, t2_cod_caen, t3_cod_caen = x_test['t0_cod_caen'], x_test['t1_cod_caen'], x_test['t2_cod_caen'], x_test['t3_cod_caen']\n",
        "\n",
        "t0_an = t0_an.reset_index().drop(columns = ['index'])\n",
        "t1_an = t1_an.reset_index().drop(columns = ['index'])\n",
        "t2_an = t2_an.reset_index().drop(columns = ['index'])\n",
        "t3_an = t3_an.reset_index().drop(columns = ['index'])\n",
        "\n",
        "t0_tip_activitate = t0_tip_activitate.reset_index().drop(columns = ['index'])\n",
        "t1_tip_activitate = t1_tip_activitate.reset_index().drop(columns = ['index'])\n",
        "t2_tip_activitate = t2_tip_activitate.reset_index().drop(columns = ['index'])\n",
        "t3_tip_activitate = t3_tip_activitate.reset_index().drop(columns = ['index'])\n",
        "\n",
        "t0_cod_caen = t0_cod_caen.reset_index().drop(columns = ['index'])\n",
        "t1_cod_caen = t1_cod_caen.reset_index().drop(columns = ['index'])\n",
        "t2_cod_caen = t2_cod_caen.reset_index().drop(columns = ['index'])\n",
        "t3_cod_caen = t3_cod_caen.reset_index().drop(columns = ['index'])\n",
        "\n",
        "x_test = x_test.drop(columns = ['t1_an', 't1_cod_caen', 't1_tip_activitate', \n",
        "                                't2_an', 't2_cod_caen', 't2_tip_activitate', \n",
        "                                't3_an', 't3_cod_caen', 't3_tip_activitate',\n",
        "                                't0_an', 't0_cod_caen', 't0_tip_activitate'])\n",
        "\n",
        "imputer = SimpleImputer(missing_values = np.nan, strategy = 'mean')\n",
        "x_test_mean = pd.DataFrame(data = imputer.fit_transform(x_test), columns = x_test.columns)"
      ],
      "execution_count": 0,
      "outputs": []
    },
    {
      "cell_type": "code",
      "metadata": {
        "id": "uqX2OyP3mR20",
        "colab_type": "code",
        "colab": {}
      },
      "source": [
        "scaler = StandardScaler()\n",
        "x_test_mean_scaled = pd.DataFrame(data = scaler.fit_transform(x_test_mean), columns = x_test_mean.columns)\n",
        "\n",
        "x_test_mean_scaled['t1_an'] = t1_an.to_numpy()\n",
        "x_test_mean_scaled['t2_an'] = t2_an.to_numpy()\n",
        "x_test_mean_scaled['t3_an'] = t3_an.to_numpy()\n",
        "x_test_mean_scaled['t0_an'] = t0_an.to_numpy()\n",
        "\n",
        "x_test_mean_scaled['t1_tip_activitate'] = t1_tip_activitate.to_numpy()\n",
        "x_test_mean_scaled['t2_tip_activitate'] = t2_tip_activitate.to_numpy()\n",
        "x_test_mean_scaled['t3_tip_activitate'] = t3_tip_activitate.to_numpy()\n",
        "x_test_mean_scaled['t0_tip_activitate'] = t0_tip_activitate.to_numpy()\n",
        "\n",
        "x_test_mean_scaled['t1_cod_caen'] = t1_cod_caen.to_numpy()\n",
        "x_test_mean_scaled['t2_cod_caen'] = t2_cod_caen.to_numpy()\n",
        "x_test_mean_scaled['t3_cod_caen'] = t3_cod_caen.to_numpy()\n",
        "x_test_mean_scaled['t0_cod_caen'] = t0_cod_caen.to_numpy()\n",
        "\n",
        "x_test_mean_scaled_fe = engineer_features(x_test_mean_scaled, 0, 4)\n",
        "x_test_mean_scaled_fe = x_test_mean_scaled_fe.replace([np.inf], sys.maxsize)\n",
        "x_test_mean_scaled_fe = x_test_mean_scaled_fe.replace([-np.inf], -sys.maxsize-1)\n",
        "x_test_mean_scaled_fe.to_csv('/content/gdrive/My Drive/An 1 Masters/Big Data/project data/x_test_mean_scaled_fe.csv', index = False)"
      ],
      "execution_count": 0,
      "outputs": []
    },
    {
      "cell_type": "code",
      "metadata": {
        "id": "-cfw29n1nzNd",
        "colab_type": "code",
        "colab": {}
      },
      "source": [
        "x_test_mean_normalized = pd.DataFrame(data = normalize(x_test_mean), columns = x_test_mean.columns)\n",
        "\n",
        "x_test_mean_normalized['t1_an'] = t1_an.to_numpy()\n",
        "x_test_mean_normalized['t2_an'] = t2_an.to_numpy()\n",
        "x_test_mean_normalized['t3_an'] = t3_an.to_numpy()\n",
        "x_test_mean_normalized['t0_an'] = t0_an.to_numpy()\n",
        "\n",
        "x_test_mean_normalized['t1_tip_activitate'] = t1_tip_activitate.to_numpy()\n",
        "x_test_mean_normalized['t2_tip_activitate'] = t2_tip_activitate.to_numpy()\n",
        "x_test_mean_normalized['t3_tip_activitate'] = t3_tip_activitate.to_numpy()\n",
        "x_test_mean_normalized['t0_tip_activitate'] = t0_tip_activitate.to_numpy()\n",
        "\n",
        "x_test_mean_normalized['t1_cod_caen'] = t1_cod_caen.to_numpy()\n",
        "x_test_mean_normalized['t2_cod_caen'] = t2_cod_caen.to_numpy()\n",
        "x_test_mean_normalized['t3_cod_caen'] = t3_cod_caen.to_numpy()\n",
        "x_test_mean_normalized['t0_cod_caen'] = t0_cod_caen.to_numpy()\n",
        "\n",
        "x_test_mean_normalized_fe = engineer_features(x_test_mean_normalized, 0, 4)\n",
        "x_test_mean_normalized_fe = x_test_mean_normalized_fe.replace([np.inf], sys.maxsize)\n",
        "x_test_mean_normalized_fe = x_test_mean_normalized_fe.replace([-np.inf], -sys.maxsize-1)\n",
        "x_test_mean_normalized_fe.to_csv('/content/gdrive/My Drive/An 1 Masters/Big Data/project data/x_test_mean_normalized_fe.csv', index = False)"
      ],
      "execution_count": 0,
      "outputs": []
    },
    {
      "cell_type": "markdown",
      "metadata": {
        "id": "IkYazv9rrTWB",
        "colab_type": "text"
      },
      "source": [
        "### Median imputation"
      ]
    },
    {
      "cell_type": "code",
      "metadata": {
        "id": "CNbynmBsxP4B",
        "colab_type": "code",
        "colab": {}
      },
      "source": [
        "x_train, y_train, x_val, y_val, x_test, y_test = x_train_init.copy(), y_train_init.copy(), x_val_init.copy(), y_val_init.copy(), x_test_init.copy(), y_test_init.copy()"
      ],
      "execution_count": 0,
      "outputs": []
    },
    {
      "cell_type": "markdown",
      "metadata": {
        "id": "-d817kOyx7pj",
        "colab_type": "text"
      },
      "source": [
        "#### Train data"
      ]
    },
    {
      "cell_type": "code",
      "metadata": {
        "id": "4ag7VBNVrai7",
        "colab_type": "code",
        "colab": {}
      },
      "source": [
        "t1_an, t2_an, t3_an, t4_an = x_train['t1_an'], x_train['t2_an'], x_train['t3_an'], x_train['t4_an']\n",
        "t1_tip_activitate, t2_tip_activitate, t3_tip_activitate, t4_tip_activitate = x_train['t1_tip_activitate'], x_train['t2_tip_activitate'], \\\n",
        "                                                                              x_train['t3_tip_activitate'], x_train['t4_tip_activitate'], \n",
        "t1_cod_caen, t2_cod_caen, t3_cod_caen, t4_cod_caen = x_train['t1_cod_caen'], x_train['t2_cod_caen'], x_train['t3_cod_caen'], x_train['t4_cod_caen']\n",
        "\n",
        "t4_an = t4_an.reset_index().drop(columns = ['index'])\n",
        "t1_an = t1_an.reset_index().drop(columns = ['index'])\n",
        "t2_an = t2_an.reset_index().drop(columns = ['index'])\n",
        "t3_an = t3_an.reset_index().drop(columns = ['index'])\n",
        "\n",
        "t4_tip_activitate = t4_tip_activitate.reset_index().drop(columns = ['index'])\n",
        "t1_tip_activitate = t1_tip_activitate.reset_index().drop(columns = ['index'])\n",
        "t2_tip_activitate = t2_tip_activitate.reset_index().drop(columns = ['index'])\n",
        "t3_tip_activitate = t3_tip_activitate.reset_index().drop(columns = ['index'])\n",
        "\n",
        "t4_cod_caen = t4_cod_caen.reset_index().drop(columns = ['index'])\n",
        "t1_cod_caen = t1_cod_caen.reset_index().drop(columns = ['index'])\n",
        "t2_cod_caen = t2_cod_caen.reset_index().drop(columns = ['index'])\n",
        "t3_cod_caen = t3_cod_caen.reset_index().drop(columns = ['index']) \n",
        "\n",
        "x_train = x_train.drop(columns = ['t1_an', 't1_cod_caen', 't1_tip_activitate', \n",
        "                                  't2_an', 't2_cod_caen', 't2_tip_activitate', \n",
        "                                  't3_an', 't3_cod_caen', 't3_tip_activitate',\n",
        "                                  't4_an', 't4_cod_caen', 't4_tip_activitate'])\n",
        "\n",
        "imputer = SimpleImputer(missing_values = np.nan, strategy = 'median')\n",
        "x_train_median = pd.DataFrame(data = imputer.fit_transform(x_train), columns = x_train.columns)"
      ],
      "execution_count": 0,
      "outputs": []
    },
    {
      "cell_type": "code",
      "metadata": {
        "id": "mWaFwDrDsJMj",
        "colab_type": "code",
        "colab": {}
      },
      "source": [
        "scaler = StandardScaler()\n",
        "x_train_median_scaled = pd.DataFrame(data = scaler.fit_transform(x_train_median), columns = x_train_median.columns)\n",
        "\n",
        "x_train_median_scaled['t1_an'] = t1_an.to_numpy()\n",
        "x_train_median_scaled['t2_an'] = t2_an.to_numpy()\n",
        "x_train_median_scaled['t3_an'] = t3_an.to_numpy()\n",
        "x_train_median_scaled['t4_an'] = t4_an.to_numpy()\n",
        "\n",
        "x_train_median_scaled['t1_tip_activitate'] = t1_tip_activitate.to_numpy()\n",
        "x_train_median_scaled['t2_tip_activitate'] = t2_tip_activitate.to_numpy()\n",
        "x_train_median_scaled['t3_tip_activitate'] = t3_tip_activitate.to_numpy()\n",
        "x_train_median_scaled['t4_tip_activitate'] = t4_tip_activitate.to_numpy()\n",
        "\n",
        "x_train_median_scaled['t1_cod_caen'] = t1_cod_caen.to_numpy()\n",
        "x_train_median_scaled['t2_cod_caen'] = t2_cod_caen.to_numpy()\n",
        "x_train_median_scaled['t3_cod_caen'] = t3_cod_caen.to_numpy()\n",
        "x_train_median_scaled['t4_cod_caen'] = t4_cod_caen.to_numpy()\n",
        "\n",
        "x_train_median_scaled_fe = engineer_features(x_train_median_scaled, 1, 5)\n",
        "x_train_median_scaled_fe = x_train_median_scaled_fe.replace([np.inf], sys.maxsize)\n",
        "x_train_median_scaled_fe = x_train_median_scaled_fe.replace([-np.inf], -sys.maxsize-1)\n",
        "x_train_median_scaled_fe.to_csv('/content/gdrive/My Drive/An 1 Masters/Big Data/project data/x_train_median_scaled_fe.csv', index = False)"
      ],
      "execution_count": 0,
      "outputs": []
    },
    {
      "cell_type": "code",
      "metadata": {
        "id": "AP1TJFHZr5yZ",
        "colab_type": "code",
        "colab": {}
      },
      "source": [
        "x_train_median_normalized = pd.DataFrame(data = normalize(x_train_median), columns = x_train_median.columns)\n",
        "\n",
        "x_train_median_normalized['t1_an'] = t1_an.to_numpy()\n",
        "x_train_median_normalized['t2_an'] = t2_an.to_numpy()\n",
        "x_train_median_normalized['t3_an'] = t3_an.to_numpy()\n",
        "x_train_median_normalized['t4_an'] = t4_an.to_numpy()\n",
        "\n",
        "x_train_median_normalized['t1_tip_activitate'] = t1_tip_activitate.to_numpy()\n",
        "x_train_median_normalized['t2_tip_activitate'] = t2_tip_activitate.to_numpy()\n",
        "x_train_median_normalized['t3_tip_activitate'] = t3_tip_activitate.to_numpy()\n",
        "x_train_median_normalized['t4_tip_activitate'] = t4_tip_activitate.to_numpy()\n",
        "\n",
        "x_train_median_normalized['t1_cod_caen'] = t1_cod_caen.to_numpy()\n",
        "x_train_median_normalized['t2_cod_caen'] = t2_cod_caen.to_numpy()\n",
        "x_train_median_normalized['t3_cod_caen'] = t3_cod_caen.to_numpy()\n",
        "x_train_median_normalized['t4_cod_caen'] = t4_cod_caen.to_numpy()\n",
        "\n",
        "x_train_median_normalized_fe = engineer_features(x_train_median_normalized, 1, 5)\n",
        "x_train_median_normalized_fe = x_train_median_normalized_fe.replace([np.inf], sys.maxsize)\n",
        "x_train_median_normalized_fe = x_train_median_normalized_fe.replace([-np.inf], -sys.maxsize-1)\n",
        "x_train_median_normalized_fe.to_csv('/content/gdrive/My Drive/An 1 Masters/Big Data/project data/x_train_median_normalized_fe.csv', index = False)"
      ],
      "execution_count": 0,
      "outputs": []
    },
    {
      "cell_type": "markdown",
      "metadata": {
        "id": "okDsKESdx-uf",
        "colab_type": "text"
      },
      "source": [
        "#### Validation data"
      ]
    },
    {
      "cell_type": "code",
      "metadata": {
        "id": "xmm1md4uvvnL",
        "colab_type": "code",
        "colab": {}
      },
      "source": [
        "t1_an, t2_an, t3_an, t4_an = x_val['t1_an'], x_val['t2_an'], x_val['t3_an'], x_val['t4_an']\n",
        "t1_tip_activitate, t2_tip_activitate, t3_tip_activitate, t4_tip_activitate = x_val['t1_tip_activitate'], x_val['t2_tip_activitate'], \\\n",
        "                                                                              x_val['t3_tip_activitate'], x_val['t4_tip_activitate'], \n",
        "t1_cod_caen, t2_cod_caen, t3_cod_caen, t4_cod_caen = x_val['t1_cod_caen'], x_val['t2_cod_caen'], x_val['t3_cod_caen'], x_val['t4_cod_caen']\n",
        "\n",
        "t4_an = t4_an.reset_index().drop(columns = ['index'])\n",
        "t1_an = t1_an.reset_index().drop(columns = ['index'])\n",
        "t2_an = t2_an.reset_index().drop(columns = ['index'])\n",
        "t3_an = t3_an.reset_index().drop(columns = ['index'])\n",
        "\n",
        "t4_tip_activitate = t4_tip_activitate.reset_index().drop(columns = ['index'])\n",
        "t1_tip_activitate = t1_tip_activitate.reset_index().drop(columns = ['index'])\n",
        "t2_tip_activitate = t2_tip_activitate.reset_index().drop(columns = ['index'])\n",
        "t3_tip_activitate = t3_tip_activitate.reset_index().drop(columns = ['index'])\n",
        "\n",
        "t4_cod_caen = t4_cod_caen.reset_index().drop(columns = ['index'])\n",
        "t1_cod_caen = t1_cod_caen.reset_index().drop(columns = ['index'])\n",
        "t2_cod_caen = t2_cod_caen.reset_index().drop(columns = ['index'])\n",
        "t3_cod_caen = t3_cod_caen.reset_index().drop(columns = ['index']) \n",
        "\n",
        "x_val = x_val.drop(columns = ['t1_an', 't1_cod_caen', 't1_tip_activitate', \n",
        "                              't2_an', 't2_cod_caen', 't2_tip_activitate', \n",
        "                              't3_an', 't3_cod_caen', 't3_tip_activitate',\n",
        "                              't4_an', 't4_cod_caen', 't4_tip_activitate'])\n",
        "\n",
        "imputer = SimpleImputer(missing_values = np.nan, strategy = 'mean')\n",
        "x_val_median = pd.DataFrame(data = imputer.fit_transform(x_val), columns = x_val.columns)"
      ],
      "execution_count": 0,
      "outputs": []
    },
    {
      "cell_type": "code",
      "metadata": {
        "id": "0THY__1qvv0a",
        "colab_type": "code",
        "colab": {}
      },
      "source": [
        "scaler = StandardScaler()\n",
        "x_val_median_scaled = pd.DataFrame(data = scaler.fit_transform(x_val_median), columns = x_val_median.columns)\n",
        "\n",
        "x_val_median_scaled['t1_an'] = t1_an.to_numpy()\n",
        "x_val_median_scaled['t2_an'] = t2_an.to_numpy()\n",
        "x_val_median_scaled['t3_an'] = t3_an.to_numpy()\n",
        "x_val_median_scaled['t4_an'] = t4_an.to_numpy()\n",
        "\n",
        "x_val_median_scaled['t1_tip_activitate'] = t1_tip_activitate.to_numpy()\n",
        "x_val_median_scaled['t2_tip_activitate'] = t2_tip_activitate.to_numpy()\n",
        "x_val_median_scaled['t3_tip_activitate'] = t3_tip_activitate.to_numpy()\n",
        "x_val_median_scaled['t4_tip_activitate'] = t4_tip_activitate.to_numpy()\n",
        "\n",
        "x_val_median_scaled['t1_cod_caen'] = t1_cod_caen.to_numpy()\n",
        "x_val_median_scaled['t2_cod_caen'] = t2_cod_caen.to_numpy()\n",
        "x_val_median_scaled['t3_cod_caen'] = t3_cod_caen.to_numpy()\n",
        "x_val_median_scaled['t4_cod_caen'] = t4_cod_caen.to_numpy()\n",
        "\n",
        "x_val_median_scaled_fe = engineer_features(x_val_median_scaled, 1, 5)\n",
        "x_val_median_scaled_fe = x_val_median_scaled_fe.replace([np.inf], sys.maxsize)\n",
        "x_val_median_scaled_fe = x_val_median_scaled_fe.replace([-np.inf], -sys.maxsize-1)\n",
        "x_val_median_scaled_fe.to_csv('/content/gdrive/My Drive/An 1 Masters/Big Data/project data/x_val_median_scaled_fe.csv', index = False)"
      ],
      "execution_count": 0,
      "outputs": []
    },
    {
      "cell_type": "code",
      "metadata": {
        "id": "587qxMfAvv_U",
        "colab_type": "code",
        "colab": {}
      },
      "source": [
        "x_val_median_normalized = pd.DataFrame(data = normalize(x_val_mean), columns = x_val.columns)\n",
        "\n",
        "x_val_median_normalized['t1_an'] = t1_an.to_numpy()\n",
        "x_val_median_normalized['t2_an'] = t2_an.to_numpy()\n",
        "x_val_median_normalized['t3_an'] = t3_an.to_numpy()\n",
        "x_val_median_normalized['t4_an'] = t4_an.to_numpy()\n",
        "\n",
        "x_val_median_normalized['t1_tip_activitate'] = t1_tip_activitate.to_numpy()\n",
        "x_val_median_normalized['t2_tip_activitate'] = t2_tip_activitate.to_numpy()\n",
        "x_val_median_normalized['t3_tip_activitate'] = t3_tip_activitate.to_numpy()\n",
        "x_val_median_normalized['t4_tip_activitate'] = t4_tip_activitate.to_numpy()\n",
        "\n",
        "x_val_median_normalized['t1_cod_caen'] = t1_cod_caen.to_numpy()\n",
        "x_val_median_normalized['t2_cod_caen'] = t2_cod_caen.to_numpy()\n",
        "x_val_median_normalized['t3_cod_caen'] = t3_cod_caen.to_numpy()\n",
        "x_val_median_normalized['t4_cod_caen'] = t4_cod_caen.to_numpy()\n",
        "\n",
        "x_val_median_normalized_fe = engineer_features(x_val_median_normalized, 1, 5)\n",
        "x_val_median_normalized_fe = x_val_median_normalized_fe.replace([np.inf], sys.maxsize)\n",
        "x_val_median_normalized_fe = x_val_median_normalized_fe.replace([-np.inf], -sys.maxsize-1)\n",
        "x_val_median_normalized_fe.to_csv('/content/gdrive/My Drive/An 1 Masters/Big Data/project data/x_val_median_normalized_fe.csv', index = False)"
      ],
      "execution_count": 0,
      "outputs": []
    },
    {
      "cell_type": "markdown",
      "metadata": {
        "id": "8A2D9bfyyBvv",
        "colab_type": "text"
      },
      "source": [
        "#### Test data"
      ]
    },
    {
      "cell_type": "code",
      "metadata": {
        "id": "0WU4hF-urzyI",
        "colab_type": "code",
        "colab": {}
      },
      "source": [
        "t0_an, t1_an, t2_an, t3_an = x_test['t0_an'], x_test['t1_an'], x_test['t2_an'], x_test['t3_an']\n",
        "t0_tip_activitate, t1_tip_activitate, t2_tip_activitate, t3_tip_activitate = x_test['t0_tip_activitate'], x_test['t1_tip_activitate'], \\\n",
        "                                                                              x_test['t2_tip_activitate'], x_test['t3_tip_activitate'], \n",
        "t0_cod_caen, t1_cod_caen, t2_cod_caen, t3_cod_caen = x_test['t0_cod_caen'], x_test['t1_cod_caen'], x_test['t2_cod_caen'], x_test['t3_cod_caen']\n",
        "\n",
        "t0_an = t0_an.reset_index().drop(columns = ['index'])\n",
        "t1_an = t1_an.reset_index().drop(columns = ['index'])\n",
        "t2_an = t2_an.reset_index().drop(columns = ['index'])\n",
        "t3_an = t3_an.reset_index().drop(columns = ['index'])\n",
        "\n",
        "t0_tip_activitate = t0_tip_activitate.reset_index().drop(columns = ['index'])\n",
        "t1_tip_activitate = t1_tip_activitate.reset_index().drop(columns = ['index'])\n",
        "t2_tip_activitate = t2_tip_activitate.reset_index().drop(columns = ['index'])\n",
        "t3_tip_activitate = t3_tip_activitate.reset_index().drop(columns = ['index'])\n",
        "\n",
        "t0_cod_caen = t0_cod_caen.reset_index().drop(columns = ['index'])\n",
        "t1_cod_caen = t1_cod_caen.reset_index().drop(columns = ['index'])\n",
        "t2_cod_caen = t2_cod_caen.reset_index().drop(columns = ['index'])\n",
        "t3_cod_caen = t3_cod_caen.reset_index().drop(columns = ['index'])\n",
        "\n",
        "x_test = x_test.drop(columns = ['t1_an', 't1_cod_caen', 't1_tip_activitate', \n",
        "                                't2_an', 't2_cod_caen', 't2_tip_activitate', \n",
        "                                't3_an', 't3_cod_caen', 't3_tip_activitate',\n",
        "                                't0_an', 't0_cod_caen', 't0_tip_activitate'])\n",
        "\n",
        "imputer = SimpleImputer(missing_values = np.nan, strategy = 'median')\n",
        "x_test_median = pd.DataFrame(data = imputer.fit_transform(x_test), columns = x_test.columns)"
      ],
      "execution_count": 0,
      "outputs": []
    },
    {
      "cell_type": "code",
      "metadata": {
        "id": "7vdmKk9broxZ",
        "colab_type": "code",
        "colab": {}
      },
      "source": [
        "scaler = StandardScaler()\n",
        "x_test_median_scaled = pd.DataFrame(data = scaler.fit_transform(x_test_median), columns = x_test_median.columns)\n",
        "\n",
        "x_test_median_scaled['t1_an'] = t1_an.to_numpy()\n",
        "x_test_median_scaled['t2_an'] = t2_an.to_numpy()\n",
        "x_test_median_scaled['t3_an'] = t3_an.to_numpy()\n",
        "x_test_median_scaled['t0_an'] = t0_an.to_numpy()\n",
        "\n",
        "x_test_median_scaled['t1_tip_activitate'] = t1_tip_activitate.to_numpy()\n",
        "x_test_median_scaled['t2_tip_activitate'] = t2_tip_activitate.to_numpy()\n",
        "x_test_median_scaled['t3_tip_activitate'] = t3_tip_activitate.to_numpy()\n",
        "x_test_median_scaled['t0_tip_activitate'] = t0_tip_activitate.to_numpy()\n",
        "\n",
        "x_test_median_scaled['t1_cod_caen'] = t1_cod_caen.to_numpy()\n",
        "x_test_median_scaled['t2_cod_caen'] = t2_cod_caen.to_numpy()\n",
        "x_test_median_scaled['t3_cod_caen'] = t3_cod_caen.to_numpy()\n",
        "x_test_median_scaled['t0_cod_caen'] = t0_cod_caen.to_numpy()\n",
        "\n",
        "x_test_median_scaled_fe = engineer_features(x_test_median_scaled, 0, 4)\n",
        "x_test_median_scaled_fe = x_test_median_scaled_fe.replace([np.inf], sys.maxsize)\n",
        "x_test_median_scaled_fe = x_test_median_scaled_fe.replace([-np.inf], -sys.maxsize-1)\n",
        "x_test_median_scaled_fe.to_csv('/content/gdrive/My Drive/An 1 Masters/Big Data/project data/x_test_median_scaled_fe.csv', index = False)"
      ],
      "execution_count": 0,
      "outputs": []
    },
    {
      "cell_type": "code",
      "metadata": {
        "id": "lQ52yPJ5rdIT",
        "colab_type": "code",
        "colab": {}
      },
      "source": [
        "x_test_median_normalized = pd.DataFrame(data = normalize(x_test_mean), columns = x_test.columns)\n",
        "\n",
        "x_test_median_normalized['t1_an'] = t1_an.to_numpy()\n",
        "x_test_median_normalized['t2_an'] = t2_an.to_numpy()\n",
        "x_test_median_normalized['t3_an'] = t3_an.to_numpy()\n",
        "x_test_median_normalized['t0_an'] = t0_an.to_numpy()\n",
        "\n",
        "x_test_median_normalized['t1_tip_activitate'] = t1_tip_activitate.to_numpy()\n",
        "x_test_median_normalized['t2_tip_activitate'] = t2_tip_activitate.to_numpy()\n",
        "x_test_median_normalized['t3_tip_activitate'] = t3_tip_activitate.to_numpy()\n",
        "x_test_median_normalized['t0_tip_activitate'] = t0_tip_activitate.to_numpy()\n",
        "\n",
        "x_test_median_normalized['t1_cod_caen'] = t1_cod_caen.to_numpy()\n",
        "x_test_median_normalized['t2_cod_caen'] = t2_cod_caen.to_numpy()\n",
        "x_test_median_normalized['t3_cod_caen'] = t3_cod_caen.to_numpy()\n",
        "x_test_median_normalized['t0_cod_caen'] = t0_cod_caen.to_numpy()\n",
        "\n",
        "x_test_median_normalized_fe = engineer_features(x_test_median_normalized, 0, 4)\n",
        "x_test_median_normalized_fe = x_test_median_normalized_fe.replace([np.inf], sys.maxsize)\n",
        "x_test_median_normalized_fe = x_test_median_normalized_fe.replace([-np.inf], -sys.maxsize-1)\n",
        "x_test_median_normalized_fe.to_csv('/content/gdrive/My Drive/An 1 Masters/Big Data/project data/x_test_median_normalized_fe.csv', index = False)"
      ],
      "execution_count": 0,
      "outputs": []
    },
    {
      "cell_type": "markdown",
      "metadata": {
        "id": "NJ_jzwn4r8HZ",
        "colab_type": "text"
      },
      "source": [
        "### KNN imputation"
      ]
    },
    {
      "cell_type": "code",
      "metadata": {
        "id": "0vN9RSPPxRxK",
        "colab_type": "code",
        "colab": {}
      },
      "source": [
        "x_train, y_train, x_val, y_val, x_test, y_test = x_train_init.copy(), y_train_init.copy(), x_val_init.copy(), y_val_init.copy(), x_test_init.copy(), y_test_init.copy()"
      ],
      "execution_count": 0,
      "outputs": []
    },
    {
      "cell_type": "markdown",
      "metadata": {
        "id": "Zfw6sFYSFreb",
        "colab_type": "text"
      },
      "source": [
        "#### Train data"
      ]
    },
    {
      "cell_type": "code",
      "metadata": {
        "id": "Q3PbVK27uSjb",
        "colab_type": "code",
        "colab": {}
      },
      "source": [
        "t1_an, t2_an, t3_an, t4_an = x_train['t1_an'], x_train['t2_an'], x_train['t3_an'], x_train['t4_an']\n",
        "t1_tip_activitate, t2_tip_activitate, t3_tip_activitate, t4_tip_activitate = x_train['t1_tip_activitate'], x_train['t2_tip_activitate'], \\\n",
        "                                                                              x_train['t3_tip_activitate'], x_train['t4_tip_activitate'], \n",
        "t1_cod_caen, t2_cod_caen, t3_cod_caen, t4_cod_caen = x_train['t1_cod_caen'], x_train['t2_cod_caen'], x_train['t3_cod_caen'], x_train['t4_cod_caen']\n",
        "\n",
        "t4_an = t4_an.reset_index().drop(columns = ['index'])\n",
        "t1_an = t1_an.reset_index().drop(columns = ['index'])\n",
        "t2_an = t2_an.reset_index().drop(columns = ['index'])\n",
        "t3_an = t3_an.reset_index().drop(columns = ['index'])\n",
        "\n",
        "t4_tip_activitate = t4_tip_activitate.reset_index().drop(columns = ['index'])\n",
        "t1_tip_activitate = t1_tip_activitate.reset_index().drop(columns = ['index'])\n",
        "t2_tip_activitate = t2_tip_activitate.reset_index().drop(columns = ['index'])\n",
        "t3_tip_activitate = t3_tip_activitate.reset_index().drop(columns = ['index'])\n",
        "\n",
        "t4_cod_caen = t4_cod_caen.reset_index().drop(columns = ['index'])\n",
        "t1_cod_caen = t1_cod_caen.reset_index().drop(columns = ['index'])\n",
        "t2_cod_caen = t2_cod_caen.reset_index().drop(columns = ['index'])\n",
        "t3_cod_caen = t3_cod_caen.reset_index().drop(columns = ['index'])\n",
        "\n",
        "x_train_t1 = x_train[[col for col in x_train.columns if 't1' in col]].drop(columns = ['t1_an', 't1_cod_caen', 't1_tip_activitate'])\n",
        "x_train_t2 = x_train[[col for col in x_train.columns if 't2' in col]].drop(columns = ['t2_an', 't2_cod_caen', 't2_tip_activitate'])\n",
        "x_train_t3 = x_train[[col for col in x_train.columns if 't3' in col]].drop(columns = ['t3_an', 't3_cod_caen', 't3_tip_activitate'])\n",
        "x_train_t4 = x_train[[col for col in x_train.columns if 't4' in col]].drop(columns = ['t4_an', 't4_cod_caen', 't4_tip_activitate'])"
      ],
      "execution_count": 0,
      "outputs": []
    },
    {
      "cell_type": "code",
      "metadata": {
        "id": "bcX8eXP5r8Ha",
        "colab_type": "code",
        "colab": {}
      },
      "source": [
        "x_train_t1_1_knn = KNN(k = 3, verbose = False).fit_transform(x_train_t1[:30000])\n",
        "x_train_t1_2_knn = KNN(k = 3, verbose = False).fit_transform(x_train_t1[30000:60000])\n",
        "x_train_t1_3_knn = KNN(k = 3, verbose = False).fit_transform(x_train_t1[60000:90000])\n",
        "x_train_t1_4_knn = KNN(k = 3, verbose = False).fit_transform(x_train_t1[90000:])\n",
        "\n",
        "x_train_t1 = pd.concat([pd.DataFrame(data = x_train_t1_1_knn, columns = x_train_t1.columns), \n",
        "                        pd.DataFrame(data = x_train_t1_2_knn, columns = x_train_t1.columns), \n",
        "                        pd.DataFrame(data = x_train_t1_3_knn, columns = x_train_t1.columns),\n",
        "                        pd.DataFrame(data = x_train_t1_4_knn, columns = x_train_t1.columns)])"
      ],
      "execution_count": 0,
      "outputs": []
    },
    {
      "cell_type": "code",
      "metadata": {
        "id": "t3IBNjz8QL48",
        "colab_type": "code",
        "colab": {}
      },
      "source": [
        "x_train_t2_1_knn = KNN(k = 3, verbose = False).fit_transform(x_train_t2[:30000])\n",
        "x_train_t2_2_knn = KNN(k = 3, verbose = False).fit_transform(x_train_t2[30000:60000])\n",
        "x_train_t2_3_knn = KNN(k = 3, verbose = False).fit_transform(x_train_t2[60000:90000])\n",
        "x_train_t2_4_knn = KNN(k = 3, verbose = False).fit_transform(x_train_t2[90000:])\n",
        "\n",
        "x_train_t2 = pd.concat([pd.DataFrame(data = x_train_t2_1_knn, columns = x_train_t2.columns), \n",
        "                        pd.DataFrame(data = x_train_t2_2_knn, columns = x_train_t2.columns), \n",
        "                        pd.DataFrame(data = x_train_t2_3_knn, columns = x_train_t2.columns),\n",
        "                        pd.DataFrame(data = x_train_t2_4_knn, columns = x_train_t2.columns)])"
      ],
      "execution_count": 0,
      "outputs": []
    },
    {
      "cell_type": "code",
      "metadata": {
        "id": "NfQnZytcQLxu",
        "colab_type": "code",
        "colab": {}
      },
      "source": [
        "x_train_t3_1_knn = KNN(k = 3, verbose = False).fit_transform(x_train_t3[:30000])\n",
        "x_train_t3_2_knn = KNN(k = 3, verbose = False).fit_transform(x_train_t3[30000:60000])\n",
        "x_train_t3_3_knn = KNN(k = 3, verbose = False).fit_transform(x_train_t3[60000:90000])\n",
        "x_train_t3_4_knn = KNN(k = 3, verbose = False).fit_transform(x_train_t3[90000:])\n",
        "\n",
        "x_train_t3 = pd.concat([pd.DataFrame(data = x_train_t3_1_knn, columns = x_train_t3.columns), \n",
        "                        pd.DataFrame(data = x_train_t3_2_knn, columns = x_train_t3.columns), \n",
        "                        pd.DataFrame(data = x_train_t3_3_knn, columns = x_train_t3.columns),\n",
        "                        pd.DataFrame(data = x_train_t3_4_knn, columns = x_train_t3.columns)])"
      ],
      "execution_count": 0,
      "outputs": []
    },
    {
      "cell_type": "code",
      "metadata": {
        "id": "KCNmIYVHQLj_",
        "colab_type": "code",
        "colab": {}
      },
      "source": [
        "x_train_t4_1_knn = KNN(k = 3, verbose = False).fit_transform(x_train_t4[:30000])\n",
        "x_train_t4_2_knn = KNN(k = 3, verbose = False).fit_transform(x_train_t4[30000:60000])\n",
        "x_train_t4_3_knn = KNN(k = 3, verbose = False).fit_transform(x_train_t4[60000:90000])\n",
        "x_train_t4_4_knn = KNN(k = 3, verbose = False).fit_transform(x_train_t4[90000:])\n",
        "\n",
        "x_train_t4 = pd.concat([pd.DataFrame(data = x_train_t4_1_knn, columns = x_train_t4.columns), \n",
        "                        pd.DataFrame(data = x_train_t4_2_knn, columns = x_train_t4.columns), \n",
        "                        pd.DataFrame(data = x_train_t4_3_knn, columns = x_train_t4.columns),\n",
        "                        pd.DataFrame(data = x_train_t4_4_knn, columns = x_train_t4.columns)])"
      ],
      "execution_count": 0,
      "outputs": []
    },
    {
      "cell_type": "code",
      "metadata": {
        "id": "5kerLY8VVRN1",
        "colab_type": "code",
        "colab": {}
      },
      "source": [
        "x_train_knn = pd.concat([x_train_t1, x_train_t2, x_train_t3, x_train_t4], axis = 1)"
      ],
      "execution_count": 0,
      "outputs": []
    },
    {
      "cell_type": "code",
      "metadata": {
        "id": "3IRaZiYJr8Hv",
        "colab_type": "code",
        "colab": {}
      },
      "source": [
        "scaler = StandardScaler()\n",
        "\n",
        "x_train_knn_scaled = pd.DataFrame(data = scaler.fit_transform(x_train_knn), columns = x_train_knn.columns)\n",
        "\n",
        "x_train_knn_scaled['t1_an'] = t1_an.to_numpy()\n",
        "x_train_knn_scaled['t2_an'] = t2_an.to_numpy()\n",
        "x_train_knn_scaled['t3_an'] = t3_an.to_numpy()\n",
        "x_train_knn_scaled['t4_an'] = t4_an.to_numpy()\n",
        "\n",
        "x_train_knn_scaled['t1_tip_activitate'] = t1_tip_activitate.to_numpy()\n",
        "x_train_knn_scaled['t2_tip_activitate'] = t2_tip_activitate.to_numpy()\n",
        "x_train_knn_scaled['t3_tip_activitate'] = t3_tip_activitate.to_numpy()\n",
        "x_train_knn_scaled['t4_tip_activitate'] = t4_tip_activitate.to_numpy()\n",
        "\n",
        "x_train_knn_scaled['t1_cod_caen'] = t1_cod_caen.to_numpy()\n",
        "x_train_knn_scaled['t2_cod_caen'] = t2_cod_caen.to_numpy()\n",
        "x_train_knn_scaled['t3_cod_caen'] = t3_cod_caen.to_numpy()\n",
        "x_train_knn_scaled['t4_cod_caen'] = t4_cod_caen.to_numpy()"
      ],
      "execution_count": 0,
      "outputs": []
    },
    {
      "cell_type": "code",
      "metadata": {
        "id": "WAoQmOj-jahN",
        "colab_type": "code",
        "colab": {}
      },
      "source": [
        "x_train_knn_scaled.to_csv('/content/gdrive/My Drive/An 1 Masters/Big Data/project data/x_train_knn_scaled.csv', index = False)"
      ],
      "execution_count": 0,
      "outputs": []
    },
    {
      "cell_type": "code",
      "metadata": {
        "id": "5y427uLGkjPq",
        "colab_type": "code",
        "colab": {}
      },
      "source": [
        "x_train_knn_normalized = pd.DataFrame(data = normalize(x_train_knn), columns = x_train_knn.columns)\n",
        "\n",
        "x_train_knn_normalized['t1_an'] = t1_an.to_numpy()\n",
        "x_train_knn_normalized['t2_an'] = t2_an.to_numpy()\n",
        "x_train_knn_normalized['t3_an'] = t3_an.to_numpy()\n",
        "x_train_knn_normalized['t4_an'] = t4_an.to_numpy()\n",
        "\n",
        "x_train_knn_normalized['t1_tip_activitate'] = t1_tip_activitate.to_numpy()\n",
        "x_train_knn_normalized['t2_tip_activitate'] = t2_tip_activitate.to_numpy()\n",
        "x_train_knn_normalized['t3_tip_activitate'] = t3_tip_activitate.to_numpy()\n",
        "x_train_knn_normalized['t4_tip_activitate'] = t4_tip_activitate.to_numpy()\n",
        "\n",
        "x_train_knn_normalized['t1_cod_caen'] = t1_cod_caen.to_numpy()\n",
        "x_train_knn_normalized['t2_cod_caen'] = t2_cod_caen.to_numpy()\n",
        "x_train_knn_normalized['t3_cod_caen'] = t3_cod_caen.to_numpy()\n",
        "x_train_knn_normalized['t4_cod_caen'] = t4_cod_caen.to_numpy()"
      ],
      "execution_count": 0,
      "outputs": []
    },
    {
      "cell_type": "code",
      "metadata": {
        "id": "1CkHcge8fNIv",
        "colab_type": "code",
        "colab": {}
      },
      "source": [
        "x_train_knn_normalized.to_csv('/content/gdrive/My Drive/An 1 Masters/Big Data/project data/x_train_knn_normalized.csv', index = False)"
      ],
      "execution_count": 0,
      "outputs": []
    },
    {
      "cell_type": "markdown",
      "metadata": {
        "id": "RYNK9qQhx1jQ",
        "colab_type": "text"
      },
      "source": [
        "#### Validation data"
      ]
    },
    {
      "cell_type": "code",
      "metadata": {
        "id": "fWxZFXtwxt-6",
        "colab_type": "code",
        "colab": {}
      },
      "source": [
        "t1_an, t2_an, t3_an, t4_an = x_val['t1_an'], x_val['t2_an'], x_val['t3_an'], x_val['t4_an']\n",
        "t1_tip_activitate, t2_tip_activitate, t3_tip_activitate, t4_tip_activitate = x_val['t1_tip_activitate'], x_val['t2_tip_activitate'], \\\n",
        "                                                                              x_val['t3_tip_activitate'], x_val['t4_tip_activitate'], \n",
        "t1_cod_caen, t2_cod_caen, t3_cod_caen, t4_cod_caen = x_val['t1_cod_caen'], x_val['t2_cod_caen'], x_val['t3_cod_caen'], x_val['t4_cod_caen']\n",
        "\n",
        "t1_an = t1_an.reset_index().drop(columns = ['index'])\n",
        "t2_an = t2_an.reset_index().drop(columns = ['index'])\n",
        "t3_an = t3_an.reset_index().drop(columns = ['index'])\n",
        "t4_an = t4_an.reset_index().drop(columns = ['index'])\n",
        "\n",
        "t1_tip_activitate = t1_tip_activitate.reset_index().drop(columns = ['index'])\n",
        "t2_tip_activitate = t2_tip_activitate.reset_index().drop(columns = ['index'])\n",
        "t3_tip_activitate = t3_tip_activitate.reset_index().drop(columns = ['index'])\n",
        "t4_tip_activitate = t4_tip_activitate.reset_index().drop(columns = ['index'])\n",
        "\n",
        "t1_cod_caen = t1_cod_caen.reset_index().drop(columns = ['index'])\n",
        "t2_cod_caen = t2_cod_caen.reset_index().drop(columns = ['index'])\n",
        "t3_cod_caen = t3_cod_caen.reset_index().drop(columns = ['index'])\n",
        "t4_cod_caen = t4_cod_caen.reset_index().drop(columns = ['index'])\n",
        "\n",
        "x_val_t1 = x_val[[col for col in x_val.columns if 't1' in col]].drop(columns = ['t1_an', 't1_cod_caen', 't1_tip_activitate'])\n",
        "x_val_t2 = x_val[[col for col in x_val.columns if 't2' in col]].drop(columns = ['t2_an', 't2_cod_caen', 't2_tip_activitate'])\n",
        "x_val_t3 = x_val[[col for col in x_val.columns if 't3' in col]].drop(columns = ['t3_an', 't3_cod_caen', 't3_tip_activitate'])\n",
        "x_val_t4 = x_val[[col for col in x_val.columns if 't4' in col]].drop(columns = ['t4_an', 't4_cod_caen', 't4_tip_activitate'])"
      ],
      "execution_count": 0,
      "outputs": []
    },
    {
      "cell_type": "code",
      "metadata": {
        "id": "BOcsr8i0xtga",
        "colab_type": "code",
        "colab": {}
      },
      "source": [
        "x_val_t1_1_knn = KNN(k = 3, verbose = False).fit_transform(x_val_t1[:30000])\n",
        "x_val_t1_2_knn = KNN(k = 3, verbose = False).fit_transform(x_val_t1[30000:])\n",
        "\n",
        "x_val_t1 = pd.concat([pd.DataFrame(data = x_val_t1_1_knn, columns = x_val_t1.columns), \n",
        "                      pd.DataFrame(data = x_val_t1_2_knn, columns = x_val_t1.columns)])"
      ],
      "execution_count": 0,
      "outputs": []
    },
    {
      "cell_type": "code",
      "metadata": {
        "id": "xm2VaIiK0su-",
        "colab_type": "code",
        "colab": {}
      },
      "source": [
        "x_val_t2_1_knn = KNN(k = 3, verbose = False).fit_transform(x_val_t2[:30000])\n",
        "x_val_t2_2_knn = KNN(k = 3, verbose = False).fit_transform(x_val_t2[30000:])\n",
        "\n",
        "x_val_t2 = pd.concat([pd.DataFrame(data = x_val_t2_1_knn, columns = x_val_t2.columns), \n",
        "                      pd.DataFrame(data = x_val_t2_2_knn, columns = x_val_t2.columns)])"
      ],
      "execution_count": 0,
      "outputs": []
    },
    {
      "cell_type": "code",
      "metadata": {
        "id": "9VScMlGT0smM",
        "colab_type": "code",
        "colab": {}
      },
      "source": [
        "x_val_t3_1_knn = KNN(k = 3, verbose = False).fit_transform(x_val_t3[:30000])\n",
        "x_val_t3_2_knn = KNN(k = 3, verbose = False).fit_transform(x_val_t3[30000:])\n",
        "\n",
        "x_val_t3 = pd.concat([pd.DataFrame(data = x_val_t3_1_knn, columns = x_val_t3.columns), \n",
        "                      pd.DataFrame(data = x_val_t3_2_knn, columns = x_val_t3.columns)])"
      ],
      "execution_count": 0,
      "outputs": []
    },
    {
      "cell_type": "code",
      "metadata": {
        "id": "ql8ZFCvgxtyL",
        "colab_type": "code",
        "colab": {}
      },
      "source": [
        "x_val_t4_1_knn = KNN(k = 3, verbose = False).fit_transform(x_val_t4[:30000])\n",
        "x_val_t4_2_knn = KNN(k = 3, verbose = False).fit_transform(x_val_t4[30000:])\n",
        "\n",
        "x_val_t4 = pd.concat([pd.DataFrame(data = x_val_t4_1_knn, columns = x_val_t4.columns), \n",
        "                      pd.DataFrame(data = x_val_t4_2_knn, columns = x_val_t4.columns)])"
      ],
      "execution_count": 0,
      "outputs": []
    },
    {
      "cell_type": "code",
      "metadata": {
        "id": "1rqBS9h50xrd",
        "colab_type": "code",
        "colab": {}
      },
      "source": [
        "x_val_knn = pd.concat([x_val_t1, x_val_t2, x_val_t3, x_val_t4], axis = 1)"
      ],
      "execution_count": 0,
      "outputs": []
    },
    {
      "cell_type": "code",
      "metadata": {
        "id": "--0gpZb700wt",
        "colab_type": "code",
        "colab": {}
      },
      "source": [
        "scaler = StandardScaler()\n",
        "\n",
        "x_val_knn_scaled = pd.DataFrame(data = scaler.fit_transform(x_val_knn), columns = x_val_knn.columns)\n",
        "\n",
        "x_val_knn_scaled['t4_an'] = t4_an.to_numpy()\n",
        "x_val_knn_scaled['t1_an'] = t1_an.to_numpy()\n",
        "x_val_knn_scaled['t2_an'] = t2_an.to_numpy()\n",
        "x_val_knn_scaled['t3_an'] = t3_an.to_numpy()\n",
        "\n",
        "x_val_knn_scaled['t4_tip_activitate'] = t4_tip_activitate.to_numpy()\n",
        "x_val_knn_scaled['t1_tip_activitate'] = t1_tip_activitate.to_numpy()\n",
        "x_val_knn_scaled['t2_tip_activitate'] = t2_tip_activitate.to_numpy()\n",
        "x_val_knn_scaled['t3_tip_activitate'] = t3_tip_activitate.to_numpy()\n",
        "\n",
        "x_val_knn_scaled['t4_cod_caen'] = t4_cod_caen.to_numpy()\n",
        "x_val_knn_scaled['t1_cod_caen'] = t1_cod_caen.to_numpy()\n",
        "x_val_knn_scaled['t2_cod_caen'] = t2_cod_caen.to_numpy()\n",
        "x_val_knn_scaled['t3_cod_caen'] = t3_cod_caen.to_numpy()"
      ],
      "execution_count": 0,
      "outputs": []
    },
    {
      "cell_type": "code",
      "metadata": {
        "id": "42ML_vHY03k7",
        "colab_type": "code",
        "colab": {}
      },
      "source": [
        "x_val_knn_scaled.to_csv('/content/gdrive/My Drive/An 1 Masters/Big Data/project data/x_val_knn_scaled.csv', index = False)"
      ],
      "execution_count": 0,
      "outputs": []
    },
    {
      "cell_type": "code",
      "metadata": {
        "id": "iT8jDMLv03bV",
        "colab_type": "code",
        "colab": {}
      },
      "source": [
        "x_val_knn_normalized = pd.DataFrame(data = normalize(x_val_knn), columns = x_val_knn.columns)\n",
        "\n",
        "x_val_knn_normalized['t4_an'] = t4_an.to_numpy()\n",
        "x_val_knn_normalized['t1_an'] = t1_an.to_numpy()\n",
        "x_val_knn_normalized['t2_an'] = t2_an.to_numpy()\n",
        "x_val_knn_normalized['t3_an'] = t3_an.to_numpy()\n",
        "\n",
        "x_val_knn_normalized['t4_tip_activitate'] = t4_tip_activitate.to_numpy()\n",
        "x_val_knn_normalized['t1_tip_activitate'] = t1_tip_activitate.to_numpy()\n",
        "x_val_knn_normalized['t2_tip_activitate'] = t2_tip_activitate.to_numpy()\n",
        "x_val_knn_normalized['t3_tip_activitate'] = t3_tip_activitate.to_numpy()\n",
        "\n",
        "x_val_knn_normalized['t4_cod_caen'] = t4_cod_caen.to_numpy()\n",
        "x_val_knn_normalized['t1_cod_caen'] = t1_cod_caen.to_numpy()\n",
        "x_val_knn_normalized['t2_cod_caen'] = t2_cod_caen.to_numpy()\n",
        "x_val_knn_normalized['t3_cod_caen'] = t3_cod_caen.to_numpy()"
      ],
      "execution_count": 0,
      "outputs": []
    },
    {
      "cell_type": "code",
      "metadata": {
        "id": "ovj7KRpz03Rq",
        "colab_type": "code",
        "colab": {}
      },
      "source": [
        "x_val_knn_normalized.to_csv('/content/gdrive/My Drive/An 1 Masters/Big Data/project data/x_val_knn_normalized.csv', index = False)"
      ],
      "execution_count": 0,
      "outputs": []
    },
    {
      "cell_type": "markdown",
      "metadata": {
        "id": "zabdaW4LFuzi",
        "colab_type": "text"
      },
      "source": [
        "#### Test data"
      ]
    },
    {
      "cell_type": "code",
      "metadata": {
        "id": "7sHfpHmij1JX",
        "colab_type": "code",
        "colab": {}
      },
      "source": [
        "t0_an, t1_an, t2_an, t3_an = x_test['t0_an'], x_test['t1_an'], x_test['t2_an'], x_test['t3_an']\n",
        "t0_tip_activitate, t1_tip_activitate, t2_tip_activitate, t3_tip_activitate = x_test['t0_tip_activitate'], x_test['t1_tip_activitate'], \\\n",
        "                                                                              x_test['t2_tip_activitate'], x_test['t3_tip_activitate'], \n",
        "t0_cod_caen, t1_cod_caen, t2_cod_caen, t3_cod_caen = x_test['t0_cod_caen'], x_test['t1_cod_caen'], x_test['t2_cod_caen'], x_test['t3_cod_caen']\n",
        "\n",
        "t0_an = t0_an.reset_index().drop(columns = ['index'])\n",
        "t1_an = t1_an.reset_index().drop(columns = ['index'])\n",
        "t2_an = t2_an.reset_index().drop(columns = ['index'])\n",
        "t3_an = t3_an.reset_index().drop(columns = ['index'])\n",
        "\n",
        "t0_tip_activitate = t0_tip_activitate.reset_index().drop(columns = ['index'])\n",
        "t1_tip_activitate = t1_tip_activitate.reset_index().drop(columns = ['index'])\n",
        "t2_tip_activitate = t2_tip_activitate.reset_index().drop(columns = ['index'])\n",
        "t3_tip_activitate = t3_tip_activitate.reset_index().drop(columns = ['index'])\n",
        "\n",
        "t0_cod_caen = t0_cod_caen.reset_index().drop(columns = ['index'])\n",
        "t1_cod_caen = t1_cod_caen.reset_index().drop(columns = ['index'])\n",
        "t2_cod_caen = t2_cod_caen.reset_index().drop(columns = ['index'])\n",
        "t3_cod_caen = t3_cod_caen.reset_index().drop(columns = ['index'])\n",
        "\n",
        "x_test_t0 = x_test[[col for col in x_test.columns if 't0' in col]].drop(columns = ['t0_an', 't0_cod_caen', 't0_tip_activitate'])\n",
        "x_test_t1 = x_test[[col for col in x_test.columns if 't1' in col]].drop(columns = ['t1_an', 't1_cod_caen', 't1_tip_activitate'])\n",
        "x_test_t2 = x_test[[col for col in x_test.columns if 't2' in col]].drop(columns = ['t2_an', 't2_cod_caen', 't2_tip_activitate'])\n",
        "x_test_t3 = x_test[[col for col in x_test.columns if 't3' in col]].drop(columns = ['t3_an', 't3_cod_caen', 't3_tip_activitate'])"
      ],
      "execution_count": 0,
      "outputs": []
    },
    {
      "cell_type": "code",
      "metadata": {
        "id": "4t5jxlrbKKao",
        "colab_type": "code",
        "colab": {}
      },
      "source": [
        "x_test_t0_knn = KNN(k = 3, verbose = False).fit_transform(x_test_t0)\n",
        "x_test_t1_knn = KNN(k = 3, verbose = False).fit_transform(x_test_t1)\n",
        "x_test_t2_knn = KNN(k = 3, verbose = False).fit_transform(x_test_t2)\n",
        "x_test_t3_knn = KNN(k = 3, verbose = False).fit_transform(x_test_t3)\n",
        "\n",
        "x_test_knn = pd.concat([pd.DataFrame(data = x_test_t0_knn, columns = x_test_t0.columns),\n",
        "                        pd.DataFrame(data = x_test_t1_knn, columns = x_test_t1.columns),\n",
        "                        pd.DataFrame(data = x_test_t2_knn, columns = x_test_t2.columns),\n",
        "                        pd.DataFrame(data = x_test_t3_knn, columns = x_test_t3.columns)], axis = 1)"
      ],
      "execution_count": 0,
      "outputs": []
    },
    {
      "cell_type": "code",
      "metadata": {
        "id": "2HBCJgOiw1Hc",
        "colab_type": "code",
        "colab": {}
      },
      "source": [
        "for elem in x_test_knn.isna().sum():\n",
        "  if elem != 0:\n",
        "    print(elem)"
      ],
      "execution_count": 0,
      "outputs": []
    },
    {
      "cell_type": "code",
      "metadata": {
        "id": "XHfDTng5oJcv",
        "colab_type": "code",
        "colab": {}
      },
      "source": [
        "scaler = StandardScaler()\n",
        "\n",
        "x_test_knn_scaled = pd.DataFrame(data = scaler.fit_transform(x_test_knn), columns = x_test_knn.columns)\n",
        "\n",
        "x_test_knn_scaled['t0_an'] = t0_an.to_numpy()\n",
        "x_test_knn_scaled['t1_an'] = t1_an.to_numpy()\n",
        "x_test_knn_scaled['t2_an'] = t2_an.to_numpy()\n",
        "x_test_knn_scaled['t3_an'] = t3_an.to_numpy()\n",
        "\n",
        "x_test_knn_scaled['t0_tip_activitate'] = t0_tip_activitate.to_numpy()\n",
        "x_test_knn_scaled['t1_tip_activitate'] = t1_tip_activitate.to_numpy()\n",
        "x_test_knn_scaled['t2_tip_activitate'] = t2_tip_activitate.to_numpy()\n",
        "x_test_knn_scaled['t3_tip_activitate'] = t3_tip_activitate.to_numpy()\n",
        "\n",
        "x_test_knn_scaled['t0_cod_caen'] = t0_cod_caen.to_numpy()\n",
        "x_test_knn_scaled['t1_cod_caen'] = t1_cod_caen.to_numpy()\n",
        "x_test_knn_scaled['t2_cod_caen'] = t2_cod_caen.to_numpy()\n",
        "x_test_knn_scaled['t3_cod_caen'] = t3_cod_caen.to_numpy()"
      ],
      "execution_count": 0,
      "outputs": []
    },
    {
      "cell_type": "code",
      "metadata": {
        "id": "NDOy2f-pfkeL",
        "colab_type": "code",
        "colab": {}
      },
      "source": [
        "x_test_knn_scaled.to_csv('/content/gdrive/My Drive/An 1 Masters/Big Data/project data/x_test_knn_scaled.csv', index = False)"
      ],
      "execution_count": 0,
      "outputs": []
    },
    {
      "cell_type": "code",
      "metadata": {
        "id": "9s5hcpDuoJhu",
        "colab_type": "code",
        "colab": {}
      },
      "source": [
        "x_test_knn = x_test_knn.replace([np.inf], sys.maxsize)\n",
        "x_test_knn = x_test_knn.replace([-np.inf], -sys.maxsize-1)\n",
        "\n",
        "x_test_knn_normalized = pd.DataFrame(data = normalize(x_test_knn), columns = x_test_knn.columns)\n",
        "\n",
        "x_test_knn_normalized['t0_an'] = t0_an.to_numpy()\n",
        "x_test_knn_normalized['t1_an'] = t1_an.to_numpy()\n",
        "x_test_knn_normalized['t2_an'] = t2_an.to_numpy()\n",
        "x_test_knn_normalized['t3_an'] = t3_an.to_numpy()\n",
        "\n",
        "x_test_knn_normalized['t0_tip_activitate'] = t0_tip_activitate.to_numpy()\n",
        "x_test_knn_normalized['t1_tip_activitate'] = t1_tip_activitate.to_numpy()\n",
        "x_test_knn_normalized['t2_tip_activitate'] = t2_tip_activitate.to_numpy()\n",
        "x_test_knn_normalized['t3_tip_activitate'] = t3_tip_activitate.to_numpy()\n",
        "\n",
        "x_test_knn_normalized['t0_cod_caen'] = t0_cod_caen.to_numpy()\n",
        "x_test_knn_normalized['t1_cod_caen'] = t1_cod_caen.to_numpy()\n",
        "x_test_knn_normalized['t2_cod_caen'] = t2_cod_caen.to_numpy()\n",
        "x_test_knn_normalized['t3_cod_caen'] = t3_cod_caen.to_numpy()"
      ],
      "execution_count": 0,
      "outputs": []
    },
    {
      "cell_type": "code",
      "metadata": {
        "id": "9RdM7twjfk3B",
        "colab_type": "code",
        "colab": {}
      },
      "source": [
        "x_test_knn_normalized.to_csv('/content/gdrive/My Drive/An 1 Masters/Big Data/project data/x_test_knn_normalized.csv', index = False)"
      ],
      "execution_count": 0,
      "outputs": []
    },
    {
      "cell_type": "code",
      "metadata": {
        "id": "wTpI-0hR1pHp",
        "colab_type": "code",
        "colab": {}
      },
      "source": [
        "x_train_knn_scaled_fe = engineer_features(x_train_knn_scaled, 1, 5)\n",
        "x_train_knn_scaled_fe = x_train_knn_scaled_fe.replace([np.inf], sys.maxsize)\n",
        "x_train_knn_scaled_fe = x_train_knn_scaled_fe.replace([-np.inf], -sys.maxsize-1)\n",
        "x_train_knn_scaled_fe.to_csv('/content/gdrive/My Drive/An 1 Masters/Big Data/project data/x_train_knn_scaled_fe.csv', index = False)\n",
        "\n",
        "x_val_knn_scaled_fe = engineer_features(x_val_knn_scaled, 1, 5)\n",
        "x_val_knn_scaled_fe = x_val_knn_scaled_fe.replace([np.inf], sys.maxsize)\n",
        "x_val_knn_scaled_fe = x_val_knn_scaled_fe.replace([-np.inf], -sys.maxsize-1)\n",
        "x_val_knn_scaled_fe.to_csv('/content/gdrive/My Drive/An 1 Masters/Big Data/project data/x_val_knn_scaled_fe.csv', index = False)\n",
        "\n",
        "x_test_knn_scaled_fe = engineer_features(x_test_knn_scaled, 0, 4)\n",
        "x_test_knn_scaled_fe = x_test_knn_scaled_fe.replace([np.inf], sys.maxsize)\n",
        "x_test_knn_scaled_fe = x_test_knn_scaled_fe.replace([-np.inf], -sys.maxsize-1)\n",
        "x_test_knn_scaled_fe.to_csv('/content/gdrive/My Drive/An 1 Masters/Big Data/project data/x_test_knn_scaled_fe.csv', index = False)\n",
        "\n",
        "x_train_knn_normalized_fe = engineer_features(x_train_knn_normalized, 1, 5)\n",
        "x_train_knn_normalized_fe = x_train_knn_normalized_fe.replace([np.inf], sys.maxsize)\n",
        "x_train_knn_normalized_fe = x_train_knn_normalized_fe.replace([-np.inf], -sys.maxsize-1)\n",
        "x_train_knn_normalized_fe.to_csv('/content/gdrive/My Drive/An 1 Masters/Big Data/project data/x_train_knn_normalized_fe.csv', index = False)\n",
        "\n",
        "x_val_knn_normalized_fe = engineer_features(x_val_knn_normalized, 1, 5)\n",
        "x_val_knn_normalized_fe = x_val_knn_normalized_fe.replace([np.inf], sys.maxsize)\n",
        "x_val_knn_normalized_fe = x_val_knn_normalized_fe.replace([-np.inf], -sys.maxsize-1)\n",
        "x_val_knn_normalized_fe.to_csv('/content/gdrive/My Drive/An 1 Masters/Big Data/project data/x_val_knn_normalized_fe.csv', index = False)\n",
        "\n",
        "x_test_knn_normalized_fe = engineer_features(x_test_knn_normalized, 0, 4)\n",
        "x_test_knn_normalized_fe = x_test_knn_normalized_fe.replace([np.inf], sys.maxsize)\n",
        "x_test_knn_normalized_fe = x_test_knn_normalized_fe.replace([-np.inf], -sys.maxsize-1)\n",
        "x_test_knn_normalized_fe.to_csv('/content/gdrive/My Drive/An 1 Masters/Big Data/project data/x_test_knn_normalized_fe.csv', index = False)"
      ],
      "execution_count": 0,
      "outputs": []
    },
    {
      "cell_type": "markdown",
      "metadata": {
        "id": "NcJ_V38fr8Hi",
        "colab_type": "text"
      },
      "source": [
        "### Softimpute"
      ]
    },
    {
      "cell_type": "code",
      "metadata": {
        "id": "VHeJWm2exVGR",
        "colab_type": "code",
        "colab": {}
      },
      "source": [
        "x_train, y_train, x_val, y_val, x_test, y_test = x_train_init.copy(), y_train_init.copy(), x_val_init.copy(), y_val_init.copy(), x_test_init.copy(), y_test_init.copy()"
      ],
      "execution_count": 0,
      "outputs": []
    },
    {
      "cell_type": "markdown",
      "metadata": {
        "id": "7HEOeTSVxdrI",
        "colab_type": "text"
      },
      "source": [
        "#### Train data"
      ]
    },
    {
      "cell_type": "code",
      "metadata": {
        "id": "FrrUg2MJrG8V",
        "colab_type": "code",
        "colab": {}
      },
      "source": [
        "x_train, y_train = drop_rows_with_full_nan(x_train, y_train)\n",
        "\n",
        "t1_an, t2_an, t3_an, t4_an = x_train['t1_an'], x_train['t2_an'], x_train['t3_an'], x_train['t4_an']\n",
        "t1_tip_activitate, t2_tip_activitate, t3_tip_activitate, t4_tip_activitate = x_train['t1_tip_activitate'], x_train['t2_tip_activitate'], \\\n",
        "                                                                              x_train['t3_tip_activitate'], x_train['t4_tip_activitate'], \n",
        "t1_cod_caen, t2_cod_caen, t3_cod_caen, t4_cod_caen = x_train['t1_cod_caen'], x_train['t2_cod_caen'], x_train['t3_cod_caen'], x_train['t4_cod_caen']\n",
        "\n",
        "t4_an = t4_an.reset_index().drop(columns = ['index'])\n",
        "t1_an = t1_an.reset_index().drop(columns = ['index'])\n",
        "t2_an = t2_an.reset_index().drop(columns = ['index'])\n",
        "t3_an = t3_an.reset_index().drop(columns = ['index'])\n",
        "\n",
        "t4_tip_activitate = t4_tip_activitate.reset_index().drop(columns = ['index'])\n",
        "t1_tip_activitate = t1_tip_activitate.reset_index().drop(columns = ['index'])\n",
        "t2_tip_activitate = t2_tip_activitate.reset_index().drop(columns = ['index'])\n",
        "t3_tip_activitate = t3_tip_activitate.reset_index().drop(columns = ['index'])\n",
        "\n",
        "t4_cod_caen = t4_cod_caen.reset_index().drop(columns = ['index'])\n",
        "t1_cod_caen = t1_cod_caen.reset_index().drop(columns = ['index'])\n",
        "t2_cod_caen = t2_cod_caen.reset_index().drop(columns = ['index'])\n",
        "t3_cod_caen = t3_cod_caen.reset_index().drop(columns = ['index'])\n",
        "\n",
        "x_train = x_train.drop(columns = ['t1_an', 't1_cod_caen', 't1_tip_activitate', \n",
        "                                  't2_an', 't2_cod_caen', 't2_tip_activitate', \n",
        "                                  't3_an', 't3_cod_caen', 't3_tip_activitate',\n",
        "                                  't4_an', 't4_cod_caen', 't4_tip_activitate'])\n",
        "\n",
        "train_cols = x_train.columns"
      ],
      "execution_count": 0,
      "outputs": []
    },
    {
      "cell_type": "code",
      "metadata": {
        "id": "2xUFTnUkY2IQ",
        "colab_type": "code",
        "colab": {}
      },
      "source": [
        "x_train_norm = BiScaler(verbose = False).fit_transform(x_train.to_numpy().astype('float32'))\n",
        "x_train_norm_soft_np = SoftImpute(verbose = False).fit_transform(x_train_norm)\n",
        "x_train_norm_soft = pd.DataFrame(data = x_train_norm_soft_np, columns = train_cols)\n",
        "\n",
        "x_train_norm_soft['t1_an'] = t1_an.to_numpy()\n",
        "x_train_norm_soft['t2_an'] = t2_an.to_numpy()\n",
        "x_train_norm_soft['t3_an'] = t3_an.to_numpy()\n",
        "x_train_norm_soft['t4_an'] = t4_an.to_numpy()\n",
        "\n",
        "x_train_norm_soft['t1_tip_activitate'] = t1_tip_activitate.to_numpy()\n",
        "x_train_norm_soft['t2_tip_activitate'] = t2_tip_activitate.to_numpy()\n",
        "x_train_norm_soft['t3_tip_activitate'] = t3_tip_activitate.to_numpy()\n",
        "x_train_norm_soft['t4_tip_activitate'] = t4_tip_activitate.to_numpy()\n",
        "\n",
        "x_train_norm_soft['t1_cod_caen'] = t1_cod_caen.to_numpy()\n",
        "x_train_norm_soft['t2_cod_caen'] = t2_cod_caen.to_numpy()\n",
        "x_train_norm_soft['t3_cod_caen'] = t3_cod_caen.to_numpy()\n",
        "x_train_norm_soft['t4_cod_caen'] = t4_cod_caen.to_numpy()"
      ],
      "execution_count": 0,
      "outputs": []
    },
    {
      "cell_type": "code",
      "metadata": {
        "id": "19DxLpHHZFgG",
        "colab_type": "code",
        "colab": {}
      },
      "source": [
        "x_train_norm_soft_fe = engineer_features(x_train_norm_soft, 1, 5)\n",
        "x_train_norm_soft_fe = x_train_norm_soft_fe.replace([np.inf], sys.maxsize)\n",
        "x_train_norm_soft_fe = x_train_norm_soft_fe.replace([-np.inf], -sys.maxsize-1)\n",
        "x_train_norm_soft_fe.to_csv('/content/gdrive/My Drive/An 1 Masters/Big Data/project data/x_train_norm_soft_fe.csv', index = False)\n",
        "y_train.to_csv('/content/gdrive/My Drive/An 1 Masters/Big Data/project data/y_train_norm_soft_fe.csv', index = False)"
      ],
      "execution_count": 0,
      "outputs": []
    },
    {
      "cell_type": "markdown",
      "metadata": {
        "id": "v0geFAlIxiai",
        "colab_type": "text"
      },
      "source": [
        "#### Validation data"
      ]
    },
    {
      "cell_type": "code",
      "metadata": {
        "id": "n02Dovvkxh4h",
        "colab_type": "code",
        "colab": {}
      },
      "source": [
        "x_val, y_val = drop_rows_with_full_nan(x_val, y_val)\n",
        "\n",
        "t1_an, t2_an, t3_an, t4_an = x_val['t1_an'], x_val['t2_an'], x_val['t3_an'], x_val['t4_an']\n",
        "t1_tip_activitate, t2_tip_activitate, t3_tip_activitate, t4_tip_activitate = x_val['t1_tip_activitate'], x_val['t2_tip_activitate'], \\\n",
        "                                                                              x_val['t3_tip_activitate'], x_val['t4_tip_activitate'], \n",
        "t1_cod_caen, t2_cod_caen, t3_cod_caen, t4_cod_caen = x_val['t1_cod_caen'], x_val['t2_cod_caen'], x_val['t3_cod_caen'], x_val['t4_cod_caen']\n",
        "\n",
        "t4_an = t4_an.reset_index().drop(columns = ['index'])\n",
        "t1_an = t1_an.reset_index().drop(columns = ['index'])\n",
        "t2_an = t2_an.reset_index().drop(columns = ['index'])\n",
        "t3_an = t3_an.reset_index().drop(columns = ['index'])\n",
        "\n",
        "t4_tip_activitate = t4_tip_activitate.reset_index().drop(columns = ['index'])\n",
        "t1_tip_activitate = t1_tip_activitate.reset_index().drop(columns = ['index'])\n",
        "t2_tip_activitate = t2_tip_activitate.reset_index().drop(columns = ['index'])\n",
        "t3_tip_activitate = t3_tip_activitate.reset_index().drop(columns = ['index'])\n",
        "\n",
        "t4_cod_caen = t4_cod_caen.reset_index().drop(columns = ['index'])\n",
        "t1_cod_caen = t1_cod_caen.reset_index().drop(columns = ['index'])\n",
        "t2_cod_caen = t2_cod_caen.reset_index().drop(columns = ['index'])\n",
        "t3_cod_caen = t3_cod_caen.reset_index().drop(columns = ['index']) \n",
        "\n",
        "x_val = x_val.drop(columns = ['t1_an', 't1_cod_caen', 't1_tip_activitate', \n",
        "                              't2_an', 't2_cod_caen', 't2_tip_activitate', \n",
        "                              't3_an', 't3_cod_caen', 't3_tip_activitate',\n",
        "                              't4_an', 't4_cod_caen', 't4_tip_activitate'])\n",
        "\n",
        "val_cols = x_val.columns"
      ],
      "execution_count": 0,
      "outputs": []
    },
    {
      "cell_type": "code",
      "metadata": {
        "id": "-kbNHCZfxhpo",
        "colab_type": "code",
        "colab": {}
      },
      "source": [
        "x_val_norm = BiScaler(verbose = False).fit_transform(x_val.to_numpy().astype('float32'))\n",
        "x_val_norm_soft_np = SoftImpute(verbose = False).fit_transform(x_val_norm)\n",
        "x_val_norm_soft = pd.DataFrame(data = x_val_norm_soft_np, columns = val_cols)\n",
        "\n",
        "x_val_norm_soft['t1_an'] = t1_an.to_numpy()\n",
        "x_val_norm_soft['t2_an'] = t2_an.to_numpy()\n",
        "x_val_norm_soft['t3_an'] = t3_an.to_numpy()\n",
        "x_val_norm_soft['t4_an'] = t4_an.to_numpy()\n",
        "\n",
        "x_val_norm_soft['t1_tip_activitate'] = t1_tip_activitate.to_numpy()\n",
        "x_val_norm_soft['t2_tip_activitate'] = t2_tip_activitate.to_numpy()\n",
        "x_val_norm_soft['t3_tip_activitate'] = t3_tip_activitate.to_numpy()\n",
        "x_val_norm_soft['t4_tip_activitate'] = t4_tip_activitate.to_numpy()\n",
        "\n",
        "x_val_norm_soft['t1_cod_caen'] = t1_cod_caen.to_numpy()\n",
        "x_val_norm_soft['t2_cod_caen'] = t2_cod_caen.to_numpy()\n",
        "x_val_norm_soft['t3_cod_caen'] = t3_cod_caen.to_numpy()\n",
        "x_val_norm_soft['t4_cod_caen'] = t4_cod_caen.to_numpy()"
      ],
      "execution_count": 0,
      "outputs": []
    },
    {
      "cell_type": "code",
      "metadata": {
        "id": "rjELg0U0xhbS",
        "colab_type": "code",
        "colab": {}
      },
      "source": [
        "x_val_norm_soft_fe = engineer_features(x_val_norm_soft, 1, 5)\n",
        "x_val_norm_soft_fe = x_val_norm_soft_fe.replace([np.inf], sys.maxsize)\n",
        "x_val_norm_soft_fe = x_val_norm_soft_fe.replace([-np.inf], -sys.maxsize-1)\n",
        "x_val_norm_soft_fe.to_csv('/content/gdrive/My Drive/An 1 Masters/Big Data/project data/x_val_norm_soft_fe.csv', index = False)\n",
        "y_val.to_csv('/content/gdrive/My Drive/An 1 Masters/Big Data/project data/y_val_norm_soft_fe.csv', index = False)"
      ],
      "execution_count": 0,
      "outputs": []
    },
    {
      "cell_type": "markdown",
      "metadata": {
        "id": "nD07t3jdxhCY",
        "colab_type": "text"
      },
      "source": [
        "#### Test data"
      ]
    },
    {
      "cell_type": "code",
      "metadata": {
        "id": "xxa4CPVQAutR",
        "colab_type": "code",
        "colab": {}
      },
      "source": [
        "x_test, y_test = drop_rows_with_full_nan(x_test, y_test)\n",
        "\n",
        "t0_an, t1_an, t2_an, t3_an = x_test['t0_an'], x_test['t1_an'], x_test['t2_an'], x_test['t3_an']\n",
        "t0_tip_activitate, t1_tip_activitate, t2_tip_activitate, t3_tip_activitate = x_test['t0_tip_activitate'], x_test['t1_tip_activitate'], \\\n",
        "                                                                              x_test['t2_tip_activitate'], x_test['t3_tip_activitate'], \n",
        "t0_cod_caen, t1_cod_caen, t2_cod_caen, t3_cod_caen = x_test['t0_cod_caen'], x_test['t1_cod_caen'], x_test['t2_cod_caen'], x_test['t3_cod_caen']\n",
        "\n",
        "t0_an = t0_an.reset_index().drop(columns = ['index'])\n",
        "t1_an = t1_an.reset_index().drop(columns = ['index'])\n",
        "t2_an = t2_an.reset_index().drop(columns = ['index'])\n",
        "t3_an = t3_an.reset_index().drop(columns = ['index'])\n",
        "\n",
        "t0_tip_activitate = t0_tip_activitate.reset_index().drop(columns = ['index'])\n",
        "t1_tip_activitate = t1_tip_activitate.reset_index().drop(columns = ['index'])\n",
        "t2_tip_activitate = t2_tip_activitate.reset_index().drop(columns = ['index'])\n",
        "t3_tip_activitate = t3_tip_activitate.reset_index().drop(columns = ['index'])\n",
        "\n",
        "t0_cod_caen = t0_cod_caen.reset_index().drop(columns = ['index'])\n",
        "t1_cod_caen = t1_cod_caen.reset_index().drop(columns = ['index'])\n",
        "t2_cod_caen = t2_cod_caen.reset_index().drop(columns = ['index'])\n",
        "t3_cod_caen = t3_cod_caen.reset_index().drop(columns = ['index'])\n",
        "\n",
        "\n",
        "x_test = x_test.drop(columns = ['t1_an', 't1_cod_caen', 't1_tip_activitate', \n",
        "                                't2_an', 't2_cod_caen', 't2_tip_activitate', \n",
        "                                't3_an', 't3_cod_caen', 't3_tip_activitate',\n",
        "                                't0_an', 't0_cod_caen', 't0_tip_activitate'])\n",
        "\n",
        "test_cols = x_test.columns"
      ],
      "execution_count": 0,
      "outputs": []
    },
    {
      "cell_type": "code",
      "metadata": {
        "id": "7vhNJUDor8Hk",
        "colab_type": "code",
        "colab": {}
      },
      "source": [
        "x_test_norm = BiScaler(verbose = False).fit_transform(x_test.to_numpy().astype('float32'))\n",
        "x_test_norm_soft = SoftImpute(verbose = False).fit_transform(x_test_norm)\n",
        "x_test_norm_soft = pd.DataFrame(data = x_test_norm_soft, columns = test_cols)\n",
        "\n",
        "x_test_norm_soft['t0_an'] = t0_an.to_numpy()\n",
        "x_test_norm_soft['t1_an'] = t1_an.to_numpy()\n",
        "x_test_norm_soft['t2_an'] = t2_an.to_numpy()\n",
        "x_test_norm_soft['t3_an'] = t3_an.to_numpy()\n",
        "\n",
        "x_test_norm_soft['t0_tip_activitate'] = t0_tip_activitate.to_numpy()\n",
        "x_test_norm_soft['t1_tip_activitate'] = t1_tip_activitate.to_numpy()\n",
        "x_test_norm_soft['t2_tip_activitate'] = t2_tip_activitate.to_numpy()\n",
        "x_test_norm_soft['t3_tip_activitate'] = t3_tip_activitate.to_numpy()\n",
        "\n",
        "x_test_norm_soft['t0_cod_caen'] = t0_cod_caen.to_numpy()\n",
        "x_test_norm_soft['t1_cod_caen'] = t1_cod_caen.to_numpy()\n",
        "x_test_norm_soft['t2_cod_caen'] = t2_cod_caen.to_numpy()\n",
        "x_test_norm_soft['t3_cod_caen'] = t3_cod_caen.to_numpy()"
      ],
      "execution_count": 0,
      "outputs": []
    },
    {
      "cell_type": "code",
      "metadata": {
        "id": "yeNEzjY16jAe",
        "colab_type": "code",
        "colab": {}
      },
      "source": [
        "x_test_norm_soft_fe = engineer_features(x_test_norm_soft, 0, 4)\n",
        "x_test_norm_soft_fe = x_test_norm_soft_fe.replace([np.inf], sys.maxsize)\n",
        "x_test_norm_soft_fe = x_test_norm_soft_fe.replace([-np.inf], -sys.maxsize-1)\n",
        "x_test_norm_soft_fe.to_csv('/content/gdrive/My Drive/An 1 Masters/Big Data/project data/x_test_norm_soft_fe.csv', index = False)\n",
        "y_test.to_csv('/content/gdrive/My Drive/An 1 Masters/Big Data/project data/y_test_norm_soft_fe.csv', index = False)"
      ],
      "execution_count": 0,
      "outputs": []
    }
  ]
}