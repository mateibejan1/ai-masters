{
  "nbformat": 4,
  "nbformat_minor": 0,
  "metadata": {
    "accelerator": "GPU",
    "colab": {
      "name": "Matei Bejan 507 IRTM Project 2",
      "provenance": [],
      "collapsed_sections": [
        "9GvWTpysHDl3",
        "5C0QFendmdg8",
        "D1hkRC36mMxC",
        "U2goyeVFmKQy",
        "AeFFUnqWtXUy",
        "6A7Jd-UI-zAH",
        "8kOYqAtWXemv",
        "lZLLvet-Jbqi",
        "ZqGYKot-JgL8",
        "B_TnTwQ_Jgj5",
        "5Zs_tmy7Nb9F",
        "xgwd2xbMNdU8",
        "UG3VRgbDNfoD",
        "cx7qJFT7Jg8E",
        "Xl8rqAyM8Hrn",
        "EFxXVosGpFeg",
        "wdvqSShAYytt",
        "6I9yCmeSU7Ep",
        "Owpei57xFMvR",
        "C1-TGs7bTFmV",
        "F_DkrSMxTJbh",
        "QduP8GexWo22",
        "AzFrp88Wf8Y-",
        "-eyujNIEf5aO"
      ],
      "toc_visible": true,
      "machine_shape": "hm"
    },
    "kernelspec": {
      "display_name": "Python 3",
      "name": "python3"
    },
    "widgets": {
      "application/vnd.jupyter.widget-state+json": {
        "01a584bb4a0b47a99e9d0e5d94312692": {
          "model_module": "@jupyter-widgets/controls",
          "model_name": "HBoxModel",
          "state": {
            "_dom_classes": [],
            "_model_module": "@jupyter-widgets/controls",
            "_model_module_version": "1.5.0",
            "_model_name": "HBoxModel",
            "_view_count": null,
            "_view_module": "@jupyter-widgets/controls",
            "_view_module_version": "1.5.0",
            "_view_name": "HBoxView",
            "box_style": "",
            "children": [
              "IPY_MODEL_3187faf20af5460697abad11c0f9f25e",
              "IPY_MODEL_3a7db4c90ca641cdba86ca35a9dc7483"
            ],
            "layout": "IPY_MODEL_fe026c3e9e6947e4aa3a70d651c9cb60"
          }
        },
        "3187faf20af5460697abad11c0f9f25e": {
          "model_module": "@jupyter-widgets/controls",
          "model_name": "FloatProgressModel",
          "state": {
            "_dom_classes": [],
            "_model_module": "@jupyter-widgets/controls",
            "_model_module_version": "1.5.0",
            "_model_name": "FloatProgressModel",
            "_view_count": null,
            "_view_module": "@jupyter-widgets/controls",
            "_view_module_version": "1.5.0",
            "_view_name": "ProgressView",
            "bar_style": "success",
            "description": "Downloading: 100%",
            "description_tooltip": null,
            "layout": "IPY_MODEL_b5d3eeae3dac4df98773aac16114c8d3",
            "max": 213450,
            "min": 0,
            "orientation": "horizontal",
            "style": "IPY_MODEL_b7aed0aaa5da4289b0d60ae2a89ee1f8",
            "value": 213450
          }
        },
        "3a7db4c90ca641cdba86ca35a9dc7483": {
          "model_module": "@jupyter-widgets/controls",
          "model_name": "HTMLModel",
          "state": {
            "_dom_classes": [],
            "_model_module": "@jupyter-widgets/controls",
            "_model_module_version": "1.5.0",
            "_model_name": "HTMLModel",
            "_view_count": null,
            "_view_module": "@jupyter-widgets/controls",
            "_view_module_version": "1.5.0",
            "_view_name": "HTMLView",
            "description": "",
            "description_tooltip": null,
            "layout": "IPY_MODEL_3f17d35bd2ba41bbac7f2eecb0801dfc",
            "placeholder": "​",
            "style": "IPY_MODEL_8e3cd09b3872459eb8550e7f08e6aa43",
            "value": " 213k/213k [00:02&lt;00:00, 96.4kB/s]"
          }
        },
        "fe026c3e9e6947e4aa3a70d651c9cb60": {
          "model_module": "@jupyter-widgets/base",
          "model_name": "LayoutModel",
          "state": {
            "_model_module": "@jupyter-widgets/base",
            "_model_module_version": "1.2.0",
            "_model_name": "LayoutModel",
            "_view_count": null,
            "_view_module": "@jupyter-widgets/base",
            "_view_module_version": "1.2.0",
            "_view_name": "LayoutView",
            "align_content": null,
            "align_items": null,
            "align_self": null,
            "border": null,
            "bottom": null,
            "display": null,
            "flex": null,
            "flex_flow": null,
            "grid_area": null,
            "grid_auto_columns": null,
            "grid_auto_flow": null,
            "grid_auto_rows": null,
            "grid_column": null,
            "grid_gap": null,
            "grid_row": null,
            "grid_template_areas": null,
            "grid_template_columns": null,
            "grid_template_rows": null,
            "height": null,
            "justify_content": null,
            "justify_items": null,
            "left": null,
            "margin": null,
            "max_height": null,
            "max_width": null,
            "min_height": null,
            "min_width": null,
            "object_fit": null,
            "object_position": null,
            "order": null,
            "overflow": null,
            "overflow_x": null,
            "overflow_y": null,
            "padding": null,
            "right": null,
            "top": null,
            "visibility": null,
            "width": null
          }
        },
        "b5d3eeae3dac4df98773aac16114c8d3": {
          "model_module": "@jupyter-widgets/base",
          "model_name": "LayoutModel",
          "state": {
            "_model_module": "@jupyter-widgets/base",
            "_model_module_version": "1.2.0",
            "_model_name": "LayoutModel",
            "_view_count": null,
            "_view_module": "@jupyter-widgets/base",
            "_view_module_version": "1.2.0",
            "_view_name": "LayoutView",
            "align_content": null,
            "align_items": null,
            "align_self": null,
            "border": null,
            "bottom": null,
            "display": null,
            "flex": null,
            "flex_flow": null,
            "grid_area": null,
            "grid_auto_columns": null,
            "grid_auto_flow": null,
            "grid_auto_rows": null,
            "grid_column": null,
            "grid_gap": null,
            "grid_row": null,
            "grid_template_areas": null,
            "grid_template_columns": null,
            "grid_template_rows": null,
            "height": null,
            "justify_content": null,
            "justify_items": null,
            "left": null,
            "margin": null,
            "max_height": null,
            "max_width": null,
            "min_height": null,
            "min_width": null,
            "object_fit": null,
            "object_position": null,
            "order": null,
            "overflow": null,
            "overflow_x": null,
            "overflow_y": null,
            "padding": null,
            "right": null,
            "top": null,
            "visibility": null,
            "width": null
          }
        },
        "b7aed0aaa5da4289b0d60ae2a89ee1f8": {
          "model_module": "@jupyter-widgets/controls",
          "model_name": "ProgressStyleModel",
          "state": {
            "_model_module": "@jupyter-widgets/controls",
            "_model_module_version": "1.5.0",
            "_model_name": "ProgressStyleModel",
            "_view_count": null,
            "_view_module": "@jupyter-widgets/base",
            "_view_module_version": "1.2.0",
            "_view_name": "StyleView",
            "bar_color": null,
            "description_width": "initial"
          }
        },
        "3f17d35bd2ba41bbac7f2eecb0801dfc": {
          "model_module": "@jupyter-widgets/base",
          "model_name": "LayoutModel",
          "state": {
            "_model_module": "@jupyter-widgets/base",
            "_model_module_version": "1.2.0",
            "_model_name": "LayoutModel",
            "_view_count": null,
            "_view_module": "@jupyter-widgets/base",
            "_view_module_version": "1.2.0",
            "_view_name": "LayoutView",
            "align_content": null,
            "align_items": null,
            "align_self": null,
            "border": null,
            "bottom": null,
            "display": null,
            "flex": null,
            "flex_flow": null,
            "grid_area": null,
            "grid_auto_columns": null,
            "grid_auto_flow": null,
            "grid_auto_rows": null,
            "grid_column": null,
            "grid_gap": null,
            "grid_row": null,
            "grid_template_areas": null,
            "grid_template_columns": null,
            "grid_template_rows": null,
            "height": null,
            "justify_content": null,
            "justify_items": null,
            "left": null,
            "margin": null,
            "max_height": null,
            "max_width": null,
            "min_height": null,
            "min_width": null,
            "object_fit": null,
            "object_position": null,
            "order": null,
            "overflow": null,
            "overflow_x": null,
            "overflow_y": null,
            "padding": null,
            "right": null,
            "top": null,
            "visibility": null,
            "width": null
          }
        },
        "8e3cd09b3872459eb8550e7f08e6aa43": {
          "model_module": "@jupyter-widgets/controls",
          "model_name": "DescriptionStyleModel",
          "state": {
            "_model_module": "@jupyter-widgets/controls",
            "_model_module_version": "1.5.0",
            "_model_name": "DescriptionStyleModel",
            "_view_count": null,
            "_view_module": "@jupyter-widgets/base",
            "_view_module_version": "1.2.0",
            "_view_name": "StyleView",
            "description_width": ""
          }
        },
        "e3525c4133f74f7aaefa4891e75eb8aa": {
          "model_module": "@jupyter-widgets/controls",
          "model_name": "HBoxModel",
          "state": {
            "_dom_classes": [],
            "_model_module": "@jupyter-widgets/controls",
            "_model_module_version": "1.5.0",
            "_model_name": "HBoxModel",
            "_view_count": null,
            "_view_module": "@jupyter-widgets/controls",
            "_view_module_version": "1.5.0",
            "_view_name": "HBoxView",
            "box_style": "",
            "children": [
              "IPY_MODEL_a4168420d235464c9bfc1f14b9ae25ee",
              "IPY_MODEL_77dfc14378324bc18abb09d10c4a95bf"
            ],
            "layout": "IPY_MODEL_8628ecb0909c47ceb733b59ad65b4956"
          }
        },
        "a4168420d235464c9bfc1f14b9ae25ee": {
          "model_module": "@jupyter-widgets/controls",
          "model_name": "FloatProgressModel",
          "state": {
            "_dom_classes": [],
            "_model_module": "@jupyter-widgets/controls",
            "_model_module_version": "1.5.0",
            "_model_name": "FloatProgressModel",
            "_view_count": null,
            "_view_module": "@jupyter-widgets/controls",
            "_view_module_version": "1.5.0",
            "_view_name": "ProgressView",
            "bar_style": "success",
            "description": "Downloading: 100%",
            "description_tooltip": null,
            "layout": "IPY_MODEL_2fbb00f6fd6947d9bb13688c0aecbb71",
            "max": 435797,
            "min": 0,
            "orientation": "horizontal",
            "style": "IPY_MODEL_0b22d4fa215b4c418cde66e548b8d680",
            "value": 435797
          }
        },
        "77dfc14378324bc18abb09d10c4a95bf": {
          "model_module": "@jupyter-widgets/controls",
          "model_name": "HTMLModel",
          "state": {
            "_dom_classes": [],
            "_model_module": "@jupyter-widgets/controls",
            "_model_module_version": "1.5.0",
            "_model_name": "HTMLModel",
            "_view_count": null,
            "_view_module": "@jupyter-widgets/controls",
            "_view_module_version": "1.5.0",
            "_view_name": "HTMLView",
            "description": "",
            "description_tooltip": null,
            "layout": "IPY_MODEL_ef418f626d464833999d7ac3f0e0af4f",
            "placeholder": "​",
            "style": "IPY_MODEL_2b0e0a69e2eb42868d34f408465da0b5",
            "value": " 436k/436k [00:00&lt;00:00, 762kB/s]"
          }
        },
        "8628ecb0909c47ceb733b59ad65b4956": {
          "model_module": "@jupyter-widgets/base",
          "model_name": "LayoutModel",
          "state": {
            "_model_module": "@jupyter-widgets/base",
            "_model_module_version": "1.2.0",
            "_model_name": "LayoutModel",
            "_view_count": null,
            "_view_module": "@jupyter-widgets/base",
            "_view_module_version": "1.2.0",
            "_view_name": "LayoutView",
            "align_content": null,
            "align_items": null,
            "align_self": null,
            "border": null,
            "bottom": null,
            "display": null,
            "flex": null,
            "flex_flow": null,
            "grid_area": null,
            "grid_auto_columns": null,
            "grid_auto_flow": null,
            "grid_auto_rows": null,
            "grid_column": null,
            "grid_gap": null,
            "grid_row": null,
            "grid_template_areas": null,
            "grid_template_columns": null,
            "grid_template_rows": null,
            "height": null,
            "justify_content": null,
            "justify_items": null,
            "left": null,
            "margin": null,
            "max_height": null,
            "max_width": null,
            "min_height": null,
            "min_width": null,
            "object_fit": null,
            "object_position": null,
            "order": null,
            "overflow": null,
            "overflow_x": null,
            "overflow_y": null,
            "padding": null,
            "right": null,
            "top": null,
            "visibility": null,
            "width": null
          }
        },
        "2fbb00f6fd6947d9bb13688c0aecbb71": {
          "model_module": "@jupyter-widgets/base",
          "model_name": "LayoutModel",
          "state": {
            "_model_module": "@jupyter-widgets/base",
            "_model_module_version": "1.2.0",
            "_model_name": "LayoutModel",
            "_view_count": null,
            "_view_module": "@jupyter-widgets/base",
            "_view_module_version": "1.2.0",
            "_view_name": "LayoutView",
            "align_content": null,
            "align_items": null,
            "align_self": null,
            "border": null,
            "bottom": null,
            "display": null,
            "flex": null,
            "flex_flow": null,
            "grid_area": null,
            "grid_auto_columns": null,
            "grid_auto_flow": null,
            "grid_auto_rows": null,
            "grid_column": null,
            "grid_gap": null,
            "grid_row": null,
            "grid_template_areas": null,
            "grid_template_columns": null,
            "grid_template_rows": null,
            "height": null,
            "justify_content": null,
            "justify_items": null,
            "left": null,
            "margin": null,
            "max_height": null,
            "max_width": null,
            "min_height": null,
            "min_width": null,
            "object_fit": null,
            "object_position": null,
            "order": null,
            "overflow": null,
            "overflow_x": null,
            "overflow_y": null,
            "padding": null,
            "right": null,
            "top": null,
            "visibility": null,
            "width": null
          }
        },
        "0b22d4fa215b4c418cde66e548b8d680": {
          "model_module": "@jupyter-widgets/controls",
          "model_name": "ProgressStyleModel",
          "state": {
            "_model_module": "@jupyter-widgets/controls",
            "_model_module_version": "1.5.0",
            "_model_name": "ProgressStyleModel",
            "_view_count": null,
            "_view_module": "@jupyter-widgets/base",
            "_view_module_version": "1.2.0",
            "_view_name": "StyleView",
            "bar_color": null,
            "description_width": "initial"
          }
        },
        "ef418f626d464833999d7ac3f0e0af4f": {
          "model_module": "@jupyter-widgets/base",
          "model_name": "LayoutModel",
          "state": {
            "_model_module": "@jupyter-widgets/base",
            "_model_module_version": "1.2.0",
            "_model_name": "LayoutModel",
            "_view_count": null,
            "_view_module": "@jupyter-widgets/base",
            "_view_module_version": "1.2.0",
            "_view_name": "LayoutView",
            "align_content": null,
            "align_items": null,
            "align_self": null,
            "border": null,
            "bottom": null,
            "display": null,
            "flex": null,
            "flex_flow": null,
            "grid_area": null,
            "grid_auto_columns": null,
            "grid_auto_flow": null,
            "grid_auto_rows": null,
            "grid_column": null,
            "grid_gap": null,
            "grid_row": null,
            "grid_template_areas": null,
            "grid_template_columns": null,
            "grid_template_rows": null,
            "height": null,
            "justify_content": null,
            "justify_items": null,
            "left": null,
            "margin": null,
            "max_height": null,
            "max_width": null,
            "min_height": null,
            "min_width": null,
            "object_fit": null,
            "object_position": null,
            "order": null,
            "overflow": null,
            "overflow_x": null,
            "overflow_y": null,
            "padding": null,
            "right": null,
            "top": null,
            "visibility": null,
            "width": null
          }
        },
        "2b0e0a69e2eb42868d34f408465da0b5": {
          "model_module": "@jupyter-widgets/controls",
          "model_name": "DescriptionStyleModel",
          "state": {
            "_model_module": "@jupyter-widgets/controls",
            "_model_module_version": "1.5.0",
            "_model_name": "DescriptionStyleModel",
            "_view_count": null,
            "_view_module": "@jupyter-widgets/base",
            "_view_module_version": "1.2.0",
            "_view_name": "StyleView",
            "description_width": ""
          }
        },
        "95f8348445ca466ba3a68fbe1189d9b7": {
          "model_module": "@jupyter-widgets/controls",
          "model_name": "HBoxModel",
          "state": {
            "_dom_classes": [],
            "_model_module": "@jupyter-widgets/controls",
            "_model_module_version": "1.5.0",
            "_model_name": "HBoxModel",
            "_view_count": null,
            "_view_module": "@jupyter-widgets/controls",
            "_view_module_version": "1.5.0",
            "_view_name": "HBoxView",
            "box_style": "",
            "children": [
              "IPY_MODEL_1d6571ea29f241c69c9de8cba87d9dcd",
              "IPY_MODEL_cc0db302c2f64145ab0080c59d3a8a41"
            ],
            "layout": "IPY_MODEL_8aa6fcca4a454eba980d6e4deaf99ac5"
          }
        },
        "1d6571ea29f241c69c9de8cba87d9dcd": {
          "model_module": "@jupyter-widgets/controls",
          "model_name": "FloatProgressModel",
          "state": {
            "_dom_classes": [],
            "_model_module": "@jupyter-widgets/controls",
            "_model_module_version": "1.5.0",
            "_model_name": "FloatProgressModel",
            "_view_count": null,
            "_view_module": "@jupyter-widgets/controls",
            "_view_module_version": "1.5.0",
            "_view_name": "ProgressView",
            "bar_style": "success",
            "description": "Downloading: 100%",
            "description_tooltip": null,
            "layout": "IPY_MODEL_b2a35defb5c243068126a24260ec82d8",
            "max": 473,
            "min": 0,
            "orientation": "horizontal",
            "style": "IPY_MODEL_fc0fb897ef3e4536b1d3baa33f03419a",
            "value": 473
          }
        },
        "cc0db302c2f64145ab0080c59d3a8a41": {
          "model_module": "@jupyter-widgets/controls",
          "model_name": "HTMLModel",
          "state": {
            "_dom_classes": [],
            "_model_module": "@jupyter-widgets/controls",
            "_model_module_version": "1.5.0",
            "_model_name": "HTMLModel",
            "_view_count": null,
            "_view_module": "@jupyter-widgets/controls",
            "_view_module_version": "1.5.0",
            "_view_name": "HTMLView",
            "description": "",
            "description_tooltip": null,
            "layout": "IPY_MODEL_acabc3f5b41545b6863e3d41d7ada4d3",
            "placeholder": "​",
            "style": "IPY_MODEL_58404ea8fd0d440c88faa02d069af85f",
            "value": " 473/473 [00:20&lt;00:00, 22.8B/s]"
          }
        },
        "8aa6fcca4a454eba980d6e4deaf99ac5": {
          "model_module": "@jupyter-widgets/base",
          "model_name": "LayoutModel",
          "state": {
            "_model_module": "@jupyter-widgets/base",
            "_model_module_version": "1.2.0",
            "_model_name": "LayoutModel",
            "_view_count": null,
            "_view_module": "@jupyter-widgets/base",
            "_view_module_version": "1.2.0",
            "_view_name": "LayoutView",
            "align_content": null,
            "align_items": null,
            "align_self": null,
            "border": null,
            "bottom": null,
            "display": null,
            "flex": null,
            "flex_flow": null,
            "grid_area": null,
            "grid_auto_columns": null,
            "grid_auto_flow": null,
            "grid_auto_rows": null,
            "grid_column": null,
            "grid_gap": null,
            "grid_row": null,
            "grid_template_areas": null,
            "grid_template_columns": null,
            "grid_template_rows": null,
            "height": null,
            "justify_content": null,
            "justify_items": null,
            "left": null,
            "margin": null,
            "max_height": null,
            "max_width": null,
            "min_height": null,
            "min_width": null,
            "object_fit": null,
            "object_position": null,
            "order": null,
            "overflow": null,
            "overflow_x": null,
            "overflow_y": null,
            "padding": null,
            "right": null,
            "top": null,
            "visibility": null,
            "width": null
          }
        },
        "b2a35defb5c243068126a24260ec82d8": {
          "model_module": "@jupyter-widgets/base",
          "model_name": "LayoutModel",
          "state": {
            "_model_module": "@jupyter-widgets/base",
            "_model_module_version": "1.2.0",
            "_model_name": "LayoutModel",
            "_view_count": null,
            "_view_module": "@jupyter-widgets/base",
            "_view_module_version": "1.2.0",
            "_view_name": "LayoutView",
            "align_content": null,
            "align_items": null,
            "align_self": null,
            "border": null,
            "bottom": null,
            "display": null,
            "flex": null,
            "flex_flow": null,
            "grid_area": null,
            "grid_auto_columns": null,
            "grid_auto_flow": null,
            "grid_auto_rows": null,
            "grid_column": null,
            "grid_gap": null,
            "grid_row": null,
            "grid_template_areas": null,
            "grid_template_columns": null,
            "grid_template_rows": null,
            "height": null,
            "justify_content": null,
            "justify_items": null,
            "left": null,
            "margin": null,
            "max_height": null,
            "max_width": null,
            "min_height": null,
            "min_width": null,
            "object_fit": null,
            "object_position": null,
            "order": null,
            "overflow": null,
            "overflow_x": null,
            "overflow_y": null,
            "padding": null,
            "right": null,
            "top": null,
            "visibility": null,
            "width": null
          }
        },
        "fc0fb897ef3e4536b1d3baa33f03419a": {
          "model_module": "@jupyter-widgets/controls",
          "model_name": "ProgressStyleModel",
          "state": {
            "_model_module": "@jupyter-widgets/controls",
            "_model_module_version": "1.5.0",
            "_model_name": "ProgressStyleModel",
            "_view_count": null,
            "_view_module": "@jupyter-widgets/base",
            "_view_module_version": "1.2.0",
            "_view_name": "StyleView",
            "bar_color": null,
            "description_width": "initial"
          }
        },
        "acabc3f5b41545b6863e3d41d7ada4d3": {
          "model_module": "@jupyter-widgets/base",
          "model_name": "LayoutModel",
          "state": {
            "_model_module": "@jupyter-widgets/base",
            "_model_module_version": "1.2.0",
            "_model_name": "LayoutModel",
            "_view_count": null,
            "_view_module": "@jupyter-widgets/base",
            "_view_module_version": "1.2.0",
            "_view_name": "LayoutView",
            "align_content": null,
            "align_items": null,
            "align_self": null,
            "border": null,
            "bottom": null,
            "display": null,
            "flex": null,
            "flex_flow": null,
            "grid_area": null,
            "grid_auto_columns": null,
            "grid_auto_flow": null,
            "grid_auto_rows": null,
            "grid_column": null,
            "grid_gap": null,
            "grid_row": null,
            "grid_template_areas": null,
            "grid_template_columns": null,
            "grid_template_rows": null,
            "height": null,
            "justify_content": null,
            "justify_items": null,
            "left": null,
            "margin": null,
            "max_height": null,
            "max_width": null,
            "min_height": null,
            "min_width": null,
            "object_fit": null,
            "object_position": null,
            "order": null,
            "overflow": null,
            "overflow_x": null,
            "overflow_y": null,
            "padding": null,
            "right": null,
            "top": null,
            "visibility": null,
            "width": null
          }
        },
        "58404ea8fd0d440c88faa02d069af85f": {
          "model_module": "@jupyter-widgets/controls",
          "model_name": "DescriptionStyleModel",
          "state": {
            "_model_module": "@jupyter-widgets/controls",
            "_model_module_version": "1.5.0",
            "_model_name": "DescriptionStyleModel",
            "_view_count": null,
            "_view_module": "@jupyter-widgets/base",
            "_view_module_version": "1.2.0",
            "_view_name": "StyleView",
            "description_width": ""
          }
        },
        "0798c452e6bd4d7b852fa65693531f63": {
          "model_module": "@jupyter-widgets/controls",
          "model_name": "HBoxModel",
          "state": {
            "_dom_classes": [],
            "_model_module": "@jupyter-widgets/controls",
            "_model_module_version": "1.5.0",
            "_model_name": "HBoxModel",
            "_view_count": null,
            "_view_module": "@jupyter-widgets/controls",
            "_view_module_version": "1.5.0",
            "_view_name": "HBoxView",
            "box_style": "",
            "children": [
              "IPY_MODEL_02df3c58ae5d4cfe8f2585ab166844a8",
              "IPY_MODEL_d9970b50616d47198dab1d6d3397cf6e"
            ],
            "layout": "IPY_MODEL_557895e18e1a4538b828cbbc90bd5d44"
          }
        },
        "02df3c58ae5d4cfe8f2585ab166844a8": {
          "model_module": "@jupyter-widgets/controls",
          "model_name": "FloatProgressModel",
          "state": {
            "_dom_classes": [],
            "_model_module": "@jupyter-widgets/controls",
            "_model_module_version": "1.5.0",
            "_model_name": "FloatProgressModel",
            "_view_count": null,
            "_view_module": "@jupyter-widgets/controls",
            "_view_module_version": "1.5.0",
            "_view_name": "ProgressView",
            "bar_style": "success",
            "description": "Downloading: 100%",
            "description_tooltip": null,
            "layout": "IPY_MODEL_4952afcd347044a49903a6361a3ee943",
            "max": 260793700,
            "min": 0,
            "orientation": "horizontal",
            "style": "IPY_MODEL_c857dfb9d4bc4a4c8d19db663b3729c2",
            "value": 260793700
          }
        },
        "d9970b50616d47198dab1d6d3397cf6e": {
          "model_module": "@jupyter-widgets/controls",
          "model_name": "HTMLModel",
          "state": {
            "_dom_classes": [],
            "_model_module": "@jupyter-widgets/controls",
            "_model_module_version": "1.5.0",
            "_model_name": "HTMLModel",
            "_view_count": null,
            "_view_module": "@jupyter-widgets/controls",
            "_view_module_version": "1.5.0",
            "_view_name": "HTMLView",
            "description": "",
            "description_tooltip": null,
            "layout": "IPY_MODEL_fc63a0aec1dc4b6eb2f122e08d8b2419",
            "placeholder": "​",
            "style": "IPY_MODEL_e815b6b97ac14125b9a77f2556f52b98",
            "value": " 261M/261M [00:04&lt;00:00, 63.3MB/s]"
          }
        },
        "557895e18e1a4538b828cbbc90bd5d44": {
          "model_module": "@jupyter-widgets/base",
          "model_name": "LayoutModel",
          "state": {
            "_model_module": "@jupyter-widgets/base",
            "_model_module_version": "1.2.0",
            "_model_name": "LayoutModel",
            "_view_count": null,
            "_view_module": "@jupyter-widgets/base",
            "_view_module_version": "1.2.0",
            "_view_name": "LayoutView",
            "align_content": null,
            "align_items": null,
            "align_self": null,
            "border": null,
            "bottom": null,
            "display": null,
            "flex": null,
            "flex_flow": null,
            "grid_area": null,
            "grid_auto_columns": null,
            "grid_auto_flow": null,
            "grid_auto_rows": null,
            "grid_column": null,
            "grid_gap": null,
            "grid_row": null,
            "grid_template_areas": null,
            "grid_template_columns": null,
            "grid_template_rows": null,
            "height": null,
            "justify_content": null,
            "justify_items": null,
            "left": null,
            "margin": null,
            "max_height": null,
            "max_width": null,
            "min_height": null,
            "min_width": null,
            "object_fit": null,
            "object_position": null,
            "order": null,
            "overflow": null,
            "overflow_x": null,
            "overflow_y": null,
            "padding": null,
            "right": null,
            "top": null,
            "visibility": null,
            "width": null
          }
        },
        "4952afcd347044a49903a6361a3ee943": {
          "model_module": "@jupyter-widgets/base",
          "model_name": "LayoutModel",
          "state": {
            "_model_module": "@jupyter-widgets/base",
            "_model_module_version": "1.2.0",
            "_model_name": "LayoutModel",
            "_view_count": null,
            "_view_module": "@jupyter-widgets/base",
            "_view_module_version": "1.2.0",
            "_view_name": "LayoutView",
            "align_content": null,
            "align_items": null,
            "align_self": null,
            "border": null,
            "bottom": null,
            "display": null,
            "flex": null,
            "flex_flow": null,
            "grid_area": null,
            "grid_auto_columns": null,
            "grid_auto_flow": null,
            "grid_auto_rows": null,
            "grid_column": null,
            "grid_gap": null,
            "grid_row": null,
            "grid_template_areas": null,
            "grid_template_columns": null,
            "grid_template_rows": null,
            "height": null,
            "justify_content": null,
            "justify_items": null,
            "left": null,
            "margin": null,
            "max_height": null,
            "max_width": null,
            "min_height": null,
            "min_width": null,
            "object_fit": null,
            "object_position": null,
            "order": null,
            "overflow": null,
            "overflow_x": null,
            "overflow_y": null,
            "padding": null,
            "right": null,
            "top": null,
            "visibility": null,
            "width": null
          }
        },
        "c857dfb9d4bc4a4c8d19db663b3729c2": {
          "model_module": "@jupyter-widgets/controls",
          "model_name": "ProgressStyleModel",
          "state": {
            "_model_module": "@jupyter-widgets/controls",
            "_model_module_version": "1.5.0",
            "_model_name": "ProgressStyleModel",
            "_view_count": null,
            "_view_module": "@jupyter-widgets/base",
            "_view_module_version": "1.2.0",
            "_view_name": "StyleView",
            "bar_color": null,
            "description_width": "initial"
          }
        },
        "fc63a0aec1dc4b6eb2f122e08d8b2419": {
          "model_module": "@jupyter-widgets/base",
          "model_name": "LayoutModel",
          "state": {
            "_model_module": "@jupyter-widgets/base",
            "_model_module_version": "1.2.0",
            "_model_name": "LayoutModel",
            "_view_count": null,
            "_view_module": "@jupyter-widgets/base",
            "_view_module_version": "1.2.0",
            "_view_name": "LayoutView",
            "align_content": null,
            "align_items": null,
            "align_self": null,
            "border": null,
            "bottom": null,
            "display": null,
            "flex": null,
            "flex_flow": null,
            "grid_area": null,
            "grid_auto_columns": null,
            "grid_auto_flow": null,
            "grid_auto_rows": null,
            "grid_column": null,
            "grid_gap": null,
            "grid_row": null,
            "grid_template_areas": null,
            "grid_template_columns": null,
            "grid_template_rows": null,
            "height": null,
            "justify_content": null,
            "justify_items": null,
            "left": null,
            "margin": null,
            "max_height": null,
            "max_width": null,
            "min_height": null,
            "min_width": null,
            "object_fit": null,
            "object_position": null,
            "order": null,
            "overflow": null,
            "overflow_x": null,
            "overflow_y": null,
            "padding": null,
            "right": null,
            "top": null,
            "visibility": null,
            "width": null
          }
        },
        "e815b6b97ac14125b9a77f2556f52b98": {
          "model_module": "@jupyter-widgets/controls",
          "model_name": "DescriptionStyleModel",
          "state": {
            "_model_module": "@jupyter-widgets/controls",
            "_model_module_version": "1.5.0",
            "_model_name": "DescriptionStyleModel",
            "_view_count": null,
            "_view_module": "@jupyter-widgets/base",
            "_view_module_version": "1.2.0",
            "_view_name": "StyleView",
            "description_width": ""
          }
        }
      }
    }
  },
  "cells": [
    {
      "cell_type": "markdown",
      "metadata": {
        "id": "_C5-Xb0tapWD"
      },
      "source": [
        "# **IRTM Text Mining Project: Song Genre Classification**\n",
        "### Author: Matei Bejan, Group: 507"
      ]
    },
    {
      "cell_type": "markdown",
      "metadata": {
        "id": "9GvWTpysHDl3"
      },
      "source": [
        "## Download and Import Necessary Libraries"
      ]
    },
    {
      "cell_type": "markdown",
      "metadata": {
        "id": "78jxBXzubICN"
      },
      "source": [
        "Connect to Google Drive."
      ]
    },
    {
      "cell_type": "code",
      "metadata": {
        "colab": {
          "base_uri": "https://localhost:8080/"
        },
        "id": "EocqWjAhsH1b",
        "outputId": "fceac14c-6e5e-4ca7-b5aa-6877905198f9"
      },
      "source": [
        "from google.colab import drive\n",
        "drive.mount('/content/drive')"
      ],
      "execution_count": null,
      "outputs": [
        {
          "output_type": "stream",
          "text": [
            "Mounted at /content/drive\n"
          ],
          "name": "stdout"
        }
      ]
    },
    {
      "cell_type": "markdown",
      "metadata": {
        "id": "AkRasQU3bDq0"
      },
      "source": [
        "Download all necessary text processing NLTK packages."
      ]
    },
    {
      "cell_type": "code",
      "metadata": {
        "colab": {
          "base_uri": "https://localhost:8080/"
        },
        "id": "ZqsjQtcgsBpQ",
        "outputId": "f2d4bf44-9f50-478a-e8ed-e98f654c5508"
      },
      "source": [
        "import nltk\n",
        "nltk.download('punkt')\n",
        "nltk.download('stopwords')\n",
        "nltk.download('wordnet')"
      ],
      "execution_count": null,
      "outputs": [
        {
          "output_type": "stream",
          "text": [
            "[nltk_data] Downloading package punkt to /root/nltk_data...\n",
            "[nltk_data]   Unzipping tokenizers/punkt.zip.\n",
            "[nltk_data] Downloading package stopwords to /root/nltk_data...\n",
            "[nltk_data]   Unzipping corpora/stopwords.zip.\n",
            "[nltk_data] Downloading package wordnet to /root/nltk_data...\n",
            "[nltk_data]   Unzipping corpora/wordnet.zip.\n"
          ],
          "name": "stdout"
        },
        {
          "output_type": "execute_result",
          "data": {
            "text/plain": [
              "True"
            ]
          },
          "metadata": {
            "tags": []
          },
          "execution_count": 2
        }
      ]
    },
    {
      "cell_type": "markdown",
      "metadata": {
        "id": "lv9Td7obbKxN"
      },
      "source": [
        "Install all libraries needed for the **Create Lyrics-Metadata Dataset**. The usage of the downloaded libraries is as follows:\n",
        "\n",
        "1. `pyphen` - split words into syllables.\n",
        "2. `pronouncing` - retrieves the phonetic spelling of words as per the CMU Pronouncing Dictionary.\n",
        "3. `langdetect` - detect language of lyrics.\n",
        "4. `musicbraings` - originally intended for retrieving song length, but the API malfunctioned at the time. `nested-lookup` was needed to search for the `length` key in the JSON response.\n",
        "5. `spotipy` - call the Spotify API to retrieve song metadata.\n"
      ]
    },
    {
      "cell_type": "code",
      "metadata": {
        "colab": {
          "base_uri": "https://localhost:8080/"
        },
        "id": "q5VV17WXFvdZ",
        "outputId": "d05385da-5f0d-4b34-cd8a-5ed449095cdb"
      },
      "source": [
        "!pip install pyphen\n",
        "!pip install pronouncing\n",
        "!pip install langdetect\n",
        "!pip install musicbrainzngs\n",
        "!pip install nested-lookup\n",
        "!pip install spotipy"
      ],
      "execution_count": null,
      "outputs": [
        {
          "output_type": "stream",
          "text": [
            "Collecting pyphen\n",
            "\u001b[?25l  Downloading https://files.pythonhosted.org/packages/7c/5a/5bc036e01389bc6a6667a932bac3e388de6e7fa5777a6ff50e652f60ec79/Pyphen-0.10.0-py3-none-any.whl (1.9MB)\n",
            "\u001b[K     |████████████████████████████████| 1.9MB 4.1MB/s \n",
            "\u001b[?25hInstalling collected packages: pyphen\n",
            "Successfully installed pyphen-0.10.0\n",
            "Collecting pronouncing\n",
            "  Downloading https://files.pythonhosted.org/packages/7f/c6/9dc74a3ddca71c492e224116b6654592bfe5717b4a78582e4d9c3345d153/pronouncing-0.2.0.tar.gz\n",
            "Collecting cmudict>=0.4.0\n",
            "\u001b[?25l  Downloading https://files.pythonhosted.org/packages/a2/77/f009abf803286876fa99cb7bd9d1132c7b64a0b34a0360666275ce1bc733/cmudict-0.4.5-py2.py3-none-any.whl (939kB)\n",
            "\u001b[K     |████████████████████████████████| 942kB 5.7MB/s \n",
            "\u001b[?25hBuilding wheels for collected packages: pronouncing\n",
            "  Building wheel for pronouncing (setup.py) ... \u001b[?25l\u001b[?25hdone\n",
            "  Created wheel for pronouncing: filename=pronouncing-0.2.0-py2.py3-none-any.whl size=6223 sha256=047e72ec9f292b7767210c98ba7b364dda17c197bf79ab5eb3863d05c095e74d\n",
            "  Stored in directory: /root/.cache/pip/wheels/81/fd/e8/fb1a226f707c7e20dbed4c43f81b819d279ffd3b0e2f06ee13\n",
            "Successfully built pronouncing\n",
            "Installing collected packages: cmudict, pronouncing\n",
            "Successfully installed cmudict-0.4.5 pronouncing-0.2.0\n",
            "Collecting langdetect\n",
            "\u001b[?25l  Downloading https://files.pythonhosted.org/packages/56/a3/8407c1e62d5980188b4acc45ef3d94b933d14a2ebc9ef3505f22cf772570/langdetect-1.0.8.tar.gz (981kB)\n",
            "\u001b[K     |████████████████████████████████| 983kB 4.1MB/s \n",
            "\u001b[?25hRequirement already satisfied: six in /usr/local/lib/python3.6/dist-packages (from langdetect) (1.15.0)\n",
            "Building wheels for collected packages: langdetect\n",
            "  Building wheel for langdetect (setup.py) ... \u001b[?25l\u001b[?25hdone\n",
            "  Created wheel for langdetect: filename=langdetect-1.0.8-cp36-none-any.whl size=993194 sha256=562d2af002732c9692b6ed22818d1487c24c47b2e1c836b81b27041e7325de67\n",
            "  Stored in directory: /root/.cache/pip/wheels/8d/b3/aa/6d99de9f3841d7d3d40a60ea06e6d669e8e5012e6c8b947a57\n",
            "Successfully built langdetect\n",
            "Installing collected packages: langdetect\n",
            "Successfully installed langdetect-1.0.8\n",
            "Collecting musicbrainzngs\n",
            "  Downloading https://files.pythonhosted.org/packages/6d/fd/cef7b2580436910ccd2f8d3deec0f3c81743e15c0eb5b97dde3fbf33c0c8/musicbrainzngs-0.7.1-py2.py3-none-any.whl\n",
            "Installing collected packages: musicbrainzngs\n",
            "Successfully installed musicbrainzngs-0.7.1\n",
            "Collecting nested-lookup\n",
            "  Downloading https://files.pythonhosted.org/packages/f1/79/dc192693dca32432ce3d7adedf449da5b145c6380188254da484ab3cb779/nested-lookup-0.2.21.tar.gz\n",
            "Requirement already satisfied: six in /usr/local/lib/python3.6/dist-packages (from nested-lookup) (1.15.0)\n",
            "Building wheels for collected packages: nested-lookup\n",
            "  Building wheel for nested-lookup (setup.py) ... \u001b[?25l\u001b[?25hdone\n",
            "  Created wheel for nested-lookup: filename=nested_lookup-0.2.21-cp36-none-any.whl size=7577 sha256=f0362d5e8413c5d1e51cb4a3a2d76cd0e60d435fac07f90a399b13b04ec021eb\n",
            "  Stored in directory: /root/.cache/pip/wheels/cd/b4/f1/764f97bfa4c8a26e44eb2dc988e0ac8e918e54d9858ae6a349\n",
            "Successfully built nested-lookup\n",
            "Installing collected packages: nested-lookup\n",
            "Successfully installed nested-lookup-0.2.21\n",
            "Collecting spotipy\n",
            "  Downloading https://files.pythonhosted.org/packages/7a/cd/e7d9a35216ea5bfb9234785f3d8fa7c96d0e33999c2cb72394128f6b4cce/spotipy-2.16.1-py3-none-any.whl\n",
            "Requirement already satisfied: six>=1.10.0 in /usr/local/lib/python3.6/dist-packages (from spotipy) (1.15.0)\n",
            "Requirement already satisfied: requests>=2.20.0 in /usr/local/lib/python3.6/dist-packages (from spotipy) (2.23.0)\n",
            "Requirement already satisfied: urllib3!=1.25.0,!=1.25.1,<1.26,>=1.21.1 in /usr/local/lib/python3.6/dist-packages (from requests>=2.20.0->spotipy) (1.24.3)\n",
            "Requirement already satisfied: idna<3,>=2.5 in /usr/local/lib/python3.6/dist-packages (from requests>=2.20.0->spotipy) (2.10)\n",
            "Requirement already satisfied: certifi>=2017.4.17 in /usr/local/lib/python3.6/dist-packages (from requests>=2.20.0->spotipy) (2020.12.5)\n",
            "Requirement already satisfied: chardet<4,>=3.0.2 in /usr/local/lib/python3.6/dist-packages (from requests>=2.20.0->spotipy) (3.0.4)\n",
            "Installing collected packages: spotipy\n",
            "Successfully installed spotipy-2.16.1\n"
          ],
          "name": "stdout"
        }
      ]
    },
    {
      "cell_type": "code",
      "metadata": {
        "id": "kc5QplWnsGLu"
      },
      "source": [
        "import os, glob, requests, uuid, json, re, random, itertools, math\n",
        "import pandas as pd\n",
        "import numpy as np\n",
        "\n",
        "import matplotlib.pyplot as plt\n",
        "% matplotlib inline\n",
        "import seaborn as sns\n",
        "\n",
        "import pyphen\n",
        "import musicbrainzngs as mb\n",
        "from nested_lookup import nested_lookup\n",
        "from langdetect import detect\n",
        "mb.set_useragent('app', 1)\n",
        "import spotipy as spotify\n",
        "from spotipy.oauth2 import SpotifyClientCredentials\n",
        "spotify = spotify.Spotify(client_credentials_manager=SpotifyClientCredentials(client_id='your client id', \n",
        "                                                                              client_secret='your client secret'))"
      ],
      "execution_count": null,
      "outputs": []
    },
    {
      "cell_type": "markdown",
      "metadata": {
        "id": "5C0QFendmdg8"
      },
      "source": [
        "# Processing"
      ]
    },
    {
      "cell_type": "markdown",
      "metadata": {
        "id": "D1hkRC36mMxC"
      },
      "source": [
        "## Load Original Data"
      ]
    },
    {
      "cell_type": "code",
      "metadata": {
        "colab": {
          "base_uri": "https://localhost:8080/"
        },
        "id": "VdobEP1YtZgi",
        "outputId": "14a7c9b0-9c38-4639-fb83-747bdc2bd573"
      },
      "source": [
        "df_train = pd.read_csv(\"/content/drive/My Drive/AI Masters/IRTM/Lyrics-Genre-Train.csv\", \n",
        "                       delimiter=',')\n",
        "df_test = pd.read_csv(\"/content/drive/My Drive/AI Masters/IRTM/Lyrics-Genre-Test-GroundTruth.csv\", \n",
        "                      delimiter=',')\n",
        "\n",
        "df_train.drop(['Song year', 'Track_id'], axis=1, inplace=True)\n",
        "df_test.drop(['Song year', 'Track_id', 'Song', 'Artist'], axis=1, inplace=True)\n",
        "\n",
        "df_train['Lyrics'] = df_train['Lyrics'].astype(str)\n",
        "df_test['Lyrics'] = df_test['Lyrics'].astype(str)\n",
        "\n",
        "df_train['Lyrics'] = df_train['Lyrics'].map(lambda x: ' '.join(x.split('\\n')))\n",
        "df_test['Lyrics'] = df_test['Lyrics'].map(lambda x: ' '.join(x.split('\\n')))\n",
        "\n",
        "df_train['Song'] = df_train['Song'].map(lambda x: ' '.join(x.split('-')))\n",
        "df_train['Artist'] = df_train['Artist'].map(lambda x: ' '.join(x.split('-')))\n",
        "\n",
        "print(df_train.shape, df_test.shape)\n",
        "\n",
        "with pd.option_context('display.max_rows', None, 'display.max_columns', None):\n",
        "    print(pd.DataFrame(data=[df_train['Genre'].value_counts(), \n",
        "                             df_test['Genre'].value_counts()],\n",
        "                    columns=['Rock', 'Pop', 'Hip-Hop', 'Country', 'Metal', \n",
        "                             'Jazz', 'Electronic', 'R&B', 'Indie', 'Folk'], \n",
        "                    index=['Train Data Distribution', 'Test Data Distribution']))"
      ],
      "execution_count": null,
      "outputs": [
        {
          "output_type": "stream",
          "text": [
            "(18513, 4) (7935, 2)\n",
            "                         Rock   Pop  Hip-Hop  Country  Metal  Jazz  \\\n",
            "Train Data Distribution  3290  2590     2240     1890   1890  1540   \n",
            "Test Data Distribution   1410  1110      960      810    810   660   \n",
            "\n",
            "                         Electronic   R&B  Indie  Folk  \n",
            "Train Data Distribution        1540  1190   1190  1153  \n",
            "Test Data Distribution          660   510    510   495  \n"
          ],
          "name": "stdout"
        }
      ]
    },
    {
      "cell_type": "markdown",
      "metadata": {
        "id": "U2goyeVFmKQy"
      },
      "source": [
        "## Enrich Data\n",
        "\n",
        "We used several kaggle lyrics datasets in order to augment our original dataset. The datasets in question are [150K Lyrics Labeled with Spotify Valence](https://www.kaggle.com/edenbd/150k-lyrics-labeled-with-spotify-valence), [dataset lyrics musics](https://www.kaggle.com/italomarcelo/dataset-lyrics-musics) and [AZLyrics song lyrics](https://www.kaggle.com/albertsuarez/azlyrics). Another dataset which would've been interesting to integrate into the project is [Million Song Dataset](https://www.kaggle.com/c/msdchallenge/data), but I figured I wouldn't physically have the time to restructure, label and merge this dataset with the original data and the two previously mentioned datasets.\n",
        "\n",
        "The kaggle datasets, however, do not come in an useful format for us. Namely, they don't have a `Genre` column. The reasons why we chose these three datasets is:\n",
        "\n",
        "1. They each number over 150.000 samples, enough to train BERT model properly.\n",
        "2. They contain `Artist` and `Song` features, which will help us filter out duplicates when we merge the 3 datasets. \n",
        "\n",
        "In order to deal with the lack of `Genre` labelling, we have built our own labelling function using the `spotipy` library, which uses the **Spotify API** in order to retrieve the genre of an `Artist`.\n",
        "\n",
        "Please note that the Spotify API returns a list of genres for one artist, so we consider the most common genre to be said artists dominant genre.\n",
        "\n",
        "Aditionally, the AZLyrics data was badly encoded, namely the column delimiter character, the comma, was also used as a verse delimiter in the `Lyrics` column. Fortunately, the dataset comes with two URL columns that conveniently separate the `Artist`, `Song` and `Lyrics` columns, so with a bit of regex magic we were able to extract the useful data using `https://` as a delimiter.\n",
        "\n",
        "#### The dataset resulting from merging the original data with the three scraped datasets has over 290.000 unique train samples.\n",
        "\n",
        "The full dataset is available at [https://www.kaggle.com/mateibejan/multilingual-lyrics-for-genre-classification](https://www.kaggle.com/mateibejan/multilingual-lyrics-for-genre-classification).\n",
        "\n"
      ]
    },
    {
      "cell_type": "code",
      "metadata": {
        "id": "QNcvagOojBPF"
      },
      "source": [
        "import zipfile\n",
        "\n",
        "with zipfile.ZipFile('/content/drive/MyDrive/AI Masters/IRTM/dataset-lyrics-musics.csv.zip', 'r') as zip_ref:\n",
        "    zip_ref.extractall('/content/')\n",
        "with zipfile.ZipFile('/content/drive/MyDrive/AI Masters/IRTM/labeled_lyrics_cleaned.csv.zip', 'r') as zip_ref:\n",
        "    zip_ref.extractall('/content/')\n",
        "with zipfile.ZipFile('/content/drive/MyDrive/AI Masters/IRTM/archive.zip', 'r') as zip_ref:\n",
        "    zip_ref.extractall('/content/')"
      ],
      "execution_count": null,
      "outputs": []
    },
    {
      "cell_type": "code",
      "metadata": {
        "id": "yX5jwykS9W3R"
      },
      "source": [
        "def determine_genre(row):\n",
        "    artist_name = ' '.join(row['Artist'].split('-'))\n",
        "    possible_genres = {'Rock': 0, 'Metal': 0, 'Folk': 0, 'Jazz': 0, 'Indie': 0, \n",
        "                       'Pop': 0, 'Hip-Hop': 0, 'R&B':0, 'Electronic': 0}\n",
        "\n",
        "    results = spotify.search(q='artist:' + artist_name, type='artist')\n",
        "\n",
        "    if len(results['artists']['items']) > 0:\n",
        "        genres = [genre.lower() for genre in results['artists']['items'][0]['genres']]\n",
        "        for genre in results['artists']['items'][0]['genres']:\n",
        "            for key in possible_genres.keys():\n",
        "                if key.lower() in genre:\n",
        "                    possible_genres[key] += 1\n",
        "\n",
        "        if all(value == 0 for value in possible_genres.values()):\n",
        "            return 'NaN'\n",
        "        else:\n",
        "            return max(possible_genres, key=possible_genres.get)\n",
        "    else:\n",
        "        return 'NaN'\n",
        "\n",
        "def extract_song(elem):\n",
        "    return re.search(',\"(.*)\",', elem)[0][2:-2]\n",
        "\n",
        "def extract_lyrics(elem):\n",
        "    return re.search('.html\",\"(.*)', elem)[0][8:-1]\n",
        "\n",
        "def restructure_azlyrics_data():\n",
        "    df3 = pd.DataFrame(columns=[\"Artist\", \"Song\", \"Lyrics\"])\n",
        "\n",
        "    for name in glob.glob('/content/azlyrics-scraper/*'):\n",
        "        df_temp = pd.read_csv(name, delimiter='https://', error_bad_lines=False, quoting=3)\n",
        "        artists = [elem[0][1:-3] for elem in df_temp['\"ARTIST_NAME\",\"ARTIST_URL\",\"SONG_NAME\",\"SONG_URL\",\"LYRICS\"'].index.to_numpy()]    \n",
        "        songs = [extract_song(elem[1]) for elem in df_temp['\"ARTIST_NAME\",\"ARTIST_URL\",\"SONG_NAME\",\"SONG_URL\",\"LYRICS\"'].index.to_numpy()]\n",
        "        lyrics = [extract_lyrics(elem) for elem in df_temp['\"ARTIST_NAME\",\"ARTIST_URL\",\"SONG_NAME\",\"SONG_URL\",\"LYRICS\"'].to_numpy()]\n",
        "        lyrics = ['\\n'.join(lyric.split(', ')) for lyric in lyrics]\n",
        "        dict_temp = {'Artist': artists, 'Song': songs, 'Lyrics': lyrics}\n",
        "        df_temp = pd.DataFrame(dict_temp)\n",
        "        df3 = pd.concat([df3, df_temp], axis=0)\n",
        "        \n",
        "    return df3"
      ],
      "execution_count": null,
      "outputs": []
    },
    {
      "cell_type": "code",
      "metadata": {
        "colab": {
          "base_uri": "https://localhost:8080/"
        },
        "id": "yz1slExCnERA",
        "outputId": "4e4777eb-713e-4ed1-8f83-a26c4568fc62"
      },
      "source": [
        "df1 = pd.read_csv('/content/dataset-lyrics-musics.csv', header=0, names=['ArtistID', 'Artist', 'Song', 'Lyrics'])\n",
        "df2 = pd.read_csv('/content/labeled_lyrics_cleaned.csv', header=0, names=['ArtistID', 'Artist', 'Lyrics', 'Song', 'Label'])\n",
        "df3 = read_and_restructure_azlyrics_data()\n",
        "df1.drop(['ArtistID'], axis=1, inplace=True)\n",
        "df2.drop(['ArtistID', 'Label'], axis=1, inplace=True)\n",
        "print(df1.shape, df2.shape, df3.shape)"
      ],
      "execution_count": null,
      "outputs": [
        {
          "output_type": "stream",
          "text": [
            "(209522, 3) (158353, 3)\n"
          ],
          "name": "stdout"
        }
      ]
    },
    {
      "cell_type": "code",
      "metadata": {
        "id": "xEVw5T9wx6ZY"
      },
      "source": [
        "df1['Genre'] = df1.apply(lambda x: determine_genre(x), axis=1)\n",
        "df1.drop(df1[df1['Genre'] == 'NaN'].index, axis=0, inplace=True)\n",
        "df1.to_csv('/content/drive/MyDrive/AI Masters/IRTM/df1.csv', index=False)\n",
        "\n",
        "df2['Genre'] = df2.apply(lambda x: determine_genre(x), axis=1)\n",
        "df2.drop(df1[df1['Genre'] == 'NaN'].index, axis=0, inplace=True)\n",
        "df2.to_csv('/content/drive/MyDrive/AI Masters/IRTM/df2.csv', index=False)"
      ],
      "execution_count": null,
      "outputs": []
    },
    {
      "cell_type": "code",
      "metadata": {
        "id": "8I_sMr3FQhu-"
      },
      "source": [
        "df1 = pd.read_csv('/content/drive/MyDrive/AI Masters/IRTM/df1.csv', header=0)\n",
        "df2 = pd.read_csv('/content/drive/MyDrive/AI Masters/IRTM/df2.csv', header=0)\n",
        "\n",
        "genre_remap = {'rock': 'Rock', 'metal': 'Metal', 'folk': 'Folk', 'jazz': 'Jazz', \n",
        "               'indie': 'Indie', 'pop': 'Pop', 'hip-hop': 'Hip-Hop', 'r&b': 'R&B', \n",
        "               'electronic': 'Electronic'}\n",
        "\n",
        "df1['Genre'] = df1['Genre'].map(genre_remap)\n",
        "df2['Genre'] = df2['Genre'].map(genre_remap)\n",
        "\n",
        "df1.to_csv('/content/drive/MyDrive/AI Masters/IRTM/df1.csv', index=False)\n",
        "df2.to_csv('/content/drive/MyDrive/AI Masters/IRTM/df2.csv', index=False)"
      ],
      "execution_count": null,
      "outputs": []
    },
    {
      "cell_type": "code",
      "metadata": {
        "colab": {
          "base_uri": "https://localhost:8080/"
        },
        "id": "xwwwftHhKBLc",
        "outputId": "293bd327-c75e-4024-de68-b952f605c1a7"
      },
      "source": [
        "df1 = pd.read_csv('/content/drive/MyDrive/AI Masters/IRTM/df1.csv', header=0)\n",
        "df2 = pd.read_csv('/content/drive/MyDrive/AI Masters/IRTM/df2.csv', header=0)\n",
        "df3 = pd.read_csv('/content/drive/MyDrive/AI Masters/IRTM/df3.csv', header=0)\n",
        "\n",
        "df1['Lyrics'] = df1['Lyrics'].astype(str)\n",
        "df1['Song'] = df1['Song'].map(lambda x: x.lower())\n",
        "df1['Artist'] = df1['Artist'].map(lambda x: ' '.join(x.split('-')))\n",
        "df1['Lyrics'] = df1['Lyrics'].map(lambda x: x.replace('. ', '\\n'))\n",
        "\n",
        "df2['Lyrics'] = df2['Lyrics'].astype(str)\n",
        "df2['Song'] = df2['Song'].map(lambda x: x.lower())\n",
        "df2['Artist'] = df2['Artist'].map(lambda x: x.lower())\n",
        "df2['Lyrics'] = df2['Lyrics'].map(lambda x: x.replace('\\r', ''))\n",
        "\n",
        "df3['Lyrics'] = df3['Lyrics'].astype(str)\n",
        "df3['Song'] = df3['Song'].map(lambda x: x.lower())\n",
        "df3['Artist'] = df3['Artist'].map(lambda x: x.lower())\n",
        "df3['Lyrics'] = df3['Lyrics'].map(lambda x: x.replace('\\r', ''))\n",
        "\n",
        "with pd.option_context('display.max_rows', None, 'display.max_columns', None):\n",
        "    print(pd.DataFrame(data=[df1['Genre'].value_counts(), \n",
        "                             df2['Genre'].value_counts(), \n",
        "                             df3['Genre'].value_counts()],\n",
        "                    columns=['Rock', 'Pop', 'Hip-Hop', 'Country', 'Metal', \n",
        "                             'Jazz', 'Electronic', 'R&B', 'Indie', 'Folk'], \n",
        "                    index=['Dataset 1 Distribution', 'Dataset 2 Distribution', 'Dataset 3 Distribution']))"
      ],
      "execution_count": null,
      "outputs": [
        {
          "output_type": "stream",
          "text": [
            "                           Rock      Pop  Hip-Hop  Country   Metal     Jazz  \\\n",
            "Dataset 1 Distribution  58221.0  70015.0      NaN      NaN  7721.0     71.0   \n",
            "Dataset 2 Distribution  53366.0  29568.0      NaN      NaN  9548.0  11721.0   \n",
            "Dataset 3 Distribution   6527.0   6541.0      NaN      NaN  1132.0    213.0   \n",
            "\n",
            "                        Electronic     R&B   Indie    Folk  \n",
            "Dataset 1 Distribution       189.0    32.0  2150.0  1341.0  \n",
            "Dataset 2 Distribution       376.0  1249.0  4302.0  5531.0  \n",
            "Dataset 3 Distribution       108.0   322.0   807.0   619.0  \n"
          ],
          "name": "stdout"
        }
      ]
    },
    {
      "cell_type": "code",
      "metadata": {
        "id": "2bxgr_IHRJAa"
      },
      "source": [
        "df_dict = {'Artist': [], 'Song': [], 'Genre': [], 'Lyrics': []}\n",
        "\n",
        "for row in df1.iterrows():\n",
        "    if row[1]['Artist'] not in df2['Artist'] and row[1]['Song'] not in df2['Song'] and \\\n",
        "        row[1]['Artist'] not in df3['Artist'] and row[1]['Song'] not in df3['Song'] and \\\n",
        "        row[1]['Artist'] not in df_train['Artist'] and row[1]['Song'] not in df_train['Song']:\n",
        "        df_dict['Genre'].append(row[1]['Genre'])\n",
        "        df_dict['Lyrics'].append(row[1]['Lyrics'])\n",
        "        df_dict['Artist'].append(row[1]['Artist'])\n",
        "        df_dict['Song'].append(row[1]['Song'])\n",
        "\n",
        "for row in df2.iterrows():\n",
        "    if row[1]['Artist'] not in df1['Artist'] and row[1]['Song'] not in df1['Song'] and \\\n",
        "        row[1]['Artist'] not in df2['Artist'] and row[1]['Song'] not in df3['Song'] and \\\n",
        "        row[1]['Artist'] not in df_train['Artist'] and row[1]['Song'] not in df_train['Song']:\n",
        "        df_dict['Genre'].append(row[1]['Genre'])\n",
        "        df_dict['Lyrics'].append(row[1]['Lyrics'])\n",
        "        df_dict['Artist'].append(row[1]['Artist'])\n",
        "        df_dict['Song'].append(row[1]['Song'])\n",
        "\n",
        "for row in df3.iterrows():\n",
        "    if row[1]['Artist'] not in df1['Artist'] and row[1]['Song'] not in df1['Song'] and \\\n",
        "        row[1]['Artist'] not in df2['Artist'] and row[1]['Song'] not in df2['Song'] and \\\n",
        "        row[1]['Artist'] not in df_train['Artist'] and row[1]['Song'] not in df_train['Song']:\n",
        "        df_dict['Genre'].append(row[1]['Genre'])\n",
        "        df_dict['Lyrics'].append(row[1]['Lyrics'])\n",
        "        df_dict['Artist'].append(row[1]['Artist'])\n",
        "        df_dict['Song'].append(row[1]['Song'])\n",
        "\n",
        "for row in df_train.iterrows():\n",
        "    if row[1]['Artist'] not in df1['Artist'] and row[1]['Song'] not in df1['Song'] and \\\n",
        "        row[1]['Artist'] not in df2['Artist'] and row[1]['Song'] not in df2['Song'] and \\\n",
        "        row[1]['Artist'] not in df2['Artist'] and row[1]['Song'] not in df3['Song']:\n",
        "        df_dict['Genre'].append(row[1]['Genre'])\n",
        "        df_dict['Lyrics'].append(row[1]['Lyrics'])\n",
        "        df_dict['Artist'].append(row[1]['Artist'])\n",
        "        df_dict['Song'].append(row[1]['Song'])\n",
        "\n",
        "df_train = pd.DataFrame(df_dict)"
      ],
      "execution_count": null,
      "outputs": []
    },
    {
      "cell_type": "code",
      "metadata": {
        "id": "IPLo38OXNP2p"
      },
      "source": [
        "def add_language(df):\n",
        "    lang = []\n",
        "\n",
        "    for row in df.iterrows():\n",
        "        try:\n",
        "            lyrics = ' '.join(row[1]['Lyrics'].lower().split('\\n'))\n",
        "            lyrics = re.sub(r'[^\\w\\s]', '', lyrics) \n",
        "            lang.append(detect(' '.join(lyrics.split()[:500])))\n",
        "        except:\n",
        "            lang.append('nan')\n",
        "\n",
        "    df['Language'] = lang\n",
        "\n",
        "    return df\n",
        "\n",
        "df_train = add_language(df_train)"
      ],
      "execution_count": null,
      "outputs": []
    },
    {
      "cell_type": "code",
      "metadata": {
        "colab": {
          "base_uri": "https://localhost:8080/"
        },
        "id": "7VnlacxfWitR",
        "outputId": "3a47fdb9-e3be-454d-9f62-a620a24e14d8"
      },
      "source": [
        "df_train_new.shape"
      ],
      "execution_count": null,
      "outputs": [
        {
          "output_type": "execute_result",
          "data": {
            "text/plain": [
              "(290183, 5)"
            ]
          },
          "metadata": {
            "tags": []
          },
          "execution_count": 36
        }
      ]
    },
    {
      "cell_type": "code",
      "metadata": {
        "colab": {
          "base_uri": "https://localhost:8080/"
        },
        "id": "G6IL68FPVeoE",
        "outputId": "4221d783-858e-4ffa-d786-49962d0837e3"
      },
      "source": [
        "df_train['Language'].value_counts())"
      ],
      "execution_count": null,
      "outputs": [
        {
          "output_type": "execute_result",
          "data": {
            "text/plain": [
              "34"
            ]
          },
          "metadata": {
            "tags": []
          },
          "execution_count": 25
        }
      ]
    },
    {
      "cell_type": "code",
      "metadata": {
        "id": "1luAEleFXXLI"
      },
      "source": [
        "newcols = ['Artist', 'Song', 'Genre', 'Language', 'Lyrics']"
      ],
      "execution_count": null,
      "outputs": []
    },
    {
      "cell_type": "code",
      "metadata": {
        "id": "apxEvaF2Xh75"
      },
      "source": [
        "df_train_new = df_train[newcols]"
      ],
      "execution_count": null,
      "outputs": []
    },
    {
      "cell_type": "code",
      "metadata": {
        "id": "2R6yDHfaXtZj"
      },
      "source": [
        "df_train_new.to_csv('/content/drive/MyDrive/AI Masters/IRTM/train.csv', index=False)"
      ],
      "execution_count": null,
      "outputs": []
    },
    {
      "cell_type": "code",
      "metadata": {
        "colab": {
          "base_uri": "https://localhost:8080/"
        },
        "id": "8IwH8cDLYxGH",
        "outputId": "1823ae5e-d49c-48f4-ff2a-2c5b47e98993"
      },
      "source": [
        "with pd.option_context('display.max_rows', None, 'display.max_columns', None):\n",
        "    print(pd.DataFrame(data=[df_train['Genre'].value_counts()],\n",
        "                       columns=['Rock', 'Pop', 'Hip-Hop', 'Country', 'Metal', \n",
        "                                'Jazz', 'Electronic', 'R&B', 'Indie', 'Folk'], \n",
        "                       index=['Train Data Distribution']))"
      ],
      "execution_count": null,
      "outputs": [
        {
          "output_type": "stream",
          "text": [
            "                           Rock     Pop  Hip-Hop  Country  Metal   Jazz  \\\n",
            "Train Data Distribution  121404  108714     2240     1890  20291  13545   \n",
            "\n",
            "                         Electronic   R&B  Indie  Folk  \n",
            "Train Data Distribution        2213  2793   8449  8644  \n"
          ],
          "name": "stdout"
        }
      ]
    },
    {
      "cell_type": "markdown",
      "metadata": {
        "id": "AeFFUnqWtXUy"
      },
      "source": [
        "## Split Lyrics Dataset into English and non-English Datasets\n",
        "\n",
        "We apply an English/non-English split to the merged data in order to enhance prediction accuracy of future models. The same is done for the test dataset."
      ]
    },
    {
      "cell_type": "code",
      "metadata": {
        "id": "Xx8-vh7V9eSd"
      },
      "source": [
        "def split_dataframe_en_nen(df):\n",
        "    df_en = pd.DataFrame(columns=df.columns)\n",
        "    df_nen = pd.DataFrame(columns=df.columns)\n",
        "    df_idk = pd.DataFrame(columns=df.columns)\n",
        "\n",
        "    for row in df.iterrows():\n",
        "        try:\n",
        "            lyrics = ' '.join(row[1]['Lyrics'].lower().split('\\n'))\n",
        "            lyrics = re.sub(r'[^\\w\\s]', '', lyrics) \n",
        "            if detect(' '.join(lyrics.split()[:500])) == 'en':\n",
        "                df_en = df_en.append({'Genre': row[1]['Genre'], 'Lyrics': row[1]['Lyrics']}, ignore_index=True)\n",
        "            else:\n",
        "                df_nen = df_nen.append({'Genre': row[1]['Genre'], 'Lyrics': row[1]['Lyrics']}, ignore_index=True)\n",
        "        except:\n",
        "            df_idk = df_idk.append({'Genre': row[1]['Genre'], 'Lyrics': row[1]['Lyrics']}, ignore_index=True)\n",
        "\n",
        "    return df_en, df_nen, df_idk\n",
        "\n",
        "# df_train_en, df_train_nen, _ = split_dataframe_en_nen(df_train)"
      ],
      "execution_count": null,
      "outputs": []
    },
    {
      "cell_type": "code",
      "metadata": {
        "id": "n4vzYieOtd2G"
      },
      "source": [
        "# df_train.drop(['Song', 'Artist'], axis=1, inplace=True)\n",
        "df_train['Lyrics'] = df_train['Lyrics'].astype(str)\n",
        "df_train_en, df_train_nen, df_train_idk = split_dataframe_en_nen(df_train)\n",
        "df_test_en, df_test_nen, df_train_idk = split_dataframe_en_nen(df_test)"
      ],
      "execution_count": null,
      "outputs": []
    },
    {
      "cell_type": "code",
      "metadata": {
        "colab": {
          "base_uri": "https://localhost:8080/"
        },
        "id": "SRwD7oKqT_1D",
        "outputId": "8757ae1e-ebe2-4bfe-dca0-3341d82b53f4"
      },
      "source": [
        "print(df_train_en.shape, df_train_en.shape, df_train_idk.shape, df_train_nen.shape, df_train_nen.shape, df_train_idk.shape)"
      ],
      "execution_count": null,
      "outputs": [
        {
          "output_type": "stream",
          "text": [
            "(250212, 2) (250212, 2) (0, 2) (39967, 2) (39967, 2) (0, 2)\n"
          ],
          "name": "stdout"
        }
      ]
    },
    {
      "cell_type": "code",
      "metadata": {
        "id": "cJYQgLiCti0A"
      },
      "source": [
        "df_train_en.to_csv('/content/drive/MyDrive/AI Masters/IRTM/df_train_en.csv', index=False)\n",
        "df_train_nen.to_csv('/content/drive/MyDrive/AI Masters/IRTM/df_train_nen.csv', index=False)\n",
        "df_test_en.to_csv('/content/drive/MyDrive/AI Masters/IRTM/df_test_en.csv', index=False)\n",
        "df_test_nen.to_csv('/content/drive/MyDrive/AI Masters/IRTM/df_test_nen.csv', index=False)"
      ],
      "execution_count": null,
      "outputs": []
    },
    {
      "cell_type": "markdown",
      "metadata": {
        "id": "6A7Jd-UI-zAH"
      },
      "source": [
        "## Preprocess Dataset Splits\n",
        "\n",
        "We apply a clssical text cleaning procedure, meaning:\n",
        "\n",
        "1. Stopwords removal.\n",
        "2. Non-alphanumeric character filtering.\n",
        "3. Lemmatizing.\n",
        "\n",
        "We also drop all eventual NaN entries and filter out all songs whose lyrics are shorter than 20 tokens."
      ]
    },
    {
      "cell_type": "code",
      "metadata": {
        "id": "8Q7zK_v4-_Ie"
      },
      "source": [
        "def clean_text(text):\n",
        "    from nltk.stem import WordNetLemmatizer     \n",
        "    from nltk.corpus import stopwords \n",
        "    \n",
        "    text = text.lower()\n",
        "    text = ' '.join(word for word in text.split() if not word in set(stopwords.words('english')))\n",
        "    text = re.sub('[/(){}\\[\\]\\|@,;]', ' ', text)\n",
        "    text = re.sub('[^0-9a-z #+_]', '', text)\n",
        "    lemmatizer = WordNetLemmatizer() \n",
        "    text = ' '.join(lemmatizer.lemmatize(word) for word in text.split())\n",
        "    return text"
      ],
      "execution_count": null,
      "outputs": []
    },
    {
      "cell_type": "code",
      "metadata": {
        "id": "NBeMUxJ1_RPg"
      },
      "source": [
        "df_train_en['Lyrics'] = df_train_en['Lyrics'].map(clean_text)\n",
        "df_train_nen['Lyrics'] = df_train_nen['Lyrics'].map(clean_text)\n",
        "df_test_en['Lyrics'] = df_test_en['Lyrics'].map(clean_text)\n",
        "df_test_nen['Lyrics'] = df_test_nen['Lyrics'].map(clean_text)\n",
        "\n",
        "df_train_en.to_csv('/content/drive/MyDrive/AI Masters/IRTM/df_train_en_clean.csv', index=False)\n",
        "df_train_nen.to_csv('/content/drive/MyDrive/AI Masters/IRTM/df_train_nen_clean.csv', index=False)\n",
        "df_test_en.to_csv('/content/drive/MyDrive/AI Masters/IRTM/df_test_en_clean.csv', index=False)\n",
        "df_test_nen.to_csv('/content/drive/MyDrive/AI Masters/IRTM/df_test_nen_clean.csv', index=False)"
      ],
      "execution_count": null,
      "outputs": []
    },
    {
      "cell_type": "markdown",
      "metadata": {
        "id": "SY3WKSElBea9"
      },
      "source": [
        "Drop possible `np.nan` entries."
      ]
    },
    {
      "cell_type": "code",
      "metadata": {
        "id": "6UeT2phsBcW3"
      },
      "source": [
        "df_train_en = df_train_en.dropna()\n",
        "df_train_nen = df_train_nen.dropna()"
      ],
      "execution_count": null,
      "outputs": []
    },
    {
      "cell_type": "markdown",
      "metadata": {
        "id": "2bHjVfJb_dhm"
      },
      "source": [
        "Additionally, remove any song with less than 20 tokens."
      ]
    },
    {
      "cell_type": "code",
      "metadata": {
        "id": "goK9yoRf_SlL"
      },
      "source": [
        "df_train_en_relevant = df_train_en[df_train_en['Lyrics'].str.split().str.len() > 20]\n",
        "df_train_nen_relevant = df_train_nen[df_train_nen['Lyrics'].str.split().str.len() > 20]\n",
        "df_test_en_relevant = df_test_en[df_train_en['Lyrics'].str.split().str.len() > 20]\n",
        "df_test_nen_relevant = df_test_nen[df_train_en['Lyrics'].str.split().str.len() > 20]"
      ],
      "execution_count": null,
      "outputs": []
    },
    {
      "cell_type": "markdown",
      "metadata": {
        "id": "fV1G2LG78vNh"
      },
      "source": [
        "\n",
        "## Create Lyrics-Metadata Dataset\n",
        "\n",
        "We decided on trying a metadata approach on genre classification. To this end we are gathering 4 types of information about the lyrics:\n",
        "\n",
        "1. How many rhymes they contain.\n",
        "2. The average number of syllables per verse.\n",
        "3. The number of words used.\n",
        "4. The number of lines. \n",
        "\n",
        "We believe that the latent information captured by these quantitative measures might help distinguish the *type of poem* that is the lyrics, e.g. a ballad will surely have more verses than a sonnet, which has either 11 or 12 verses. At the same time, the sonnet might have more rhymes than a ballad.\n",
        "\n",
        "The initial plan was to include the melody length too, but the `musicbrainzgz` API malfunctioned during this endeavour.\n",
        "\n",
        "An **important note** would be that counting rhymes is done based on the IPA (International Phonetic Alphabet). Some very similar sounds have been reserved the same phonetic encoding, lest for the last characters of that encoding, which is represented by two different numbers.\n",
        "\n",
        "For example, words like \"germinate\" and \"frustrate\" end in the EY1T and EY2T sounds respectively. Since sounds like EY1 and EY2 are extremely similar, we remove the numerical character in order to make the comparison of the words more realistic.\n",
        "\n",
        "In the case in which the IPA does not exist for a certain word (e.g. \"Imma\", \"momma\"), we resort to comparing the last syllable or the last few characters, in the case in which the word contains a sole syllable."
      ]
    },
    {
      "cell_type": "code",
      "metadata": {
        "id": "zNRYQoNd9nxw"
      },
      "source": [
        "def compute_average_no_of_syllables(text):\n",
        "    dic = pyphen.Pyphen(lang='en')\n",
        "\n",
        "    verses = text.split('\\n')\n",
        "    avg_syllables_len, no_verses = 0, None\n",
        "\n",
        "    for verse in verses:\n",
        "        text = verse.lower()\n",
        "        text = re.sub('[/(){}[]|@,;]!?:.,', ' ', text)\n",
        "        text = re.sub('[^0-9a-z #+_]', '', text)\n",
        "        text = ' '.join(text.split())\n",
        "\n",
        "        tokens = text.split()\n",
        "        syllables = [dic.inserted(token).split('-') for token in tokens]\n",
        "        syllables = list(itertools.chain.from_iterable(syllables))\n",
        "\n",
        "        avg_syllables_len += len(syllables)\n",
        "\n",
        "    avg_syllables_len /= len(verses)\n",
        "\n",
        "    return round(avg_syllables_len)\n",
        "\n",
        "def compute_no_of_rhymes(test_str):\n",
        "    def extract_last_two_sounds(ipa):\n",
        "        ''' \n",
        "            Words like \"germinate\" and \"frustrate\" end in the EY1T and EY2T sounds respectively.\n",
        "            Since sounds like EY1 and EY2 are extremely similar, we remove the numerical \n",
        "            character in order to make the comparison of the words more realistic.\n",
        "        '''\n",
        "        last_two_sounds = []\n",
        "        if ipa[-2:-1][0][-1].isnumeric():\n",
        "            last_two_sounds.append(ipa[-2:-1][0][:-1])\n",
        "        else:\n",
        "            last_two_sounds.append(ipa[-2:-1][0])\n",
        "        if ipa[-1:][0][-1].isnumeric():\n",
        "            last_two_sounds.append(ipa[-1:][0][:-1])\n",
        "        else:\n",
        "            last_two_sounds.append(ipa[-1:][0])\n",
        "        return last_two_sounds\n",
        "\n",
        "    dic = pyphen.Pyphen(lang='en')\n",
        "    punc = '''!()-[]{};:'\", <>./?@#$%^&*_~'''\n",
        "\n",
        "    for ele in test_str:  \n",
        "        if ele in punc:  \n",
        "            test_str = test_str.replace(ele, \" \")  \n",
        "    endings = []\n",
        "    for verse in test_str.split('\\n'):\n",
        "        if len(verse.split()) > 0:\n",
        "            last_word = verse.split()[-1]\n",
        "            try:\n",
        "                endings.append((dic.inserted(last_word).split('-'), \n",
        "                                extract_last_two_sounds(pronouncing.phones_for_word(last_word)[0].split())))\n",
        "            except:\n",
        "                endings.append((last_word, 'NaN'))\n",
        "            \n",
        "    times_rhymes = 0\n",
        "    for it1 in range(len(endings) - 1):\n",
        "        for it2 in range(it1, len(endings)):\n",
        "            if endings[it1][1] == endings[it2][1]:\n",
        "                times_rhymes += 1\n",
        "            elif endings[it1][0][-1] == endings[it2][0][-1]:\n",
        "                times_rhymes += 1\n",
        "            elif ''.join(endings[it1][0])[-2:] == ''.join(endings[it2][0])[-2:]:\n",
        "                times_rhymes += 1            \n",
        "                \n",
        "    return times_rhymes\n",
        "\n",
        "def extract_lyrics_metadata(df, as_df=True):\n",
        "    lyrics_metadata_dict = {'Genre': [], 'Avg_Syllables': [], \n",
        "                            'Rhymes': [], 'Words': [], 'Verses': []}\n",
        "\n",
        "    for row in df.iterrows():\n",
        "        text = row[1]['Lyrics']\n",
        "\n",
        "        avg_no_syllables = compute_average_no_of_syllables(text)\n",
        "\n",
        "        no_rhymes = compute_no_of_rhymes(text)\n",
        "\n",
        "        text = row[1]['Lyrics'].lower()\n",
        "        text = re.sub('[/(){}[]|@,;]!?:.,', ' ', text)\n",
        "        text = re.sub('[^0-9a-z #+_]', '', text)\n",
        "        text = ' '.join(text.split())\n",
        "\n",
        "        no_words = len(text.split())\n",
        "\n",
        "        no_verses = len(row[1]['Lyrics'].split('\\n'))\n",
        "\n",
        "        lyrics_metadata_dict['Genre'].append(row[1]['Genre'])\n",
        "        lyrics_metadata_dict['Avg_Syllables'].append(avg_no_syllables)\n",
        "        lyrics_metadata_dict['Rhymes'].append(no_rhymes)\n",
        "        lyrics_metadata_dict['Words'].append(no_words)\n",
        "        lyrics_metadata_dict['Verses'].append(no_verses)\n",
        "\n",
        "    if as_df:\n",
        "        return pd.DataFrame(lyrics_metadata_dict)\n",
        "    \n",
        "    return lyrics_metadata_dict"
      ],
      "execution_count": null,
      "outputs": []
    },
    {
      "cell_type": "code",
      "metadata": {
        "id": "Puw49GqI03x9"
      },
      "source": [
        "from string import digits\n",
        "\n",
        "# df_train_en = pd.read_csv('/content/drive/MyDrive/AI Masters/IRTM/df_train_en.csv')\n",
        "# df_train_nen = pd.read_csv('/content/drive/MyDrive/AI Masters/IRTM/df_train_nen.csv')\n",
        "df_test_en = pd.read_csv('/content/drive/MyDrive/AI Masters/IRTM/df_test_en.csv')\n",
        "df_test_nen = pd.read_csv('/content/drive/MyDrive/AI Masters/IRTM/df_test_nen.csv')\n",
        "\n",
        "digit_map = {'0': 'zero', ' 1 ': 'one', ' 2 ': 'two', ' 3 ': 'three', ' 4 ': 'four', \n",
        "             '5': 'five', ' 6 ': 'six', ' 7 ': 'seven', ' 8 ': 'eight', ' 9 ': 'nine'}\n",
        "\n",
        "# df_train_en['Lyrics'] = df_train_en['Lyrics'].map(digit_map)\n",
        "# df_train_nen['Lyrics'] = df_train_nen['Lyrics'].map(digit_map)\n",
        "df_test_en['Lyrics'] = df_test_en['Lyrics'].map(digit_map)\n",
        "df_test_nen['Lyrics'] = df_test_nen['Lyrics'].map(digit_map)\n",
        "\n",
        "# df_train_en['Lyrics'] = df_train_en['Lyrics'].astype(str)\n",
        "df_test_en['Lyrics'] = df_test_en['Lyrics'].astype(str)\n",
        "# df_train_nen['Lyrics'] = df_train_nen['Lyrics'].astype(str)\n",
        "df_test_nen['Lyrics'] = df_test_nen['Lyrics'].astype(str)\n",
        "\n",
        "# df_train_en['Lyrics'] = df_train_en['Lyrics'].map(lambda x: x.translate(digits))\n",
        "# df_train_nen['Lyrics'] = df_train_nen['Lyrics'].map(lambda x: x.translate(digits))\n",
        "df_test_en['Lyrics'] = df_test_en['Lyrics'].map(lambda x: x.translate(digits))\n",
        "df_test_nen['Lyrics'] = df_test_nen['Lyrics'].map(lambda x: x.translate(digits))\n",
        "\n",
        "# df_train_metadata_en = extract_lyrics_metadata(df_train_en)\n",
        "# df_train_metadata_nen = extract_lyrics_metadata(df_train_nen)\n",
        "df_test_metadata_en = extract_lyrics_metadata(df_test_en)\n",
        "df_test_metadata_nen = extract_lyrics_metadata(df_test_nen)"
      ],
      "execution_count": null,
      "outputs": []
    },
    {
      "cell_type": "code",
      "metadata": {
        "id": "OoGram7_6I5W"
      },
      "source": [
        "df_train_metadata_en.to_csv('/content/drive/MyDrive/AI Masters/IRTM/df_train_metadata_en.csv', index=False)\n",
        "df_train_metadata_nen.to_csv('/content/drive/MyDrive/AI Masters/IRTM/df_train_metadata_nen.csv', index=False)\n",
        "df_test_metadata_en.to_csv('/content/drive/MyDrive/AI Masters/IRTM/df_test_metadata_en.csv', index=False)\n",
        "df_test_metadata_nen.to_csv('/content/drive/MyDrive/AI Masters/IRTM/df_test_metadata_nen.csv', index=False)"
      ],
      "execution_count": null,
      "outputs": []
    },
    {
      "cell_type": "code",
      "metadata": {
        "id": "q3Dqu2M9zAd9"
      },
      "source": [
        "from sklearn.pipeline import Pipeline\n",
        "from sklearn.ensemble import RandomForestClassifier\n",
        "from xgboost import XGBClassifier\n",
        "\n",
        "from sklearn.metrics import accuracy_score\n",
        "\n",
        "from nltk.stem import WordNetLemmatizer \n",
        "from nltk.corpus import stopwords "
      ],
      "execution_count": null,
      "outputs": []
    },
    {
      "cell_type": "code",
      "metadata": {
        "id": "61l4C48oAowj"
      },
      "source": [
        "df_train_metadata_en = pd.read_csv('/content/drive/MyDrive/AI Masters/IRTM/df_train_metadata_en.csv')\n",
        "df_train_metadata_nen = pd.read_csv('/content/drive/MyDrive/AI Masters/IRTM/df_train_metadata_nen.csv')\n",
        "df_test_metadata_en = pd.read_csv('/content/drive/MyDrive/AI Masters/IRTM/df_test_metadata_en.csv')\n",
        "df_test_metadata_nen = pd.read_csv('/content/drive/MyDrive/AI Masters/IRTM/df_test_metadata_nen.csv')\n",
        "\n",
        "uniques_map = {}\n",
        "for value, key in list(zip(range(df_train_metadata_en['Genre'].unique().shape[0]), \n",
        "                           df_train_metadata_en['Genre'].unique())):\n",
        "    uniques_map[key] = value\n",
        "\n",
        "df_train_metadata_en['Genre'] = df_train_metadata_en['Genre'].map(uniques_map)\n",
        "df_test_metadata_en['Genre'] = df_test_metadata_en['Genre'].map(uniques_map)"
      ],
      "execution_count": null,
      "outputs": []
    },
    {
      "cell_type": "code",
      "metadata": {
        "id": "b86gHKdDC7H7"
      },
      "source": [
        "group_map = {'Folk': 0, 'Country': 1, 'Jazz': 1, 'Hip-Hop': 1, 'R&B': 1, \n",
        "             'Rock': 1, 'Metal': 1, 'Pop': 1, 'Indie': 1, 'Electronic': 1}\n",
        "df_train_metadata['Genre'] = df_train_metadata['Genre'].map(group_map)\n",
        "df_test_metadata['Genre'] = df_test_metadata['Genre'].map(group_map)"
      ],
      "execution_count": null,
      "outputs": []
    },
    {
      "cell_type": "markdown",
      "metadata": {
        "id": "8kOYqAtWXemv"
      },
      "source": [
        "### Test Random Forest on Metadataset"
      ]
    },
    {
      "cell_type": "code",
      "metadata": {
        "colab": {
          "base_uri": "https://localhost:8080/"
        },
        "id": "ZMGdp8LzAw_z",
        "outputId": "12bed35c-6efd-4cc9-eaed-7e90a9d5494c"
      },
      "source": [
        "from sklearn.pipeline import Pipeline\n",
        "from sklearn.ensemble import RandomForestClassifier\n",
        "from xgboost import XGBClassifier\n",
        "\n",
        "from sklearn.metrics import accuracy_score\n",
        "\n",
        "rf = RandomForestClassifier()\n",
        "\n",
        "train_genres = df_train_metadata_en['Genre']\n",
        "df_train_metadata_en.drop(['Genre'], axis=1, inplace=True)\n",
        "\n",
        "test_genres_en = df_test_metadata_en['Genre']\n",
        "df_test_metadata_en.drop(['Genre'], axis=1, inplace=True)\n",
        "\n",
        "rf.fit(df_train_metadata_en, train_genres)\n",
        "\n",
        "predicted_labels = rf.predict(df_test_metadata_en)\n",
        "\n",
        "print('Accuracy %s' % accuracy_score(predicted_labels, test_genres_en))"
      ],
      "execution_count": null,
      "outputs": [
        {
          "output_type": "stream",
          "text": [
            "accuracy 0.17795753286147623\n"
          ],
          "name": "stdout"
        }
      ]
    },
    {
      "cell_type": "markdown",
      "metadata": {
        "id": "lZLLvet-Jbqi"
      },
      "source": [
        "# Choose Dataset\n",
        "\n",
        "Load a dataset into the generic `df_train` and `df_test` variables used in the **Modelling** section."
      ]
    },
    {
      "cell_type": "markdown",
      "metadata": {
        "id": "ZqGYKot-JgL8"
      },
      "source": [
        "## Original Data"
      ]
    },
    {
      "cell_type": "code",
      "metadata": {
        "colab": {
          "base_uri": "https://localhost:8080/"
        },
        "id": "ESvYUaQVKXgJ",
        "outputId": "261aa1b6-f914-4736-abf3-a10923b119bc"
      },
      "source": [
        "df_train = pd.read_csv(\"/content/drive/My Drive/AI Masters/IRTM/Lyrics-Genre-Train.csv\", \n",
        "                       delimiter=',')\n",
        "df_test = pd.read_csv(\"/content/drive/My Drive/AI Masters/IRTM/Lyrics-Genre-Test-GroundTruth.csv\", \n",
        "                      delimiter=',')\n",
        "\n",
        "df_train.drop(['Song year', 'Track_id', 'Song', 'Artist'], axis=1, inplace=True)\n",
        "df_test.drop(['Song year', 'Track_id', 'Song', 'Artist'], axis=1, inplace=True)\n",
        "\n",
        "df_train['Lyrics'] = df_train['Lyrics'].astype(str)\n",
        "df_test['Lyrics'] = df_test['Lyrics'].astype(str)\n",
        "\n",
        "df_train['Lyrics'] = df_train['Lyrics'].map(lambda x: ' '.join(x.split('\\n')))\n",
        "df_test['Lyrics'] = df_test['Lyrics'].map(lambda x: ' '.join(x.split('\\n')))\n",
        "\n",
        "with pd.option_context('display.max_rows', None, 'display.max_columns', None):\n",
        "    print(pd.DataFrame(data=[df_train['Genre'].value_counts(), \n",
        "                             df_test['Genre'].value_counts()],\n",
        "                    columns=['Rock', 'Pop', 'Hip-Hop', 'Country', 'Metal', \n",
        "                             'Jazz', 'Electronic', 'R&B', 'Indie', 'Folk'], \n",
        "                    index=['Train Data Distribution', 'Test Data Distribution']))"
      ],
      "execution_count": null,
      "outputs": [
        {
          "output_type": "stream",
          "text": [
            "                         Rock   Pop  Hip-Hop  Country  Metal  Jazz  \\\n",
            "Train Data Distribution  3290  2590     2240     1890   1890  1540   \n",
            "Test Data Distribution   1410  1110      960      810    810   660   \n",
            "\n",
            "                         Electronic   R&B  Indie  Folk  \n",
            "Train Data Distribution        1540  1190   1190  1153  \n",
            "Test Data Distribution          660   510    510   495  \n"
          ],
          "name": "stdout"
        }
      ]
    },
    {
      "cell_type": "markdown",
      "metadata": {
        "id": "B_TnTwQ_Jgj5"
      },
      "source": [
        "## All Data"
      ]
    },
    {
      "cell_type": "markdown",
      "metadata": {
        "id": "5Zs_tmy7Nb9F"
      },
      "source": [
        "### English"
      ]
    },
    {
      "cell_type": "code",
      "metadata": {
        "id": "i84XIZPjKkKR"
      },
      "source": [
        "df_train = pd.read_csv('/content/drive/MyDrive/AI Masters/IRTM/df_train_en.csv')\n",
        "df_test = pd.read_csv('/content/drive/MyDrive/AI Masters/IRTM/df_test_en.csv')\n",
        "\n",
        "df_train['Lyrics'] = df_train['Lyrics'].astype(str)\n",
        "df_test['Lyrics'] = df_test['Lyrics'].astype(str)\n",
        "\n",
        "df_train['Lyrics'] = df_train['Lyrics'].map(lambda x: ' '.join(x.split('\\n')))\n",
        "df_test['Lyrics'] = df_test['Lyrics'].map(lambda x: ' '.join(x.split('\\n')))\n",
        "\n",
        "with pd.option_context('display.max_rows', None, 'display.max_columns', None):\n",
        "    print(pd.DataFrame(data=[df_train['Genre'].value_counts(), \n",
        "                             df_test['Genre'].value_counts()],\n",
        "                    columns=['Rock', 'Pop', 'Hip-Hop', 'Country', 'Metal', \n",
        "                             'Jazz', 'Electronic', 'R&B', 'Indie', 'Folk'], \n",
        "                    index=['Train Data Distribution', 'Test Data Distribution']))"
      ],
      "execution_count": null,
      "outputs": []
    },
    {
      "cell_type": "markdown",
      "metadata": {
        "id": "xgwd2xbMNdU8"
      },
      "source": [
        "### Non-English"
      ]
    },
    {
      "cell_type": "code",
      "metadata": {
        "id": "v9iH-8gpNecg"
      },
      "source": [
        "df_train = pd.read_csv('/content/drive/MyDrive/AI Masters/IRTM/df_train_nen.csv')\n",
        "df_test = pd.read_csv('/content/drive/MyDrive/AI Masters/IRTM/df_test_nen.csv')\n",
        "\n",
        "df_train['Lyrics'] = df_train['Lyrics'].astype(str)\n",
        "df_test['Lyrics'] = df_test['Lyrics'].astype(str)\n",
        "\n",
        "df_train['Lyrics'] = df_train['Lyrics'].map(lambda x: ' '.join(x.split('\\n')))\n",
        "df_test['Lyrics'] = df_test['Lyrics'].map(lambda x: ' '.join(x.split('\\n')))\n",
        "\n",
        "with pd.option_context('display.max_rows', None, 'display.max_columns', None):\n",
        "    print(pd.DataFrame(data=[df_train['Genre'].value_counts(), \n",
        "                             df_test['Genre'].value_counts()],\n",
        "                    columns=['Rock', 'Pop', 'Hip-Hop', 'Country', 'Metal', \n",
        "                             'Jazz', 'Electronic', 'R&B', 'Indie', 'Folk'], \n",
        "                    index=['Train Data Distribution', 'Test Data Distribution']))"
      ],
      "execution_count": null,
      "outputs": []
    },
    {
      "cell_type": "markdown",
      "metadata": {
        "id": "UG3VRgbDNfoD"
      },
      "source": [
        "### Combined"
      ]
    },
    {
      "cell_type": "code",
      "metadata": {
        "id": "x_Ogu1QDNgu4"
      },
      "source": [
        "df_train_en = pd.read_csv('/content/drive/MyDrive/AI Masters/IRTM/df_train_en.csv')\n",
        "df_train_nen = pd.read_csv('/content/drive/MyDrive/AI Masters/IRTM/df_train_nen.csv')\n",
        "\n",
        "df_train = pd.concat([df_train_en, df_train_nen])\n",
        "\n",
        "df_test_en = pd.read_csv('/content/drive/MyDrive/AI Masters/IRTM/df_test_en.csv')\n",
        "df_test_nen = pd.read_csv('/content/drive/MyDrive/AI Masters/IRTM/df_test_nen.csv')\n",
        "\n",
        "df_test = pd.concat([df_test_en, df_test_nen])\n",
        "\n",
        "df_train['Lyrics'] = df_train['Lyrics'].astype(str)\n",
        "df_test['Lyrics'] = df_test['Lyrics'].astype(str)\n",
        "\n",
        "df_train['Lyrics'] = df_train['Lyrics'].map(lambda x: ' '.join(x.split('\\n')))\n",
        "df_test['Lyrics'] = df_test['Lyrics'].map(lambda x: ' '.join(x.split('\\n')))\n",
        "\n",
        "with pd.option_context('display.max_rows', None, 'display.max_columns', None):\n",
        "    print(pd.DataFrame(data=[df_train['Genre'].value_counts(), \n",
        "                             df_test['Genre'].value_counts()],\n",
        "                    columns=['Rock', 'Pop', 'Hip-Hop', 'Country', 'Metal', \n",
        "                             'Jazz', 'Electronic', 'R&B', 'Indie', 'Folk'], \n",
        "                    index=['Train Data Distribution', 'Test Data Distribution']))"
      ],
      "execution_count": null,
      "outputs": []
    },
    {
      "cell_type": "markdown",
      "metadata": {
        "id": "cx7qJFT7Jg8E"
      },
      "source": [
        "## Original Data with Even Number of Samples for All Classes"
      ]
    },
    {
      "cell_type": "code",
      "metadata": {
        "id": "vPbfB539KlDN"
      },
      "source": [
        "df_train = pd.read_csv(\"/content/drive/My Drive/AI Masters/IRTM/Lyrics-Genre-Train.csv\", \n",
        "                       delimiter=',')\n",
        "df_train.drop(['Song year', 'Track_id', 'Song', 'Artist'], axis=1, inplace=True)\n",
        "df_train['Lyrics'] = df_train['Lyrics'].astype(str)\n",
        "\n",
        "df_train_en = pd.read_csv('/content/drive/MyDrive/AI Masters/IRTM/df_train_en.csv')\n",
        "\n",
        "df = pd.concat([df_train[df_train['Genre'].isin(['Rock', 'Pop', 'Metal', 'Country', 'Jazz', 'Folk', 'Indie'])], \n",
        "                df_train_en[df_train_en['Genre'].isin(['Electronic', 'Hip-Hop', 'R&B', 'Country'])]], ignore_index = True, axis=0)\n",
        "\n",
        "for genre in ['Metal', 'Jazz', 'Indie', 'Folk']:\n",
        "    for row in df_train_en[df_train_en['Genre'] == genre].iterrows():\n",
        "        if row[1]['Lyrics'] not in df[df['Genre'] == genre]['Lyrics'] and \\\n",
        "        df[df['Genre'] == genre]['Lyrics'].shape[0] < 2590:\n",
        "            df = df.append({'Genre': genre, 'Lyrics': row[1]['Lyrics']}, ignore_index=True)\n",
        "\n",
        "df_train = df\n",
        "df_test = pd.read_csv(\"/content/drive/My Drive/AI Masters/IRTM/Lyrics-Genre-Test-GroundTruth.csv\", \n",
        "                      delimiter=',')"
      ],
      "execution_count": null,
      "outputs": []
    },
    {
      "cell_type": "markdown",
      "metadata": {
        "id": "0ae8qqYB_kkW"
      },
      "source": [
        "# Modelling\n"
      ]
    },
    {
      "cell_type": "markdown",
      "metadata": {
        "id": "_cQHGBu9nw71"
      },
      "source": [
        "## Shallow Models"
      ]
    },
    {
      "cell_type": "markdown",
      "metadata": {
        "id": "Xl8rqAyM8Hrn"
      },
      "source": [
        "### Logistic Regression\n",
        "\n",
        "Obtained about 30% accuracy with tf-idf embeddings."
      ]
    },
    {
      "cell_type": "code",
      "metadata": {
        "id": "5EdDHW1M5uGt",
        "colab": {
          "base_uri": "https://localhost:8080/"
        },
        "outputId": "a4b1c97d-0e6d-40da-eed6-bce24bd11d3e"
      },
      "source": [
        "from sklearn.pipeline import Pipeline\n",
        "from sklearn.feature_extraction.text import CountVectorizer, TfidfTransformer\n",
        "from sklearn.linear_model import LogisticRegression\n",
        "from sklearn.model_selection import KFold, cross_val_score\n",
        "from sklearn.metrics import accuracy_score\n",
        "\n",
        "uniques_map = {}\n",
        "for value, key in list(zip(range(df_train['Genre'].unique().shape[0]), df_train['Genre'].unique())):\n",
        "    uniques_map[key] = value\n",
        "\n",
        "df_train['Genre'] = df_train['Genre'].map(uniques_map)\n",
        "df_test['Genre'] = df_test['Genre'].map(uniques_map)\\\n",
        "\n",
        "logreg = Pipeline([('vect', CountVectorizer()),\n",
        "                   ('tfidf', TfidfTransformer()),\n",
        "                   ('clf', LogisticRegression(n_jobs=8, C=1e5, max_iter=10000, \n",
        "                                              multi_class='ovr')),\n",
        "                   ])\n",
        "\n",
        "cv = KFold(n_splits=10, random_state=42, shuffle=True)\n",
        "scores = cross_val_score(logreg, df_train['Lyrics'], df_train['Genre'], \n",
        "                         scoring='accuracy', cv=cv, n_jobs=-1)\n",
        "\n",
        "print('10-fold CV accuracy mean: {} and variation: {}.'.format(np.mean(scores), \n",
        "                                                               np.std(scores)))\n",
        "\n",
        "\n",
        "logreg.fit(df_train['Lyrics'], df_train['Genre'].astype(int))\n",
        "\n",
        "predicted_labels = logreg.predict(df_test['Lyrics'])\n",
        "\n",
        "print('Logistic regression accuracy with tf-idf %s' % accuracy_score(predicted_labels, df_test['Genre'].astype(int)))"
      ],
      "execution_count": null,
      "outputs": [
        {
          "output_type": "stream",
          "text": [
            "10-fold CV accuracy mean: 0.33111743929205273 and variation: 0.009737538350685668.\n",
            "Logistic regression accuracy with tf-idf 0.3295526149968494\n"
          ],
          "name": "stdout"
        }
      ]
    },
    {
      "cell_type": "markdown",
      "metadata": {
        "id": "EFxXVosGpFeg"
      },
      "source": [
        "### SVM\n",
        "\n",
        "Obtained about 40% acctracy with tf-idf embeddings, same with GLOVE vectors."
      ]
    },
    {
      "cell_type": "code",
      "metadata": {
        "id": "5ffQSM8HWB5Q"
      },
      "source": [
        "from sklearn.pipeline import Pipeline\n",
        "from sklearn.feature_extraction.text import CountVectorizer, TfidfTransformer\n",
        "from sklearn.svm import SVC\n",
        "from sklearn.model_selection import KFold, cross_val_score\n",
        "from sklearn.metrics import accuracy_score\n",
        "\n",
        "uniques_map = {}\n",
        "for value, key in list(zip(range(df_train['Genre'].unique().shape[0]), df_train['Genre'].unique())):\n",
        "    uniques_map[key] = value\n",
        "\n",
        "df_train['Genre'] = df_train['Genre'].map(uniques_map)\n",
        "df_test['Genre'] = df_test['Genre'].map(uniques_map)"
      ],
      "execution_count": null,
      "outputs": []
    },
    {
      "cell_type": "markdown",
      "metadata": {
        "id": "wdvqSShAYytt"
      },
      "source": [
        "#### Tf-Idf"
      ]
    },
    {
      "cell_type": "code",
      "metadata": {
        "colab": {
          "background_save": true,
          "base_uri": "https://localhost:8080/"
        },
        "id": "g7QHpNtIjCJL",
        "outputId": "97fba03f-4cbd-4e16-e2ae-6971245a6238"
      },
      "source": [
        "svm = Pipeline([('vect', CountVectorizer()),\n",
        "                ('tfidf', TfidfTransformer()),\n",
        "                ('clf', SVC(kernel='rbf')),\n",
        "               ])\n",
        "\n",
        "cv = KFold(n_splits=10, random_state=42, shuffle=True)\n",
        "scores = cross_val_score(svm, df_train['Lyrics'], df_train['Genre'], \n",
        "                         scoring='accuracy', cv=cv, n_jobs=-1)\n",
        "\n",
        "print('10-fold CV accuracy mean: {} and variation: {}.'.format(np.mean(scores), \n",
        "                                                               np.std(scores)))\n",
        "\n",
        "svm.fit(df_train['Lyrics'], df_train['Genre'].astype(int))\n",
        "\n",
        "predicted_labels = svm.predict(df_test['Lyrics'])\n",
        "\n",
        "print('SVM accuracy with tf-idf: %s' % accuracy_score(predicted_labels, df_test['Genre'].astype(int)))"
      ],
      "execution_count": null,
      "outputs": [
        {
          "output_type": "stream",
          "text": [
            "10-fold CV accuracy mean: 0.41441069155310367 and variation: 0.013361816391412235.\n",
            "SVM accuracy with tf-idf: 0.41789540012602394\n"
          ],
          "name": "stdout"
        }
      ]
    },
    {
      "cell_type": "markdown",
      "metadata": {
        "id": "sd1ldxxTY2G5"
      },
      "source": [
        "#### GLOVE"
      ]
    },
    {
      "cell_type": "code",
      "metadata": {
        "id": "rG0f3dTCY-Kq"
      },
      "source": [
        "def read_glove_vecs(glove_file):\n",
        "    #input: file\n",
        "    #output: word to 50d vector mapping output\n",
        "    with open(glove_file, 'r') as f:\n",
        "        words = set()\n",
        "        word_to_vec_map = {}\n",
        "        for line in f:\n",
        "            line = line.strip().split()\n",
        "            curr_word = line[0]\n",
        "            words.add(curr_word)\n",
        "            word_to_vec_map[curr_word] = np.array(line[1:], dtype=np.float64)\n",
        "    return word_to_vec_map\n",
        "\n",
        "class Word2VecVectorizer:\n",
        "    def __init__(self, model):\n",
        "        print(\"Loading in word vectors...\")\n",
        "        self.word_vectors = model\n",
        "        print(\"Finished loading in word vectors\")\n",
        "\n",
        "    def fit(self, data):\n",
        "        pass\n",
        "\n",
        "    def transform(self, data):\n",
        "        # determine the dimensionality of vectors\n",
        "        v = self.word_vectors.get_vector('king')\n",
        "        self.D = v.shape[0]\n",
        "\n",
        "        X = np.zeros((len(data), self.D))\n",
        "        n = 0\n",
        "        emptycount = 0\n",
        "        for sentence in data:\n",
        "            tokens = sentence.split()\n",
        "            vecs = []\n",
        "            m = 0\n",
        "            for word in tokens:\n",
        "                try:\n",
        "                    # throws KeyError if word not found\n",
        "                    vec = self.word_vectors.get_vector(word)\n",
        "                    vecs.append(vec)\n",
        "                    m += 1\n",
        "                except KeyError:\n",
        "                    pass\n",
        "            if len(vecs) > 0:\n",
        "                vecs = np.array(vecs)\n",
        "                X[n] = vecs.mean(axis=0)\n",
        "            else:\n",
        "                emptycount += 1\n",
        "            n += 1\n",
        "        print(\"Numer of samples with no words found: %s / %s\" % (emptycount, len(data)))\n",
        "        return X\n",
        "\n",
        "\n",
        "    def fit_transform(self, data):\n",
        "        self.fit(data)\n",
        "        return self.transform(data)"
      ],
      "execution_count": null,
      "outputs": []
    },
    {
      "cell_type": "code",
      "metadata": {
        "id": "tvJezhMUY-Ca"
      },
      "source": [
        "import zipfile\n",
        "from gensim.models import KeyedVectors\n",
        "from gensim.scripts.glove2word2vec import glove2word2vec\n",
        "\n",
        "with zipfile.ZipFile('/content/drive/MyDrive/AI Masters/IRTM/glove.6B.zip', 'r') as zip_ref:\n",
        "    zip_ref.extractall('/content/')\n",
        "\n",
        "glove_filename = 'glove.6B.50d'\n",
        "word2vec_output_file = glove_filename +'.word2vec'\n",
        "glove2word2vec(glove_filename + '.txt', word2vec_output_file)\n",
        "\n",
        "model = KeyedVectors.load_word2vec_format(word2vec_output_file, binary=False)"
      ],
      "execution_count": null,
      "outputs": []
    },
    {
      "cell_type": "code",
      "metadata": {
        "id": "6EYJG2jtY98O"
      },
      "source": [
        "vectorizer = Word2VecVectorizer(model)\n",
        "\n",
        "Xtrain = vectorizer.fit_transform(df_train['Lyrics'])\n",
        "Ytrain = df_train['Genre']\n",
        "\n",
        "Xtest = vectorizer.transform(df_test['Lyrics'])\n",
        "Ytest = df_test['Genre']\n",
        "\n",
        "svm = SVC(kernel='rbf')\n",
        "\n",
        "svm.fit(Xtrain, Ytrain)\n",
        "\n",
        "predicted_labels = svm.predict(Xtest)\n",
        "\n",
        "print('SVM accuracy with GLOVE embeddings%s' % accuracy_score(predicted_labels, Ytest))"
      ],
      "execution_count": null,
      "outputs": []
    },
    {
      "cell_type": "markdown",
      "metadata": {
        "id": "6I9yCmeSU7Ep"
      },
      "source": [
        "### Hierarchical Model\n",
        "\n",
        "Apply hierarchical binary splits using binary models. Train a primary model on two large class splits and wear the data down to a split like Folk vs Country.\n",
        "\n",
        "Results were not much different than models trained on all of the classes. Sometimes much worse, like the case of logistic regression.\n",
        "\n",
        "todo: try smarter splits (rock-pop-hiphop vs others and go down from there)"
      ]
    },
    {
      "cell_type": "code",
      "metadata": {
        "id": "5QsNDwTEFEx4"
      },
      "source": [
        "class ModelHierarchy():\n",
        "    def __init__(self, model_name):\n",
        "        from sklearn.pipeline import Pipeline\n",
        "        from sklearn.feature_extraction.text import CountVectorizer, TfidfTransformer\n",
        "        from sklearn.svm import SVC\n",
        "        from sklearn.linear_model import LogisticRegression, SGDClassifier\n",
        "        from sklearn.neural_network import MLPClassifier\n",
        "\n",
        "        model = None\n",
        "        self.logregs = {'binary': None, 'RMCFJ': None, 'RM': None, 'CFJ': None, 'CF': None, \n",
        "                        'PHREI': None, 'PHR': None, 'EI': None, 'PH': None}\n",
        "        self.group_maps = {'binary': {'Folk': 0, 'Country': 0, 'Jazz': 0, 'Hip-Hop': 1, 'R&B': 1, \n",
        "                                      'Rock': 0, 'Metal': 0, 'Pop': 1, 'Indie': 1, 'Electronic': 1}, \n",
        "                           'RMCFJ': {'Rock': 0, 'Metal': 0, 'Folk': 1, 'Country': 1, 'Jazz': 1}, \n",
        "                           'PHREI': {'Pop': 0, 'Hip-Hop': 0, 'R&B': 0, 'Electronic': 1, 'Indie': 1},\n",
        "                           'RM': {'Rock': 0, 'Metal': 1}, 'CFJ': {'Country': 0, 'Folk': 0, 'Jazz': 1},\n",
        "                           'CF': {'Country': 0, 'Folk': 1}, 'EI': {'Electronic': 0, 'Indie': 1}, \n",
        "                           'PHR': {'Pop': 0, 'Hip-Hop': 0, 'R&B': 1}, 'PH': {'Pop': 0, 'Hip-Hop': 1}}\n",
        "\n",
        "        if model_name == 'logreg':\n",
        "            model = LogisticRegression(n_jobs=8, C=1e5, \n",
        "                                       max_iter=10000, multi_class='ovr')\n",
        "        elif model_name == 'svm':\n",
        "            model = SVC(kernel='rbf')\n",
        "        elif model_name == 'sgd':\n",
        "            model = SGDClassifier()\n",
        "        elif model_name == 'mlp':\n",
        "            model = MLP()\n",
        "\n",
        "        for key in self.logregs.keys():\n",
        "            self.logregs[key] = Pipeline([('vect_' + key, CountVectorizer()),\n",
        "                                          ('tfidf_' + key, TfidfTransformer()),\n",
        "                                          ('clf_' + key, model)\n",
        "                                          ])\n",
        "\n",
        "    def add_labelling(self, row, group_dict):\n",
        "        for val, key in group_dict.items():\n",
        "            if row['Genre'] == val:\n",
        "                return key\n",
        "\n",
        "    def fit(self, df_train, df_test):\n",
        "        for key in self.logregs.keys():\n",
        "            df_train[key] = df_train.apply(lambda x: self.add_labelling(x, self.group_maps[key]), axis=1)\n",
        "            df_test[key] = df_test.apply(lambda x: self.add_labelling(x, self.group_maps[key]), axis=1)\n",
        "            df = df_train[df_train['Genre'].isin(list(self.group_maps[key].keys()))]\n",
        "            self.logregs[key].fit(df['Lyrics'], df[key])\n",
        "            dft = df_test[df_test['Genre'].isin(list(self.group_maps[key].keys()))]\n",
        "            predictions = self.logregs[key].predict(dft['Lyrics'])\n",
        "            # print('Training {} model finished. Accuracy {}.'.format(key, accuracy_score(predictions, dft[key].astype(int))))\n",
        "\n",
        "    def predict(self, df_test):\n",
        "        predictions = []\n",
        "        for row in df_test.iterrows():\n",
        "            result_binary = self.logregs['binary'].predict([row[1]['Lyrics']])\n",
        "            if result_binary == 0:\n",
        "                result_RMCFJ = self.logregs['RMCFJ'].predict([row[1]['Lyrics']])\n",
        "                if result_RMCFJ == 0:\n",
        "                    result_RM = self.logregs['RM'].predict([row[1]['Lyrics']])\n",
        "                    if result_RM == 0:\n",
        "                        predictions.append('Rock')\n",
        "                    else:\n",
        "                        predictions.append('Metal')\n",
        "                else:\n",
        "                    result_CFJ = self.logregs['CFJ'].predict([row[1]['Lyrics']])\n",
        "                    if result_CFJ == 0:\n",
        "                        result_CF = self.logregs['CF'].predict([row[1]['Lyrics']])\n",
        "                        if result_CF == 0:\n",
        "                            predictions.append('Country')\n",
        "                        else:\n",
        "                            predictions.append('Folk')\n",
        "                    else:\n",
        "                        predictions.append('Jazz')\n",
        "            else:\n",
        "                result_PHREI = self.logregs['PHREI'].predict([row[1]['Lyrics']])\n",
        "                if result_PHREI == 0:\n",
        "                    result_PHR = self.logregs['PHR'].predict([row[1]['Lyrics']])\n",
        "                    if result_PHR == 0:\n",
        "                        result_PH = self.logregs['PH'].predict([row[1]['Lyrics']])\n",
        "                        if result_PH == 0:\n",
        "                            predictions.append('Pop')\n",
        "                        else:\n",
        "                            predictions.append('Hip-Hop')\n",
        "                    else:\n",
        "                        predictions.append('R&B')\n",
        "                else:\n",
        "                    result_EI = self.logregs['EI'].predict([row[1]['Lyrics']])\n",
        "                    if result_EI == 0:\n",
        "                        predictions.append('Electric')\n",
        "                    else:\n",
        "                        predictions.append('Indie')\n",
        "        return predictions"
      ],
      "execution_count": null,
      "outputs": []
    },
    {
      "cell_type": "code",
      "metadata": {
        "id": "ZMM-1qY_o2Kl"
      },
      "source": [
        "def clean_text(text):\n",
        "    text = text.lower()\n",
        "    text = ' '.join(word for word in text.split() if not word in set(stopwords.words('english')))\n",
        "    text = re.sub('[/(){}\\[\\]\\|@,;]', ' ', text)\n",
        "    text = re.sub('[^0-9a-z #+_]', '', text)\n",
        "    lemmatizer = WordNetLemmatizer() \n",
        "    text = ' '.join(lemmatizer.lemmatize(word) for word in text.split())\n",
        "    return text\n",
        "\n",
        "df_train['Lyrics'] = df_train['Lyrics'].map(clean_text)\n",
        "df_test['Lyrics'] = df_test['Lyrics'].map(clean_text)"
      ],
      "execution_count": null,
      "outputs": []
    },
    {
      "cell_type": "code",
      "metadata": {
        "id": "B_SeCD7AROAe"
      },
      "source": [
        "lrh = ModelHierarchy('svm') # logred, svm, mlp, sgd\n",
        "\n",
        "lrh.fit(df_train, df_test)\n",
        "\n",
        "predictions = lrh.predict(df_test)\n",
        "\n",
        "print('Accuracy {}'.format(accuracy_score(predictions, df_test['Genre'])))"
      ],
      "execution_count": null,
      "outputs": []
    },
    {
      "cell_type": "markdown",
      "metadata": {
        "id": "Owpei57xFMvR"
      },
      "source": [
        "## BERT\n",
        "\n",
        "We are using DistilBERT English cased model for the whole dataset and XLM Roberta on the non-English dataset.\n",
        "\n",
        "\n",
        "We tried sampling w.r.t. the class distribution, in order to allow the model to see more of the less represented classes during training.\n",
        "\n",
        "A note on hyperparameters for all the BERT models: we used a train batch of 64 and the AdamW optimizer with a learning rate of 1e-5."
      ]
    },
    {
      "cell_type": "code",
      "metadata": {
        "colab": {
          "base_uri": "https://localhost:8080/"
        },
        "id": "TuAk6RBFsGOV",
        "outputId": "ea6225da-6190-463a-cb6a-9be4eaf93afb"
      },
      "source": [
        "!pip install sentencepiece\n",
        "!pip install transformers"
      ],
      "execution_count": null,
      "outputs": [
        {
          "output_type": "stream",
          "text": [
            "Collecting sentencepiece\n",
            "\u001b[?25l  Downloading https://files.pythonhosted.org/packages/e5/2d/6d4ca4bef9a67070fa1cac508606328329152b1df10bdf31fb6e4e727894/sentencepiece-0.1.94-cp36-cp36m-manylinux2014_x86_64.whl (1.1MB)\n",
            "\r\u001b[K     |▎                               | 10kB 19.6MB/s eta 0:00:01\r\u001b[K     |▋                               | 20kB 26.5MB/s eta 0:00:01\r\u001b[K     |▉                               | 30kB 22.7MB/s eta 0:00:01\r\u001b[K     |█▏                              | 40kB 18.1MB/s eta 0:00:01\r\u001b[K     |█▌                              | 51kB 16.9MB/s eta 0:00:01\r\u001b[K     |█▊                              | 61kB 19.2MB/s eta 0:00:01\r\u001b[K     |██                              | 71kB 14.2MB/s eta 0:00:01\r\u001b[K     |██▍                             | 81kB 14.9MB/s eta 0:00:01\r\u001b[K     |██▋                             | 92kB 14.3MB/s eta 0:00:01\r\u001b[K     |███                             | 102kB 13.6MB/s eta 0:00:01\r\u001b[K     |███▎                            | 112kB 13.6MB/s eta 0:00:01\r\u001b[K     |███▌                            | 122kB 13.6MB/s eta 0:00:01\r\u001b[K     |███▉                            | 133kB 13.6MB/s eta 0:00:01\r\u001b[K     |████▏                           | 143kB 13.6MB/s eta 0:00:01\r\u001b[K     |████▍                           | 153kB 13.6MB/s eta 0:00:01\r\u001b[K     |████▊                           | 163kB 13.6MB/s eta 0:00:01\r\u001b[K     |█████                           | 174kB 13.6MB/s eta 0:00:01\r\u001b[K     |█████▎                          | 184kB 13.6MB/s eta 0:00:01\r\u001b[K     |█████▋                          | 194kB 13.6MB/s eta 0:00:01\r\u001b[K     |█████▉                          | 204kB 13.6MB/s eta 0:00:01\r\u001b[K     |██████▏                         | 215kB 13.6MB/s eta 0:00:01\r\u001b[K     |██████▌                         | 225kB 13.6MB/s eta 0:00:01\r\u001b[K     |██████▊                         | 235kB 13.6MB/s eta 0:00:01\r\u001b[K     |███████                         | 245kB 13.6MB/s eta 0:00:01\r\u001b[K     |███████▍                        | 256kB 13.6MB/s eta 0:00:01\r\u001b[K     |███████▋                        | 266kB 13.6MB/s eta 0:00:01\r\u001b[K     |████████                        | 276kB 13.6MB/s eta 0:00:01\r\u001b[K     |████████▎                       | 286kB 13.6MB/s eta 0:00:01\r\u001b[K     |████████▌                       | 296kB 13.6MB/s eta 0:00:01\r\u001b[K     |████████▉                       | 307kB 13.6MB/s eta 0:00:01\r\u001b[K     |█████████                       | 317kB 13.6MB/s eta 0:00:01\r\u001b[K     |█████████▍                      | 327kB 13.6MB/s eta 0:00:01\r\u001b[K     |█████████▊                      | 337kB 13.6MB/s eta 0:00:01\r\u001b[K     |██████████                      | 348kB 13.6MB/s eta 0:00:01\r\u001b[K     |██████████▎                     | 358kB 13.6MB/s eta 0:00:01\r\u001b[K     |██████████▋                     | 368kB 13.6MB/s eta 0:00:01\r\u001b[K     |██████████▉                     | 378kB 13.6MB/s eta 0:00:01\r\u001b[K     |███████████▏                    | 389kB 13.6MB/s eta 0:00:01\r\u001b[K     |███████████▌                    | 399kB 13.6MB/s eta 0:00:01\r\u001b[K     |███████████▊                    | 409kB 13.6MB/s eta 0:00:01\r\u001b[K     |████████████                    | 419kB 13.6MB/s eta 0:00:01\r\u001b[K     |████████████▍                   | 430kB 13.6MB/s eta 0:00:01\r\u001b[K     |████████████▋                   | 440kB 13.6MB/s eta 0:00:01\r\u001b[K     |█████████████                   | 450kB 13.6MB/s eta 0:00:01\r\u001b[K     |█████████████▎                  | 460kB 13.6MB/s eta 0:00:01\r\u001b[K     |█████████████▌                  | 471kB 13.6MB/s eta 0:00:01\r\u001b[K     |█████████████▉                  | 481kB 13.6MB/s eta 0:00:01\r\u001b[K     |██████████████                  | 491kB 13.6MB/s eta 0:00:01\r\u001b[K     |██████████████▍                 | 501kB 13.6MB/s eta 0:00:01\r\u001b[K     |██████████████▊                 | 512kB 13.6MB/s eta 0:00:01\r\u001b[K     |███████████████                 | 522kB 13.6MB/s eta 0:00:01\r\u001b[K     |███████████████▎                | 532kB 13.6MB/s eta 0:00:01\r\u001b[K     |███████████████▋                | 542kB 13.6MB/s eta 0:00:01\r\u001b[K     |███████████████▉                | 552kB 13.6MB/s eta 0:00:01\r\u001b[K     |████████████████▏               | 563kB 13.6MB/s eta 0:00:01\r\u001b[K     |████████████████▌               | 573kB 13.6MB/s eta 0:00:01\r\u001b[K     |████████████████▊               | 583kB 13.6MB/s eta 0:00:01\r\u001b[K     |█████████████████               | 593kB 13.6MB/s eta 0:00:01\r\u001b[K     |█████████████████▍              | 604kB 13.6MB/s eta 0:00:01\r\u001b[K     |█████████████████▋              | 614kB 13.6MB/s eta 0:00:01\r\u001b[K     |██████████████████              | 624kB 13.6MB/s eta 0:00:01\r\u001b[K     |██████████████████▏             | 634kB 13.6MB/s eta 0:00:01\r\u001b[K     |██████████████████▌             | 645kB 13.6MB/s eta 0:00:01\r\u001b[K     |██████████████████▉             | 655kB 13.6MB/s eta 0:00:01\r\u001b[K     |███████████████████             | 665kB 13.6MB/s eta 0:00:01\r\u001b[K     |███████████████████▍            | 675kB 13.6MB/s eta 0:00:01\r\u001b[K     |███████████████████▊            | 686kB 13.6MB/s eta 0:00:01\r\u001b[K     |████████████████████            | 696kB 13.6MB/s eta 0:00:01\r\u001b[K     |████████████████████▎           | 706kB 13.6MB/s eta 0:00:01\r\u001b[K     |████████████████████▋           | 716kB 13.6MB/s eta 0:00:01\r\u001b[K     |████████████████████▉           | 727kB 13.6MB/s eta 0:00:01\r\u001b[K     |█████████████████████▏          | 737kB 13.6MB/s eta 0:00:01\r\u001b[K     |█████████████████████▌          | 747kB 13.6MB/s eta 0:00:01\r\u001b[K     |█████████████████████▊          | 757kB 13.6MB/s eta 0:00:01\r\u001b[K     |██████████████████████          | 768kB 13.6MB/s eta 0:00:01\r\u001b[K     |██████████████████████▎         | 778kB 13.6MB/s eta 0:00:01\r\u001b[K     |██████████████████████▋         | 788kB 13.6MB/s eta 0:00:01\r\u001b[K     |███████████████████████         | 798kB 13.6MB/s eta 0:00:01\r\u001b[K     |███████████████████████▏        | 808kB 13.6MB/s eta 0:00:01\r\u001b[K     |███████████████████████▌        | 819kB 13.6MB/s eta 0:00:01\r\u001b[K     |███████████████████████▉        | 829kB 13.6MB/s eta 0:00:01\r\u001b[K     |████████████████████████        | 839kB 13.6MB/s eta 0:00:01\r\u001b[K     |████████████████████████▍       | 849kB 13.6MB/s eta 0:00:01\r\u001b[K     |████████████████████████▊       | 860kB 13.6MB/s eta 0:00:01\r\u001b[K     |█████████████████████████       | 870kB 13.6MB/s eta 0:00:01\r\u001b[K     |█████████████████████████▎      | 880kB 13.6MB/s eta 0:00:01\r\u001b[K     |█████████████████████████▋      | 890kB 13.6MB/s eta 0:00:01\r\u001b[K     |█████████████████████████▉      | 901kB 13.6MB/s eta 0:00:01\r\u001b[K     |██████████████████████████▏     | 911kB 13.6MB/s eta 0:00:01\r\u001b[K     |██████████████████████████▌     | 921kB 13.6MB/s eta 0:00:01\r\u001b[K     |██████████████████████████▊     | 931kB 13.6MB/s eta 0:00:01\r\u001b[K     |███████████████████████████     | 942kB 13.6MB/s eta 0:00:01\r\u001b[K     |███████████████████████████▎    | 952kB 13.6MB/s eta 0:00:01\r\u001b[K     |███████████████████████████▋    | 962kB 13.6MB/s eta 0:00:01\r\u001b[K     |████████████████████████████    | 972kB 13.6MB/s eta 0:00:01\r\u001b[K     |████████████████████████████▏   | 983kB 13.6MB/s eta 0:00:01\r\u001b[K     |████████████████████████████▌   | 993kB 13.6MB/s eta 0:00:01\r\u001b[K     |████████████████████████████▉   | 1.0MB 13.6MB/s eta 0:00:01\r\u001b[K     |█████████████████████████████   | 1.0MB 13.6MB/s eta 0:00:01\r\u001b[K     |█████████████████████████████▍  | 1.0MB 13.6MB/s eta 0:00:01\r\u001b[K     |█████████████████████████████▊  | 1.0MB 13.6MB/s eta 0:00:01\r\u001b[K     |██████████████████████████████  | 1.0MB 13.6MB/s eta 0:00:01\r\u001b[K     |██████████████████████████████▎ | 1.1MB 13.6MB/s eta 0:00:01\r\u001b[K     |██████████████████████████████▋ | 1.1MB 13.6MB/s eta 0:00:01\r\u001b[K     |██████████████████████████████▉ | 1.1MB 13.6MB/s eta 0:00:01\r\u001b[K     |███████████████████████████████▏| 1.1MB 13.6MB/s eta 0:00:01\r\u001b[K     |███████████████████████████████▍| 1.1MB 13.6MB/s eta 0:00:01\r\u001b[K     |███████████████████████████████▊| 1.1MB 13.6MB/s eta 0:00:01\r\u001b[K     |████████████████████████████████| 1.1MB 13.6MB/s \n",
            "\u001b[?25hInstalling collected packages: sentencepiece\n",
            "Successfully installed sentencepiece-0.1.94\n",
            "Collecting transformers\n",
            "\u001b[?25l  Downloading https://files.pythonhosted.org/packages/50/0c/7d5950fcd80b029be0a8891727ba21e0cd27692c407c51261c3c921f6da3/transformers-4.1.1-py3-none-any.whl (1.5MB)\n",
            "\u001b[K     |████████████████████████████████| 1.5MB 13.6MB/s \n",
            "\u001b[?25hRequirement already satisfied: tqdm>=4.27 in /usr/local/lib/python3.6/dist-packages (from transformers) (4.41.1)\n",
            "Requirement already satisfied: filelock in /usr/local/lib/python3.6/dist-packages (from transformers) (3.0.12)\n",
            "Requirement already satisfied: numpy in /usr/local/lib/python3.6/dist-packages (from transformers) (1.19.4)\n",
            "Requirement already satisfied: requests in /usr/local/lib/python3.6/dist-packages (from transformers) (2.23.0)\n",
            "Collecting tokenizers==0.9.4\n",
            "\u001b[?25l  Downloading https://files.pythonhosted.org/packages/0f/1c/e789a8b12e28be5bc1ce2156cf87cb522b379be9cadc7ad8091a4cc107c4/tokenizers-0.9.4-cp36-cp36m-manylinux2010_x86_64.whl (2.9MB)\n",
            "\u001b[K     |████████████████████████████████| 2.9MB 55.1MB/s \n",
            "\u001b[?25hCollecting sacremoses\n",
            "\u001b[?25l  Downloading https://files.pythonhosted.org/packages/7d/34/09d19aff26edcc8eb2a01bed8e98f13a1537005d31e95233fd48216eed10/sacremoses-0.0.43.tar.gz (883kB)\n",
            "\u001b[K     |████████████████████████████████| 890kB 57.1MB/s \n",
            "\u001b[?25hRequirement already satisfied: packaging in /usr/local/lib/python3.6/dist-packages (from transformers) (20.8)\n",
            "Requirement already satisfied: regex!=2019.12.17 in /usr/local/lib/python3.6/dist-packages (from transformers) (2019.12.20)\n",
            "Requirement already satisfied: dataclasses; python_version < \"3.7\" in /usr/local/lib/python3.6/dist-packages (from transformers) (0.8)\n",
            "Requirement already satisfied: urllib3!=1.25.0,!=1.25.1,<1.26,>=1.21.1 in /usr/local/lib/python3.6/dist-packages (from requests->transformers) (1.24.3)\n",
            "Requirement already satisfied: idna<3,>=2.5 in /usr/local/lib/python3.6/dist-packages (from requests->transformers) (2.10)\n",
            "Requirement already satisfied: certifi>=2017.4.17 in /usr/local/lib/python3.6/dist-packages (from requests->transformers) (2020.12.5)\n",
            "Requirement already satisfied: chardet<4,>=3.0.2 in /usr/local/lib/python3.6/dist-packages (from requests->transformers) (3.0.4)\n",
            "Requirement already satisfied: six in /usr/local/lib/python3.6/dist-packages (from sacremoses->transformers) (1.15.0)\n",
            "Requirement already satisfied: click in /usr/local/lib/python3.6/dist-packages (from sacremoses->transformers) (7.1.2)\n",
            "Requirement already satisfied: joblib in /usr/local/lib/python3.6/dist-packages (from sacremoses->transformers) (1.0.0)\n",
            "Requirement already satisfied: pyparsing>=2.0.2 in /usr/local/lib/python3.6/dist-packages (from packaging->transformers) (2.4.7)\n",
            "Building wheels for collected packages: sacremoses\n",
            "  Building wheel for sacremoses (setup.py) ... \u001b[?25l\u001b[?25hdone\n",
            "  Created wheel for sacremoses: filename=sacremoses-0.0.43-cp36-none-any.whl size=893261 sha256=add11aeccb8a8eda21d25091bc5f00daba6c86d242de16536f434e55015b86ab\n",
            "  Stored in directory: /root/.cache/pip/wheels/29/3c/fd/7ce5c3f0666dab31a50123635e6fb5e19ceb42ce38d4e58f45\n",
            "Successfully built sacremoses\n",
            "Installing collected packages: tokenizers, sacremoses, transformers\n",
            "Successfully installed sacremoses-0.0.43 tokenizers-0.9.4 transformers-4.1.1\n"
          ],
          "name": "stdout"
        }
      ]
    },
    {
      "cell_type": "code",
      "metadata": {
        "id": "YJW-c9-4V5aE"
      },
      "source": [
        "import torch\n",
        "import torch.nn as nn\n",
        "import torch.optim as optim\n",
        "\n",
        "from torch.utils.data import TensorDataset, random_split\n",
        "from torch.utils.data import DataLoader, RandomSampler, SequentialSampler\n",
        "\n",
        "from transformers import XLMRobertaTokenizerFast, XLMRobertaForSequenceClassification, AdamW\n",
        "from transformers import DistilBertTokenizerFast, DistilBertForSequenceClassification\n",
        "from transformers import get_cosine_schedule_with_warmup\n",
        "\n",
        "from nltk.tokenize import word_tokenize, RegexpTokenizer\n",
        "\n",
        "torch.set_grad_enabled(True)\n",
        "if torch.cuda.is_available(): \n",
        "    device = torch.device('cuda:0')\n",
        "else:\n",
        "    device = torch.device('cpu')"
      ],
      "execution_count": null,
      "outputs": []
    },
    {
      "cell_type": "code",
      "metadata": {
        "id": "I5GeAxUAdj73"
      },
      "source": [
        "def flat_accuracy(preds, labels):\n",
        "    pred_flat = np.argmax(preds, axis=1).flatten()\n",
        "    labels_flat = labels.flatten()\n",
        "    return np.sum(pred_flat == labels_flat) / len(labels_flat)\n",
        "\n",
        "def train_model(model, train_dataloader, validation_dataloader, model_name,\n",
        "                epochs = 10, seed_val=42, num_warmup_steps=0):\n",
        "    training_stats = []\n",
        "\n",
        "    random.seed(seed_val)\n",
        "    np.random.seed(seed_val)\n",
        "    torch.manual_seed(seed_val)\n",
        "    torch.cuda.manual_seed_all(seed_val)\n",
        "\n",
        "    total_steps = len(train_dataloader) * epochs\n",
        "\n",
        "    scheduler = get_cosine_schedule_with_warmup(optimizer, \n",
        "                                                num_warmup_steps = num_warmup_steps,\n",
        "                                                num_training_steps = total_steps)\n",
        "\n",
        "    saved_model_accuracy = -1\n",
        "    saved_model_loss = 1000\n",
        "\n",
        "    cross_entropy_loss = nn.CrossEntropyLoss()\n",
        "\n",
        "    for epoch_i in range(0, epochs):\n",
        "        total_train_loss = 0\n",
        "\n",
        "        model.train()\n",
        "\n",
        "        for step, batch in enumerate(train_dataloader):\n",
        "\n",
        "            b_input_ids = batch[0].to(device)\n",
        "            b_input_mask = batch[1].to(device)\n",
        "            b_labels = batch[2].to(device)\n",
        "\n",
        "            model.zero_grad()        \n",
        "            output = model(b_input_ids, \n",
        "                           attention_mask=b_input_mask, \n",
        "                           labels=b_labels)\n",
        "            loss, logits = output.loss, output.logits\n",
        "            loss = cross_entropy_loss(logits, b_labels)\n",
        "            total_train_loss += loss.item()\n",
        "            loss.backward()\n",
        "\n",
        "            torch.nn.utils.clip_grad_norm_(model.parameters(), 1.0)\n",
        "\n",
        "            optimizer.step()\n",
        "            scheduler.step()\n",
        "\n",
        "        avg_train_loss = total_train_loss / len(train_dataloader)\n",
        "\n",
        "        model.eval()\n",
        "\n",
        "        total_eval_accuracy = 0\n",
        "        total_eval_loss = 0\n",
        "        nb_eval_steps = 0\n",
        "\n",
        "        for batch in validation_dataloader:\n",
        "\n",
        "            b_input_ids = batch[0].to(device)\n",
        "            b_input_mask = batch[1].to(device)\n",
        "            b_labels = batch[2].to(device)\n",
        "            \n",
        "            with torch.no_grad():        \n",
        "\n",
        "                output = model(b_input_ids, \n",
        "                               attention_mask=b_input_mask,\n",
        "                               labels=b_labels)\n",
        "                loss, logits = output.loss, output.logits\n",
        "                loss = cross_entropy_loss(logits, b_labels)\n",
        "                \n",
        "            total_eval_loss += loss.item()\n",
        "\n",
        "            logits = logits.detach().cpu().numpy()\n",
        "            label_ids = b_labels.to('cpu').numpy()\n",
        "\n",
        "            total_eval_accuracy += flat_accuracy(logits, label_ids)\n",
        "            \n",
        "        avg_val_accuracy = total_eval_accuracy / len(validation_dataloader)\n",
        "        avg_val_loss = total_eval_loss / len(validation_dataloader)\n",
        "        \n",
        "        print(\"Epoch {} / {}: Average training loss: {:.4f}, Validation Acc: {:.4f}, Validation Loss: {:.4f}.\".\n",
        "            format(epoch_i + 1, epochs, avg_train_loss, avg_val_accuracy, avg_val_loss))\n",
        "        \n",
        "        if saved_model_loss >= (avg_val_loss - 0.001):\n",
        "            fileList = glob.glob('/content/' + model_name + '*')\n",
        "            if len(fileList) != 0:\n",
        "                os.remove(fileList[0])\n",
        "            torch.save(model.state_dict(), '/content/' + model_name + str(avg_val_accuracy))\n",
        "            saved_model_accuracy = avg_val_accuracy\n",
        "            saved_model_loss = avg_val_loss\n",
        "        \n",
        "        training_stats.append({'epoch': epoch_i + 1, 'Training Loss': avg_train_loss,\n",
        "                               'Val Loss': avg_val_loss, 'Val Acc': avg_val_accuracy})\n",
        "        \n",
        "    return model, training_stats\n",
        "\n",
        "def tokenize_data(tokenizer, df):\n",
        "    input_ids = []\n",
        "    attention_masks = []\n",
        "    labels = []\n",
        "    indexed_tokens = []\n",
        "\n",
        "    for index, row in df.iterrows():\n",
        "        encoded_dict = tokenizer.encode_plus(row['Lyrics'], \n",
        "                                             add_special_tokens = True, \n",
        "                                             max_length = 128, #try 256, 512\n",
        "                                             padding = 'max_length',\n",
        "                                             truncation=True,\n",
        "                                             return_attention_mask = True,\n",
        "                                             return_tensors = 'pt')\n",
        "        \n",
        "        input_ids.append(encoded_dict['input_ids']) \n",
        "        attention_masks.append(encoded_dict['attention_mask'])\n",
        "        labels.append(row['Genre'])\n",
        "\n",
        "    input_ids = torch.cat(input_ids, dim=0)\n",
        "    attention_masks = torch.cat(attention_masks, dim=0)\n",
        "    labels = torch.tensor(labels)\n",
        "\n",
        "    return input_ids, attention_masks, labels "
      ],
      "execution_count": null,
      "outputs": []
    },
    {
      "cell_type": "markdown",
      "metadata": {
        "id": "4eEhNxsUVlGT"
      },
      "source": [
        "### Restructure Data for BERT\n",
        "\n",
        "Since Colab (Pro version included) computational capabilities only allow training bert on at most 128 tokens, we decided to split all the lyrics into 128-token-long chunks. \n",
        "\n",
        "This is because most songs have more than double this amount of words and by tokenizing with BertTokenizer we basically lose all the information past the $128^{th}$ token. \n",
        "\n",
        "This way we managed to extend the number of our samples from:\n",
        "1. About ... to about 44.000 with the original dataset.\n",
        "2. About 290.000 to about 550.000 with the full dataset."
      ]
    },
    {
      "cell_type": "code",
      "metadata": {
        "id": "tRI39F70VomR"
      },
      "source": [
        "def chunks(lst, n):\n",
        "    for i in range(0, len(lst), n):\n",
        "        yield lst[i:i + n]\n",
        "\n",
        "def restructure_train_data(df, batch_size=128):\n",
        "    df_new = pd.DataFrame(columns=['Genre', 'Lyrics'])\n",
        "    for row in df.iterrows():\n",
        "        lyrics_tokenized = (' '.join(row[1]['Lyrics'].split('\\n'))).split()\n",
        "        lyrics_batches = chunks(lyrics_tokenized, batch_size)\n",
        "        for lyrics_batch in lyrics_batches:\n",
        "            #remove small samples but not from underrepresented data\n",
        "            df_new = df_new.append({'Genre': row[1]['Genre'], \n",
        "                                    'Lyrics': ' '.join(lyrics_batch)}, \n",
        "                                ignore_index=True)\n",
        "    return df_new\n",
        "\n",
        "df_train = restructure_train_data(df_train)"
      ],
      "execution_count": null,
      "outputs": []
    },
    {
      "cell_type": "markdown",
      "metadata": {
        "id": "C1-TGs7bTFmV"
      },
      "source": [
        "### BERT English\n",
        "\n",
        "Used DistilBERT. Achieved about 42% test accuracy on the original data. Splitting data into 128-token chunks gets the same results.\n",
        "\n",
        "The other datasets did not improve this result. Using all the data leads to overfitting on Rock and Pop genres as those overrepresented, so while the validation accuracy is around 70%, the test accuracy is 30%."
      ]
    },
    {
      "cell_type": "code",
      "metadata": {
        "id": "4UDds56r_oGx"
      },
      "source": [
        "MODEL_NAME = 'distilbert-base-cased-distilled-squad'"
      ],
      "execution_count": null,
      "outputs": []
    },
    {
      "cell_type": "code",
      "metadata": {
        "colab": {
          "base_uri": "https://localhost:8080/",
          "height": 168,
          "referenced_widgets": [
            "01a584bb4a0b47a99e9d0e5d94312692",
            "3187faf20af5460697abad11c0f9f25e",
            "3a7db4c90ca641cdba86ca35a9dc7483",
            "fe026c3e9e6947e4aa3a70d651c9cb60",
            "b5d3eeae3dac4df98773aac16114c8d3",
            "b7aed0aaa5da4289b0d60ae2a89ee1f8",
            "3f17d35bd2ba41bbac7f2eecb0801dfc",
            "8e3cd09b3872459eb8550e7f08e6aa43",
            "e3525c4133f74f7aaefa4891e75eb8aa",
            "a4168420d235464c9bfc1f14b9ae25ee",
            "77dfc14378324bc18abb09d10c4a95bf",
            "8628ecb0909c47ceb733b59ad65b4956",
            "2fbb00f6fd6947d9bb13688c0aecbb71",
            "0b22d4fa215b4c418cde66e548b8d680",
            "ef418f626d464833999d7ac3f0e0af4f",
            "2b0e0a69e2eb42868d34f408465da0b5"
          ]
        },
        "id": "2DSZiwcaV5PO",
        "outputId": "955ecf0c-6ac3-43d9-873b-fec7a1fc3b2a"
      },
      "source": [
        "uniques_map = {}\n",
        "for value, key in list(zip(range(df_train['Genre'].unique().shape[0]), df_train['Genre'].unique())):\n",
        "    uniques_map[key] = value\n",
        "\n",
        "df_train['Genre'] = df_train['Genre'].map(uniques_map)\n",
        "df_test['Genre'] = df_test['Genre'].map(uniques_map)\n",
        "\n",
        "df_train['Genre'] = df_train['Genre'].astype(int)\n",
        "df_test['Genre'] = df_test['Genre'].astype(int)\n",
        "\n",
        "tokenizer = DistilBertTokenizerFast.from_pretrained(MODEL_NAME, \n",
        "                                                    do_lower_case = False)\n",
        "\n",
        "train_input_ids, train_attention_masks, train_labels = tokenize_data(tokenizer, df_train)\n",
        "test_input_ids, test_attention_masks, test_labels = tokenize_data(tokenizer, df_test)\n",
        "\n",
        "dataset = TensorDataset(train_input_ids, train_attention_masks, train_labels)\n",
        "test_dataset = TensorDataset(test_input_ids, test_attention_masks, test_labels)\n",
        "\n",
        "train_size = int(0.9 * len(dataset))\n",
        "val_size = len(dataset) - train_size\n",
        "\n",
        "train_dataset, val_dataset = random_split(dataset, [train_size, val_size])\n",
        "\n",
        "print('{:>5,} training samples'.format(train_size))\n",
        "print('{:>5,} validation samples'.format(val_size))\n",
        "print('{:>5,} test samples'.format(len(test_dataset)))"
      ],
      "execution_count": null,
      "outputs": [
        {
          "output_type": "display_data",
          "data": {
            "application/vnd.jupyter.widget-view+json": {
              "model_id": "01a584bb4a0b47a99e9d0e5d94312692",
              "version_major": 2,
              "version_minor": 0
            },
            "text/plain": [
              "HBox(children=(FloatProgress(value=0.0, description='Downloading', max=213450.0, style=ProgressStyle(descripti…"
            ]
          },
          "metadata": {
            "tags": []
          }
        },
        {
          "output_type": "stream",
          "text": [
            "\n"
          ],
          "name": "stdout"
        },
        {
          "output_type": "display_data",
          "data": {
            "application/vnd.jupyter.widget-view+json": {
              "model_id": "e3525c4133f74f7aaefa4891e75eb8aa",
              "version_major": 2,
              "version_minor": 0
            },
            "text/plain": [
              "HBox(children=(FloatProgress(value=0.0, description='Downloading', max=435797.0, style=ProgressStyle(descripti…"
            ]
          },
          "metadata": {
            "tags": []
          }
        },
        {
          "output_type": "stream",
          "text": [
            "\n",
            "40,090 training samples\n",
            "4,455 validation samples\n",
            "7,935 test samples\n"
          ],
          "name": "stdout"
        }
      ]
    },
    {
      "cell_type": "code",
      "metadata": {
        "id": "TLvBaOSeWVWV"
      },
      "source": [
        "batch_size = 64\n",
        "\n",
        "train_dataloader = DataLoader(train_dataset, \n",
        "                              sampler = RandomSampler(train_dataset), \n",
        "                              batch_size = batch_size)\n",
        "\n",
        "validation_dataloader = DataLoader(val_dataset,\n",
        "                                   sampler = SequentialSampler(val_dataset),  \n",
        "                                   batch_size = batch_size)"
      ],
      "execution_count": null,
      "outputs": []
    },
    {
      "cell_type": "code",
      "metadata": {
        "colab": {
          "base_uri": "https://localhost:8080/",
          "height": 1000,
          "referenced_widgets": [
            "95f8348445ca466ba3a68fbe1189d9b7",
            "1d6571ea29f241c69c9de8cba87d9dcd",
            "cc0db302c2f64145ab0080c59d3a8a41",
            "8aa6fcca4a454eba980d6e4deaf99ac5",
            "b2a35defb5c243068126a24260ec82d8",
            "fc0fb897ef3e4536b1d3baa33f03419a",
            "acabc3f5b41545b6863e3d41d7ada4d3",
            "58404ea8fd0d440c88faa02d069af85f",
            "0798c452e6bd4d7b852fa65693531f63",
            "02df3c58ae5d4cfe8f2585ab166844a8",
            "d9970b50616d47198dab1d6d3397cf6e",
            "557895e18e1a4538b828cbbc90bd5d44",
            "4952afcd347044a49903a6361a3ee943",
            "c857dfb9d4bc4a4c8d19db663b3729c2",
            "fc63a0aec1dc4b6eb2f122e08d8b2419",
            "e815b6b97ac14125b9a77f2556f52b98"
          ]
        },
        "id": "SUDlD2jkWXaL",
        "outputId": "702a2c09-fc1f-4538-efce-4b5ac8cff4ff"
      },
      "source": [
        "model = DistilBertForSequenceClassification.from_pretrained(\n",
        "    MODEL_NAME,\n",
        "    num_labels = 10,  \n",
        "    output_attentions = False,\n",
        "    output_hidden_states = False)\n",
        "\n",
        "optimizer = AdamW(model.parameters(), lr = 1e-5)\n",
        "\n",
        "model.cuda()"
      ],
      "execution_count": null,
      "outputs": [
        {
          "output_type": "display_data",
          "data": {
            "application/vnd.jupyter.widget-view+json": {
              "model_id": "95f8348445ca466ba3a68fbe1189d9b7",
              "version_major": 2,
              "version_minor": 0
            },
            "text/plain": [
              "HBox(children=(FloatProgress(value=0.0, description='Downloading', max=473.0, style=ProgressStyle(description_…"
            ]
          },
          "metadata": {
            "tags": []
          }
        },
        {
          "output_type": "stream",
          "text": [
            "\n"
          ],
          "name": "stdout"
        },
        {
          "output_type": "display_data",
          "data": {
            "application/vnd.jupyter.widget-view+json": {
              "model_id": "0798c452e6bd4d7b852fa65693531f63",
              "version_major": 2,
              "version_minor": 0
            },
            "text/plain": [
              "HBox(children=(FloatProgress(value=0.0, description='Downloading', max=260793700.0, style=ProgressStyle(descri…"
            ]
          },
          "metadata": {
            "tags": []
          }
        },
        {
          "output_type": "stream",
          "text": [
            "\n"
          ],
          "name": "stdout"
        },
        {
          "output_type": "stream",
          "text": [
            "Some weights of the model checkpoint at distilbert-base-cased-distilled-squad were not used when initializing DistilBertForSequenceClassification: ['qa_outputs.weight', 'qa_outputs.bias']\n",
            "- This IS expected if you are initializing DistilBertForSequenceClassification from the checkpoint of a model trained on another task or with another architecture (e.g. initializing a BertForSequenceClassification model from a BertForPreTraining model).\n",
            "- This IS NOT expected if you are initializing DistilBertForSequenceClassification from the checkpoint of a model that you expect to be exactly identical (initializing a BertForSequenceClassification model from a BertForSequenceClassification model).\n",
            "Some weights of DistilBertForSequenceClassification were not initialized from the model checkpoint at distilbert-base-cased-distilled-squad and are newly initialized: ['pre_classifier.weight', 'pre_classifier.bias', 'classifier.weight', 'classifier.bias']\n",
            "You should probably TRAIN this model on a down-stream task to be able to use it for predictions and inference.\n"
          ],
          "name": "stderr"
        },
        {
          "output_type": "execute_result",
          "data": {
            "text/plain": [
              "DistilBertForSequenceClassification(\n",
              "  (distilbert): DistilBertModel(\n",
              "    (embeddings): Embeddings(\n",
              "      (word_embeddings): Embedding(28996, 768, padding_idx=0)\n",
              "      (position_embeddings): Embedding(512, 768)\n",
              "      (LayerNorm): LayerNorm((768,), eps=1e-12, elementwise_affine=True)\n",
              "      (dropout): Dropout(p=0.1, inplace=False)\n",
              "    )\n",
              "    (transformer): Transformer(\n",
              "      (layer): ModuleList(\n",
              "        (0): TransformerBlock(\n",
              "          (attention): MultiHeadSelfAttention(\n",
              "            (dropout): Dropout(p=0.1, inplace=False)\n",
              "            (q_lin): Linear(in_features=768, out_features=768, bias=True)\n",
              "            (k_lin): Linear(in_features=768, out_features=768, bias=True)\n",
              "            (v_lin): Linear(in_features=768, out_features=768, bias=True)\n",
              "            (out_lin): Linear(in_features=768, out_features=768, bias=True)\n",
              "          )\n",
              "          (sa_layer_norm): LayerNorm((768,), eps=1e-12, elementwise_affine=True)\n",
              "          (ffn): FFN(\n",
              "            (dropout): Dropout(p=0.1, inplace=False)\n",
              "            (lin1): Linear(in_features=768, out_features=3072, bias=True)\n",
              "            (lin2): Linear(in_features=3072, out_features=768, bias=True)\n",
              "          )\n",
              "          (output_layer_norm): LayerNorm((768,), eps=1e-12, elementwise_affine=True)\n",
              "        )\n",
              "        (1): TransformerBlock(\n",
              "          (attention): MultiHeadSelfAttention(\n",
              "            (dropout): Dropout(p=0.1, inplace=False)\n",
              "            (q_lin): Linear(in_features=768, out_features=768, bias=True)\n",
              "            (k_lin): Linear(in_features=768, out_features=768, bias=True)\n",
              "            (v_lin): Linear(in_features=768, out_features=768, bias=True)\n",
              "            (out_lin): Linear(in_features=768, out_features=768, bias=True)\n",
              "          )\n",
              "          (sa_layer_norm): LayerNorm((768,), eps=1e-12, elementwise_affine=True)\n",
              "          (ffn): FFN(\n",
              "            (dropout): Dropout(p=0.1, inplace=False)\n",
              "            (lin1): Linear(in_features=768, out_features=3072, bias=True)\n",
              "            (lin2): Linear(in_features=3072, out_features=768, bias=True)\n",
              "          )\n",
              "          (output_layer_norm): LayerNorm((768,), eps=1e-12, elementwise_affine=True)\n",
              "        )\n",
              "        (2): TransformerBlock(\n",
              "          (attention): MultiHeadSelfAttention(\n",
              "            (dropout): Dropout(p=0.1, inplace=False)\n",
              "            (q_lin): Linear(in_features=768, out_features=768, bias=True)\n",
              "            (k_lin): Linear(in_features=768, out_features=768, bias=True)\n",
              "            (v_lin): Linear(in_features=768, out_features=768, bias=True)\n",
              "            (out_lin): Linear(in_features=768, out_features=768, bias=True)\n",
              "          )\n",
              "          (sa_layer_norm): LayerNorm((768,), eps=1e-12, elementwise_affine=True)\n",
              "          (ffn): FFN(\n",
              "            (dropout): Dropout(p=0.1, inplace=False)\n",
              "            (lin1): Linear(in_features=768, out_features=3072, bias=True)\n",
              "            (lin2): Linear(in_features=3072, out_features=768, bias=True)\n",
              "          )\n",
              "          (output_layer_norm): LayerNorm((768,), eps=1e-12, elementwise_affine=True)\n",
              "        )\n",
              "        (3): TransformerBlock(\n",
              "          (attention): MultiHeadSelfAttention(\n",
              "            (dropout): Dropout(p=0.1, inplace=False)\n",
              "            (q_lin): Linear(in_features=768, out_features=768, bias=True)\n",
              "            (k_lin): Linear(in_features=768, out_features=768, bias=True)\n",
              "            (v_lin): Linear(in_features=768, out_features=768, bias=True)\n",
              "            (out_lin): Linear(in_features=768, out_features=768, bias=True)\n",
              "          )\n",
              "          (sa_layer_norm): LayerNorm((768,), eps=1e-12, elementwise_affine=True)\n",
              "          (ffn): FFN(\n",
              "            (dropout): Dropout(p=0.1, inplace=False)\n",
              "            (lin1): Linear(in_features=768, out_features=3072, bias=True)\n",
              "            (lin2): Linear(in_features=3072, out_features=768, bias=True)\n",
              "          )\n",
              "          (output_layer_norm): LayerNorm((768,), eps=1e-12, elementwise_affine=True)\n",
              "        )\n",
              "        (4): TransformerBlock(\n",
              "          (attention): MultiHeadSelfAttention(\n",
              "            (dropout): Dropout(p=0.1, inplace=False)\n",
              "            (q_lin): Linear(in_features=768, out_features=768, bias=True)\n",
              "            (k_lin): Linear(in_features=768, out_features=768, bias=True)\n",
              "            (v_lin): Linear(in_features=768, out_features=768, bias=True)\n",
              "            (out_lin): Linear(in_features=768, out_features=768, bias=True)\n",
              "          )\n",
              "          (sa_layer_norm): LayerNorm((768,), eps=1e-12, elementwise_affine=True)\n",
              "          (ffn): FFN(\n",
              "            (dropout): Dropout(p=0.1, inplace=False)\n",
              "            (lin1): Linear(in_features=768, out_features=3072, bias=True)\n",
              "            (lin2): Linear(in_features=3072, out_features=768, bias=True)\n",
              "          )\n",
              "          (output_layer_norm): LayerNorm((768,), eps=1e-12, elementwise_affine=True)\n",
              "        )\n",
              "        (5): TransformerBlock(\n",
              "          (attention): MultiHeadSelfAttention(\n",
              "            (dropout): Dropout(p=0.1, inplace=False)\n",
              "            (q_lin): Linear(in_features=768, out_features=768, bias=True)\n",
              "            (k_lin): Linear(in_features=768, out_features=768, bias=True)\n",
              "            (v_lin): Linear(in_features=768, out_features=768, bias=True)\n",
              "            (out_lin): Linear(in_features=768, out_features=768, bias=True)\n",
              "          )\n",
              "          (sa_layer_norm): LayerNorm((768,), eps=1e-12, elementwise_affine=True)\n",
              "          (ffn): FFN(\n",
              "            (dropout): Dropout(p=0.1, inplace=False)\n",
              "            (lin1): Linear(in_features=768, out_features=3072, bias=True)\n",
              "            (lin2): Linear(in_features=3072, out_features=768, bias=True)\n",
              "          )\n",
              "          (output_layer_norm): LayerNorm((768,), eps=1e-12, elementwise_affine=True)\n",
              "        )\n",
              "      )\n",
              "    )\n",
              "  )\n",
              "  (pre_classifier): Linear(in_features=768, out_features=768, bias=True)\n",
              "  (classifier): Linear(in_features=768, out_features=10, bias=True)\n",
              "  (dropout): Dropout(p=0.2, inplace=False)\n",
              ")"
            ]
          },
          "metadata": {
            "tags": []
          },
          "execution_count": 20
        }
      ]
    },
    {
      "cell_type": "code",
      "metadata": {
        "colab": {
          "base_uri": "https://localhost:8080/"
        },
        "id": "DhjRU7oOWXXs",
        "outputId": "a2077c38-02ed-4a47-d279-e20ef5b3069f"
      },
      "source": [
        "model, training_stats = train_model(model,\n",
        "                                    train_dataloader, validation_dataloader,\n",
        "                                    epochs=6, seed_val=1, model_name=MODEL_NAME + '-')"
      ],
      "execution_count": null,
      "outputs": [
        {
          "output_type": "stream",
          "text": [
            "Epoch 1 / 6: Average training loss: 1.8181, Validation Acc: 0.4239, Validation Loss: 1.6706.\n",
            "Epoch 2 / 6: Average training loss: 1.5995, Validation Acc: 0.4566, Validation Loss: 1.5994.\n",
            "Epoch 3 / 6: Average training loss: 1.4997, Validation Acc: 0.4605, Validation Loss: 1.5803.\n",
            "Epoch 4 / 6: Average training loss: 1.4259, Validation Acc: 0.4663, Validation Loss: 1.5803.\n",
            "Epoch 5 / 6: Average training loss: 1.3749, Validation Acc: 0.4756, Validation Loss: 1.5670.\n",
            "Epoch 6 / 6: Average training loss: 1.3553, Validation Acc: 0.4736, Validation Loss: 1.5682.\n"
          ],
          "name": "stdout"
        }
      ]
    },
    {
      "cell_type": "code",
      "metadata": {
        "colab": {
          "base_uri": "https://localhost:8080/"
        },
        "id": "_FP6quGTWeVO",
        "outputId": "1ece754e-ab4c-4a6c-d3ba-78627bc2cfc1"
      },
      "source": [
        "model.load_state_dict(torch.load('/content/distilbert-base-cased-distilled-squad-0.4755666208791209'))"
      ],
      "execution_count": null,
      "outputs": [
        {
          "output_type": "execute_result",
          "data": {
            "text/plain": [
              "<All keys matched successfully>"
            ]
          },
          "metadata": {
            "tags": []
          },
          "execution_count": 24
        }
      ]
    },
    {
      "cell_type": "code",
      "metadata": {
        "colab": {
          "base_uri": "https://localhost:8080/"
        },
        "id": "iI7h7IwoYidU",
        "outputId": "3a4f63aa-6cef-4d83-e010-b53f58205483"
      },
      "source": [
        "from sklearn.metrics import accuracy_score\n",
        "\n",
        "test_dataloader = DataLoader(test_dataset,\n",
        "                             sampler = SequentialSampler(test_dataset), \n",
        "                             batch_size = 1)\n",
        "\n",
        "model.eval()\n",
        "test_predictions , true_labels = [], []\n",
        "\n",
        "for batch in test_dataloader:\n",
        "  batch = tuple(t.to(device) for t in batch)\n",
        "  b_input_ids, b_input_mask, b_labels = batch\n",
        "  \n",
        "  with torch.no_grad():\n",
        "      outputs = model(b_input_ids, \n",
        "                      attention_mask=b_input_mask)\n",
        "\n",
        "  logits = outputs[0]\n",
        "  label_ids = b_labels.to('cpu').numpy()\n",
        "  test_predictions.append(torch.argmax(logits).item())\n",
        "  true_labels.append(label_ids)\n",
        "\n",
        "accuracy_score(true_labels, test_predictions)"
      ],
      "execution_count": null,
      "outputs": [
        {
          "output_type": "execute_result",
          "data": {
            "text/plain": [
              "0.42810333963453057"
            ]
          },
          "metadata": {
            "tags": []
          },
          "execution_count": 25
        }
      ]
    },
    {
      "cell_type": "code",
      "metadata": {
        "colab": {
          "base_uri": "https://localhost:8080/",
          "height": 766
        },
        "id": "PLfpIhQYLlxE",
        "outputId": "3bf30d88-d94e-46e1-ca18-31d095dd4fcc"
      },
      "source": [
        "from sklearn.metrics import confusion_matrix\n",
        "conf_matrix = confusion_matrix(true_labels, test_predictions, normalize='true')\n",
        "df_cm = pd.DataFrame(conf_matrix, index=[i for i in range(10)], columns=[i for i in range(10)])\n",
        "\n",
        "fig, ax = plt.subplots(figsize=(13,10))\n",
        "sns.heatmap(df_cm, annot=True)\n",
        "ax.set_xticklabels(['Metal', 'Hip-Hop', 'Country', 'Jazz', 'Electronic', \n",
        "                    'Pop', 'Folk', 'Rock', 'R&B', 'Indie'])\n",
        "ax.set_yticklabels(['Metal', 'Hip-Hop', 'Country', 'Jazz', 'Electronic', \n",
        "                    'Pop', 'Folk', 'Rock', 'R&B', 'Indie'])"
      ],
      "execution_count": null,
      "outputs": [
        {
          "output_type": "execute_result",
          "data": {
            "text/plain": [
              "[Text(0, 0.5, 'Metal'),\n",
              " Text(0, 1.5, 'Hip-Hop'),\n",
              " Text(0, 2.5, 'Country'),\n",
              " Text(0, 3.5, 'Jazz'),\n",
              " Text(0, 4.5, 'Electronic'),\n",
              " Text(0, 5.5, 'Pop'),\n",
              " Text(0, 6.5, 'Folk'),\n",
              " Text(0, 7.5, 'Rock'),\n",
              " Text(0, 8.5, 'R&B'),\n",
              " Text(0, 9.5, 'Indie')]"
            ]
          },
          "metadata": {
            "tags": []
          },
          "execution_count": 23
        },
        {
          "output_type": "display_data",
          "data": {
            "image/png": "[encoded data removed]",
            "text/plain": [
              "<Figure size 936x720 with 2 Axes>"
            ]
          },
          "metadata": {
            "tags": []
          }
        }
      ]
    },
    {
      "cell_type": "markdown",
      "metadata": {
        "id": "F_DkrSMxTJbh"
      },
      "source": [
        "### XLM - RoBERTa\n",
        "\n",
        "Achieved about 47% test accuracy on the original non-English data. The other datasets did not improve this result."
      ]
    },
    {
      "cell_type": "code",
      "metadata": {
        "id": "ctR_8JyuUhiw"
      },
      "source": [
        "MODEL_NAME = 'xlm-roberta-base'\n",
        "VOCABULARY_PATH = 'https://huggingface.co/xlm-roberta-base/resolve/main/sentencepiece.bpe.model'"
      ],
      "execution_count": null,
      "outputs": []
    },
    {
      "cell_type": "code",
      "metadata": {
        "colab": {
          "base_uri": "https://localhost:8080/"
        },
        "id": "8kqgM3gIT2wb",
        "outputId": "96190479-a508-4536-ab77-b1030d23f265"
      },
      "source": [
        "df_train = pd.read_csv('/content/drive/MyDrive/AI Masters/IRTM/df_train_nen.csv')\n",
        "df_test = pd.read_csv('/content/drive/MyDrive/AI Masters/IRTM/df_test_nen.csv')\n",
        "\n",
        "df_train['Lyrics'] = df_train['Lyrics'].astype(str)\n",
        "df_test['Lyrics'] = df_test['Lyrics'].astype(str)\n",
        "\n",
        "df_train['Lyrics'] = df_train['Lyrics'].map(lambda x: ' '.join(x.split('\\n')))\n",
        "df_test['Lyrics'] = df_test['Lyrics'].map(lambda x: ' '.join(x.split('\\n')))\n",
        "uniques_map = {}\n",
        "for value, key in list(zip(range(df_train['Genre'].unique().shape[0]), df_train['Genre'].unique())):\n",
        "    uniques_map[key] = value\n",
        "\n",
        "df_train['Genre'] = df_train['Genre'].map(uniques_map)\n",
        "df_test['Genre'] = df_test['Genre'].map(uniques_map)\n",
        "\n",
        "tokenizer = XLMRobertaTokenizerFast.from_pretrained(MODEL_NAME,\n",
        "                                                    do_lower_case = False)\n",
        "\n",
        "train_input_ids, train_attention_masks, train_labels = tokenize_data(tokenizer, df_train)\n",
        "test_input_ids, test_attention_masks, test_labels = tokenize_data(tokenizer, df_test)\n",
        "\n",
        "dataset = TensorDataset(train_input_ids, train_attention_masks, train_labels)\n",
        "test_dataset = TensorDataset(test_input_ids, test_attention_masks, test_labels)\n",
        "\n",
        "train_size = int(0.9 * len(dataset))\n",
        "val_size = len(dataset) - train_size\n",
        "\n",
        "train_dataset, val_dataset = random_split(dataset, [train_size, val_size])\n",
        "\n",
        "print('{:>5,} training samples'.format(train_size))\n",
        "print('{:>5,} validation samples'.format(val_size))\n",
        "print('{:>5,} test samples'.format(len(test_dataset)))"
      ],
      "execution_count": null,
      "outputs": [
        {
          "output_type": "stream",
          "text": [
            "16,661 training samples\n",
            "1,852 validation samples\n",
            "7,935 test samples\n"
          ],
          "name": "stdout"
        }
      ]
    },
    {
      "cell_type": "code",
      "metadata": {
        "id": "1-JaBwqtUAI2"
      },
      "source": [
        "batch_size = 64\n",
        "\n",
        "train_dataloader = DataLoader(train_dataset, \n",
        "                              sampler = RandomSampler(train_dataset), \n",
        "                              batch_size = batch_size)\n",
        "\n",
        "validation_dataloader = DataLoader(val_dataset,\n",
        "                                   sampler = SequentialSampler(val_dataset),  \n",
        "                                   batch_size = batch_size)"
      ],
      "execution_count": null,
      "outputs": []
    },
    {
      "cell_type": "code",
      "metadata": {
        "id": "Cr2kVvFGUADK"
      },
      "source": [
        "model = BertForSequenceClassification.from_pretrained(\n",
        "    MODEL_NAME,\n",
        "    num_labels = 10,  \n",
        "    output_attentions = False,\n",
        "    output_hidden_states = False)\n",
        "\n",
        "optimizer = AdamW(model.parameters(), lr = 1e-5)\n",
        "\n",
        "model.cuda()"
      ],
      "execution_count": null,
      "outputs": []
    },
    {
      "cell_type": "code",
      "metadata": {
        "id": "SwvSQO5KT_9K"
      },
      "source": [
        "model, training_stats = train_model(model, \n",
        "                                    train_dataloader, validation_dataloader,\n",
        "                                    epochs=6, seed_val=42, model_name=MODEL_NAME + '-')"
      ],
      "execution_count": null,
      "outputs": []
    },
    {
      "cell_type": "code",
      "metadata": {
        "id": "wCk3NRtoT_33"
      },
      "source": [
        "model.load_state_dict(torch.load('/content/bert_nen_cased_0.7285879629629629'))"
      ],
      "execution_count": null,
      "outputs": []
    },
    {
      "cell_type": "code",
      "metadata": {
        "id": "oYqoKyqfUQgT"
      },
      "source": [
        "from sklearn.metrics import accuracy_score\n",
        "\n",
        "test_dataloader = DataLoader(test_dataset,\n",
        "                             sampler = SequentialSampler(test_dataset), \n",
        "                             batch_size = 1)\n",
        "\n",
        "model.eval()\n",
        "test_predictions , true_labels = [], []\n",
        "\n",
        "for batch in test_dataloader:\n",
        "  batch = tuple(t.to(device) for t in batch)\n",
        "  b_input_ids, b_input_mask, b_labels = batch\n",
        "  \n",
        "  with torch.no_grad():\n",
        "      outputs = model(b_input_ids, token_type_ids=None, \n",
        "                      attention_mask=b_input_mask)\n",
        "\n",
        "  logits = outputs[0]\n",
        "  label_ids = b_labels.to('cpu').numpy()\n",
        "  test_predictions.append(torch.argmax(logits).item())\n",
        "  true_labels.append(label_ids)\n",
        "\n",
        "accuracy_score(true_labels, test_predictions)"
      ],
      "execution_count": null,
      "outputs": []
    },
    {
      "cell_type": "code",
      "metadata": {
        "id": "8R_ZZ2lVi7cN"
      },
      "source": [
        "from sklearn.metrics import confusion_matrix\n",
        "conf_matrix = confusion_matrix(true_labels, test_predictions, normalize='true')\n",
        "df_cm = pd.DataFrame(conf_matrix, index=[i for i in range(10)], columns=[i for i in range(10)])\n",
        "\n",
        "fig, ax = plt.subplots(figsize=(13,10))\n",
        "sns.heatmap(df_cm, annot=True)\n",
        "ax.set_xticklabels(['Metal', 'Hip-Hop', 'Country', 'Jazz', 'Electronic', \n",
        "                    'Pop', 'Folk', 'Rock', 'R&B', 'Indie'])\n",
        "ax.set_yticklabels(['Metal', 'Hip-Hop', 'Country', 'Jazz', 'Electronic', \n",
        "                    'Pop', 'Folk', 'Rock', 'R&B', 'Indie'])"
      ],
      "execution_count": null,
      "outputs": []
    },
    {
      "cell_type": "markdown",
      "metadata": {
        "id": "QduP8GexWo22"
      },
      "source": [
        "## BERT Language Model + Sequence Classification Model\n",
        "\n",
        "Tried implementing the idea from this paper [How to Fine-Tune BERT for Text Classification?](https://arxiv.org/abs/1905.05583). The authors propose finetuning a language model, loading the model's weights to a sequence classification model which is then finetunes.\n",
        "\n",
        "Unfortunately I ran into techincal problems with the `PyTorch` BERT from HuggingFace's `transformers`. At the same time, I also ran out of time since my schedule started to become busy come finals. I decided to keep the code in case I or someone else needs this type of design."
      ]
    },
    {
      "cell_type": "code",
      "metadata": {
        "colab": {
          "base_uri": "https://localhost:8080/"
        },
        "id": "fktAvZ5rXA6W",
        "outputId": "48a9283b-7987-42f1-dc59-c890d94a0b16"
      },
      "source": [
        "!pip install sentencepiece\n",
        "!pip install transformers"
      ],
      "execution_count": null,
      "outputs": [
        {
          "output_type": "stream",
          "text": [
            "Requirement already satisfied: sentencepiece in /usr/local/lib/python3.6/dist-packages (0.1.94)\n",
            "Requirement already satisfied: transformers in /usr/local/lib/python3.6/dist-packages (4.1.1)\n",
            "Requirement already satisfied: regex!=2019.12.17 in /usr/local/lib/python3.6/dist-packages (from transformers) (2019.12.20)\n",
            "Requirement already satisfied: tokenizers==0.9.4 in /usr/local/lib/python3.6/dist-packages (from transformers) (0.9.4)\n",
            "Requirement already satisfied: numpy in /usr/local/lib/python3.6/dist-packages (from transformers) (1.19.4)\n",
            "Requirement already satisfied: packaging in /usr/local/lib/python3.6/dist-packages (from transformers) (20.8)\n",
            "Requirement already satisfied: sacremoses in /usr/local/lib/python3.6/dist-packages (from transformers) (0.0.43)\n",
            "Requirement already satisfied: filelock in /usr/local/lib/python3.6/dist-packages (from transformers) (3.0.12)\n",
            "Requirement already satisfied: tqdm>=4.27 in /usr/local/lib/python3.6/dist-packages (from transformers) (4.41.1)\n",
            "Requirement already satisfied: dataclasses; python_version < \"3.7\" in /usr/local/lib/python3.6/dist-packages (from transformers) (0.8)\n",
            "Requirement already satisfied: requests in /usr/local/lib/python3.6/dist-packages (from transformers) (2.23.0)\n",
            "Requirement already satisfied: pyparsing>=2.0.2 in /usr/local/lib/python3.6/dist-packages (from packaging->transformers) (2.4.7)\n",
            "Requirement already satisfied: joblib in /usr/local/lib/python3.6/dist-packages (from sacremoses->transformers) (1.0.0)\n",
            "Requirement already satisfied: click in /usr/local/lib/python3.6/dist-packages (from sacremoses->transformers) (7.1.2)\n",
            "Requirement already satisfied: six in /usr/local/lib/python3.6/dist-packages (from sacremoses->transformers) (1.15.0)\n",
            "Requirement already satisfied: certifi>=2017.4.17 in /usr/local/lib/python3.6/dist-packages (from requests->transformers) (2020.12.5)\n",
            "Requirement already satisfied: idna<3,>=2.5 in /usr/local/lib/python3.6/dist-packages (from requests->transformers) (2.10)\n",
            "Requirement already satisfied: chardet<4,>=3.0.2 in /usr/local/lib/python3.6/dist-packages (from requests->transformers) (3.0.4)\n",
            "Requirement already satisfied: urllib3!=1.25.0,!=1.25.1,<1.26,>=1.21.1 in /usr/local/lib/python3.6/dist-packages (from requests->transformers) (1.24.3)\n"
          ],
          "name": "stdout"
        }
      ]
    },
    {
      "cell_type": "code",
      "metadata": {
        "id": "6hhak_ATXA3B"
      },
      "source": [
        "import torch\n",
        "import torch.nn as nn\n",
        "import torch.optim as optim\n",
        "\n",
        "from torch.utils.data import TensorDataset, random_split\n",
        "from torch.utils.data import DataLoader, RandomSampler, SequentialSampler\n",
        "\n",
        "from transformers import DistilBertTokenizerFast, DistilBertForMaskedLM,  DistilBertForSequenceClassification\n",
        "from transformers import XLMRobertaTokenizerFast, XLMRobertaForMaskedLM, XLMRobertaForSequenceClassification\n",
        "from transformers import AdamW, get_cosine_schedule_with_warmup\n",
        "\n",
        "torch.set_grad_enabled(True)\n",
        "if torch.cuda.is_available(): \n",
        "    device = torch.device('cuda:0')\n",
        "else:\n",
        "    device = torch.device('cpu')\n",
        "\n",
        "MODEL_NAME = 'distilbert-base-cased-distilled-squad'"
      ],
      "execution_count": null,
      "outputs": []
    },
    {
      "cell_type": "code",
      "metadata": {
        "id": "ijoPI-LXS5V_"
      },
      "source": [
        "def train_model_lm(model, train_dataloader, validation_dataloader, model_name,\n",
        "                   epochs=10, seed_val=42, num_warmup_steps=0):\n",
        "    training_stats = []\n",
        "\n",
        "    random.seed(seed_val)\n",
        "    np.random.seed(seed_val)\n",
        "    torch.manual_seed(seed_val)\n",
        "    torch.cuda.manual_seed_all(seed_val)\n",
        "\n",
        "    total_steps = len(train_dataloader) * epochs\n",
        "\n",
        "    scheduler = get_cosine_schedule_with_warmup(optimizer, \n",
        "                                                num_warmup_steps = num_warmup_steps,\n",
        "                                                num_training_steps = total_steps)\n",
        "\n",
        "    saved_model_accuracy = -1\n",
        "    saved_model_loss = 1000\n",
        "    best_acc = -1\n",
        "\n",
        "    cross_entropy_loss = nn.CrossEntropyLoss()\n",
        "\n",
        "    for epoch_i in range(0, epochs):\n",
        "        total_train_loss = 0\n",
        "\n",
        "        model.train()\n",
        "\n",
        "        for step, batch in enumerate(train_dataloader):\n",
        "\n",
        "            b_input_ids = batch[0].to(device)\n",
        "            b_input_mask = batch[1].to(device)\n",
        "            b_labels = batch[2].to(device)\n",
        "\n",
        "            model.zero_grad()        \n",
        "            output = model(b_input_ids, \n",
        "                           attention_mask=b_input_mask, \n",
        "                           labels=b_labels)\n",
        "            loss, logits = output.loss, output.logits\n",
        "            # loss = cross_entropy_loss(logits, b_labels)\n",
        "            total_train_loss += loss.item()\n",
        "            loss.backward()\n",
        "\n",
        "            torch.nn.utils.clip_grad_norm_(model.parameters(), 1.0)\n",
        "\n",
        "            optimizer.step()\n",
        "            scheduler.step()\n",
        "\n",
        "        avg_train_loss = total_train_loss / len(train_dataloader)\n",
        "\n",
        "        model.eval()\n",
        "\n",
        "        total_eval_accuracy = 0\n",
        "        total_eval_loss = 0\n",
        "        nb_eval_steps = 0\n",
        "\n",
        "        for batch in validation_dataloader:\n",
        "\n",
        "            b_input_ids = batch[0].to(device)\n",
        "            b_input_mask = batch[1].to(device)\n",
        "            b_labels = batch[2].to(device)\n",
        "            \n",
        "            with torch.no_grad():        \n",
        "\n",
        "                output = model(b_input_ids, \n",
        "                               attention_mask=b_input_mask,\n",
        "                               labels=b_labels)\n",
        "                loss, logits = output.loss, output.logits\n",
        "\n",
        "            total_eval_loss += loss.item()\n",
        "\n",
        "            logits = logits.detach().cpu().numpy()\n",
        "            label_ids = b_labels.to('cpu').numpy()\n",
        "\n",
        "            total_eval_accuracy += compute_accuracy(logits, label_ids)\n",
        "            \n",
        "        avg_val_accuracy = total_eval_accuracy / len(validation_dataloader)\n",
        "        avg_val_loss = total_eval_loss / len(validation_dataloader)\n",
        "        \n",
        "        print(\"Epoch {} / {}: Average training loss: {:.4f}, Validation Acc: {:.4f}, Validation Loss: {:.4f}.\".\n",
        "            format(epoch_i + 1, epochs, avg_train_loss, avg_val_accuracy, avg_val_loss))\n",
        "        \n",
        "        if saved_model_loss > (avg_val_loss - 0.001):\n",
        "            fileList = glob.glob('/content/' + model_name + '*')\n",
        "            if len(fileList) != 0:\n",
        "                os.remove(fileList[0])\n",
        "            torch.save(model.state_dict(), '/content/' + model_name + str(avg_val_accuracy))\n",
        "            saved_model_accuracy = avg_val_accuracy\n",
        "            saved_model_loss = avg_val_loss\n",
        "            best_acc = avg_val_acc\n",
        "        \n",
        "        training_stats.append({'epoch': epoch_i + 1, 'Training Loss': avg_train_loss,\n",
        "                               'Val Loss': avg_val_loss, 'Val Acc': avg_val_accuracy})\n",
        "        \n",
        "    return model, training_stats, best_acc\n",
        "\n",
        "def chunks(lst, n):\n",
        "    for i in range(0, len(lst), n):\n",
        "        yield lst[i:i + n]\n",
        "\n",
        "def restructure_train_data(df, batch_size=128):\n",
        "    df_new = pd.DataFrame(columns=['Genre', 'Lyrics'])\n",
        "    for row in df.iterrows():\n",
        "        lyrics_tokenized = (' '.join(row[1]['Lyrics'].split('\\n'))).split()\n",
        "        lyrics_batches = chunks(lyrics_tokenized, batch_size)\n",
        "        for lyrics_batch in lyrics_batches:\n",
        "            if len(lyrics_batch) > 30 and row[1]['Genre'] not in ['Country', 'Hip-Hop', 'Electronic']:\n",
        "                #remove small samples but not from underrepresented data\n",
        "                df_new = df_new.append({'Genre': row[1]['Genre'], \n",
        "                                        'Lyrics': ' '.join(lyrics_batch)}, \n",
        "                                    ignore_index=True)\n",
        "    return df_new\n",
        "\n",
        "def tokenize_data_lm(tokenizer, df):\n",
        "    input_ids = []\n",
        "    attention_masks = []\n",
        "    labels = []\n",
        "    indexed_tokens = []\n",
        "\n",
        "    for index, row in df.iterrows():\n",
        "        encoded_dict = tokenizer.encode_plus(row['Lyrics'], \n",
        "                                             add_special_tokens = True, \n",
        "                                             max_length = 128,\n",
        "                                             padding = 'max_length',\n",
        "                                             truncation=True,\n",
        "                                             return_attention_mask = True,\n",
        "                                             return_tensors = 'pt')\n",
        "        label = tokenizer.encode_plus(row['Genre'], \n",
        "                                      add_special_tokens = True, \n",
        "                                      max_length = 128,\n",
        "                                      padding = 'max_length',\n",
        "                                      truncation=True,\n",
        "                                      return_attention_mask = True,\n",
        "                                      return_tensors = 'pt')['input_ids']\n",
        "        \n",
        "        input_ids.append(encoded_dict['input_ids']) \n",
        "        attention_masks.append(encoded_dict['attention_mask'])\n",
        "        labels.append(torch.tensor(label))\n",
        "\n",
        "    input_ids = torch.cat(input_ids, dim=0)\n",
        "    attention_masks = torch.cat(attention_masks, dim=0)\n",
        "    labels = torch.cat(labels, dim=0)\n",
        "\n",
        "    return input_ids, attention_masks, labels\n",
        "\n",
        "def create_lm_data(df):\n",
        "    df_lm = pd.DataFrame(columns=['Genre', 'Lyrics'])\n",
        "\n",
        "    for row in df.iterrows():\n",
        "        mask_position = random.randint(0, len(row[1]['Lyrics'].split()) - 1)\n",
        "        new_text = ' '.join(['<mask>' if word == row[1]['Lyrics'].split()[mask_position] else word for word in row[1]['Lyrics'].split()])\n",
        "        df_lm = df_lm.append({'Genre': row[1]['Lyrics'], 'Lyrics': new_text}, ignore_index=True)\n",
        "    \n",
        "    return df_lm"
      ],
      "execution_count": null,
      "outputs": []
    },
    {
      "cell_type": "markdown",
      "metadata": {
        "id": "AzFrp88Wf8Y-"
      },
      "source": [
        "### Remodel Data for Masked Language Model and Train Model"
      ]
    },
    {
      "cell_type": "code",
      "metadata": {
        "colab": {
          "base_uri": "https://localhost:8080/"
        },
        "id": "qoq4FVj1CM1g",
        "outputId": "2c7faec8-9ead-4258-d8da-1d8462ce94ee"
      },
      "source": [
        "df_train = restructure_train_data(df_train)\n",
        "\n",
        "df_lm = create_lm_data(df_train)\n",
        "\n",
        "tokenizer = DistilBertTokenizerFast.from_pretrained(MODEL_NAME)\n",
        "\n",
        "input_ids, attention_masks, labels = tokenize_data_lm(tokenizer, df_lm)"
      ],
      "execution_count": null,
      "outputs": [
        {
          "output_type": "stream",
          "text": [
            "/usr/local/lib/python3.6/dist-packages/ipykernel_launcher.py:135: UserWarning: To copy construct from a tensor, it is recommended to use sourceTensor.clone().detach() or sourceTensor.clone().detach().requires_grad_(True), rather than torch.tensor(sourceTensor).\n"
          ],
          "name": "stderr"
        }
      ]
    },
    {
      "cell_type": "code",
      "metadata": {
        "colab": {
          "base_uri": "https://localhost:8080/"
        },
        "id": "ir6TuwicCphT",
        "outputId": "b566dc3f-9772-4aee-d8d2-ff54bdb52eee"
      },
      "source": [
        "dataset = TensorDataset(input_ids, attention_masks, labels)\n",
        "\n",
        "train_size = int(0.9 * len(train_dataset))\n",
        "val_size = len(train_dataset) - train_size\n",
        "\n",
        "train_dataset, val_dataset = random_split(train_dataset, [train_size, val_size])\n",
        "\n",
        "print('{:>5,} training samples'.format(train_size))\n",
        "print('{:>5,} validation samples'.format(val_size))"
      ],
      "execution_count": null,
      "outputs": [
        {
          "output_type": "stream",
          "text": [
            "13,494 training samples\n",
            "1,500 validation samples\n"
          ],
          "name": "stdout"
        }
      ]
    },
    {
      "cell_type": "code",
      "metadata": {
        "id": "wbV-w9DMC5an"
      },
      "source": [
        "batch_size =  64\n",
        "\n",
        "train_dataloader = DataLoader(train_dataset, \n",
        "                              sampler = RandomSampler(train_dataset), \n",
        "                              batch_size = batch_size)\n",
        "\n",
        "validation_dataloader = DataLoader(val_dataset,\n",
        "                                   sampler = SequentialSampler(val_dataset),  \n",
        "                                   batch_size = batch_size)"
      ],
      "execution_count": null,
      "outputs": []
    },
    {
      "cell_type": "code",
      "metadata": {
        "id": "rSQ7y8GeDGvd"
      },
      "source": [
        "model_lm = DistilBertForMaskedLM.from_pretrained(MODEL_NAME)\n",
        "\n",
        "optimizer = AdamW(model.parameters(), lr = 1e-5)\n",
        "\n",
        "model.cuda()"
      ],
      "execution_count": null,
      "outputs": []
    },
    {
      "cell_type": "code",
      "metadata": {
        "id": "drIBJVhKC750"
      },
      "source": [
        "trianing_results = train_model_lm(model_lm, \n",
        "                                  train_dataloader, validation_dataloader, \n",
        "                                  epochs=4, seed_val=42, model_name=MODEL_NAME+'-lm-')\n",
        "\n",
        "model, training_stats, best_acc = training_results"
      ],
      "execution_count": null,
      "outputs": []
    },
    {
      "cell_type": "markdown",
      "metadata": {
        "id": "-eyujNIEf5aO"
      },
      "source": [
        "### Load LM Weights to Sequence Classification Model and Finetune Model"
      ]
    },
    {
      "cell_type": "code",
      "metadata": {
        "id": "vMmc8MzgeEOO"
      },
      "source": [
        "model = DistilBertForSequenceClassification.from_pretrained(\n",
        "    MODEL_NAME,\n",
        "    num_labels = 10,  \n",
        "    output_attentions = False,\n",
        "    output_hidden_states = False)\n",
        "\n",
        "optimizer = AdamW(model.parameters(), lr = 1e-5)\n",
        "\n",
        "model.cuda()\n",
        "\n",
        "model.load_state_dict(torch.load(MODEL_NAME + '-lm-' + best_acc)) # load LM weights"
      ],
      "execution_count": null,
      "outputs": []
    },
    {
      "cell_type": "code",
      "metadata": {
        "id": "pg7eQAeWfPAr"
      },
      "source": [
        "uniques_map = {}\n",
        "for value, key in list(zip(range(df_train['Genre'].unique().shape[0]), df_train['Genre'].unique())):\n",
        "    uniques_map[key] = value\n",
        "\n",
        "df_train['Genre'] = df_train['Genre'].map(uniques_map)\n",
        "df_test['Genre'] = df_test['Genre'].map(uniques_map)\n",
        "\n",
        "df_train['Genre'] = df_train['Genre'].astype(int)\n",
        "df_test['Genre'] = df_test['Genre'].astype(int)\n",
        "\n",
        "tokenizer = DistilBertTokenizerFast.from_pretrained(MODEL_NAME, \n",
        "                                                    do_lower_case = False)\n",
        "\n",
        "train_input_ids, train_attention_masks, train_labels = tokenize_data(tokenizer, df_train)\n",
        "test_input_ids, test_attention_masks, test_labels = tokenize_data(tokenizer, df_test)\n",
        "\n",
        "dataset = TensorDataset(train_input_ids, train_attention_masks, train_labels)\n",
        "test_dataset = TensorDataset(test_input_ids, test_attention_masks, test_labels)\n",
        "\n",
        "train_size = int(0.9 * len(dataset))\n",
        "val_size = len(dataset) - train_size\n",
        "\n",
        "train_dataset, val_dataset = random_split(dataset, [train_size, val_size])\n",
        "\n",
        "print('{:>5,} training samples'.format(train_size))\n",
        "print('{:>5,} validation samples'.format(val_size))\n",
        "print('{:>5,} test samples'.format(len(test_dataset)))"
      ],
      "execution_count": null,
      "outputs": []
    },
    {
      "cell_type": "code",
      "metadata": {
        "id": "D0R2fFUefOu-"
      },
      "source": [
        "batch_size = 64\n",
        "\n",
        "train_dataloader = DataLoader(train_dataset, \n",
        "                              sampler = RandomSampler(train_dataset), \n",
        "                              batch_size = batch_size)\n",
        "\n",
        "validation_dataloader = DataLoader(val_dataset,\n",
        "                                   sampler = SequentialSampler(val_dataset),  \n",
        "                                   batch_size = batch_size)"
      ],
      "execution_count": null,
      "outputs": []
    },
    {
      "cell_type": "code",
      "metadata": {
        "id": "8wPLZN6LfOqi"
      },
      "source": [
        "trianing_results = train_model(model_seqc, \n",
        "                               train_dataloader, validation_dataloader, \n",
        "                               epochs=4, seed_val=42, model_name=MODEL_NAME+'-')\n",
        "\n",
        "model, training_stats, best_acc = training_results"
      ],
      "execution_count": null,
      "outputs": []
    },
    {
      "cell_type": "code",
      "metadata": {
        "id": "OBCLa5KrfmaL"
      },
      "source": [
        "model_seqc.load_state_dict(torch.load(MODEL_NAME + '-' + best_acc))"
      ],
      "execution_count": null,
      "outputs": []
    },
    {
      "cell_type": "code",
      "metadata": {
        "id": "QUAnw-3YfctE"
      },
      "source": [
        "from sklearn.metrics import accuracy_score\n",
        "\n",
        "test_dataloader = DataLoader(test_dataset,\n",
        "                             sampler = SequentialSampler(test_dataset), \n",
        "                             batch_size = 1)\n",
        "\n",
        "model_seqc.eval()\n",
        "test_predictions , true_labels = [], []\n",
        "\n",
        "for batch in test_dataloader:\n",
        "  batch = tuple(t.to(device) for t in batch)\n",
        "  b_input_ids, b_input_mask, b_labels = batch\n",
        "  \n",
        "  with torch.no_grad():\n",
        "      outputs = model_seqc(b_input_ids, \n",
        "                           attention_mask=b_input_mask)\n",
        "\n",
        "  logits = outputs[0]\n",
        "  label_ids = b_labels.to('cpu').numpy()\n",
        "  test_predictions.append(torch.argmax(logits).item())\n",
        "  true_labels.append(label_ids)\n",
        "\n",
        "accuracy_score(true_labels, test_predictions)"
      ],
      "execution_count": null,
      "outputs": []
    },
    {
      "cell_type": "code",
      "metadata": {
        "id": "JWRLHdE7fcp7"
      },
      "source": [
        "from sklearn.metrics import confusion_matrix\n",
        "conf_matrix = confusion_matrix(true_labels, test_predictions, normalize='true')\n",
        "df_cm = pd.DataFrame(conf_matrix, index=[i for i in range(10)], columns=[i for i in range(10)])\n",
        "\n",
        "fig, ax = plt.subplots(figsize=(13,10))\n",
        "sns.heatmap(df_cm, annot=True)\n",
        "ax.set_xticklabels(['Metal', 'Hip-Hop', 'Country', 'Jazz', 'Electronic', \n",
        "                    'Pop', 'Folk', 'Rock', 'R&B', 'Indie'])\n",
        "ax.set_yticklabels(['Metal', 'Hip-Hop', 'Country', 'Jazz', 'Electronic', \n",
        "                    'Pop', 'Folk', 'Rock', 'R&B', 'Indie'])"
      ],
      "execution_count": null,
      "outputs": []
    },
    {
      "cell_type": "markdown",
      "metadata": {
        "id": "KmUBNTkoJ6LR"
      },
      "source": [
        "## Additional Ideas\n",
        "\n",
        "These are just some extra ideas that went through my head. I did not have the time to test them out, so I don't expect to be graded on them. I want to write them down so I'll have them stored for future reference.\n",
        "\n",
        "1. Append song metadata to the end of each lyrics string.\n",
        "2. Try smarter splits for the hierarchical model.\n",
        "3. Indirect genre classification by predicting artist instead and using a map from `Artists` to `Genres` to get the final result.\n",
        "4. Topic modelling using Dynamic Topic Modelling.\n",
        "5. Unsupervised heuristics based on word frequency and/or distributions."
      ]
    }
  ]
}