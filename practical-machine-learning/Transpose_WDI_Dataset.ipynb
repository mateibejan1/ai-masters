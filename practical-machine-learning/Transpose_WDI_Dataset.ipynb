{
 "cells": [
  {
   "cell_type": "markdown",
   "metadata": {
    "colab_type": "text",
    "id": "slPTg7atm44n"
   },
   "source": [
    "# Transposal script for the World Development Index dataset\n",
    "\n",
    "As the original form of the WDI dataset is not suited for modelling (each feature is on a different row) and since it contains duplicated data, such as country names and codes, we must clean said data and reshape the dataset so all indicators for a certain country and year are in the same sample."
   ]
  },
  {
   "cell_type": "markdown",
   "metadata": {
    "colab_type": "text",
    "id": "bskGqkYtngxd"
   },
   "source": [
    "Mount GDrive"
   ]
  },
  {
   "cell_type": "code",
   "execution_count": 0,
   "metadata": {
    "colab": {
     "base_uri": "https://localhost:8080/",
     "height": 124
    },
    "colab_type": "code",
    "id": "66qG9nSeoZM8",
    "outputId": "de449433-a17f-4d58-af7b-73774e889ec3"
   },
   "outputs": [
    {
     "name": "stdout",
     "output_type": "stream",
     "text": [
      "Go to this URL in a browser: https://accounts.google.com/o/oauth2/auth?client_id=947318989803-6bn6qk8qdgf4n4g3pfee6491hc0brc4i.apps.googleusercontent.com&redirect_uri=urn%3aietf%3awg%3aoauth%3a2.0%3aoob&response_type=code&scope=email%20https%3a%2f%2fwww.googleapis.com%2fauth%2fdocs.test%20https%3a%2f%2fwww.googleapis.com%2fauth%2fdrive%20https%3a%2f%2fwww.googleapis.com%2fauth%2fdrive.photos.readonly%20https%3a%2f%2fwww.googleapis.com%2fauth%2fpeopleapi.readonly\n",
      "\n",
      "Enter your authorization code:\n",
      "··········\n",
      "Mounted at /content/gdrive\n"
     ]
    }
   ],
   "source": [
    "from google.colab import drive\n",
    "drive.mount('/content/gdrive')"
   ]
  },
  {
   "cell_type": "markdown",
   "metadata": {
    "colab_type": "text",
    "id": "pMr0pKRonksc"
   },
   "source": [
    "Import necessary libraries"
   ]
  },
  {
   "cell_type": "code",
   "execution_count": 0,
   "metadata": {
    "colab": {},
    "colab_type": "code",
    "id": "psfcqWIgJTXN"
   },
   "outputs": [],
   "source": [
    "import pandas as pd\n",
    "import numpy as np"
   ]
  },
  {
   "cell_type": "markdown",
   "metadata": {
    "colab_type": "text",
    "id": "pHc7OlbQno55"
   },
   "source": [
    "Compute transposed dataset header"
   ]
  },
  {
   "cell_type": "code",
   "execution_count": 0,
   "metadata": {
    "colab": {},
    "colab_type": "code",
    "id": "nuoIHb4TNeN0"
   },
   "outputs": [],
   "source": [
    "indicators = pd.read_csv('/content/gdrive/My Drive/An 1 Masters/PML/Indicators.csv')\n",
    "\n",
    "indicators_columns = list(indicators.columns)\n",
    "\n",
    "unique_indicator_names = indicators.IndicatorName.unique()\n",
    "\n",
    "processed_indicators_header = np.concatenate(([indicators_columns[0]], \n",
    "                                              unique_indicator_names,\n",
    "                                              [indicators_columns[4]]))\n",
    "  \n",
    "indicators_dict = {key: [] for key in processed_indicators_header}    "
   ]
  },
  {
   "cell_type": "markdown",
   "metadata": {
    "colab_type": "text",
    "id": "UMKTQvMEnpeN"
   },
   "source": [
    "Parse the initial dataset and append all features to a single list, with repsect to the country and year of the observations. This list will turn into a sample in the transposed dataset."
   ]
  },
  {
   "cell_type": "code",
   "execution_count": 0,
   "metadata": {
    "colab": {},
    "colab_type": "code",
    "id": "MiYyxk3hNSOh"
   },
   "outputs": [],
   "source": [
    "country = 'thisisnotacountry'\n",
    "current_length = 0\n",
    "\n",
    "for index, row in indicators.iterrows():\n",
    "    \n",
    "    if country != row[0]:\n",
    "        indicators_dict[indicators_columns[0]].append(row[0])\n",
    "        indicators_dict[indicators_columns[4]].append(row[4])\n",
    "        \n",
    "        if country != 'thisisnotacountry':\n",
    "            for key, value in indicators_dict.items():\n",
    "                if len(value) == current_length:\n",
    "                    value.append(0)\n",
    "            current_length += 1\n",
    "\n",
    "        country = row[0]\n",
    "\n",
    "    indicators_di ct[row[2]].append(row[5])\n",
    "    \n",
    "for key, value in indicators_dict.items():\n",
    "    if len(value) == 13831:\n",
    "        del value[-1]"
   ]
  },
  {
   "cell_type": "markdown",
   "metadata": {
    "colab_type": "text",
    "id": "bPp59LFBnqxR"
   },
   "source": [
    "Save the transposed data set as a pandas dataframe"
   ]
  },
  {
   "cell_type": "code",
   "execution_count": 0,
   "metadata": {
    "colab": {},
    "colab_type": "code",
    "id": "LtSafdwZOUc1"
   },
   "outputs": [],
   "source": [
    "transposed_indicators = pd.DataFrame(indicators_dict)\n",
    "\n",
    "columns = transposed_indicators.columns[1:]\n",
    "\n",
    "transposed_indicators[columns] = transposed_indicators[columns].apply(pd.to_numeric)\n",
    "\n",
    "transposed_indicators.replace(0, np.nan, inplace=True)"
   ]
  },
  {
   "cell_type": "markdown",
   "metadata": {
    "colab_type": "text",
    "id": "qm0uYvamnwgh"
   },
   "source": [
    "Sort by country and year"
   ]
  },
  {
   "cell_type": "code",
   "execution_count": 0,
   "metadata": {
    "colab": {},
    "colab_type": "code",
    "id": "wR2mFW793dcP"
   },
   "outputs": [],
   "source": [
    "transposed_indicators = transposed_indicators.sort_values(['CountryName', 'Year'], ascending=[True, True])"
   ]
  },
  {
   "cell_type": "markdown",
   "metadata": {
    "colab_type": "text",
    "id": "OYcEqYmbnypv"
   },
   "source": [
    "Save to drive"
   ]
  },
  {
   "cell_type": "code",
   "execution_count": 0,
   "metadata": {
    "colab": {},
    "colab_type": "code",
    "id": "u_-cci_Qw0nn"
   },
   "outputs": [],
   "source": [
    "transposed_indicators.to_csv('/content/gdrive/My Drive/An 1 Masters/PML/transposed_indicators.csv', index = False)"
   ]
  }
 ],
 "metadata": {
  "colab": {
   "collapsed_sections": [],
   "name": "Transpose WDI Dataset.ipynb",
   "provenance": []
  },
  "kernelspec": {
   "display_name": "Python 3",
   "language": "python",
   "name": "python3"
  },
  "language_info": {
   "codemirror_mode": {
    "name": "ipython",
    "version": 3
   },
   "file_extension": ".py",
   "mimetype": "text/x-python",
   "name": "python",
   "nbconvert_exporter": "python",
   "pygments_lexer": "ipython3",
   "version": "3.7.4"
  }
 },
 "nbformat": 4,
 "nbformat_minor": 1
}
