{
 "cells": [
  {
   "cell_type": "markdown",
   "metadata": {},
   "source": [
    "# Probabilistic Programming Project 2: Bayesian Neural Networks\n",
    "\n",
    "#### Author: Matei Bejan\n",
    "\n",
    "## Content\n",
    "\n",
    "#### Import necessary libraries\n",
    "\n",
    "#### 1. BNN Two-Class Classifier\n",
    "\n",
    "1. Building the BNN using PyMC3\n",
    "\n",
    "2. Comparison with the classic model\n",
    "\n",
    "#### 2. BNN Multi-Class Classifier\n",
    "\n",
    "1. One-vs-All classifier using PyMC3\n",
    "\n",
    "2. One-Hot Encoded Label Classifier using TensorFlow\n",
    "\n",
    "3. Comparison with the classic model\n",
    "\n",
    "#### 4. Bayesian Convolutional Neural Network\n",
    "\n",
    "#### 5. Bayesian Siamese Neural Network\n",
    "\n",
    "#### 5. Bayesian Hierarchical Neural Network\n",
    "\n",
    "#### Conclusions\n",
    "\n",
    "#### Further work"
   ]
  },
  {
   "cell_type": "markdown",
   "metadata": {},
   "source": [
    "## Import necessary libraries"
   ]
  },
  {
   "cell_type": "code",
   "execution_count": 2,
   "metadata": {},
   "outputs": [
    {
     "name": "stdout",
     "output_type": "stream",
     "text": [
      "WARNING:tensorflow:From /home/matei/anaconda3/envs/progprob3/lib/python3.7/site-packages/tensorflow_core/python/compat/v2_compat.py:65: disable_resource_variables (from tensorflow.python.ops.variable_scope) is deprecated and will be removed in a future version.\n",
      "Instructions for updating:\n",
      "non-resource variables are not supported in the long term\n"
     ]
    }
   ],
   "source": [
    "import numpy as np\n",
    "import pandas as pd\n",
    "import re\n",
    "import time\n",
    "\n",
    "import pymc3 as pm\n",
    "import theano\n",
    "import theano.tensor as T\n",
    "from theano.tensor.nnet.nnet import softmax, relu\n",
    "from pymc3.theanof import set_tt_rng, MRG_RandomStreams\n",
    "\n",
    "from sklearn.model_selection import train_test_split\n",
    "from sklearn.preprocessing import scale\n",
    "from sklearn.metrics import precision_recall_fscore_support as score, confusion_matrix, accuracy_score\n",
    "from sklearn.datasets import make_moons\n",
    "\n",
    "import tensorflow.compat.v1 as tf\n",
    "import tensorflow_probability as tfp\n",
    "\n",
    "from tensorflow.keras.models import Sequential\n",
    "from tensorflow.keras.layers import Dense, Conv2D, MaxPool2D\n",
    "from tensorflow.keras.utils import to_categorical\n",
    "from tensorflow.keras.optimizers import Adam\n",
    "\n",
    "tf.disable_v2_behavior()\n",
    "tf.disable_eager_execution()\n",
    "\n",
    "import seaborn as sns\n",
    "import matplotlib.pyplot as plt\n",
    "%matplotlib inline\n",
    "\n",
    "from IPython.display import Image"
   ]
  },
  {
   "cell_type": "markdown",
   "metadata": {},
   "source": [
    "## Bayesian Neural Network Two-Class Classifier \n",
    "### Titanic"
   ]
  },
  {
   "cell_type": "markdown",
   "metadata": {},
   "source": [
    "Read train and test data."
   ]
  },
  {
   "cell_type": "code",
   "execution_count": 3,
   "metadata": {},
   "outputs": [],
   "source": [
    "train = pd.read_csv('titanic/train.csv')\n",
    "X_test = pd.read_csv('titanic/test.csv')\n",
    "y_test = pd.read_csv('titanic/gender_submission.csv')"
   ]
  },
  {
   "cell_type": "markdown",
   "metadata": {},
   "source": [
    "Created features for telling if a passenger has a cabin or not, for calculating family size and for telling if a person is travelling alone. Also did some data cleaning such as removing NaNs from the dataset."
   ]
  },
  {
   "cell_type": "code",
   "execution_count": 4,
   "metadata": {},
   "outputs": [],
   "source": [
    "PassengerId = X_test['PassengerId']"
   ]
  },
  {
   "cell_type": "code",
   "execution_count": 5,
   "metadata": {},
   "outputs": [],
   "source": [
    "original_train = train.copy()\n",
    "\n",
    "full_data = [train, X_test]\n",
    "\n",
    "train['Has_Cabin'] = train[\"Cabin\"].apply(lambda x: 0 if type(x) == float else 1)\n",
    "X_test['Has_Cabin'] = X_test[\"Cabin\"].apply(lambda x: 0 if type(x) == float else 1)\n",
    "\n",
    "for dataset in full_data:\n",
    "    dataset['FamilySize'] = dataset['SibSp'] + dataset['Parch'] + 1\n",
    "\n",
    "for dataset in full_data:\n",
    "    dataset['IsAlone'] = 0\n",
    "    dataset.loc[dataset['FamilySize'] == 1, 'IsAlone'] = 1\n",
    "\n",
    "for dataset in full_data:\n",
    "    dataset['Embarked'] = dataset['Embarked'].fillna('S')\n",
    "\n",
    "for dataset in full_data:\n",
    "    dataset['Fare'] = dataset['Fare'].fillna(train['Fare'].median())\n",
    "\n",
    "for dataset in full_data:\n",
    "    age_avg = dataset['Age'].mean()\n",
    "    age_std = dataset['Age'].std()\n",
    "    age_null_count = dataset['Age'].isnull().sum()\n",
    "    age_null_random_list = np.random.randint(age_avg - age_std, age_avg + age_std, size=age_null_count)\n",
    "\n",
    "    dataset.loc[np.isnan(dataset['Age']), 'Age'] = age_null_random_list\n",
    "    dataset['Age'] = dataset['Age'].astype(int)"
   ]
  },
  {
   "cell_type": "markdown",
   "metadata": {},
   "source": [
    "Created a function to get title of a person and grouped all the non-common titles into a single entity. I then splitted people by the following features: sex, title, embarked, fare and age."
   ]
  },
  {
   "cell_type": "code",
   "execution_count": 6,
   "metadata": {},
   "outputs": [],
   "source": [
    "def get_title(name):\n",
    "    title_search = re.search('([A-Za-z]+)\\.', name)\n",
    "    if title_search:\n",
    "        return title_search.group(1)\n",
    "    return \"\"\n",
    "\n",
    "for dataset in full_data:\n",
    "    dataset['Title'] = dataset['Name'].apply(get_title)\n",
    "\n",
    "for dataset in full_data:\n",
    "    dataset['Title'] = dataset['Title'].replace(['Lady', 'Countess','Capt', 'Col','Don', 'Dr', 'Major', \n",
    "                                                 'Rev', 'Sir', 'Jonkheer', 'Dona'], 'Rare')\n",
    "\n",
    "    dataset['Title'] = dataset['Title'].replace('Mlle', 'Miss')\n",
    "    dataset['Title'] = dataset['Title'].replace('Ms', 'Miss')\n",
    "    dataset['Title'] = dataset['Title'].replace('Mme', 'Mrs')\n",
    "\n",
    "for dataset in full_data:\n",
    "    dataset['Sex'] = dataset['Sex'].map( {'female': 0, 'male': 1} ).astype(int)\n",
    "    \n",
    "    title_mapping = {\"Mr\": 1, \"Master\": 2, \"Mrs\": 3, \"Miss\": 4, \"Rare\": 5}\n",
    "    dataset['Title'] = dataset['Title'].map(title_mapping)\n",
    "    dataset['Title'] = dataset['Title'].fillna(0)\n",
    "\n",
    "    dataset['Embarked'] = dataset['Embarked'].map( {'S': 0, 'C': 1, 'Q': 2} ).astype(int)\n",
    "    \n",
    "    dataset.loc[ dataset['Fare'] <= 7.91, 'Fare'] = 0\n",
    "    dataset.loc[(dataset['Fare'] > 7.91) & (dataset['Fare'] <= 14.454), 'Fare'] = 1\n",
    "    dataset.loc[(dataset['Fare'] > 14.454) & (dataset['Fare'] <= 31), 'Fare']   = 2\n",
    "    dataset.loc[ dataset['Fare'] > 31, 'Fare'] = 3\n",
    "    dataset['Fare'] = dataset['Fare'].astype(int)\n",
    "    \n",
    "    dataset.loc[ dataset['Age'] <= 16, 'Age'] = 0\n",
    "    dataset.loc[(dataset['Age'] > 16) & (dataset['Age'] <= 32), 'Age'] = 1\n",
    "    dataset.loc[(dataset['Age'] > 32) & (dataset['Age'] <= 48), 'Age'] = 2\n",
    "    dataset.loc[(dataset['Age'] > 48) & (dataset['Age'] <= 64), 'Age'] = 3\n",
    "    dataset.loc[ dataset['Age'] > 64, 'Age'] ;"
   ]
  },
  {
   "cell_type": "markdown",
   "metadata": {},
   "source": [
    "Removed less relevant features: **PassengerId, name, ticket, cabin, sibSp**."
   ]
  },
  {
   "cell_type": "code",
   "execution_count": 7,
   "metadata": {},
   "outputs": [],
   "source": [
    "drop_elements = ['PassengerId', 'Name', 'Ticket', 'Cabin', 'SibSp']\n",
    "train = train.drop(drop_elements, axis = 1)\n",
    "X_test = X_test.drop(drop_elements, axis = 1)"
   ]
  },
  {
   "cell_type": "code",
   "execution_count": 8,
   "metadata": {},
   "outputs": [],
   "source": [
    "X_train = train.drop(labels = ['Survived'], axis = 1)\n",
    "y_train = train['Survived'].tolist()"
   ]
  },
  {
   "cell_type": "markdown",
   "metadata": {},
   "source": [
    "The function below defines the Bayesian Neural Network. It has two fully-connected hidden layers with a customizable number of nodes. All weights $w_i \\sim N(0, 1)$ (the bias too!) and the activation functions used for the hidden and last layers are *tanh* and *sigmoid*, respectively. The final output is computed via a Bernoulli observed variable which is being fed the result of the *sigmoid* activation.\n",
    "\n",
    "***Note:*** This architecture will be reused in the rest of the project, thus I won't be repeat the BNN's description every time. This also stands for the training process."
   ]
  },
  {
   "cell_type": "code",
   "execution_count": 9,
   "metadata": {},
   "outputs": [],
   "source": [
    "def construct_bnn(bnn_input, \n",
    "                  bnn_output, \n",
    "                  hidden_layer1 = 16, \n",
    "                  hidden_layer2 = 8):\n",
    "    \n",
    "    init_1 = np.random.randn(bnn_input.shape[1], hidden_layer1).astype(theano.config.floatX)\n",
    "    init_2 = np.random.randn(hidden_layer1, hidden_layer2).astype(theano.config.floatX)\n",
    "    init_out = np.random.randn(hidden_layer2).astype(theano.config.floatX)\n",
    "\n",
    "    with pm.Model() as neural_network:\n",
    "        ann_input = pm.Data('bnn_input', bnn_input)\n",
    "        ann_output = pm.Data('bnn_output', bnn_output)\n",
    "\n",
    "        bias = pm.Normal('bias', 0, 1, shape = (2, ))\n",
    "        \n",
    "        weights_in = pm.Normal('w_in', 0, 1,\n",
    "                                shape = (bnn_input.shape[1], hidden_layer1),\n",
    "                                testval = init_1)\n",
    "\n",
    "        weights_12 = pm.Normal('w_12', 0, 1,\n",
    "                                shape = (hidden_layer1, hidden_layer2),\n",
    "                                testval = init_2)\n",
    "\n",
    "        weights_out = pm.Normal('w_out', 0, 1,\n",
    "                                  shape = (hidden_layer2,),\n",
    "                                  testval = init_out)\n",
    "\n",
    "        act_1 = pm.math.tanh(pm.math.dot(ann_input,\n",
    "                                         weights_in) + bias[0])\n",
    "        \n",
    "        act_2 = pm.math.tanh(pm.math.dot(act_1,\n",
    "                                         weights_12) + bias[1])\n",
    "        \n",
    "        act_out = pm.math.sigmoid(pm.math.dot(act_2,\n",
    "                                              weights_out))\n",
    "\n",
    "        out = pm.Bernoulli('out',\n",
    "                           act_out,\n",
    "                           observed = bnn_output,\n",
    "                           total_size = len(bnn_output))\n",
    "\n",
    "    return neural_network"
   ]
  },
  {
   "cell_type": "markdown",
   "metadata": {},
   "source": [
    "Build a **16-4-1** bayesian neural network, set a random seed for Theano's random number generator."
   ]
  },
  {
   "cell_type": "code",
   "execution_count": 26,
   "metadata": {},
   "outputs": [],
   "source": [
    "bayesian_neural_network = construct_bnn(X_train, y_train, 16, 4)"
   ]
  },
  {
   "cell_type": "code",
   "execution_count": 27,
   "metadata": {},
   "outputs": [],
   "source": [
    "set_tt_rng(MRG_RandomStreams(42))"
   ]
  },
  {
   "cell_type": "markdown",
   "metadata": {},
   "source": [
    "Fit the BNN using **variational inference** and plot ELBO loss."
   ]
  },
  {
   "cell_type": "code",
   "execution_count": 28,
   "metadata": {},
   "outputs": [
    {
     "name": "stderr",
     "output_type": "stream",
     "text": [
      "Average Loss = 520.97: 100%|██████████| 30000/30000 [00:34<00:00, 858.32it/s] \n",
      "Finished [100%]: Average Loss = 520.92\n"
     ]
    }
   ],
   "source": [
    "with bayesian_neural_network:\n",
    "    inference = pm.ADVI()\n",
    "    approx = pm.fit(n = 30000, method = inference)"
   ]
  },
  {
   "cell_type": "code",
   "execution_count": 29,
   "metadata": {},
   "outputs": [
    {
     "data": {
      "text/plain": [
       "Text(0.5, 0, 'iteration')"
      ]
     },
     "execution_count": 29,
     "metadata": {},
     "output_type": "execute_result"
    },
    {
     "data": {
      "image/png": "[encoded data removed]",
      "text/plain": [
       "<Figure size 432x288 with 1 Axes>"
      ]
     },
     "metadata": {
      "needs_background": "light"
     },
     "output_type": "display_data"
    }
   ],
   "source": [
    "plt.plot(-inference.hist, label='new ADVI', alpha=.3)\n",
    "plt.plot(approx.hist, label='old ADVI', alpha=.3)\n",
    "plt.legend()\n",
    "plt.ylabel('ELBO')\n",
    "plt.xlabel('iteration')"
   ]
  },
  {
   "cell_type": "markdown",
   "metadata": {},
   "source": [
    "Draw samples. Then create Theano symbolic input and input size variables, as well as Theano function to compute the posterior of **X_test**."
   ]
  },
  {
   "cell_type": "code",
   "execution_count": 30,
   "metadata": {},
   "outputs": [],
   "source": [
    "trace = approx.sample(draws = 10000)"
   ]
  },
  {
   "cell_type": "code",
   "execution_count": 31,
   "metadata": {},
   "outputs": [
    {
     "name": "stderr",
     "output_type": "stream",
     "text": [
      "/home/matei/anaconda3/envs/progprob3/lib/python3.7/site-packages/theano/scan_module/scan_perform_ext.py:76: UserWarning: The file scan_perform.c is not available. This donot happen normally. You are probably in a strangesetup. This mean Theano can not use the cython code for scan. If youwant to remove this warning, use the Theano flag'cxx=' (set to an empty string) to disable all ccode generation.\n",
      "  \"The file scan_perform.c is not available. This do\"\n"
     ]
    }
   ],
   "source": [
    "x = T.matrix('X')\n",
    "n = T.iscalar('n')\n",
    "\n",
    "x.tag.test_value = np.empty_like(X_test[:10])\n",
    "n.tag.test_value = 100\n",
    "_sample_probability_ = approx.sample_node(bayesian_neural_network.out.distribution.p,\n",
    "                                          size = n,\n",
    "                                          more_replacements = {bayesian_neural_network['bnn_input']: x})\n",
    "\n",
    "sample_probability = theano.function([x, n], _sample_probability_)"
   ]
  },
  {
   "cell_type": "markdown",
   "metadata": {},
   "source": [
    "Get predictions, compute and print metrics and plot confusion matrix."
   ]
  },
  {
   "cell_type": "code",
   "execution_count": 32,
   "metadata": {},
   "outputs": [],
   "source": [
    "pred = sample_probability(X_test, 10000).mean(0) > 0.5"
   ]
  },
  {
   "cell_type": "code",
   "execution_count": 33,
   "metadata": {},
   "outputs": [],
   "source": [
    "accuracy_bnn = (y_test['Survived'].tolist() == pred).mean() * 100\n",
    "\n",
    "precision_bnn, recall_bnn, fscore_bnn, support_bnn = score(y_test['Survived'], pred)"
   ]
  },
  {
   "cell_type": "code",
   "execution_count": 34,
   "metadata": {},
   "outputs": [
    {
     "name": "stdout",
     "output_type": "stream",
     "text": [
      "Accuracy: 97.1291866028708\n",
      "Precision: [0.98473282 0.94871795]\n",
      "Recall: [0.96992481 0.97368421]\n",
      "F-Score: [0.97727273 0.96103896]\n",
      "Support: [266 152]\n"
     ]
    }
   ],
   "source": [
    "print('Accuracy: {}'.format(accuracy_bnn))\n",
    "print('Precision: {}'.format(precision_bnn))\n",
    "print('Recall: {}'.format(recall_bnn))\n",
    "print('F-Score: {}'.format(fscore_bnn))\n",
    "print('Support: {}'.format(support_bnn))"
   ]
  },
  {
   "cell_type": "code",
   "execution_count": 35,
   "metadata": {},
   "outputs": [
    {
     "data": {
      "text/plain": [
       "<matplotlib.axes._subplots.AxesSubplot at 0x7f63fe0ce4d0>"
      ]
     },
     "execution_count": 35,
     "metadata": {},
     "output_type": "execute_result"
    },
    {
     "data": {
      "image/png": "[encoded data removed]",
      "text/plain": [
       "<Figure size 432x288 with 2 Axes>"
      ]
     },
     "metadata": {
      "needs_background": "light"
     },
     "output_type": "display_data"
    }
   ],
   "source": [
    "sns.heatmap(confusion_matrix(y_test['Survived'].tolist(), pred), annot = True)"
   ]
  },
  {
   "cell_type": "markdown",
   "metadata": {},
   "source": [
    "I guess it is pretty clear that our model is all but confused when making prediction. Anyway, save results if accuracy is higher than 97%. "
   ]
  },
  {
   "cell_type": "code",
   "execution_count": 36,
   "metadata": {},
   "outputs": [],
   "source": [
    "if accuracy_bnn > 97:\n",
    "    prediction_df = pd.concat([pd.DataFrame(y_test['PassengerId']), \n",
    "                        pd.DataFrame(pred, columns = ['Survived'])], \n",
    "                       axis = 1)\n",
    "    prediction_df.to_csv('titanic_predicted' + str(accuracy_bnn) + '.csv', index = False)"
   ]
  },
  {
   "cell_type": "markdown",
   "metadata": {},
   "source": [
    "Submitted the top 3 predictions with an accuracy score over 97% (97.6, 97.36, 97.12) and obtained a 0.7703 score on the Titanis challenge on Kaggle. Given that the 1.0 scores are cheats and most legit top scores are around 0.8, this result is pretty solid."
   ]
  },
  {
   "cell_type": "code",
   "execution_count": 1,
   "metadata": {},
   "outputs": [
    {
     "data": {
      "image/png": "[encoded data removed]",
      "text/plain": [
       "<IPython.core.display.Image object>"
      ]
     },
     "execution_count": 1,
     "metadata": {},
     "output_type": "execute_result"
    }
   ],
   "source": [
    "Image(filename='titanic_kaggle.png')"
   ]
  },
  {
   "cell_type": "markdown",
   "metadata": {},
   "source": [
    "### Comparison with a classical Neural Network\n",
    "\n",
    "I also built a classical neural network in order to create a benchmark for the BNN. The architectures are the same, the only difference being in the nature of the weghts and in that of the training process."
   ]
  },
  {
   "cell_type": "code",
   "execution_count": 94,
   "metadata": {},
   "outputs": [],
   "source": [
    "model_nn = tf.keras.models.Sequential([\n",
    "    Dense(16, \n",
    "        input_dim = len(X_train.columns), \n",
    "        kernel_initializer = 'normal', \n",
    "        activation = 'tanh'),\n",
    "    Dense(4, \n",
    "        kernel_initializer = 'normal', \n",
    "        activation = 'tanh'),\n",
    "    Dense(1, kernel_initializer = 'normal', activation = 'sigmoid')\n",
    "])\n",
    "\n",
    "optimizer = Adam(lr = 0.0003)\n",
    "\n",
    "model_nn.compile(optimizer = optimizer, loss = 'binary_crossentropy', metrics = ['accuracy'])\n",
    "\n",
    "import os\n",
    "checkpoint_dir = './checkpoints'\n",
    "if not os.path.exists(checkpoint_dir):\n",
    "    os.makedirs(checkpoint_dir) \n",
    "\n",
    "checkpoint_callback = tf.keras.callbacks.ModelCheckpoint(\n",
    "    filepath = checkpoint_dir + '/model_nn.{epoch:05d}.hdf5'\n",
    ")\n",
    "\n",
    "tensorboard_callback = tf.keras.callbacks.TensorBoard(\n",
    "    log_dir = os.path.join('logs'),  \n",
    "    write_graph = True, \n",
    "    update_freq = 'epoch'\n",
    ")"
   ]
  },
  {
   "cell_type": "code",
   "execution_count": 95,
   "metadata": {
    "scrolled": true
   },
   "outputs": [
    {
     "name": "stdout",
     "output_type": "stream",
     "text": [
      "Train on 741 samples, validate on 150 samples\n",
      "Epoch 1/50\n",
      "741/741 [==============================] - 3s 4ms/sample - loss: 0.6680 - acc: 0.6383 - val_loss: 0.6103 - val_acc: 0.7400\n",
      "Epoch 2/50\n",
      "741/741 [==============================] - 2s 3ms/sample - loss: 0.5615 - acc: 0.7692 - val_loss: 0.5102 - val_acc: 0.7800\n",
      "Epoch 3/50\n",
      "741/741 [==============================] - 2s 3ms/sample - loss: 0.5031 - acc: 0.7787 - val_loss: 0.4825 - val_acc: 0.7800\n",
      "Epoch 4/50\n",
      "741/741 [==============================] - 2s 3ms/sample - loss: 0.4845 - acc: 0.7841 - val_loss: 0.4717 - val_acc: 0.7867\n",
      "Epoch 5/50\n",
      "741/741 [==============================] - 3s 4ms/sample - loss: 0.4772 - acc: 0.7773 - val_loss: 0.4672 - val_acc: 0.7867\n",
      "Epoch 6/50\n",
      "741/741 [==============================] - 2s 3ms/sample - loss: 0.4738 - acc: 0.7814 - val_loss: 0.4640 - val_acc: 0.7733\n",
      "Epoch 7/50\n",
      "741/741 [==============================] - 2s 3ms/sample - loss: 0.4705 - acc: 0.7908 - val_loss: 0.4624 - val_acc: 0.7800\n",
      "Epoch 8/50\n",
      "741/741 [==============================] - 3s 4ms/sample - loss: 0.4692 - acc: 0.7895 - val_loss: 0.4614 - val_acc: 0.7733\n",
      "Epoch 9/50\n",
      "741/741 [==============================] - 2s 3ms/sample - loss: 0.4681 - acc: 0.7827 - val_loss: 0.4601 - val_acc: 0.7800\n",
      "Epoch 10/50\n",
      "741/741 [==============================] - 3s 5ms/sample - loss: 0.4660 - acc: 0.7935 - val_loss: 0.4592 - val_acc: 0.7867\n",
      "Epoch 11/50\n",
      "741/741 [==============================] - 4s 5ms/sample - loss: 0.4657 - acc: 0.7935 - val_loss: 0.4576 - val_acc: 0.7800\n",
      "Epoch 12/50\n",
      "741/741 [==============================] - 4s 5ms/sample - loss: 0.4642 - acc: 0.7949 - val_loss: 0.4576 - val_acc: 0.7733\n",
      "Epoch 13/50\n",
      "741/741 [==============================] - 4s 5ms/sample - loss: 0.4643 - acc: 0.7895 - val_loss: 0.4546 - val_acc: 0.7933\n",
      "Epoch 14/50\n",
      "741/741 [==============================] - 4s 5ms/sample - loss: 0.4634 - acc: 0.7922 - val_loss: 0.4534 - val_acc: 0.7867\n",
      "Epoch 15/50\n",
      "741/741 [==============================] - 3s 5ms/sample - loss: 0.4638 - acc: 0.7868 - val_loss: 0.4540 - val_acc: 0.7733\n",
      "Epoch 16/50\n",
      "741/741 [==============================] - 3s 5ms/sample - loss: 0.4624 - acc: 0.7841 - val_loss: 0.4526 - val_acc: 0.8000\n",
      "Epoch 17/50\n",
      "741/741 [==============================] - 4s 5ms/sample - loss: 0.4616 - acc: 0.7908 - val_loss: 0.4513 - val_acc: 0.7800\n",
      "Epoch 18/50\n",
      "741/741 [==============================] - 3s 5ms/sample - loss: 0.4619 - acc: 0.7922 - val_loss: 0.4503 - val_acc: 0.8000\n",
      "Epoch 19/50\n",
      "741/741 [==============================] - 4s 5ms/sample - loss: 0.4611 - acc: 0.7949 - val_loss: 0.4504 - val_acc: 0.7800\n",
      "Epoch 20/50\n",
      "741/741 [==============================] - 3s 5ms/sample - loss: 0.4586 - acc: 0.7827 - val_loss: 0.4486 - val_acc: 0.8067\n",
      "Epoch 21/50\n",
      "741/741 [==============================] - 4s 5ms/sample - loss: 0.4598 - acc: 0.8003 - val_loss: 0.4487 - val_acc: 0.7800\n",
      "Epoch 22/50\n",
      "741/741 [==============================] - 4s 5ms/sample - loss: 0.4578 - acc: 0.7962 - val_loss: 0.4488 - val_acc: 0.7933\n",
      "Epoch 23/50\n",
      "741/741 [==============================] - 4s 5ms/sample - loss: 0.4581 - acc: 0.7949 - val_loss: 0.4470 - val_acc: 0.8067\n",
      "Epoch 24/50\n",
      "741/741 [==============================] - 4s 5ms/sample - loss: 0.4577 - acc: 0.7976 - val_loss: 0.4472 - val_acc: 0.7733\n",
      "Epoch 25/50\n",
      "741/741 [==============================] - 4s 5ms/sample - loss: 0.4594 - acc: 0.7935 - val_loss: 0.4441 - val_acc: 0.8000\n",
      "Epoch 26/50\n",
      "741/741 [==============================] - 4s 5ms/sample - loss: 0.4573 - acc: 0.7962 - val_loss: 0.4437 - val_acc: 0.7933\n",
      "Epoch 27/50\n",
      "741/741 [==============================] - 4s 5ms/sample - loss: 0.4573 - acc: 0.7962 - val_loss: 0.4418 - val_acc: 0.8067\n",
      "Epoch 28/50\n",
      "741/741 [==============================] - 4s 5ms/sample - loss: 0.4577 - acc: 0.8016 - val_loss: 0.4420 - val_acc: 0.8000\n",
      "Epoch 29/50\n",
      "741/741 [==============================] - 4s 5ms/sample - loss: 0.4565 - acc: 0.7922 - val_loss: 0.4424 - val_acc: 0.7933\n",
      "Epoch 30/50\n",
      "741/741 [==============================] - 4s 6ms/sample - loss: 0.4543 - acc: 0.8003 - val_loss: 0.4412 - val_acc: 0.8000\n",
      "Epoch 31/50\n",
      "741/741 [==============================] - 4s 6ms/sample - loss: 0.4562 - acc: 0.7989 - val_loss: 0.4397 - val_acc: 0.8000\n",
      "Epoch 32/50\n",
      "741/741 [==============================] - 4s 5ms/sample - loss: 0.4550 - acc: 0.8003 - val_loss: 0.4449 - val_acc: 0.7667\n",
      "Epoch 33/50\n",
      "741/741 [==============================] - 4s 5ms/sample - loss: 0.4560 - acc: 0.7922 - val_loss: 0.4377 - val_acc: 0.8000\n",
      "Epoch 34/50\n",
      "741/741 [==============================] - 3s 4ms/sample - loss: 0.4551 - acc: 0.7976 - val_loss: 0.4366 - val_acc: 0.8000\n",
      "Epoch 35/50\n",
      "741/741 [==============================] - 4s 5ms/sample - loss: 0.4549 - acc: 0.7922 - val_loss: 0.4385 - val_acc: 0.8000\n",
      "Epoch 36/50\n",
      "741/741 [==============================] - 4s 5ms/sample - loss: 0.4541 - acc: 0.7922 - val_loss: 0.4348 - val_acc: 0.8000\n",
      "Epoch 37/50\n",
      "741/741 [==============================] - 4s 5ms/sample - loss: 0.4528 - acc: 0.7976 - val_loss: 0.4349 - val_acc: 0.8067\n",
      "Epoch 38/50\n",
      "741/741 [==============================] - 4s 5ms/sample - loss: 0.4528 - acc: 0.7935 - val_loss: 0.4348 - val_acc: 0.7933\n",
      "Epoch 39/50\n",
      "741/741 [==============================] - 4s 5ms/sample - loss: 0.4525 - acc: 0.8030 - val_loss: 0.4327 - val_acc: 0.8067\n",
      "Epoch 40/50\n",
      "741/741 [==============================] - 4s 5ms/sample - loss: 0.4528 - acc: 0.7989 - val_loss: 0.4321 - val_acc: 0.8067\n",
      "Epoch 41/50\n",
      "741/741 [==============================] - 4s 5ms/sample - loss: 0.4515 - acc: 0.7989 - val_loss: 0.4311 - val_acc: 0.8067\n",
      "Epoch 42/50\n",
      "741/741 [==============================] - 3s 5ms/sample - loss: 0.4529 - acc: 0.7976 - val_loss: 0.4303 - val_acc: 0.8067\n",
      "Epoch 43/50\n",
      "741/741 [==============================] - 4s 5ms/sample - loss: 0.4520 - acc: 0.7989 - val_loss: 0.4298 - val_acc: 0.8000\n",
      "Epoch 44/50\n",
      "741/741 [==============================] - 4s 5ms/sample - loss: 0.4502 - acc: 0.8016 - val_loss: 0.4290 - val_acc: 0.8067\n",
      "Epoch 45/50\n",
      "741/741 [==============================] - 4s 5ms/sample - loss: 0.4511 - acc: 0.7962 - val_loss: 0.4284 - val_acc: 0.8133\n",
      "Epoch 46/50\n",
      "741/741 [==============================] - 4s 5ms/sample - loss: 0.4513 - acc: 0.7922 - val_loss: 0.4285 - val_acc: 0.8067\n",
      "Epoch 47/50\n",
      "741/741 [==============================] - 3s 5ms/sample - loss: 0.4501 - acc: 0.8003 - val_loss: 0.4271 - val_acc: 0.8000\n",
      "Epoch 48/50\n",
      "741/741 [==============================] - 4s 5ms/sample - loss: 0.4475 - acc: 0.7949 - val_loss: 0.4266 - val_acc: 0.8067\n",
      "Epoch 49/50\n",
      "741/741 [==============================] - 4s 5ms/sample - loss: 0.4480 - acc: 0.7922 - val_loss: 0.4238 - val_acc: 0.8200\n",
      "Epoch 50/50\n",
      "741/741 [==============================] - 4s 5ms/sample - loss: 0.4479 - acc: 0.8016 - val_loss: 0.4283 - val_acc: 0.8000\n"
     ]
    },
    {
     "data": {
      "text/plain": [
       "<tensorflow.python.keras.callbacks.History at 0x7f61f6221cd0>"
      ]
     },
     "execution_count": 95,
     "metadata": {},
     "output_type": "execute_result"
    }
   ],
   "source": [
    "model_nn.fit(X_train[:-150], \n",
    "             y_train[:-150],\n",
    "             epochs = 50, \n",
    "             batch_size = 1, \n",
    "             initial_epoch = 0,\n",
    "             callbacks = [checkpoint_callback, tensorboard_callback],\n",
    "             validation_data = (X_train[-150:], y_train[-150:]))"
   ]
  },
  {
   "cell_type": "code",
   "execution_count": 96,
   "metadata": {},
   "outputs": [],
   "source": [
    "predicted_nn = model_nn.predict(X_test)\n",
    "\n",
    "predicted_nn = (predicted_nn > 0.5).astype(int).flatten()"
   ]
  },
  {
   "cell_type": "code",
   "execution_count": 97,
   "metadata": {},
   "outputs": [],
   "source": [
    "accuracy_nn = (y_test['Survived'].tolist() == pred).mean() * 100\n",
    "\n",
    "precision_nn, recall_nn, fscore_nn, support_nn = score(y_test['Survived'].values, predicted_nn)"
   ]
  },
  {
   "cell_type": "code",
   "execution_count": 99,
   "metadata": {},
   "outputs": [
    {
     "name": "stdout",
     "output_type": "stream",
     "text": [
      "Accuracy: 95.69377990430623\n",
      "Precision: [0.94252874 0.87261146]\n",
      "Recall: [0.92481203 0.90131579]\n",
      "F-Score: [0.93358634 0.88673139]\n",
      "Support: [266 152]\n"
     ]
    }
   ],
   "source": [
    "print('Accuracy: {}'.format(accuracy_nn))\n",
    "print('Precision: {}'.format(precision_nn))\n",
    "print('Recall: {}'.format(recall_nn))\n",
    "print('F-Score: {}'.format(fscore_nn))\n",
    "print('Support: {}'.format(support_nn))"
   ]
  },
  {
   "cell_type": "code",
   "execution_count": 100,
   "metadata": {},
   "outputs": [
    {
     "data": {
      "text/plain": [
       "<matplotlib.axes._subplots.AxesSubplot at 0x7f61f72ad9d0>"
      ]
     },
     "execution_count": 100,
     "metadata": {},
     "output_type": "execute_result"
    },
    {
     "data": {
      "image/png": "[encoded data removed]",
      "text/plain": [
       "<Figure size 432x288 with 2 Axes>"
      ]
     },
     "metadata": {
      "needs_background": "light"
     },
     "output_type": "display_data"
    }
   ],
   "source": [
    "sns.heatmap(confusion_matrix(y_test['Survived'].tolist(), pred), annot = True)"
   ]
  },
  {
   "cell_type": "markdown",
   "metadata": {},
   "source": [
    "### Final comparison\n",
    "\n",
    "Compute a dataframe for metric comparison visualization.\n",
    "\n",
    "The Bayesian Neural Network takes under a minute - oft as not udner 30 seconds - to train with an accuracy raging from 95% to 97%. Meanwhile, the classic model reaches an average accuracy of 95% in over one minute and a half. Even though the accuracy scores are pretty tight, there's a wide gap between the models' precision and recall scoeres, as it can be seen in the dataframe below.  \n",
    "\n",
    "This all being said, it is clear case that the BNN yields far better results in this case given time and sample size constraints."
   ]
  },
  {
   "cell_type": "code",
   "execution_count": 115,
   "metadata": {},
   "outputs": [
    {
     "data": {
      "text/html": [
       "<div>\n",
       "<style scoped>\n",
       "    .dataframe tbody tr th:only-of-type {\n",
       "        vertical-align: middle;\n",
       "    }\n",
       "\n",
       "    .dataframe tbody tr th {\n",
       "        vertical-align: top;\n",
       "    }\n",
       "\n",
       "    .dataframe thead th {\n",
       "        text-align: right;\n",
       "    }\n",
       "</style>\n",
       "<table border=\"1\" class=\"dataframe\">\n",
       "  <thead>\n",
       "    <tr style=\"text-align: right;\">\n",
       "      <th></th>\n",
       "      <th>Accuracy:</th>\n",
       "      <th>Precision</th>\n",
       "      <th>Recall</th>\n",
       "      <th>F-Score</th>\n",
       "      <th>Support</th>\n",
       "    </tr>\n",
       "  </thead>\n",
       "  <tbody>\n",
       "    <tr>\n",
       "      <th>Bayesian NN</th>\n",
       "      <td>96.650718</td>\n",
       "      <td>[0.9772727272727273, 0.948051948051948]</td>\n",
       "      <td>[0.9699248120300752, 0.9605263157894737]</td>\n",
       "      <td>[0.9735849056603774, 0.9542483660130718]</td>\n",
       "      <td>[266, 152]</td>\n",
       "    </tr>\n",
       "    <tr>\n",
       "      <th>Classic NN</th>\n",
       "      <td>95.693780</td>\n",
       "      <td>[0.9425287356321839, 0.8726114649681529]</td>\n",
       "      <td>[0.924812030075188, 0.9013157894736842]</td>\n",
       "      <td>[0.9335863377609108, 0.8867313915857605]</td>\n",
       "      <td>[266, 152]</td>\n",
       "    </tr>\n",
       "  </tbody>\n",
       "</table>\n",
       "</div>"
      ],
      "text/plain": [
       "             Accuracy:                                 Precision  \\\n",
       "Bayesian NN  96.650718   [0.9772727272727273, 0.948051948051948]   \n",
       "Classic NN   95.693780  [0.9425287356321839, 0.8726114649681529]   \n",
       "\n",
       "                                               Recall  \\\n",
       "Bayesian NN  [0.9699248120300752, 0.9605263157894737]   \n",
       "Classic NN    [0.924812030075188, 0.9013157894736842]   \n",
       "\n",
       "                                              F-Score     Support  \n",
       "Bayesian NN  [0.9735849056603774, 0.9542483660130718]  [266, 152]  \n",
       "Classic NN   [0.9335863377609108, 0.8867313915857605]  [266, 152]  "
      ]
     },
     "execution_count": 115,
     "metadata": {},
     "output_type": "execute_result"
    }
   ],
   "source": [
    "comp_df = pd.DataFrame({'Accuracy:': [accuracy_bnn, accuracy_nn], \n",
    "                        'Precision': [precision_bnn, precision_nn], \n",
    "                        'Recall': [recall_bnn, recall_nn], \n",
    "                        'F-Score': [fscore_bnn, fscore_nn], \n",
    "                        'Support': [support_bnn, support_nn]}, \n",
    "                       index = ['Bayesian NN', 'Classic NN'])\n",
    "\n",
    "comp_df"
   ]
  },
  {
   "cell_type": "markdown",
   "metadata": {},
   "source": [
    "## Bayesian Neural Network Multi-Class Classifier\n",
    "\n",
    "For multi-class classificaiton I took 3 approaches:\n",
    "\n",
    "1. One-hot-encoding classification in PyMC.\n",
    "2. One-vs-all classification in PyMC.\n",
    "3. One-hot-encoding classification in TensorFlow.\n",
    "\n",
    "Out of all three, the latter yielded the best results.\n",
    "\n",
    "### PyMC3: Multi-class classification via one-hot encoding."
   ]
  },
  {
   "cell_type": "markdown",
   "metadata": {},
   "source": [
    "Load the data, map the species to their corresponding codifications and perform a train-test split."
   ]
  },
  {
   "cell_type": "code",
   "execution_count": 26,
   "metadata": {},
   "outputs": [],
   "source": [
    "iris = pd.read_csv('iris.csv')"
   ]
  },
  {
   "cell_type": "code",
   "execution_count": 27,
   "metadata": {},
   "outputs": [],
   "source": [
    "species_mapping = {'setosa': 0, 'versicolor': 1, 'virginica': 2}\n",
    "\n",
    "iris['species'] = iris['species'].map(species_mapping)"
   ]
  },
  {
   "cell_type": "code",
   "execution_count": 28,
   "metadata": {},
   "outputs": [],
   "source": [
    "X_train, X_test, y_train, y_test = train_test_split(\n",
    "    iris.drop(labels = ['species'], axis = 1),\n",
    "    iris['species'],\n",
    "    test_size = 0.06,\n",
    "    shuffle = True\n",
    ")"
   ]
  },
  {
   "cell_type": "markdown",
   "metadata": {},
   "source": [
    "This network uses a **softmax** activation function on the alst layer in order to get a set of probabilities - for for each species. Also, the output of the BNN is modeled via a *Categorical* distribution."
   ]
  },
  {
   "cell_type": "code",
   "execution_count": 6,
   "metadata": {},
   "outputs": [],
   "source": [
    "def construct_bnn_oh(bnn_input, \n",
    "                     bnn_output, \n",
    "                     hidden_layer1 = 16, \n",
    "                     hidden_layer2 = 8):\n",
    "    \n",
    "    init_1 = np.random.randn(bnn_input.shape[1], hidden_layer1).astype(theano.config.floatX)\n",
    "    init_2 = np.random.randn(hidden_layer1, hidden_layer2).astype(theano.config.floatX)\n",
    "    init_out = np.random.randn(hidden_layer2).astype(theano.config.floatX)\n",
    "\n",
    "    with pm.Model() as neural_network:\n",
    "        ann_input = pm.Data('bnn_input', bnn_input)\n",
    "        ann_output = pm.Data('bnn_output', bnn_output)\n",
    "\n",
    "        bias = pm.Normal('bias', 0, 1, shape = (2, ))\n",
    "        \n",
    "        weights_in = pm.Normal('w_in', 0, 1,\n",
    "                                shape = (bnn_input.shape[1], hidden_layer1),\n",
    "                                testval = init_1)\n",
    "\n",
    "        weights_12 = pm.Normal('w_12', 0, 1,\n",
    "                                shape = (hidden_layer1, hidden_layer2),\n",
    "                                testval = init_2)\n",
    "\n",
    "        act_1 = pm.math.tanh(pm.math.dot(ann_input,\n",
    "                                         weights_in) + bias[0])\n",
    "        \n",
    "        act_2 = pm.math.tanh(pm.math.dot(act_1,\n",
    "                                         weights_12) + bias[1])\n",
    "\n",
    "        act_out = softmax(act_2)\n",
    "\n",
    "        out = pm.Categorical('out',\n",
    "                             act_out,\n",
    "                             observed = bnn_output,\n",
    "                             total_size = len(bnn_output))\n",
    "        \n",
    "    return neural_network"
   ]
  },
  {
   "cell_type": "code",
   "execution_count": 30,
   "metadata": {},
   "outputs": [],
   "source": [
    "bnn = construct_bnn_oh(X_train, y_train, 8, 3)"
   ]
  },
  {
   "cell_type": "code",
   "execution_count": 31,
   "metadata": {},
   "outputs": [],
   "source": [
    "set_tt_rng(MRG_RandomStreams(42))"
   ]
  },
  {
   "cell_type": "code",
   "execution_count": 32,
   "metadata": {},
   "outputs": [
    {
     "name": "stderr",
     "output_type": "stream",
     "text": [
      "Average Loss = 22,055: 100%|██████████| 30000/30000 [00:28<00:00, 1042.45it/s]\n",
      "Finished [100%]: Average Loss = 22,055\n"
     ]
    }
   ],
   "source": [
    "with bnn:\n",
    "    inference = pm.ADVI()\n",
    "    approx = pm.fit(n = 30000, method = inference)"
   ]
  },
  {
   "cell_type": "code",
   "execution_count": 33,
   "metadata": {},
   "outputs": [
    {
     "data": {
      "text/plain": [
       "Text(0.5, 0, 'iteration')"
      ]
     },
     "execution_count": 33,
     "metadata": {},
     "output_type": "execute_result"
    },
    {
     "data": {
      "image/png": "[encoded data removed]",
      "text/plain": [
       "<Figure size 432x288 with 1 Axes>"
      ]
     },
     "metadata": {
      "needs_background": "light"
     },
     "output_type": "display_data"
    }
   ],
   "source": [
    "plt.plot(-inference.hist, label='new ADVI', alpha=.3)\n",
    "plt.plot(approx.hist, label='old ADVI', alpha=.3)\n",
    "plt.legend()\n",
    "plt.ylabel('ELBO')\n",
    "plt.xlabel('iteration')"
   ]
  },
  {
   "cell_type": "code",
   "execution_count": 34,
   "metadata": {},
   "outputs": [],
   "source": [
    "trace = approx.sample(draws = 15000)"
   ]
  },
  {
   "cell_type": "code",
   "execution_count": 35,
   "metadata": {},
   "outputs": [],
   "source": [
    "x = T.matrix('X')\n",
    "n = T.iscalar('n')\n",
    "\n",
    "x.tag.test_value = np.empty_like(X_train[:10])\n",
    "n.tag.test_value = 100\n",
    "_sample_proba = approx.sample_node(bnn.out.distribution.p,\n",
    "                                   size = n,\n",
    "                                   more_replacements = {bnn['bnn_input']: x})"
   ]
  },
  {
   "cell_type": "code",
   "execution_count": 36,
   "metadata": {},
   "outputs": [
    {
     "name": "stderr",
     "output_type": "stream",
     "text": [
      "/home/matei/anaconda3/envs/progprob3/lib/python3.7/site-packages/theano/scan_module/scan_perform_ext.py:76: UserWarning: The file scan_perform.c is not available. This donot happen normally. You are probably in a strangesetup. This mean Theano can not use the cython code for scan. If youwant to remove this warning, use the Theano flag'cxx=' (set to an empty string) to disable all ccode generation.\n",
      "  \"The file scan_perform.c is not available. This do\"\n"
     ]
    }
   ],
   "source": [
    "sample_proba = theano.function([x, n], _sample_proba)"
   ]
  },
  {
   "cell_type": "code",
   "execution_count": 37,
   "metadata": {},
   "outputs": [],
   "source": [
    "sample_ = sample_proba(X_test, 15000)"
   ]
  },
  {
   "cell_type": "code",
   "execution_count": 38,
   "metadata": {},
   "outputs": [
    {
     "data": {
      "text/plain": [
       "array([[0.33544116, 0.33188107, 0.33267778],\n",
       "       [0.33574672, 0.33168097, 0.33257231],\n",
       "       [0.335722  , 0.33168963, 0.33258836],\n",
       "       [0.33558304, 0.33183717, 0.3325798 ],\n",
       "       [0.3351836 , 0.33192353, 0.33289287],\n",
       "       [0.33579472, 0.33160895, 0.33259633],\n",
       "       [0.33535889, 0.33198609, 0.33265502],\n",
       "       [0.33546224, 0.33186456, 0.3326732 ],\n",
       "       [0.33547327, 0.33184912, 0.33267761]])"
      ]
     },
     "execution_count": 38,
     "metadata": {},
     "output_type": "execute_result"
    }
   ],
   "source": [
    "sample_.mean(0)"
   ]
  },
  {
   "cell_type": "markdown",
   "metadata": {},
   "source": [
    "As one may observe, the one-hot encoded calssification in PyMC is yielding highly biased results - almost constant."
   ]
  },
  {
   "cell_type": "markdown",
   "metadata": {},
   "source": [
    "### PyMC3: Multi-class classification via one-vs-all classification.\n",
    "\n",
    "I went throught the same process as before, althought this time I've repeaded the neural assembly and training process for each class."
   ]
  },
  {
   "cell_type": "code",
   "execution_count": 2,
   "metadata": {},
   "outputs": [],
   "source": [
    "iris = pd.read_csv('iris.csv')"
   ]
  },
  {
   "cell_type": "code",
   "execution_count": 3,
   "metadata": {},
   "outputs": [],
   "source": [
    "species = iris['species'].unique().tolist()\n",
    "\n",
    "species_mapping = {'setosa': {'setosa': 1, 'versicolor': 0, 'virginica': 0},\n",
    "                   'versicolor': {'setosa': 0, 'versicolor': 1, 'virginica': 0},\n",
    "                   'virginica': {'setosa': 0, 'versicolor': 0, 'virginica': 1}}"
   ]
  },
  {
   "cell_type": "code",
   "execution_count": 4,
   "metadata": {},
   "outputs": [],
   "source": [
    "res, y_tests = [], []"
   ]
  },
  {
   "cell_type": "code",
   "execution_count": 14,
   "metadata": {},
   "outputs": [
    {
     "name": "stderr",
     "output_type": "stream",
     "text": [
      "Average Loss = 301.4: 100%|██████████| 45000/45000 [06:24<00:00, 116.90it/s] \n",
      "Finished [100%]: Average Loss = 301.13\n",
      "/home/matei/anaconda3/envs/progprob3/lib/python3.7/site-packages/theano/scan_module/scan_perform_ext.py:76: UserWarning: The file scan_perform.c is not available. This donot happen normally. You are probably in a strangesetup. This mean Theano can not use the cython code for scan. If youwant to remove this warning, use the Theano flag'cxx=' (set to an empty string) to disable all ccode generation.\n",
      "  \"The file scan_perform.c is not available. This do\"\n"
     ]
    },
    {
     "name": "stdout",
     "output_type": "stream",
     "text": [
      "Precision on predicting setosa: [1. 1.]\n",
      "Recall on predicting setosa: [1. 1.]\n"
     ]
    },
    {
     "name": "stderr",
     "output_type": "stream",
     "text": [
      "Average Loss = 300.3: 100%|██████████| 45000/45000 [06:52<00:00, 108.99it/s]  \n",
      "Finished [100%]: Average Loss = 299.83\n",
      "/home/matei/anaconda3/envs/progprob3/lib/python3.7/site-packages/theano/scan_module/scan_perform_ext.py:76: UserWarning: The file scan_perform.c is not available. This donot happen normally. You are probably in a strangesetup. This mean Theano can not use the cython code for scan. If youwant to remove this warning, use the Theano flag'cxx=' (set to an empty string) to disable all ccode generation.\n",
      "  \"The file scan_perform.c is not available. This do\"\n",
      "/home/matei/anaconda3/envs/progprob3/lib/python3.7/site-packages/sklearn/metrics/_classification.py:1268: UndefinedMetricWarning: Precision and F-score are ill-defined and being set to 0.0 in labels with no predicted samples. Use `zero_division` parameter to control this behavior.\n",
      "  _warn_prf(average, modifier, msg_start, len(result))\n"
     ]
    },
    {
     "name": "stdout",
     "output_type": "stream",
     "text": [
      "Precision on predicting versicolor: [0.55555556 0.        ]\n",
      "Recall on predicting versicolor: [1. 0.]\n"
     ]
    },
    {
     "name": "stderr",
     "output_type": "stream",
     "text": [
      "Average Loss = 306.24: 100%|██████████| 45000/45000 [07:39<00:00, 97.94it/s]  \n",
      "Finished [100%]: Average Loss = 307.1\n",
      "/home/matei/anaconda3/envs/progprob3/lib/python3.7/site-packages/theano/scan_module/scan_perform_ext.py:76: UserWarning: The file scan_perform.c is not available. This donot happen normally. You are probably in a strangesetup. This mean Theano can not use the cython code for scan. If youwant to remove this warning, use the Theano flag'cxx=' (set to an empty string) to disable all ccode generation.\n",
      "  \"The file scan_perform.c is not available. This do\"\n"
     ]
    },
    {
     "name": "stdout",
     "output_type": "stream",
     "text": [
      "Precision on predicting virginica: [0.55555556 0.        ]\n",
      "Recall on predicting virginica: [1. 0.]\n"
     ]
    }
   ],
   "source": [
    "for specie in species:\n",
    "    \n",
    "    iris_copy = iris.copy(deep = True)\n",
    "    iris_copy['species'] = iris_copy['species'].map(species_mapping[specie])\n",
    "    \n",
    "    X_train, X_test, y_train, y_test = train_test_split(\n",
    "        iris_copy.drop(labels = ['species'], axis = 1),\n",
    "        iris_copy['species'],\n",
    "        test_size = 0.06,\n",
    "        shuffle = True\n",
    "    )\n",
    "    \n",
    "    bnn = construct_bnn(X_train, y_train, 128, 64)\n",
    "\n",
    "    set_tt_rng(MRG_RandomStreams(42))\n",
    "    \n",
    "    with bnn:\n",
    "        inference = pm.ADVI()\n",
    "        approx = pm.fit(n = 45000, method = inference)\n",
    "        \n",
    "    trace = approx.sample(draws = 15000)\n",
    "    \n",
    "    x = T.matrix('X')\n",
    "    n = T.iscalar('n')\n",
    "\n",
    "    x.tag.test_value = np.empty_like(X_train[:10])\n",
    "    n.tag.test_value = 100\n",
    "    _sample_proba = approx.sample_node(bnn.out.distribution.p,\n",
    "                                       size = n,\n",
    "                                       more_replacements = {bnn['bnn_input']: x})\n",
    "\n",
    "    sample_proba = theano.function([x, n], _sample_proba)\n",
    "    \n",
    "    sample_ = sample_proba(X_test, 15000)\n",
    "    \n",
    "    pred = sample_.mean(0) > 0.5\n",
    "\n",
    "    precision_bnn, recall_bnn, fscore_bnn, support_bnn = score(y_test, pred)\n",
    "    \n",
    "    print('Precision on predicting {}:'.format(specie), precision_bnn)\n",
    "    print('Recall on predicting {}:'.format(specie), recall_bnn)\n",
    "    \n",
    "    res.append(pred)\n",
    "    y_tests.append(y_test)"
   ]
  },
  {
   "cell_type": "markdown",
   "metadata": {},
   "source": [
    "Peculiar enough, the first networks classifies *sativa* with an accuracies of 1, while the accuracy for *versicolor* and *virginica* lie between 0.3 and 0.6."
   ]
  },
  {
   "cell_type": "markdown",
   "metadata": {},
   "source": [
    "### TensorFlow: Multi-class classification by predicting the one-hot encoding of the labels."
   ]
  },
  {
   "cell_type": "code",
   "execution_count": 118,
   "metadata": {},
   "outputs": [],
   "source": [
    "iris = pd.get_dummies(iris, columns=['species'])"
   ]
  },
  {
   "cell_type": "code",
   "execution_count": 119,
   "metadata": {},
   "outputs": [],
   "source": [
    "X_train, X_test, y_train, y_test = train_test_split(\n",
    "    iris.drop(labels = ['species_setosa', 'species_versicolor', 'species_virginica'], axis = 1),\n",
    "    iris[['species_setosa', 'species_versicolor', 'species_virginica']],\n",
    "    test_size = 0.1,\n",
    "    shuffle = True\n",
    ")"
   ]
  },
  {
   "cell_type": "markdown",
   "metadata": {},
   "source": [
    "Iniitalize placeholders (they act kinda like Theano symbolic variables) and initial weights and bias with normally distributed data."
   ]
  },
  {
   "cell_type": "code",
   "execution_count": 120,
   "metadata": {},
   "outputs": [],
   "source": [
    "data = tf.placeholder(shape = [None, 4], dtype = tf.float32)\n",
    "labels = tf.placeholder(shape = [None, 3], dtype = tf.float32)"
   ]
  },
  {
   "cell_type": "code",
   "execution_count": 121,
   "metadata": {},
   "outputs": [],
   "source": [
    "hidden_layer_nodes = 8\n",
    "\n",
    "weights_in1 = tf.Variable(tf.random_normal(shape = [4, hidden_layer_nodes]))\n",
    "bias1 = tf.Variable(tf.random_normal(shape = [hidden_layer_nodes]))\n",
    "weights_1out = tf.Variable(tf.random_normal(shape = [hidden_layer_nodes, 3]))\n",
    "bias2 = tf.Variable(tf.random_normal(shape = [3]))"
   ]
  },
  {
   "cell_type": "markdown",
   "metadata": {},
   "source": [
    "Define the actual network layers, with *ReLU* and *softmax* respectively as activation functions."
   ]
  },
  {
   "cell_type": "code",
   "execution_count": 122,
   "metadata": {},
   "outputs": [],
   "source": [
    "hidden_output = tf.nn.relu(tf.add(tf.matmul(data, weights_in1), bias1))\n",
    "final_output = tf.nn.softmax(tf.add(tf.matmul(hidden_output, weights_1out), bias2))"
   ]
  },
  {
   "cell_type": "markdown",
   "metadata": {},
   "source": [
    "Compute loss function and initialize optimizer."
   ]
  },
  {
   "cell_type": "code",
   "execution_count": 123,
   "metadata": {},
   "outputs": [],
   "source": [
    "loss = tf.reduce_mean(-tf.reduce_sum(labels * tf.log(final_output), axis=0))\n",
    "\n",
    "optimizer = tf.train.GradientDescentOptimizer(learning_rate = 0.001).minimize(loss)"
   ]
  },
  {
   "cell_type": "markdown",
   "metadata": {},
   "source": [
    "Train the model over 10 epochs. "
   ]
  },
  {
   "cell_type": "code",
   "execution_count": 124,
   "metadata": {},
   "outputs": [
    {
     "name": "stdout",
     "output_type": "stream",
     "text": [
      "Epoch 1 - Loss: 16.435196\n",
      "Epoch 2 - Loss: 9.13502\n",
      "Epoch 3 - Loss: 5.838211\n",
      "Epoch 4 - Loss: 4.8152637\n",
      "Epoch 5 - Loss: 4.258339\n",
      "Epoch 6 - Loss: 3.9080048\n",
      "Epoch 7 - Loss: 3.6679382\n",
      "Epoch 8 - Loss: 3.49307\n",
      "Epoch 9 - Loss: 3.3597927\n",
      "Epoch 10 - Loss: 3.2546036\n"
     ]
    }
   ],
   "source": [
    "with tf.Session() as sess:\n",
    "    init = tf.global_variables_initializer()\n",
    "    sess.run(init)\n",
    "\n",
    "    ls = {}\n",
    "    for epoch in range(1, (1000 + 1)):\n",
    "        sess.run(optimizer, \n",
    "                 feed_dict = {data: X_train, \n",
    "                              labels: y_train})\n",
    "        if epoch % 100 == 0:\n",
    "            loss_ = sess.run(loss, \n",
    "                         feed_dict = {data: X_train, \n",
    "                                      labels: y_train})\n",
    "            print('Epoch ' + str(epoch // 100) + ' - Loss:', loss_)\n",
    "            ls[epoch] = loss_\n",
    "            \n",
    "    predicted = np.rint(sess.run(final_output, feed_dict = {data: X_test}))"
   ]
  },
  {
   "cell_type": "markdown",
   "metadata": {},
   "source": [
    "Compute and print relevant metrics."
   ]
  },
  {
   "cell_type": "code",
   "execution_count": 134,
   "metadata": {},
   "outputs": [],
   "source": [
    "accuracy_bnn = accuracy_score(y_test.to_numpy().tolist(), predicted)\n",
    "\n",
    "precision_bnn, recall_bnn, fscore_bnn, support_bnn = score(y_test.to_numpy().tolist(), predicted)"
   ]
  },
  {
   "cell_type": "code",
   "execution_count": 135,
   "metadata": {},
   "outputs": [
    {
     "name": "stdout",
     "output_type": "stream",
     "text": [
      "Accuracy: 1.0\n",
      "Precision: [1. 1. 1.]\n",
      "Recall: [1. 1. 1.]\n",
      "F-Score: [1. 1. 1.]\n",
      "Support: [7 3 5]\n"
     ]
    }
   ],
   "source": [
    "print('Accuracy: {}'.format(accuracy_bnn))\n",
    "print('Precision: {}'.format(precision_bnn))\n",
    "print('Recall: {}'.format(recall_bnn))\n",
    "print('F-Score: {}'.format(fscore_bnn))\n",
    "print('Support: {}'.format(support_bnn))"
   ]
  },
  {
   "cell_type": "markdown",
   "metadata": {},
   "source": [
    "There's not much to talk about here, especially given we've worked on the Iris dataset."
   ]
  },
  {
   "cell_type": "markdown",
   "metadata": {},
   "source": [
    "### Comparison with classic Neural Network\n",
    "\n",
    "Once again, I've built a benchmark classical NN. The architectures are the same, the only difference being in the nature of the weghts and in that of the training process."
   ]
  },
  {
   "cell_type": "code",
   "execution_count": 145,
   "metadata": {},
   "outputs": [],
   "source": [
    "model_nn2 = tf.keras.models.Sequential([\n",
    "    Dense(8, \n",
    "        input_dim = len(X_train.columns), \n",
    "        kernel_initializer = 'normal', \n",
    "        activation = 'relu'),\n",
    "    Dense(3, \n",
    "          kernel_initializer = 'normal', \n",
    "          activation = 'softmax')\n",
    "])\n",
    "\n",
    "optimizer = Adam(lr = 0.0003)\n",
    "\n",
    "model_nn2.compile(optimizer = optimizer, loss = 'categorical_crossentropy', metrics = ['accuracy'])\n",
    "\n",
    "import os\n",
    "checkpoint_dir = './checkpoints'\n",
    "if not os.path.exists(checkpoint_dir):\n",
    "    os.makedirs(checkpoint_dir) \n",
    "\n",
    "checkpoint_callback = tf.keras.callbacks.ModelCheckpoint(\n",
    "    filepath = checkpoint_dir + '/model_nn2.{epoch:05d}.hdf5'\n",
    ")\n",
    "\n",
    "tensorboard_callback = tf.keras.callbacks.TensorBoard(\n",
    "    log_dir = os.path.join('logs'),  \n",
    "    write_graph = True, \n",
    "    update_freq = 'epoch'\n",
    ")"
   ]
  },
  {
   "cell_type": "code",
   "execution_count": 163,
   "metadata": {
    "scrolled": true
   },
   "outputs": [
    {
     "name": "stdout",
     "output_type": "stream",
     "text": [
      "Train on 105 samples, validate on 30 samples\n",
      "Epoch 1/10\n",
      "105/105 [==============================] - 0s 3ms/sample - loss: 0.3615 - acc: 0.9619 - val_loss: 0.3057 - val_acc: 0.9667\n",
      "Epoch 2/10\n",
      "105/105 [==============================] - 0s 3ms/sample - loss: 0.3562 - acc: 0.9619 - val_loss: 0.3009 - val_acc: 0.9667\n",
      "Epoch 3/10\n",
      "105/105 [==============================] - 0s 3ms/sample - loss: 0.3519 - acc: 0.9714 - val_loss: 0.2960 - val_acc: 0.9667\n",
      "Epoch 4/10\n",
      "105/105 [==============================] - 0s 5ms/sample - loss: 0.3457 - acc: 0.9714 - val_loss: 0.2930 - val_acc: 0.9667\n",
      "Epoch 5/10\n",
      "105/105 [==============================] - 0s 4ms/sample - loss: 0.3407 - acc: 0.9619 - val_loss: 0.2873 - val_acc: 0.9667\n",
      "Epoch 6/10\n",
      "105/105 [==============================] - 0s 4ms/sample - loss: 0.3357 - acc: 0.9619 - val_loss: 0.2829 - val_acc: 0.9667\n",
      "Epoch 7/10\n",
      "105/105 [==============================] - 0s 3ms/sample - loss: 0.3317 - acc: 0.9619 - val_loss: 0.2783 - val_acc: 0.9667\n",
      "Epoch 8/10\n",
      "105/105 [==============================] - 0s 3ms/sample - loss: 0.3262 - acc: 0.9714 - val_loss: 0.2743 - val_acc: 0.9667\n",
      "Epoch 9/10\n",
      "105/105 [==============================] - 0s 4ms/sample - loss: 0.3208 - acc: 0.9619 - val_loss: 0.2701 - val_acc: 0.9667\n",
      "Epoch 10/10\n",
      "105/105 [==============================] - 0s 3ms/sample - loss: 0.3157 - acc: 0.9810 - val_loss: 0.2667 - val_acc: 0.9667\n"
     ]
    },
    {
     "data": {
      "text/plain": [
       "<tensorflow.python.keras.callbacks.History at 0x7f61681082d0>"
      ]
     },
     "execution_count": 163,
     "metadata": {},
     "output_type": "execute_result"
    }
   ],
   "source": [
    "model_nn2.fit(X_train[:-30], \n",
    "             y_train[:-30],\n",
    "             epochs = 10, \n",
    "             batch_size = 1, \n",
    "             initial_epoch = 0,\n",
    "             callbacks = [checkpoint_callback, tensorboard_callback],\n",
    "             validation_data = (X_train[-30:], y_train[-30:]))"
   ]
  },
  {
   "cell_type": "code",
   "execution_count": 165,
   "metadata": {},
   "outputs": [],
   "source": [
    "pred_nn = model_nn2.predict(X_test)\n",
    "\n",
    "predicted_nn = []\n",
    "\n",
    "for sample in pred_nn:\n",
    "    temp = [0, 0, 0]\n",
    "    maxi = -1\n",
    "    it, place = 0, 0\n",
    "    for elem in sample:\n",
    "        if elem > maxi:\n",
    "            maxi= elem\n",
    "            place = it\n",
    "        it += 1\n",
    "    temp[place] = 1\n",
    "    predicted_nn.append(temp)\n",
    "    \n",
    "predicted_nn = np.array(predicted_nn)"
   ]
  },
  {
   "cell_type": "code",
   "execution_count": 166,
   "metadata": {},
   "outputs": [],
   "source": [
    "accuracy_nn = accuracy_score(y_test.to_numpy().tolist(), predicted)\n",
    "\n",
    "precision_nn, recall_nn, fscore_nn, support_nn = score(y_test.to_numpy().tolist(), predicted)"
   ]
  },
  {
   "cell_type": "code",
   "execution_count": 167,
   "metadata": {},
   "outputs": [
    {
     "name": "stdout",
     "output_type": "stream",
     "text": [
      "Accuracy: 1.0\n",
      "Precision: [1. 1. 1.]\n",
      "Recall: [1. 1. 1.]\n",
      "F-Score: [1. 1. 1.]\n",
      "Support: [7 3 5]\n"
     ]
    }
   ],
   "source": [
    "print('Accuracy: {}'.format(accuracy_nn))\n",
    "print('Precision: {}'.format(precision_nn))\n",
    "print('Recall: {}'.format(recall_nn))\n",
    "print('F-Score: {}'.format(fscore_nn))\n",
    "print('Support: {}'.format(support_nn))"
   ]
  },
  {
   "cell_type": "markdown",
   "metadata": {},
   "source": [
    "### Final comparison\n",
    "\n",
    "I decided to keep the dataframe output format out of formalism, since it is obvious that the networks have the same predictive power on Iris."
   ]
  },
  {
   "cell_type": "code",
   "execution_count": 162,
   "metadata": {},
   "outputs": [
    {
     "data": {
      "text/html": [
       "<div>\n",
       "<style scoped>\n",
       "    .dataframe tbody tr th:only-of-type {\n",
       "        vertical-align: middle;\n",
       "    }\n",
       "\n",
       "    .dataframe tbody tr th {\n",
       "        vertical-align: top;\n",
       "    }\n",
       "\n",
       "    .dataframe thead th {\n",
       "        text-align: right;\n",
       "    }\n",
       "</style>\n",
       "<table border=\"1\" class=\"dataframe\">\n",
       "  <thead>\n",
       "    <tr style=\"text-align: right;\">\n",
       "      <th></th>\n",
       "      <th>Accuracy:</th>\n",
       "      <th>Precision</th>\n",
       "      <th>Recall</th>\n",
       "      <th>F-Score</th>\n",
       "      <th>Support</th>\n",
       "    </tr>\n",
       "  </thead>\n",
       "  <tbody>\n",
       "    <tr>\n",
       "      <th>Bayesian NN</th>\n",
       "      <td>1.0</td>\n",
       "      <td>[1.0, 1.0, 1.0]</td>\n",
       "      <td>[1.0, 1.0, 1.0]</td>\n",
       "      <td>[1.0, 1.0, 1.0]</td>\n",
       "      <td>[7, 3, 5]</td>\n",
       "    </tr>\n",
       "    <tr>\n",
       "      <th>Classic NN</th>\n",
       "      <td>1.0</td>\n",
       "      <td>[1.0, 1.0, 1.0]</td>\n",
       "      <td>[1.0, 1.0, 1.0]</td>\n",
       "      <td>[1.0, 1.0, 1.0]</td>\n",
       "      <td>[7, 3, 5]</td>\n",
       "    </tr>\n",
       "  </tbody>\n",
       "</table>\n",
       "</div>"
      ],
      "text/plain": [
       "             Accuracy:        Precision           Recall          F-Score  \\\n",
       "Bayesian NN        1.0  [1.0, 1.0, 1.0]  [1.0, 1.0, 1.0]  [1.0, 1.0, 1.0]   \n",
       "Classic NN         1.0  [1.0, 1.0, 1.0]  [1.0, 1.0, 1.0]  [1.0, 1.0, 1.0]   \n",
       "\n",
       "               Support  \n",
       "Bayesian NN  [7, 3, 5]  \n",
       "Classic NN   [7, 3, 5]  "
      ]
     },
     "execution_count": 162,
     "metadata": {},
     "output_type": "execute_result"
    }
   ],
   "source": [
    "comp_df = pd.DataFrame({'Accuracy:': [accuracy_bnn, accuracy_nn], \n",
    "                        'Precision': [precision_bnn, precision_nn], \n",
    "                        'Recall': [recall_bnn, recall_nn], \n",
    "                        'F-Score': [fscore_bnn, fscore_nn], \n",
    "                        'Support': [support_bnn, support_nn]}, \n",
    "                       index = ['Bayesian NN', 'Classic NN'])\n",
    "\n",
    "comp_df"
   ]
  },
  {
   "cell_type": "markdown",
   "metadata": {},
   "source": [
    "## Bayesian Convolutional Neural Network Multi-Class Classifier\n",
    "### MNIST\n",
    "\n",
    "My choice for the BCNN modelling was TFP, mianly because PyMC3 does not offer any support on convolution and implementing these operations myself was out of the question, since time was short.\n",
    "\n",
    "The code itself is built on the BCNN defined here: https://github.com/tensorflow/probability/blob/master/tensorflow_probability/examples/bayesian_neural_network.py. Altough development started from there, the two networks are not much alike, the one presented further being a little more complex and adapted to TensorFlow2. This also stands for the training and prediction process."
   ]
  },
  {
   "cell_type": "code",
   "execution_count": 2,
   "metadata": {},
   "outputs": [],
   "source": [
    "from tensorflow.keras.datasets import mnist\n",
    "\n",
    "(X_train, y_train), (X_test, y_test) = mnist.load_data()\n",
    "\n",
    "X_train, X_test = X_train / 255.0, X_test / 255.0"
   ]
  },
  {
   "cell_type": "markdown",
   "metadata": {},
   "source": [
    "Define an utility to compute batches in order to be fed to the convolutional network in the training process."
   ]
  },
  {
   "cell_type": "code",
   "execution_count": 3,
   "metadata": {},
   "outputs": [],
   "source": [
    "def next_batch(batch_size, data, labels):\n",
    "    idx = np.arange(0 , len(data))\n",
    "    np.random.shuffle(idx)\n",
    "    idx = idx[:batch_size]\n",
    "    data_shuffle = [data[i] for i in idx]\n",
    "    labels_shuffle = [labels[i] for i in idx]\n",
    "\n",
    "    return np.asarray(data_shuffle), np.asarray(labels_shuffle)"
   ]
  },
  {
   "cell_type": "markdown",
   "metadata": {},
   "source": [
    "Define the placeholders just like before and construct a CNN like you'd usually do in *keras*, but this time using $\\href{https://www.tensorflow.org/probability/api_docs/python/tfp/layers}{TFP \\ layers}$ instead of the usual TF-keras build-up. Afterwards, build the log likelyhood, loss and accuracy functions."
   ]
  },
  {
   "cell_type": "code",
   "execution_count": 4,
   "metadata": {},
   "outputs": [
    {
     "name": "stdout",
     "output_type": "stream",
     "text": [
      "WARNING:tensorflow:From /home/matei/anaconda3/envs/progprob3/lib/python3.7/site-packages/tensorflow_probability/python/layers/util.py:102: Layer.add_variable (from tensorflow.python.keras.engine.base_layer) is deprecated and will be removed in a future version.\n",
      "Instructions for updating:\n",
      "Please use `layer.add_weight` method instead.\n",
      "WARNING:tensorflow:From /home/matei/anaconda3/envs/progprob3/lib/python3.7/site-packages/tensorflow_core/python/ops/resource_variable_ops.py:1630: calling BaseResourceVariable.__init__ (from tensorflow.python.ops.resource_variable_ops) with constraint is deprecated and will be removed in a future version.\n",
      "Instructions for updating:\n",
      "If using Keras pass *_constraint arguments to layers.\n"
     ]
    }
   ],
   "source": [
    "images = tf.placeholder(tf.float32, shape = [None, 28, 28])\n",
    "labels = tf.placeholder(tf.float32, [None,])\n",
    "hold_prob = tf.placeholder(tf.float32)\n",
    "\n",
    "bnn = tf.keras.Sequential([\n",
    "    tf.keras.layers.Reshape([28, 28, 1]),\n",
    "    tfp.layers.Convolution2DFlipout(32, \n",
    "                                    kernel_size = 5,\n",
    "                                    padding = \"SAME\",\n",
    "                                    activation = tf.nn.relu),\n",
    "    tf.keras.layers.MaxPooling2D(pool_size = [2, 2], \n",
    "                                 strides = [2, 2], \n",
    "                                 padding = \"SAME\"), \n",
    "    tfp.layers.Convolution2DFlipout(32, \n",
    "                                kernel_size = 5,\n",
    "                                padding = \"SAME\",\n",
    "                                activation = tf.nn.relu),\n",
    "    tf.keras.layers.MaxPooling2D(pool_size = [2, 2], \n",
    "                                 strides = [2, 2], \n",
    "                                 padding = \"SAME\"), \n",
    "    tfp.layers.Convolution2DFlipout(64, \n",
    "                                    kernel_size = 5, \n",
    "                                    padding = \"SAME\", \n",
    "                                    activation = tf.nn.relu),\n",
    "    tf.keras.layers.MaxPooling2D(pool_size = [2, 2], \n",
    "                                 strides = [2, 2],\n",
    "                                 padding = \"SAME\"),\n",
    "    tf.keras.layers.Flatten(),\n",
    "    tfp.layers.DenseFlipout(1024,\n",
    "                            activation = tf.nn.relu),\n",
    "    tf.keras.layers.Dropout(hold_prob),\n",
    "    tfp.layers.DenseFlipout(10)\n",
    "])\n",
    "\n",
    "logits = bnn(images)\n",
    "\n",
    "labels_distribution = tfp.distributions.Categorical(logits = logits)\n",
    "\n",
    "neg_log_likelihood = -tf.reduce_mean(labels_distribution.log_prob(labels))\n",
    "\n",
    "elbo_loss = neg_log_likelihood + sum(bnn.losses) / len(X_train)\n",
    "\n",
    "optimizer = tf.train.AdamOptimizer(learning_rate = 0.001)\n",
    "\n",
    "train_op = optimizer.minimize(elbo_loss)\n",
    "\n",
    "predictions = tf.argmax(logits, axis = 1)\n",
    "\n",
    "accuracy, accuracy_update_op = tf.metrics.accuracy(labels = labels, predictions = predictions)"
   ]
  },
  {
   "cell_type": "markdown",
   "metadata": {},
   "source": [
    "Train the BCNN and print the loss and accuracy every epoch. Also print the test loss and accuracy."
   ]
  },
  {
   "cell_type": "code",
   "execution_count": null,
   "metadata": {},
   "outputs": [
    {
     "name": "stdout",
     "output_type": "stream",
     "text": [
      "Epoch 0 - Loss: 62.268322, Accuracy: 0.08 ; elapsed: 2.251s\n",
      "Epoch 1 - Loss: 4.2317147, Accuracy: 0.9631237 ; elapsed: 1842.244s\n",
      "Epoch 2 - Loss: 1.4768991, Accuracy: 0.9706225 ; elapsed: 3655.324s\n",
      "Epoch 3 - Loss: 1.0569103, Accuracy: 0.9732382 ; elapsed: 5472.135s\n",
      "Epoch 4 - Loss: 0.55578685, Accuracy: 0.97436666 ; elapsed: 7287.654s\n",
      "Epoch 5 - Loss: 0.51788485, Accuracy: 0.9749977 ; elapsed: 9100.08s\n",
      "Epoch 6 - Loss: 0.41408163, Accuracy: 0.9752854 ; elapsed: 10915.07s\n",
      "Epoch 7 - Loss: 0.35878885, Accuracy: 0.9754892 ; elapsed: 12727.665s\n",
      "Epoch 8 - Loss: 0.25944182, Accuracy: 0.9756648 ; elapsed: 14545.362s\n",
      "Epoch 9 - Loss: 0.30617929, Accuracy: 0.9757954 ; elapsed: 16355.566s\n",
      "Epoch 10 - Loss: 0.38779852, Accuracy: 0.9759544 ; elapsed: 18174.999s\n"
     ]
    }
   ],
   "source": [
    "init_op = tf.group(tf.global_variables_initializer(),\n",
    "                   tf.local_variables_initializer())\n",
    "\n",
    "with tf.Session() as sess:\n",
    "    start_time = time.time()\n",
    "    sess.run(init_op)\n",
    "    for step in range(100001):\n",
    "        images_b, labels_b = next_batch(50, X_train, y_train)\n",
    "        sess.run([train_op,\n",
    "                  accuracy_update_op],\n",
    "                  feed_dict = {images: images_b,\n",
    "                               labels: labels_b, \n",
    "                               hold_prob: 0.5})\n",
    "        if (step == 0) or (step % 10000 == 0):\n",
    "            loss_train, accuracy_train = sess.run([elbo_loss, accuracy], \n",
    "                                                  feed_dict = {images: images_b,\n",
    "                                                               labels: labels_b, \n",
    "                                                               hold_prob: 0.5})\n",
    "            print(\"Epoch \" + str(step // 10000) + \\\n",
    "                  \" - Loss: \" + str(loss_train) + \\\n",
    "                  \", Accuracy: \" + str(accuracy_train) + \\\n",
    "                  \" ; elapsed: \" + str(round(time.time() - start_time, 3)) + 's')\n",
    "    \n",
    "    images_h, labels_h = next_batch(len(X_test), X_test, y_test)\n",
    "    loss_test, accuracy_test = sess.run([elbo_loss, accuracy], \n",
    "                                          feed_dict = {images: images_h,\n",
    "                                                       labels: labels_h, \n",
    "                                                       hold_prob: 0.5})\n",
    "    \n",
    "    print('Test loss: ' + str(loss_test) + ' and test Accuracy: ' + str(accuracy_test))"
   ]
  },
  {
   "cell_type": "markdown",
   "metadata": {},
   "source": [
    "## Bayesian Siamese Neural Network\n",
    "\n",
    "### Titanic\n",
    "\n",
    "#### PyMC3\n",
    "\n",
    "This has been new territory for me and I was lucky that our lab prof. - Andrei Ilie - was kind enough to give us a brief overview regarding what a siamese network is and how it's supposed to work. Starting from his dissemination, I build up a shallow understanding of this model from the following sources:\n",
    "\n",
    "1. $\\href{https://towardsdatascience.com/one-shot-learning-with-siamese-networks-using-keras-17f34e75bb3d}{One-Shot \\ Learning \\ with \\ Siamese \\ Networks}$ (Medium web article)\n",
    "\n",
    "2. $\\href{https://becominghuman.ai/siamese-networks-algorithm-applications-and-pytorch-implementation-4ffa3304c18}{Siamese \\ Networks: \\ Algorithm, \\ Applications \\ And \\ PyTorch \\ Implementation}$\n",
    "\n",
    "3. $\\href{https://www.cs.cmu.edu/~rsalakhu/papers/oneshot1.pdf}{Siamese \\ Neural \\ Networks \\ for \\ One-shot \\ Image \\ Recognition; \\ Gregory Koch, \\ Richard Zemel, \\ Ruslan Salakhutdinov}$\n",
    "\n",
    "4. $\\href{https://medium.com/@prabhnoor0212/siamese-network-keras-31a3a8f37d04}{Siamese \\ Network \\ Keras \\ for Image \\ and \\ Text \\ Similarity}$\n",
    "\n",
    "After reading all of these it seemed only natural to me to approach this problem from PyMC's perspective. After all, the duplicated architecture means with shared weights translated into a single set of weights which are samples and two branches of calculations.\n",
    "\n",
    "Compared to the BNN presented at the very beginning of this project, I have made the following changes:\n",
    "\n",
    "1. Created 5 imputs: 2 for the train samples, 2 for the train labels and 1 for the similarity. In this case, the similarity is either 1 or 0, depending on the survival of both samples.\n",
    "\n",
    "2. I have created a $2^{nd}$ set of activations, as well as a $2^{nd}$ Bernoulli output.\n",
    "\n",
    "3. I have taken the absolute of the difference betweent the the Bernoullis and, after applying another set of weights and a softmax actiaviton on the result, I have fed this to a third Bernoulli. This last variable represents the similarity outcome computed by the network.\n",
    "\n",
    "Unfortunately, I have run into technical problems with Theano, namely the fact that it does not care to accept *numpy.float64* as input for its symbolic *floatX*, even though under the hood the two point to the same thing. I have decided to keep the architecture as I am pretty certain of the modelling itself. In order to somewhat prove my belief, I have modeled a mock-up instance-based BSNN in order to show that the modelling is done correctly and that the output of the last distribution is integral to what we need. ***Note:*** I say instance-based because it can only be trained.\n",
    "\n",
    "I have defined below a couple of utility function in order to restructure the data so it can be properly fed to the model."
   ]
  },
  {
   "cell_type": "code",
   "execution_count": 56,
   "metadata": {},
   "outputs": [],
   "source": [
    "def pack_data(X_data, y_data, split1, split2):\n",
    "    xt = pd.DataFrame({'Pclass1': X_data[:split1]['Pclass'].values,\n",
    "                       'Sex1': X_data[:split1]['Sex'].values,\n",
    "                       'Age1': X_data[:split1]['Age'].values,\n",
    "                       'Parch1': X_data[:split1]['Parch'].values,\n",
    "                       'Fare1': X_data[:split1]['Fare'].values,\n",
    "                       'Embarked1': X_data[:split1]['Embarked'].values,\n",
    "                       'Has_Cabin1': X_data[:split1]['Has_Cabin'].values,\n",
    "                       'FamilySize1': X_data[:split1]['FamilySize'].values,\n",
    "                       'IsAlone1': X_data[:split1]['IsAlone'].values,\n",
    "                       'Title1': X_data[:split1]['Title'].values,\n",
    "                       'Pclass2': X_data[split2:]['Pclass'].values,\n",
    "                       'Sex2': X_data[split2:]['Sex'].values,\n",
    "                       'Age2': X_data[split2:]['Age'].values,\n",
    "                       'Parch2': X_data[split2:]['Parch'].values,\n",
    "                       'Fare2': X_data[split2:]['Fare'].values,\n",
    "                       'Embarked2': X_data[split2:]['Embarked'].values,\n",
    "                       'Has_Cabin2': X_data[split2:]['Has_Cabin'].values,\n",
    "                       'FamilySize2': X_data[split2:]['FamilySize'].values,\n",
    "                       'IsAlone2': X_data[split2:]['IsAlone'].values,\n",
    "                       'Title2': X_data[split2:]['Title'].values})\n",
    "    \n",
    "    yt = []\n",
    "    \n",
    "    for class1, class2 in zip(y_data[:split1], y_data[split2:]):\n",
    "        yt.append((class1, class2, class1 == class2))\n",
    "        \n",
    "    return xt, yt\n",
    "\n",
    "def unpack_data(X_packed, y_packed):\n",
    "    X_unpacked1 = X_packed[[col for col in X_packed.columns if \"1\" in col]]\n",
    "    X_unpacked2 = X_packed[[col for col in X_packed.columns if \"2\" in col]]\n",
    "    \n",
    "    y_unpacked1, y_unpacked2, similarity = [], [], []\n",
    "    for tupled_row in y_packed:\n",
    "        y_unpacked1.append(tupled_row[0])\n",
    "        y_unpacked2.append(tupled_row[1])\n",
    "        similarity.append(tupled_row[0] == tupled_row[1])\n",
    "        \n",
    "    return X_unpacked1, X_unpacked2, y_unpacked1, y_unpacked2, similarity"
   ]
  },
  {
   "cell_type": "markdown",
   "metadata": {},
   "source": [
    "Pack the data in order to form pairs of samples."
   ]
  },
  {
   "cell_type": "code",
   "execution_count": 57,
   "metadata": {},
   "outputs": [],
   "source": [
    "X_train_packed, y_train_packed = pack_data(X_train, y_train, 445, 446)\n",
    "\n",
    "X_test_packed, y_test_packed = pack_data(X_test, y_test, 209, 209)"
   ]
  },
  {
   "cell_type": "markdown",
   "metadata": {},
   "source": [
    "Unpack data in order for it to have the proper structure for our first network."
   ]
  },
  {
   "cell_type": "code",
   "execution_count": 58,
   "metadata": {},
   "outputs": [],
   "source": [
    "x1, x2, y1, y2, s = unpack_data(X_train_packed, y_train_packed)"
   ]
  },
  {
   "cell_type": "code",
   "execution_count": 59,
   "metadata": {},
   "outputs": [],
   "source": [
    "def construct_bsnn(bnn_input1,\n",
    "                   bnn_input2,\n",
    "                   bnn_output1,\n",
    "                   bnn_output2,\n",
    "                   similarity,\n",
    "                   hidden_layer1 = 16, \n",
    "                   hidden_layer2 = 8):\n",
    "    \n",
    "    init_1 = np.random.randn(bnn_input1.shape[1], hidden_layer1).astype(theano.config.floatX)\n",
    "    init_2 = np.random.randn(hidden_layer1, hidden_layer2).astype(theano.config.floatX)\n",
    "    init_out = np.random.randn(hidden_layer2).astype(theano.config.floatX)\n",
    "\n",
    "    with pm.Model() as neural_network:\n",
    "        ann_input1 = pm.Data('bnn_input1', bnn_input1)\n",
    "        ann_input2 = pm.Data('bnn_input2', bnn_input2)\n",
    "        ann_output1 = pm.Data('bnn_output', bnn_output1)\n",
    "        ann_output2 = pm.Data('bnn_output2', bnn_output2)\n",
    "        ann_similarity = pm.Data('similarity', similarity)\n",
    "        \n",
    "        bias1 = pm.Normal('bias1', 0, 1, shape = (2, ))\n",
    "        \n",
    "        weights_in = pm.Normal('w_in', 0, 1,\n",
    "                                shape = (bnn_input1.shape[1], hidden_layer1),\n",
    "                                testval = init_1)\n",
    "\n",
    "        weights_12 = pm.Normal('w_12', 0, 1,\n",
    "                                shape = (hidden_layer1, hidden_layer2),\n",
    "                                testval = init_2)\n",
    "        \n",
    "        weights_out = pm.Normal('w_out', 0, 1,\n",
    "                                  shape = (hidden_layer2,),\n",
    "                                  testval = init_out)\n",
    "\n",
    "        act1_1 = pm.math.tanh(pm.math.dot(ann_input1,\n",
    "                                         weights_in) + bias1[0])\n",
    "        \n",
    "        act1_2 = pm.math.tanh(pm.math.dot(act1_1,\n",
    "                                         weights_12) + bias1[1])\n",
    "\n",
    "        act1_out = pm.math.sigmoid(pm.math.dot(act1_2,\n",
    "                                              weights_out))\n",
    "\n",
    "        out1 = pm.Bernoulli('out1',\n",
    "                            act1_out,\n",
    "                            observed = ann_output1,\n",
    "                            total_size = len(bnn_output1))\n",
    "    \n",
    "        bias2 = pm.Normal('bias2', 0, 1, shape = (2, ))\n",
    "        \n",
    "        act2_1 = pm.math.tanh(pm.math.dot(ann_input2,\n",
    "                                 weights_in) + bias2[0])\n",
    "        \n",
    "        act2_2 = pm.math.tanh(pm.math.dot(act2_1,\n",
    "                                         weights_12) + bias2[1])\n",
    "\n",
    "        act2_out = pm.math.sigmoid(pm.math.dot(act2_2,\n",
    "                                              weights_out))\n",
    "        \n",
    "        out2 = pm.Bernoulli('out2',\n",
    "                            act2_out,\n",
    "                            observed = ann_output2,\n",
    "                            total_size = len(bnn_output2))\n",
    "\n",
    "        last_layer = pm.Normal('last_layer', 0, 1, total_size = len(bnn_output2))\n",
    "                                  \n",
    "        act_out = pm.math.sigmoid(\n",
    "            pm.math.dot(\n",
    "                pm.math.abs_(out1.distribution.p - out2.distribution.p), last_layer))\n",
    "        \n",
    "        final_output = pm.Bernoulli('final_output', \n",
    "                                    act_out, \n",
    "                                    observed = ann_similarity, \n",
    "                                    total_size = len(bnn_output2))\n",
    "\n",
    "    return neural_network"
   ]
  },
  {
   "cell_type": "code",
   "execution_count": 60,
   "metadata": {},
   "outputs": [],
   "source": [
    "bsnn = construct_bsnn(x1, x2, y1, y2, s)"
   ]
  },
  {
   "cell_type": "code",
   "execution_count": 61,
   "metadata": {},
   "outputs": [],
   "source": [
    "set_tt_rng(MRG_RandomStreams(42))"
   ]
  },
  {
   "cell_type": "code",
   "execution_count": 62,
   "metadata": {},
   "outputs": [
    {
     "name": "stderr",
     "output_type": "stream",
     "text": [
      "Average Loss = 3.0258: 100%|██████████| 30000/30000 [00:43<00:00, 687.64it/s]\n",
      "Finished [100%]: Average Loss = 3.0249\n"
     ]
    }
   ],
   "source": [
    "with bsnn:\n",
    "    inference = pm.ADVI()\n",
    "    approx = pm.fit(n = 30000, method = inference)"
   ]
  },
  {
   "cell_type": "code",
   "execution_count": 63,
   "metadata": {},
   "outputs": [
    {
     "data": {
      "text/plain": [
       "Text(0.5, 0, 'iteration')"
      ]
     },
     "execution_count": 63,
     "metadata": {},
     "output_type": "execute_result"
    },
    {
     "data": {
      "image/png": "[encoded data removed]",
      "text/plain": [
       "<Figure size 432x288 with 1 Axes>"
      ]
     },
     "metadata": {
      "needs_background": "light"
     },
     "output_type": "display_data"
    }
   ],
   "source": [
    "plt.plot(-inference.hist, label='new ADVI', alpha=.3)\n",
    "plt.plot(approx.hist, label='old ADVI', alpha=.3)\n",
    "plt.legend()\n",
    "plt.ylabel('ELBO')\n",
    "plt.xlabel('iteration')"
   ]
  },
  {
   "cell_type": "code",
   "execution_count": 64,
   "metadata": {},
   "outputs": [],
   "source": [
    "trace = approx.sample(draws = 15000)"
   ]
  },
  {
   "cell_type": "code",
   "execution_count": 65,
   "metadata": {},
   "outputs": [],
   "source": [
    "xt1, xt2, yt1, yt2, st = unpack_data(X_test_packed, y_test_packed)"
   ]
  },
  {
   "cell_type": "code",
   "execution_count": 66,
   "metadata": {},
   "outputs": [],
   "source": [
    "x_symb1 = T.matrix('X1')\n",
    "x_symb2 = T.matrix('X2')\n",
    "n = T.iscalar('n')\n",
    "x_symb1.tag.test_value = np.empty_like(xt1[:10])\n",
    "x_symb2.tag.test_value = np.empty_like(xt2[:10])\n",
    "n.tag.test_value = 100\n",
    "\n",
    "_sample_proba_nn = approx.sample_node(bsnn.final_output.distribution.p,\n",
    "                                      size = n,\n",
    "                                      more_replacements = {bsnn['bnn_input1']: x_symb1, \n",
    "                                                           bsnn['bnn_input2']: x_symb2})"
   ]
  },
  {
   "cell_type": "code",
   "execution_count": 67,
   "metadata": {
    "scrolled": true
   },
   "outputs": [
    {
     "name": "stderr",
     "output_type": "stream",
     "text": [
      "/home/matei/anaconda3/envs/progprob3/lib/python3.7/site-packages/theano/scan_module/scan_perform_ext.py:76: UserWarning: The file scan_perform.c is not available. This donot happen normally. You are probably in a strangesetup. This mean Theano can not use the cython code for scan. If youwant to remove this warning, use the Theano flag'cxx=' (set to an empty string) to disable all ccode generation.\n",
      "  \"The file scan_perform.c is not available. This do\"\n"
     ]
    }
   ],
   "source": [
    "sample_proba = theano.function([x_symb1, x_symb2, n], _sample_proba_nn)"
   ]
  },
  {
   "cell_type": "code",
   "execution_count": 69,
   "metadata": {
    "scrolled": true
   },
   "outputs": [
    {
     "ename": "AttributeError",
     "evalue": "Bad input argument to theano function with name \"<ipython-input-67-f8b0a954c716>:1\" at index 0 (0-based).  \nBacktrace when that variable is created:\n\n  File \"/home/matei/anaconda3/envs/progprob3/lib/python3.7/site-packages/ipykernel/zmqshell.py\", line 536, in run_cell\n    return super(ZMQInteractiveShell, self).run_cell(*args, **kwargs)\n  File \"/home/matei/anaconda3/envs/progprob3/lib/python3.7/site-packages/IPython/core/interactiveshell.py\", line 2848, in run_cell\n    raw_cell, store_history, silent, shell_futures)\n  File \"/home/matei/anaconda3/envs/progprob3/lib/python3.7/site-packages/IPython/core/interactiveshell.py\", line 2874, in _run_cell\n    return runner(coro)\n  File \"/home/matei/anaconda3/envs/progprob3/lib/python3.7/site-packages/IPython/core/async_helpers.py\", line 68, in _pseudo_sync_runner\n    coro.send(None)\n  File \"/home/matei/anaconda3/envs/progprob3/lib/python3.7/site-packages/IPython/core/interactiveshell.py\", line 3051, in run_cell_async\n    interactivity=interactivity, compiler=compiler, result=result)\n  File \"/home/matei/anaconda3/envs/progprob3/lib/python3.7/site-packages/IPython/core/interactiveshell.py\", line 3242, in run_ast_nodes\n    if (await self.run_code(code, result,  async_=asy)):\n  File \"/home/matei/anaconda3/envs/progprob3/lib/python3.7/site-packages/IPython/core/interactiveshell.py\", line 3319, in run_code\n    exec(code_obj, self.user_global_ns, self.user_ns)\n  File \"<ipython-input-66-7ccabfe7d635>\", line 1, in <module>\n    x_symb1 = T.matrix('X1')\n'float' object has no attribute 'dtype'",
     "output_type": "error",
     "traceback": [
      "\u001b[0;31m---------------------------------------------------------------------------\u001b[0m",
      "\u001b[0;31mAttributeError\u001b[0m                            Traceback (most recent call last)",
      "\u001b[0;32m<ipython-input-69-03ca6f3c9716>\u001b[0m in \u001b[0;36m<module>\u001b[0;34m\u001b[0m\n\u001b[1;32m      2\u001b[0m \u001b[0msample_input\u001b[0m\u001b[0;34m[\u001b[0m\u001b[0;34m:\u001b[0m\u001b[0;34m]\u001b[0m \u001b[0;34m=\u001b[0m \u001b[0;34m[\u001b[0m\u001b[0mxt1\u001b[0m\u001b[0;34m.\u001b[0m\u001b[0mto_numpy\u001b[0m\u001b[0;34m(\u001b[0m\u001b[0;34m)\u001b[0m\u001b[0;34m.\u001b[0m\u001b[0mastype\u001b[0m\u001b[0;34m(\u001b[0m\u001b[0mtheano\u001b[0m\u001b[0;34m.\u001b[0m\u001b[0mconfig\u001b[0m\u001b[0;34m.\u001b[0m\u001b[0mfloatX\u001b[0m\u001b[0;34m)\u001b[0m\u001b[0;34m,\u001b[0m \u001b[0mxt2\u001b[0m\u001b[0;34m.\u001b[0m\u001b[0mto_numpy\u001b[0m\u001b[0;34m(\u001b[0m\u001b[0;34m)\u001b[0m\u001b[0;34m.\u001b[0m\u001b[0mastype\u001b[0m\u001b[0;34m(\u001b[0m\u001b[0mtheano\u001b[0m\u001b[0;34m.\u001b[0m\u001b[0mconfig\u001b[0m\u001b[0;34m.\u001b[0m\u001b[0mfloatX\u001b[0m\u001b[0;34m)\u001b[0m\u001b[0;34m]\u001b[0m\u001b[0;34m\u001b[0m\u001b[0;34m\u001b[0m\u001b[0m\n\u001b[1;32m      3\u001b[0m \u001b[0;34m\u001b[0m\u001b[0m\n\u001b[0;32m----> 4\u001b[0;31m \u001b[0mpred\u001b[0m \u001b[0;34m=\u001b[0m \u001b[0msample_proba\u001b[0m\u001b[0;34m(\u001b[0m\u001b[0msample_input\u001b[0m\u001b[0;34m,\u001b[0m \u001b[0;36m15000\u001b[0m\u001b[0;34m)\u001b[0m\u001b[0;34m\u001b[0m\u001b[0;34m\u001b[0m\u001b[0m\n\u001b[0m",
      "\u001b[0;32m~/anaconda3/envs/progprob3/lib/python3.7/site-packages/theano/compile/function_module.py\u001b[0m in \u001b[0;36m__call__\u001b[0;34m(self, *args, **kwargs)\u001b[0m\n\u001b[1;32m    811\u001b[0m                         s.storage[0] = s.type.filter(\n\u001b[1;32m    812\u001b[0m                             \u001b[0marg\u001b[0m\u001b[0;34m,\u001b[0m \u001b[0mstrict\u001b[0m\u001b[0;34m=\u001b[0m\u001b[0ms\u001b[0m\u001b[0;34m.\u001b[0m\u001b[0mstrict\u001b[0m\u001b[0;34m,\u001b[0m\u001b[0;34m\u001b[0m\u001b[0;34m\u001b[0m\u001b[0m\n\u001b[0;32m--> 813\u001b[0;31m                             allow_downcast=s.allow_downcast)\n\u001b[0m\u001b[1;32m    814\u001b[0m \u001b[0;34m\u001b[0m\u001b[0m\n\u001b[1;32m    815\u001b[0m                     \u001b[0;32mexcept\u001b[0m \u001b[0mException\u001b[0m \u001b[0;32mas\u001b[0m \u001b[0me\u001b[0m\u001b[0;34m:\u001b[0m\u001b[0;34m\u001b[0m\u001b[0;34m\u001b[0m\u001b[0m\n",
      "\u001b[0;32m~/anaconda3/envs/progprob3/lib/python3.7/site-packages/theano/tensor/type.py\u001b[0m in \u001b[0;36mfilter\u001b[0;34m(self, data, strict, allow_downcast)\u001b[0m\n\u001b[1;32m    122\u001b[0m                     \u001b[0;31m# Check if self.dtype can accurately represent data\u001b[0m\u001b[0;34m\u001b[0m\u001b[0;34m\u001b[0m\u001b[0;34m\u001b[0m\u001b[0m\n\u001b[1;32m    123\u001b[0m                     \u001b[0;31m# (do not try to convert the data)\u001b[0m\u001b[0;34m\u001b[0m\u001b[0;34m\u001b[0m\u001b[0;34m\u001b[0m\u001b[0m\n\u001b[0;32m--> 124\u001b[0;31m                     \u001b[0mup_dtype\u001b[0m \u001b[0;34m=\u001b[0m \u001b[0mscal\u001b[0m\u001b[0;34m.\u001b[0m\u001b[0mupcast\u001b[0m\u001b[0;34m(\u001b[0m\u001b[0mself\u001b[0m\u001b[0;34m.\u001b[0m\u001b[0mdtype\u001b[0m\u001b[0;34m,\u001b[0m \u001b[0mdata\u001b[0m\u001b[0;34m.\u001b[0m\u001b[0mdtype\u001b[0m\u001b[0;34m)\u001b[0m\u001b[0;34m\u001b[0m\u001b[0;34m\u001b[0m\u001b[0m\n\u001b[0m\u001b[1;32m    125\u001b[0m                     \u001b[0;32mif\u001b[0m \u001b[0mup_dtype\u001b[0m \u001b[0;34m==\u001b[0m \u001b[0mself\u001b[0m\u001b[0;34m.\u001b[0m\u001b[0mdtype\u001b[0m\u001b[0;34m:\u001b[0m\u001b[0;34m\u001b[0m\u001b[0;34m\u001b[0m\u001b[0m\n\u001b[1;32m    126\u001b[0m                         \u001b[0;31m# Bug in the following line when data is a\u001b[0m\u001b[0;34m\u001b[0m\u001b[0;34m\u001b[0m\u001b[0;34m\u001b[0m\u001b[0m\n",
      "\u001b[0;32m~/anaconda3/envs/progprob3/lib/python3.7/site-packages/theano/scalar/basic.py\u001b[0m in \u001b[0;36mupcast\u001b[0;34m(dtype, *dtypes)\u001b[0m\n\u001b[1;32m     77\u001b[0m     \u001b[0;32mfor\u001b[0m \u001b[0mdt\u001b[0m \u001b[0;32min\u001b[0m \u001b[0mdtypes\u001b[0m\u001b[0;34m:\u001b[0m\u001b[0;34m\u001b[0m\u001b[0;34m\u001b[0m\u001b[0m\n\u001b[1;32m     78\u001b[0m         \u001b[0mz\u001b[0m \u001b[0;34m=\u001b[0m \u001b[0mz\u001b[0m \u001b[0;34m+\u001b[0m \u001b[0mmake_array\u001b[0m\u001b[0;34m(\u001b[0m\u001b[0mdt\u001b[0m\u001b[0;34m=\u001b[0m\u001b[0mdt\u001b[0m\u001b[0;34m)\u001b[0m\u001b[0;34m\u001b[0m\u001b[0;34m\u001b[0m\u001b[0m\n\u001b[0;32m---> 79\u001b[0;31m     \u001b[0mrval\u001b[0m \u001b[0;34m=\u001b[0m \u001b[0mstr\u001b[0m\u001b[0;34m(\u001b[0m\u001b[0mz\u001b[0m\u001b[0;34m.\u001b[0m\u001b[0mdtype\u001b[0m\u001b[0;34m)\u001b[0m\u001b[0;34m\u001b[0m\u001b[0;34m\u001b[0m\u001b[0m\n\u001b[0m\u001b[1;32m     80\u001b[0m     \u001b[0;32mif\u001b[0m \u001b[0mrval\u001b[0m \u001b[0;34m==\u001b[0m \u001b[0;34m'float64'\u001b[0m\u001b[0;34m:\u001b[0m\u001b[0;34m\u001b[0m\u001b[0;34m\u001b[0m\u001b[0m\n\u001b[1;32m     81\u001b[0m         \u001b[0;32mif\u001b[0m \u001b[0mkeep_float16\u001b[0m\u001b[0;34m[\u001b[0m\u001b[0;36m0\u001b[0m\u001b[0;34m]\u001b[0m\u001b[0;34m:\u001b[0m\u001b[0;34m\u001b[0m\u001b[0;34m\u001b[0m\u001b[0m\n",
      "\u001b[0;31mAttributeError\u001b[0m: Bad input argument to theano function with name \"<ipython-input-67-f8b0a954c716>:1\" at index 0 (0-based).  \nBacktrace when that variable is created:\n\n  File \"/home/matei/anaconda3/envs/progprob3/lib/python3.7/site-packages/ipykernel/zmqshell.py\", line 536, in run_cell\n    return super(ZMQInteractiveShell, self).run_cell(*args, **kwargs)\n  File \"/home/matei/anaconda3/envs/progprob3/lib/python3.7/site-packages/IPython/core/interactiveshell.py\", line 2848, in run_cell\n    raw_cell, store_history, silent, shell_futures)\n  File \"/home/matei/anaconda3/envs/progprob3/lib/python3.7/site-packages/IPython/core/interactiveshell.py\", line 2874, in _run_cell\n    return runner(coro)\n  File \"/home/matei/anaconda3/envs/progprob3/lib/python3.7/site-packages/IPython/core/async_helpers.py\", line 68, in _pseudo_sync_runner\n    coro.send(None)\n  File \"/home/matei/anaconda3/envs/progprob3/lib/python3.7/site-packages/IPython/core/interactiveshell.py\", line 3051, in run_cell_async\n    interactivity=interactivity, compiler=compiler, result=result)\n  File \"/home/matei/anaconda3/envs/progprob3/lib/python3.7/site-packages/IPython/core/interactiveshell.py\", line 3242, in run_ast_nodes\n    if (await self.run_code(code, result,  async_=asy)):\n  File \"/home/matei/anaconda3/envs/progprob3/lib/python3.7/site-packages/IPython/core/interactiveshell.py\", line 3319, in run_code\n    exec(code_obj, self.user_global_ns, self.user_ns)\n  File \"<ipython-input-66-7ccabfe7d635>\", line 1, in <module>\n    x_symb1 = T.matrix('X1')\n'float' object has no attribute 'dtype'"
     ]
    }
   ],
   "source": [
    "sample_input = np.empty(2, dtype = object)\n",
    "sample_input[:] = [xt1.to_numpy().astype(theano.config.floatX), xt2.to_numpy().astype(theano.config.floatX)]\n",
    "\n",
    "pred = sample_proba(sample_input, 15000)"
   ]
  },
  {
   "cell_type": "markdown",
   "metadata": {},
   "source": [
    "As outputs are either 0.5 for a survival, or below in case of death, this time we set an inclusive threshold of 0.5."
   ]
  },
  {
   "cell_type": "code",
   "execution_count": 366,
   "metadata": {},
   "outputs": [],
   "source": [
    "pred = sample_nn.mean(0) >= 0.5"
   ]
  },
  {
   "cell_type": "code",
   "execution_count": null,
   "metadata": {},
   "outputs": [],
   "source": [
    "accuracy_nn = (y_test1['Survived'].tolist() == pred1).mean(0) * 100\n",
    "precision_nn, recall_nn1, fscore_nn1, support_nn1 = score(y_test1['Survived'], pred1)"
   ]
  },
  {
   "cell_type": "code",
   "execution_count": null,
   "metadata": {},
   "outputs": [],
   "source": [
    "print('Accuracy: {} {}'.format(accuracy_nn))\n",
    "print('Precision: {} {}'.format(precision_nn))\n",
    "print('Recall: {} {}'.format(recall_nn))\n",
    "print('F-Score: {} {}'.format(fscore_nn))\n",
    "print('Support: {} {}'.format(support_nn))"
   ]
  },
  {
   "cell_type": "markdown",
   "metadata": {},
   "source": [
    "### Mock-up Instance-based BSNN\n",
    "\n",
    "Define the mock-up BSNN contruction function. Note that it only has one input and 1 output, for each packed data strucure. The data is unpacked internally and used in the modelling process. This, however, leaves Theano in the dark about where to start the computation graph, as the shared *Data* variable is not used in neither branches' activation functions."
   ]
  },
  {
   "cell_type": "code",
   "execution_count": 87,
   "metadata": {},
   "outputs": [],
   "source": [
    "def construct_bsnn(bnn_input,\n",
    "                   bnn_output,\n",
    "                   hidden_layer1 = 16, \n",
    "                   hidden_layer2 = 8):\n",
    "    \n",
    "    bnn_input1, bnn_input2, bnn_output1, bnn_output2, similarity = unpack_data(bnn_input, bnn_output)\n",
    "\n",
    "    init_1 = np.random.randn(bnn_input1.shape[1], hidden_layer1).astype(theano.config.floatX)\n",
    "    init_2 = np.random.randn(hidden_layer1, hidden_layer2).astype(theano.config.floatX)\n",
    "    init_out = np.random.randn(hidden_layer2).astype(theano.config.floatX)\n",
    "\n",
    "    with pm.Model() as neural_network:\n",
    "        nn_input = pm.Data('nn_input', bnn_input)\n",
    "        nn_output = pm.Data('nn_output', bnn_output)\n",
    "        \n",
    "        bias1 = pm.Normal('bias1', 0, 1, shape = (2, ))\n",
    "        \n",
    "        weights_in = pm.Normal('w_in', 0, 1,\n",
    "                                shape = (bnn_input1.shape[1], hidden_layer1),\n",
    "                                testval = init_1)\n",
    "\n",
    "        weights_12 = pm.Normal('w_12', 0, 1,\n",
    "                                shape = (hidden_layer1, hidden_layer2),\n",
    "                                testval = init_2)\n",
    "        \n",
    "        weights_out = pm.Normal('w_out', 0, 1,\n",
    "                                  shape = (hidden_layer2,),\n",
    "                                  testval = init_out)\n",
    "\n",
    "        act1_1 = pm.math.tanh(pm.math.dot(bnn_input1,\n",
    "                                         weights_in) + bias1[0])\n",
    "        \n",
    "        act1_2 = pm.math.tanh(pm.math.dot(act1_1,\n",
    "                                         weights_12) + bias1[1])\n",
    "\n",
    "        act1_out = pm.math.sigmoid(pm.math.dot(act1_2,\n",
    "                                              weights_out))\n",
    "\n",
    "        out1 = pm.Bernoulli('out1',\n",
    "                            act1_out,\n",
    "                            observed = bnn_output1,\n",
    "                            total_size = len(bnn_output1))\n",
    "    \n",
    "        bias2 = pm.Normal('bias2', 0, 1, shape = (2, ))\n",
    "        \n",
    "        act2_1 = pm.math.tanh(pm.math.dot(bnn_input2,\n",
    "                                 weights_in) + bias2[0])\n",
    "        \n",
    "        act2_2 = pm.math.tanh(pm.math.dot(act2_1,\n",
    "                                         weights_12) + bias2[1])\n",
    "\n",
    "        act2_out = pm.math.sigmoid(pm.math.dot(act2_2,\n",
    "                                              weights_out))\n",
    "        \n",
    "        out2 = pm.Bernoulli('out2',\n",
    "                            act2_out,\n",
    "                            observed = bnn_output2,\n",
    "                            total_size = len(bnn_output2))\n",
    "\n",
    "        last_layer = pm.Normal('last_layer', 0, 1, total_size = len(similarity))\n",
    "                                  \n",
    "        act_out = pm.math.sigmoid(\n",
    "            pm.math.dot(\n",
    "                pm.math.abs_(out1 - out2), last_layer))\n",
    "        \n",
    "        final_output = pm.Bernoulli('final_output', \n",
    "                                    act_out, \n",
    "                                    observed = similarity, \n",
    "                                    total_size = len(similarity))\n",
    "        \n",
    "    return neural_network"
   ]
  },
  {
   "cell_type": "code",
   "execution_count": 88,
   "metadata": {},
   "outputs": [],
   "source": [
    "bsnn = construct_bsnn(X_train_packed, y_train_packed)"
   ]
  },
  {
   "cell_type": "code",
   "execution_count": 89,
   "metadata": {},
   "outputs": [],
   "source": [
    "set_tt_rng(MRG_RandomStreams(42))"
   ]
  },
  {
   "cell_type": "code",
   "execution_count": 90,
   "metadata": {},
   "outputs": [
    {
     "name": "stderr",
     "output_type": "stream",
     "text": [
      "Average Loss = 3.0719: 100%|██████████| 30000/30000 [00:45<00:00, 656.09it/s]\n",
      "Finished [100%]: Average Loss = 3.0721\n"
     ]
    }
   ],
   "source": [
    "with bsnn:\n",
    "    inference = pm.ADVI()\n",
    "    approx = pm.fit(n = 30000, method = inference)"
   ]
  },
  {
   "cell_type": "code",
   "execution_count": 91,
   "metadata": {},
   "outputs": [
    {
     "data": {
      "text/plain": [
       "Text(0.5, 0, 'iteration')"
      ]
     },
     "execution_count": 91,
     "metadata": {},
     "output_type": "execute_result"
    },
    {
     "data": {
      "image/png": "[encoded data removed]",
      "text/plain": [
       "<Figure size 432x288 with 1 Axes>"
      ]
     },
     "metadata": {
      "needs_background": "light"
     },
     "output_type": "display_data"
    }
   ],
   "source": [
    "plt.plot(-inference.hist, label='new ADVI', alpha=.3)\n",
    "plt.plot(approx.hist, label='old ADVI', alpha=.3)\n",
    "plt.legend()\n",
    "plt.ylabel('ELBO')\n",
    "plt.xlabel('iteration')"
   ]
  },
  {
   "cell_type": "code",
   "execution_count": 92,
   "metadata": {},
   "outputs": [],
   "source": [
    "x = T.matrix('X')\n",
    "n = T.iscalar('n')\n",
    "x.tag.test_value = np.empty_like(X_test_packed[:10])\n",
    "n.tag.test_value = 100\n",
    "\n",
    "_sample_proba_nn = approx.sample_node(bsnn.final_output.distribution.p,\n",
    "                                      size = n,\n",
    "                                      more_replacements = {bsnn['nn_input']: x})"
   ]
  },
  {
   "cell_type": "markdown",
   "metadata": {},
   "source": [
    "The `on_unused_input='ignore'` is necessary here so Theano won't throw a fit due to the fact we're not using our shared variables in its graph. "
   ]
  },
  {
   "cell_type": "code",
   "execution_count": 93,
   "metadata": {},
   "outputs": [
    {
     "name": "stderr",
     "output_type": "stream",
     "text": [
      "/home/matei/anaconda3/envs/progprob3/lib/python3.7/site-packages/theano/scan_module/scan_perform_ext.py:76: UserWarning: The file scan_perform.c is not available. This donot happen normally. You are probably in a strangesetup. This mean Theano can not use the cython code for scan. If youwant to remove this warning, use the Theano flag'cxx=' (set to an empty string) to disable all ccode generation.\n",
      "  \"The file scan_perform.c is not available. This do\"\n"
     ]
    }
   ],
   "source": [
    "sample_proba = theano.function([x, n], _sample_proba_nn, on_unused_input='ignore')"
   ]
  },
  {
   "cell_type": "code",
   "execution_count": 94,
   "metadata": {},
   "outputs": [],
   "source": [
    "pred = sample_proba(X_test_packed, 15000).mean(0)"
   ]
  },
  {
   "cell_type": "markdown",
   "metadata": {},
   "source": [
    "As one may observe, the output shape matches the input shape regardless of predictin on new data. "
   ]
  },
  {
   "cell_type": "code",
   "execution_count": 95,
   "metadata": {},
   "outputs": [
    {
     "data": {
      "text/plain": [
       "(445,)"
      ]
     },
     "execution_count": 95,
     "metadata": {},
     "output_type": "execute_result"
    }
   ],
   "source": [
    "pred.shape"
   ]
  },
  {
   "cell_type": "code",
   "execution_count": 104,
   "metadata": {},
   "outputs": [],
   "source": [
    "pred_fin = [1 if p >= 0.5 else 0 for p in pred]\n",
    "\n",
    "X_test1, X_test2, y_test1, y_test2, similarity_test = unpack_data(X_test_packed, y_test_packed)"
   ]
  },
  {
   "cell_type": "markdown",
   "metadata": {},
   "source": [
    "## Bayesian Hierarchical Neural Network\n",
    "\n",
    "### sk-learn Moons\n",
    "\n",
    "#### PyMC3\n",
    "\n",
    "The concept of hierarchical networks is something I've stumbled upon as I've read on different concepts for this projects.\n",
    "\n",
    "**Disclaimer:** What you will see below is not my work, but the work of Thomas Wiecki. The code is taken form his $\\href{https://twiecki.io/blog/2018/08/13/hierarchical_bayesian_neural_network/}{blog \\ post}$ on the matter of Bayesian Hierarchical Neural Networks. All I wanted to do was too go through with his explanations by testing out his code. All of the comments below represent ***his insights*** on this subejct. I've copied them here - and sometimes reworded them - just so I can have a top-down continuous explanation of how this BHNN behaves.\n",
    "\n",
    "As far as I understood, HNN's are models that perform well under the premise of nested or \"hierarchical\" data. Thomas' example offers helps build a bit of intuition over this subject: predicting the likelihood of a user to buy a product. There could be thousands of products but you only have a small number of measurements - purchase decisions - per item. Likely, there will be similarities between each product category, but they will all have individual differences too."
   ]
  },
  {
   "cell_type": "code",
   "execution_count": 2,
   "metadata": {},
   "outputs": [
    {
     "data": {
      "image/png": "[encoded data removed]",
      "text/plain": [
       "<Figure size 432x288 with 1 Axes>"
      ]
     },
     "metadata": {
      "needs_background": "light"
     },
     "output_type": "display_data"
    }
   ],
   "source": [
    "X, Y = make_moons(noise = 0.35, n_samples=1000)\n",
    "plt.scatter(X[Y == 0, 0], X[Y == 0, 1], label = 'Class 0')\n",
    "plt.scatter(X[Y == 1, 0], X[Y == 1, 1], color = 'r', label = 'Class 1')\n",
    "sns.despine(); \n",
    "plt.legend();"
   ]
  },
  {
   "cell_type": "code",
   "execution_count": 2,
   "metadata": {},
   "outputs": [
    {
     "data": {
      "image/png": "[encoded data removed]",
      "text/plain": [
       "<IPython.core.display.Image object>"
      ]
     },
     "execution_count": 2,
     "metadata": {},
     "output_type": "execute_result"
    }
   ],
   "source": [
    "Image(filename='bhnn.png')"
   ]
  },
  {
   "cell_type": "markdown",
   "metadata": {},
   "source": [
    "In the picture above, each individual weight has its own hierarchical structure with a single group mean parameter and 16 per-category weights distributed around the group mean. While this creates a big amount of group distributions, there is no problem with this per-se, although it might be a bit unusual. One might argue that this model is quite complex and while that's true, in terms of degrees-of-freedom, this model is simpler than the unpooled one above.\n",
    "\n",
    "As for the code, we stack weights along a 3rd dimenson to get separate weights for each group. That way, through the power of broadcasting, the linear algebra works out almost the same as before."
   ]
  },
  {
   "cell_type": "code",
   "execution_count": 4,
   "metadata": {},
   "outputs": [],
   "source": [
    "def rotate(X, deg):\n",
    "    theta = np.radians(deg)\n",
    "    c, s = np.cos(theta), np.sin(theta)\n",
    "    R = np.matrix([[c, -s], [s, c]])\n",
    "\n",
    "    X = X.dot(R)\n",
    "    \n",
    "    return np.asarray(X)"
   ]
  },
  {
   "cell_type": "code",
   "execution_count": 5,
   "metadata": {},
   "outputs": [],
   "source": [
    "np.random.seed(31)\n",
    "\n",
    "n_samples = 100\n",
    "n_grps = 18\n",
    "n_grps_sq = int(np.sqrt(n_grps))\n",
    "\n",
    "Xs, Ys = [], []\n",
    "\n",
    "for i in range(n_grps):\n",
    "    X, Y = make_moons(noise=0.3, n_samples=n_samples)\n",
    "    X = scale(X)\n",
    "    X = pm.floatX(X)\n",
    "    Y = pm.floatX(Y)\n",
    "    \n",
    "    rotate_by = np.random.randn() * 90.\n",
    "    X = rotate(X, rotate_by)\n",
    "    Xs.append(X)\n",
    "    Ys.append(Y)\n",
    "    \n",
    "Xs = np.stack(Xs)\n",
    "Ys = np.stack(Ys)\n",
    "\n",
    "X_train = Xs[:, :n_samples // 2, :]\n",
    "y_train = Ys[:, :n_samples // 2]\n",
    "X_test = Xs[:, n_samples // 2:, :]\n",
    "y_test = Ys[:, n_samples // 2:]"
   ]
  },
  {
   "cell_type": "code",
   "execution_count": 6,
   "metadata": {},
   "outputs": [],
   "source": [
    "def construct_bhnn(bnn_input, \n",
    "                   bnn_output, \n",
    "                   hidden_layer1 = 16, \n",
    "                   hidden_layer2 = 8):\n",
    "    \n",
    "    n_grps = bnn_input.shape[0]\n",
    "    n_data = bnn_input.shape[2]\n",
    "    \n",
    "    init_1 = np.random.randn(n_data, hidden_layer1).astype(theano.config.floatX)\n",
    "    init_2 = np.random.randn(hidden_layer1, hidden_layer2).astype(theano.config.floatX)\n",
    "    init_out = np.random.randn(hidden_layer2).astype(theano.config.floatX)\n",
    "        \n",
    "    with pm.Model() as neural_network:\n",
    "        ann_input = pm.Data('bnn_input', bnn_input)\n",
    "        ann_output = pm.Data('bnn_output', bnn_output)\n",
    "        \n",
    "        # Group mean distribution for input to hidden layer\n",
    "        weights_in_1_grp = pm.Normal('w_in_1_grp', 0, 1, \n",
    "                                     shape = (n_data, hidden_layer1), \n",
    "                                     testval = init_1)\n",
    "        # Group standard-deviation\n",
    "        weights_in_1_grp_sd = pm.HalfNormal('w_in_1_grp_sd', 1.)\n",
    "        \n",
    "        # Group mean distribution for weights from 1st to 2nd layer\n",
    "        weights_1_2_grp = pm.Normal('w_1_2_grp', 0, 1, \n",
    "                                    shape = (hidden_layer1, hidden_layer2), \n",
    "                                    testval = init_2)\n",
    "        \n",
    "        weights_1_2_grp_sd = pm.HalfNormal('w_1_2_grp_sd', 1.)\n",
    "        \n",
    "        # Group mean distribution from hidden layer to output\n",
    "        weights_2_out_grp = pm.Normal('w_2_out_grp', 0, 1, \n",
    "                                      shape = (hidden_layer2,), \n",
    "                                      testval = init_out)\n",
    "        \n",
    "        weights_2_out_grp_sd = pm.HalfNormal('w_2_out_grp_sd', 1.)\n",
    "    \n",
    "        # Separate weights for each different model, just add a 3rd dimension of weights\n",
    "        weights_in_1_raw = pm.Normal('w_in_1', \n",
    "                                     shape=(n_grps, n_data, hidden_layer1))\n",
    "        \n",
    "        weights_in = weights_in_1_raw * weights_in_1_grp_sd + weights_in_1_grp\n",
    "        \n",
    "        weights_1_2_raw = pm.Normal('w_1_2', \n",
    "                                    shape=(n_grps, hidden_layer1, hidden_layer2))\n",
    "        \n",
    "        weights_12 = weights_1_2_raw * weights_1_2_grp_sd + weights_1_2_grp\n",
    "        \n",
    "        weights_2_out_raw = pm.Normal('w_2_out', \n",
    "                                      shape=(n_grps, hidden_layer2))\n",
    "        \n",
    "        weights_out = weights_2_out_raw * weights_2_out_grp_sd + weights_2_out_grp\n",
    "        \n",
    "        # Build BNN\n",
    "        act_1 = pm.math.tanh(T.batched_dot(ann_input, weights_in))\n",
    "        \n",
    "        act_2 = pm.math.tanh(T.batched_dot(act_1, weights_12))\n",
    "        \n",
    "        act_out = T.batched_dot(act_2, weights_out)\n",
    "        \n",
    "        out = pm.Bernoulli('out', \n",
    "                           logit_p = act_out, \n",
    "                           observed = bnn_output)\n",
    "        \n",
    "    return neural_network"
   ]
  },
  {
   "cell_type": "code",
   "execution_count": 7,
   "metadata": {},
   "outputs": [],
   "source": [
    "bhnn = construct_bhnn(X_train, y_train)"
   ]
  },
  {
   "cell_type": "code",
   "execution_count": 8,
   "metadata": {},
   "outputs": [],
   "source": [
    "set_tt_rng(MRG_RandomStreams(42))"
   ]
  },
  {
   "cell_type": "code",
   "execution_count": 9,
   "metadata": {},
   "outputs": [
    {
     "name": "stderr",
     "output_type": "stream",
     "text": [
      "Auto-assigning NUTS sampler...\n",
      "Initializing NUTS using advi+adapt_diag...\n",
      "Average Loss = 581.19: 100%|██████████| 50000/50000 [01:57<00:00, 423.95it/s]\n",
      "Finished [100%]: Average Loss = 581.29\n",
      "Multiprocess sampling (4 chains in 4 jobs)\n",
      "NUTS: [w_2_out, w_1_2, w_in_1, w_2_out_grp_sd, w_2_out_grp, w_1_2_grp_sd, w_1_2_grp, w_in_1_grp_sd, w_in_1_grp]\n",
      "Sampling 4 chains: 100%|██████████| 42000/42000 [1:17:58<00:00,  8.98draws/s]\n",
      "There was 1 divergence after tuning. Increase `target_accept` or reparameterize.\n",
      "The estimated number of effective samples is smaller than 200 for some parameters.\n",
      "100%|██████████| 1000/1000 [00:01<00:00, 589.90it/s]\n",
      "100%|██████████| 1000/1000 [00:01<00:00, 601.28it/s]\n",
      "100%|██████████| 1000/1000 [00:01<00:00, 600.85it/s]\n"
     ]
    }
   ],
   "source": [
    "ahnn_input = theano.shared(X_train)\n",
    "ahnn_output = theano.shared(y_train)\n",
    "\n",
    "grid = pm.floatX(np.mgrid[-3:3:100j, -3:3:100j])\n",
    "grid_2d = grid.reshape(2, -1).T\n",
    "grid = np.repeat(grid_2d[None, ...], n_grps, axis = 0)\n",
    "dummy_out = np.ones((n_grps, grid.shape[1]), dtype = np.int8)\n",
    "\n",
    "with bhnn:\n",
    "    trace = pm.sample(n_init = 50000, init = 'advi+adapt_diag', tune = 10000)\n",
    "\n",
    "    ppc_train = pm.sample_posterior_predictive(trace, samples = 1000) \n",
    "    pred_train = ppc_train['out'].mean(axis = 0) > 0.5\n",
    "\n",
    "    ahnn_input.set_value(X_test)\n",
    "    ahnn_output.set_value(y_test)\n",
    "\n",
    "    ppc_test = pm.sample_posterior_predictive(trace, samples = 1000)\n",
    "    pred_test = ppc_test['out'].mean(axis = 0) > 0.5\n",
    "\n",
    "    ahnn_input.set_value(grid)\n",
    "    ahnn_output.set_value(dummy_out)\n",
    "    ppc_grid = pm.sample_posterior_predictive(trace, samples = 1000)['out']"
   ]
  },
  {
   "cell_type": "code",
   "execution_count": 10,
   "metadata": {},
   "outputs": [
    {
     "name": "stdout",
     "output_type": "stream",
     "text": [
      "Train accuracy = 91.78%\n"
     ]
    }
   ],
   "source": [
    "print (\"Train accuracy = {:.2f}%\".format(100 * np.mean(pred_train == y_train)))"
   ]
  },
  {
   "cell_type": "code",
   "execution_count": 11,
   "metadata": {},
   "outputs": [
    {
     "name": "stdout",
     "output_type": "stream",
     "text": [
      "Test accuracy = 49.22%\n"
     ]
    }
   ],
   "source": [
    "print (\"Test accuracy = {:.2f}%\".format(100 * np.mean(pred_test == y_test)))"
   ]
  },
  {
   "cell_type": "markdown",
   "metadata": {},
   "source": [
    "## Conclusions\n",
    "\n",
    "As we have seen mainly in the **Titanic** example at the very beginning of this notebook, Bayesian Neural Networks are a powerful tool that can even outperform their classical counterparts, at least in contexts in which data is scarse.\n",
    "\n",
    "Modelling has also gone quite smooth, mainly due to the advantages of building on PyMC, which saved me some trouble when it came to shared variables in the case of the BSNN. "
   ]
  },
  {
   "cell_type": "markdown",
   "metadata": {},
   "source": [
    "## Further Work\n",
    "\n",
    "1. Solve the `dtype` error that pops up when trying to predict with the BSNN.\n",
    "2. Make the one-hot-encoded BNN classifier to work properly."
   ]
  }
 ],
 "metadata": {
  "kernelspec": {
   "display_name": "Python 3",
   "language": "python",
   "name": "python3"
  },
  "language_info": {
   "codemirror_mode": {
    "name": "ipython",
    "version": 3
   },
   "file_extension": ".py",
   "mimetype": "text/x-python",
   "name": "python",
   "nbconvert_exporter": "python",
   "pygments_lexer": "ipython3",
   "version": "3.7.5"
  }
 },
 "nbformat": 4,
 "nbformat_minor": 2
}
